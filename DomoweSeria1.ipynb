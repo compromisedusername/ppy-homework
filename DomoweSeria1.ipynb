{
 "cells": [
  {
   "cell_type": "markdown",
   "source": [
    "# Zadania domowe - Seria 1"
   ],
   "metadata": {
    "collapsed": false,
    "pycharm": {
     "name": "#%% md\n"
    }
   }
  },
  {
   "cell_type": "markdown",
   "source": [
    "Importowanie funkcji matematycznych"
   ],
   "metadata": {
    "collapsed": false,
    "pycharm": {
     "name": "#%% md\n"
    }
   }
  },
  {
   "cell_type": "code",
   "execution_count": null,
   "outputs": [],
   "source": [
    "from math import sqrt\n",
    "from math import exp\n",
    "\n",
    "print(sqrt(5))\n",
    "print(exp(-0.5))"
   ],
   "metadata": {
    "collapsed": false,
    "pycharm": {
     "name": "#%%\n"
    }
   }
  },
  {
   "cell_type": "markdown",
   "source": [
    "Napisz program, który dla ustalonych współczynników $a, b, c$ równania kwadratowego\n",
    "\n",
    "$$\n",
    "{\\Large ax^2 + bx + c = 0}\n",
    "$$\n",
    "\n",
    "wypisuje rzeczywiste rozwiązania równania.\n",
    "Należy obsłużyć wszystkie przypadki szczególne (np.: brak rozwiązań, nieskończona liczba rozwiązań).\n",
    "Funkcję sqrt należy zaimportować z biblioteki math."
   ],
   "metadata": {
    "collapsed": false,
    "pycharm": {
     "name": "#%% md\n"
    }
   }
  },
  {
   "cell_type": "code",
   "execution_count": null,
   "outputs": [],
   "source": [],
   "metadata": {
    "collapsed": false,
    "pycharm": {
     "name": "#%%\n"
    }
   }
  },
  {
   "cell_type": "markdown",
   "source": [
    "Napisz program, który wypisuje kolejne wyrazy ciągu Fibbonacciego\n",
    "\n",
    "$$\n",
    "{\\Large a_0 = 1} \\\\\n",
    "{\\Large a_1 = 1} \\\\\n",
    "{\\Large a_{n+2} = a_{n+1}+a_{n} }\n",
    "$$\n",
    "\n",
    "mniejsze niż zadana wartość $M$."
   ],
   "metadata": {
    "collapsed": false,
    "pycharm": {
     "name": "#%% md\n"
    }
   }
  },
  {
   "cell_type": "code",
   "execution_count": null,
   "outputs": [],
   "source": [],
   "metadata": {
    "collapsed": false,
    "pycharm": {
     "name": "#%%\n"
    }
   }
  },
  {
   "cell_type": "markdown",
   "source": [
    "Napisz program, który obliczy dla zadanej wartości $x$ przybliżoną funkcji $e^x$ na podstawie szeregu Maclaurina:\n",
    "\n",
    "$$\n",
    "{\\Large e^x = \\sum_{i=0}^n \\frac{x^n}{n!}}\n",
    "$$\n",
    "\n",
    "Sumowanie wyrazów szeregu należy prowadzić do momentu,\n",
    "w którym aktualny wyraz szeregu będzie mniejszy niż zadana tolerancja $T$.\n",
    "\n",
    "Program nie powinien wykorzystywać gotowej funkcji do liczenia silni.\n",
    "\n",
    "Porównaj wynik z wartością obliczoną przez funkcję exp z biblioteki math."
   ],
   "metadata": {
    "collapsed": false,
    "pycharm": {
     "name": "#%% md\n"
    }
   }
  },
  {
   "cell_type": "code",
   "execution_count": null,
   "outputs": [],
   "source": [],
   "metadata": {
    "collapsed": false,
    "pycharm": {
     "name": "#%%\n"
    }
   }
  },
  {
   "cell_type": "markdown",
   "source": [
    "Napisać program, który wypisuje wszystkie dzielniki zadanej liczby $N$."
   ],
   "metadata": {
    "collapsed": false,
    "pycharm": {
     "name": "#%% md\n"
    }
   }
  },
  {
   "cell_type": "code",
   "execution_count": null,
   "outputs": [],
   "source": [],
   "metadata": {
    "collapsed": false,
    "pycharm": {
     "name": "#%%\n"
    }
   }
  },
  {
   "cell_type": "markdown",
   "source": [
    "Dwie liczby nazywamy zaprzyjaźnionymi, jeżeli pierwsza jest sumą dzielników właściwych drugiej liczby,\n",
    "a druga sumą dzielników właściwych pierwszej liczby np.:\n",
    "\n",
    "$$\n",
    "220=1+2+4+71+142 \\\\\n",
    "284=1+2+4+5+10+11+20+22+44+55+110\n",
    "$$\n",
    "\n",
    "Napisać program, który wypisuje wszystkie pary liczb zaprzyjaźnionych, wsród liczb mniejszych od 10000."
   ],
   "metadata": {
    "collapsed": false,
    "pycharm": {
     "name": "#%% md\n"
    }
   }
  },
  {
   "cell_type": "code",
   "execution_count": null,
   "outputs": [],
   "source": [],
   "metadata": {
    "collapsed": false,
    "pycharm": {
     "name": "#%%\n"
    }
   }
  },
  {
   "cell_type": "markdown",
   "source": [],
   "metadata": {
    "collapsed": false,
    "pycharm": {
     "name": "#%% md\n"
    }
   }
  }
 ],
 "metadata": {
  "kernelspec": {
   "display_name": "Python 3",
   "language": "python",
   "name": "python3"
  },
  "language_info": {
   "codemirror_mode": {
    "name": "ipython",
    "version": 2
   },
   "file_extension": ".py",
   "mimetype": "text/x-python",
   "name": "python",
   "nbconvert_exporter": "python",
   "pygments_lexer": "ipython2",
   "version": "2.7.6"
  }
 },
 "nbformat": 4,
 "nbformat_minor": 0
}