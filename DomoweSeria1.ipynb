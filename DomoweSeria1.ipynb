{
 "cells": [
  {
   "cell_type": "markdown",
   "source": [
    "# Zadania domowe - Seria 1"
   ],
   "metadata": {
    "collapsed": false,
    "pycharm": {
     "name": "#%% md\n"
    }
   }
  },
  {
   "cell_type": "markdown",
   "source": [
    "Importowanie funkcji matematycznych"
   ],
   "metadata": {
    "collapsed": false,
    "pycharm": {
     "name": "#%% md\n"
    }
   }
  },
  {
   "cell_type": "code",
   "execution_count": null,
   "outputs": [],
   "source": [
    "from math import sqrt\n",
    "from math import exp\n",
    "\n",
    "print(sqrt(5))\n",
    "print(exp(-0.5))"
   ],
   "metadata": {
    "collapsed": false,
    "pycharm": {
     "name": "#%%\n"
    }
   }
  },
  {
   "cell_type": "markdown",
   "source": [
    "Napisz program, który dla ustalonych współczynników $a, b, c$ równania kwadratowego\n",
    "\n",
    "$$\n",
    "{\\Large ax^2 + bx + c = 0}\n",
    "$$\n",
    "\n",
    "wypisuje rzeczywiste rozwiązania równania.\n",
    "Należy obsłużyć wszystkie przypadki szczególne (np.: brak rozwiązań, nieskończona liczba rozwiązań).\n",
    "Funkcję sqrt należy zaimportować z biblioteki math."
   ],
   "metadata": {
    "collapsed": false,
    "pycharm": {
     "name": "#%% md\n"
    }
   }
  },
  {
   "cell_type": "code",
   "execution_count": 36,
   "outputs": [
    {
     "name": "stdout",
     "output_type": "stream",
     "text": [
      "Jeden pierwiastek równy:  0.25\n"
     ]
    }
   ],
   "source": [
    "from math import sqrt\n",
    "def quadratic(a,b,c):\n",
    "    if a==0 & b == 0 & c == 0:\n",
    "        print(\"Nieskończona ilość rozwiązań\")\n",
    "        return\n",
    "    delta = b*b - 4 * a * c\n",
    "    if delta < 0:\n",
    "        print(\"Brak rozwiązań w zbiorze liczb rzeczywistych\")\n",
    "        return\n",
    "    x1 = (-b + sqrt(delta))/2*a\n",
    "    if delta==0:\n",
    "        print(\"Jeden pierwiastek równy: \", x1)\n",
    "        return\n",
    "    x2 = (b + sqrt(delta))/2*a\n",
    "    print(\"Rozwiązania równiania wynoszą x1: \", x1 ,\", x2: \",x2)\n",
    "a=1/2\n",
    "b=-1\n",
    "c=0.5\n",
    "quadratic(a,b,c)"
   ],
   "metadata": {
    "collapsed": false,
    "pycharm": {
     "name": "#%%\n"
    },
    "ExecuteTime": {
     "end_time": "2024-03-13T19:31:19.962165600Z",
     "start_time": "2024-03-13T19:31:19.956218200Z"
    }
   }
  },
  {
   "cell_type": "markdown",
   "source": [
    "Napisz program, który wypisuje kolejne wyrazy ciągu Fibbonacciego\n",
    "\n",
    "$$\n",
    "{\\Large a_0 = 1} \\\\\n",
    "{\\Large a_1 = 1} \\\\\n",
    "{\\Large a_{n+2} = a_{n+1}+a_{n} }\n",
    "$$\n",
    "\n",
    "mniejsze niż zadana wartość $M$."
   ],
   "metadata": {
    "collapsed": false,
    "pycharm": {
     "name": "#%% md\n"
    }
   }
  },
  {
   "cell_type": "code",
   "execution_count": 41,
   "outputs": [
    {
     "name": "stdout",
     "output_type": "stream",
     "text": [
      "1\n",
      "1\n",
      "2\n",
      "3\n",
      "5\n",
      "8\n",
      "13\n",
      "21\n",
      "34\n",
      "55\n",
      "89\n",
      "144\n",
      "233\n",
      "377\n",
      "610\n",
      "987\n",
      "1597\n",
      "2584\n"
     ]
    }
   ],
   "source": [
    "def fib_elements(m):\n",
    "    fib_f = 0\n",
    "    fib_s = 1\n",
    "    fib_sum = 0\n",
    "    while fib_sum < m:\n",
    "        print(fib_s)\n",
    "        fib_sum = fib_f + fib_s\n",
    "        fib_f = fib_s\n",
    "        fib_s = fib_sum\n",
    "\n",
    "value = 3000\n",
    "fib_elements(value)"
   ],
   "metadata": {
    "collapsed": false,
    "pycharm": {
     "name": "#%%\n"
    },
    "ExecuteTime": {
     "end_time": "2024-03-13T19:31:45.040353700Z",
     "start_time": "2024-03-13T19:31:45.036345900Z"
    }
   }
  },
  {
   "cell_type": "markdown",
   "source": [
    "Napisz program, który obliczy dla zadanej wartości $x$ przybliżoną funkcji $e^x$ na podstawie szeregu Maclaurina:\n",
    "\n",
    "$$\n",
    "{\\Large e^x = \\sum_{i=0}^n \\frac{x^n}{n!}}\n",
    "$$\n",
    "\n",
    "Sumowanie wyrazów szeregu należy prowadzić do momentu,\n",
    "w którym aktualny wyraz szeregu będzie mniejszy niż zadana tolerancja $T$.\n",
    "\n",
    "Program nie powinien wykorzystywać gotowej funkcji do liczenia silni.\n",
    "\n",
    "Porównaj wynik z wartością obliczoną przez funkcję exp z biblioteki math."
   ],
   "metadata": {
    "collapsed": false,
    "pycharm": {
     "name": "#%% md\n"
    }
   }
  },
  {
   "cell_type": "code",
   "execution_count": 106,
   "outputs": [
    {
     "name": "stdout",
     "output_type": "stream",
     "text": [
      "20.08553692318766  <----- Wartosc funkcji napisanej wlasnorecznie\n",
      "20.085536923187668 <----- Wartosc funkcji exp z biblioteki math\n"
     ]
    }
   ],
   "source": [
    "def factorial(n):\n",
    "    a = 1\n",
    "    b = n\n",
    "    for i in range(1,n):\n",
    "        a = a*b\n",
    "        b = b - 1\n",
    "    return a\n",
    "\n",
    "def power(x,n):\n",
    "    factor = 1\n",
    "    for i in range(1,n+1):\n",
    "        factor = factor * x\n",
    "    return factor\n",
    "\n",
    "\n",
    "def euler(t,x):\n",
    "    if t <= 0:\n",
    "        print(\"Wspolczynnik T jest zbyt niski, nie moze byc nie wiekszy niz 0!\")\n",
    "        return\n",
    "    if t > 1:\n",
    "        print(\"Wspolczynnik T jest zbyt wysoki! Nie moze byc wiekszy niz 1, poniewaz pierwszy wyraz ciagu jest rowny zawsze 1!\")\n",
    "        return\n",
    "\n",
    "    factor = 0\n",
    "    factor_loop = 1\n",
    "    n = 1\n",
    "\n",
    "    while factor_loop >= t:\n",
    "        factor = factor + factor_loop\n",
    "        factor_loop = (power(x,n) / factorial(n))\n",
    "        n = n + 1\n",
    "\n",
    "    return factor\n",
    "\n",
    "print(euler(0.0000000000000000001,3), \" <----- Wartosc funkcji napisanej wlasnorecznie\")\n",
    "from math import exp\n",
    "\n",
    "print(exp(3),\"<----- Wartosc funkcji exp z biblioteki math\")\n",
    "\n"
   ],
   "metadata": {
    "collapsed": false,
    "pycharm": {
     "name": "#%%\n"
    },
    "ExecuteTime": {
     "end_time": "2024-03-13T19:38:54.179056700Z",
     "start_time": "2024-03-13T19:38:54.173845300Z"
    }
   }
  },
  {
   "cell_type": "markdown",
   "source": [
    "Napisać program, który wypisuje wszystkie dzielniki zadanej liczby $N$."
   ],
   "metadata": {
    "collapsed": false,
    "pycharm": {
     "name": "#%% md\n"
    }
   }
  },
  {
   "cell_type": "code",
   "execution_count": null,
   "outputs": [],
   "source": [
    "\n",
    "def print_dividers(n):\n",
    "    for i in range(1, n//2+1):\n",
    "        if (n % i) == 0:\n",
    "            print(i)\n",
    "    print(n)\n",
    "input = 123123123\n",
    "print_dividers(input)"
   ],
   "metadata": {
    "collapsed": false,
    "pycharm": {
     "name": "#%%\n"
    },
    "is_executing": true
   }
  },
  {
   "cell_type": "markdown",
   "source": [
    "Dwie liczby nazywamy zaprzyjaźnionymi, jeżeli pierwsza jest sumą dzielników właściwych drugiej liczby,\n",
    "a druga sumą dzielników właściwych pierwszej liczby np.:\n",
    "\n",
    "$$\n",
    "220=1+2+4+71+142 \\\\\n",
    "284=1+2+4+5+10+11+20+22+44+55+110\n",
    "$$\n",
    "\n",
    "Napisać program, który wypisuje wszystkie pary liczb zaprzyjaźnionych, wsród liczb mniejszych od 10000."
   ],
   "metadata": {
    "collapsed": false,
    "pycharm": {
     "name": "#%% md\n"
    }
   }
  },
  {
   "cell_type": "code",
   "execution_count": 37,
   "outputs": [
    {
     "name": "stdout",
     "output_type": "stream",
     "text": [
      "{220: 284, 1184: 1210, 2620: 2924, 5020: 5564, 6232: 6368}\n"
     ]
    }
   ],
   "source": [
    "def find_proper_divisor_sum(n):\n",
    "    sum=0\n",
    "    for i in range(1, n//2+1):\n",
    "        if (n % i) == 0:\n",
    "            sum = sum + i\n",
    "    return sum\n",
    "\n",
    "def find_friends(n):\n",
    "    number_with_divisor_sum = {}\n",
    "    inverted_number_with_divisor_sum = {}\n",
    "\n",
    "    pairs = {}\n",
    "    for i in range (1,n+1):\n",
    "        result=find_proper_divisor_sum(i)\n",
    "        if result != 0:\n",
    "            number_with_divisor_sum[i] = result\n",
    "            inverted_number_with_divisor_sum[result] = find_proper_divisor_sum(result)\n",
    "    for k,v in number_with_divisor_sum.items():\n",
    "        if inverted_number_with_divisor_sum[v]==k & k != v and not v in pairs:\n",
    "            pairs[k]=v\n",
    "\n",
    "    return pairs\n",
    "input = 10000\n",
    "print(find_friends(input))\n"
   ],
   "metadata": {
    "collapsed": false,
    "pycharm": {
     "name": "#%%\n"
    },
    "ExecuteTime": {
     "end_time": "2024-03-13T19:05:53.994924Z",
     "start_time": "2024-03-13T19:05:51.719444500Z"
    }
   }
  },
  {
   "cell_type": "markdown",
   "source": [
    "\n",
    "\n",
    "\n",
    "\n",
    "\n",
    "\n"
   ],
   "metadata": {
    "collapsed": false,
    "pycharm": {
     "name": "#%% md\n"
    }
   }
  }
 ],
 "metadata": {
  "kernelspec": {
   "display_name": "Python 3",
   "language": "python",
   "name": "python3"
  },
  "language_info": {
   "codemirror_mode": {
    "name": "ipython",
    "version": 2
   },
   "file_extension": ".py",
   "mimetype": "text/x-python",
   "name": "python",
   "nbconvert_exporter": "python",
   "pygments_lexer": "ipython2",
   "version": "2.7.6"
  }
 },
 "nbformat": 4,
 "nbformat_minor": 0
}
