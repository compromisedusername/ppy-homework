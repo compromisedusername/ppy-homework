{
 "cells": [
  {
   "cell_type": "code",
   "metadata": {
    "collapsed": true,
    "jupyter": {
     "is_executing": true
    }
   },
   "source": [
    "def is_palindrom(n: int)->bool:\n",
    "\n",
    "    n_copy = n\n",
    "    digit_arr = []\n",
    "\n",
    "    while n_copy > 0:\n",
    "        digit_arr.append(n_copy%10)\n",
    "        n_copy = n_copy // 10\n",
    "\n",
    "    digit_arr_copy = digit_arr.copy()\n",
    "    digit_arr_copy.reverse()\n",
    "\n",
    "    print(digit_arr_copy)\n",
    "    print(digit_arr)\n",
    "\n",
    "    return digit_arr == digit_arr_copy\n",
    "\n",
    "is_palindrom(321)"
   ],
   "outputs": [],
   "execution_count": null
  },
  {
   "cell_type": "markdown",
   "source": [],
   "metadata": {
    "collapsed": false
   }
  },
  {
   "cell_type": "code",
   "execution_count": 25,
   "outputs": [
    {
     "name": "stdout",
     "output_type": "stream",
     "text": [
      "max:  123123 , min:  -11111111\n"
     ]
    }
   ],
   "source": [
    "def max_max_in_list(numbers: list):\n",
    "    max = numbers[0]\n",
    "    min = numbers[0]\n",
    "    for x in range(1, len(numbers)):\n",
    "        if numbers[x] > max:\n",
    "            max = numbers[x]\n",
    "        if numbers[x] < min:\n",
    "            min = numbers[x]\n",
    "    print(\"max: \",max,\", min: \",min)\n",
    "\n",
    "max_max_in_list([-11111111,1,2,3,9,-10,123,9,32,983,-983,123123])"
   ],
   "metadata": {
    "collapsed": false,
    "ExecuteTime": {
     "end_time": "2024-04-20T08:52:03.149011100Z",
     "start_time": "2024-04-20T08:52:03.145469Z"
    }
   }
  },
  {
   "cell_type": "code",
   "execution_count": 88,
   "outputs": [
    {
     "name": "stdout",
     "output_type": "stream",
     "text": [
      "4\n"
     ]
    },
    {
     "data": {
      "text/plain": "[[13, 1, 5, 9], [14, 10, 6, 2], [15, 3, 7, 15], [16, 4, 12, 8]]"
     },
     "execution_count": 88,
     "metadata": {},
     "output_type": "execute_result"
    }
   ],
   "source": [
    "def max_matrix(matrix):\n",
    "    max_in_columns = []\n",
    "    matrix_t = []\n",
    "    for i in range(len(matrix[0])):\n",
    "        columns = []\n",
    "        for j in range(len(matrix)):\n",
    "            columns.append(matrix[j][i])\n",
    "        matrix_t.append(columns)\n",
    "    for x in matrix_t:\n",
    "        max_index = get_max_index(x)\n",
    "        if max_index == 0:\n",
    "            max_in_columns.append(list([x[max_index]]) + x[:max_index:-1])\n",
    "        else:\n",
    "            max_in_columns.append( list([x[max_index]]) + x[max_index-1::-1] +x[:max_index:-1])\n",
    "    return max_in_columns\n",
    "\n",
    "def get_max_index(vector:list):\n",
    "    return vector.index(max(vector))\n",
    "\n",
    "\n",
    "\n",
    "\n",
    "\n",
    "lista_n = [1,2,3,9,54,32]\n",
    "print(lista_n.index(max(lista_n)))\n",
    "\n",
    "max_matrix([[1,2,3,16],[13,6,15,8],[9,10,15,12],[5,14,7,4]])"
   ],
   "metadata": {
    "collapsed": false,
    "ExecuteTime": {
     "end_time": "2024-04-20T09:36:58.551237700Z",
     "start_time": "2024-04-20T09:36:58.536708900Z"
    }
   }
  },
  {
   "cell_type": "code",
   "source": [
    "def list_of_two(n):\n",
    "    '''1 <= a <= b <= n'''\n",
    "    '''a^2 + b^2 = n'''\n",
    "    numbers = []\n",
    "    for a in range(1,n+1):\n",
    "        for b in range(a,n+1):\n",
    "            if (a**2 + b **2) == n and b >= a:\n",
    "                numbers.append(n)\n",
    "\n",
    "    if len(numbers) >= 3:\n",
    "        return n\n",
    "    return None\n",
    "\n",
    "for x in range(1,1001):\n",
    "    elem = list_of_two(x)\n",
    "    if(elem != None):\n",
    "        print(elem)"
   ],
   "metadata": {
    "collapsed": false,
    "jupyter": {
     "is_executing": true
    }
   },
   "outputs": [],
   "execution_count": null
  },
  {
   "cell_type": "markdown",
   "source": [],
   "metadata": {
    "collapsed": false
   }
  },
  {
   "metadata": {
    "jupyter": {
     "is_executing": true
    }
   },
   "cell_type": "code",
   "source": [
    "class Vector:\n",
    "\n",
    "    def __init__(self,x,y,z):\n",
    "        self._x = x\n",
    "        self._y = y\n",
    "        self.z = z\n",
    "    \n",
    "    @property\n",
    "    def x(self):\n",
    "        return self._x\n",
    "    @property\n",
    "    def y(self):\n",
    "        return self._y\n",
    "    @property\n",
    "    def z(self):\n",
    "        return self._z\n",
    "    \n",
    "    \n",
    "    def __add__(self, other):\n",
    "        if type(other) == Vector:\n",
    "            return Vector(self._x + other._x, self._y + other._y, self._z + other._z)\n",
    "        else:\n",
    "            return None\n",
    "        \n",
    "    def __mul__(self, other):\n",
    "        if type(other) != Vector:\n",
    "            return Vector(self._x*other,self._y*other,self._z*other)\n",
    "        else:\n",
    "            return None\n",
    "        \n",
    "    def __rmul__(self, other):\n",
    "        if type(other) != Vector:\n",
    "            return Vector(self._x*other,self._y*other,self._z*other)\n",
    "        else:\n",
    "            return None\n",
    "    \n",
    "    def __radd__(self, other):\n",
    "        if type(other) == Vector:\n",
    "            return Vector(self._x + other.x, self._y + other.y, self._z + other.z)\n",
    "        else:\n",
    "            return None\n",
    "    \n",
    "    def scalar(self, other):\n",
    "        if type(other) == Vector:\n",
    "            return self._x * other.x + self._y * other.y + self._z * other.z\n",
    "        else:\n",
    "            return None\n",
    "    \n",
    "    \n",
    "\n",
    "a = Vector(2,1,3)\n",
    "a * 2\n",
    "    "
   ],
   "outputs": [],
   "execution_count": null
  },
  {
   "metadata": {
    "jupyter": {
     "is_executing": true
    }
   },
   "cell_type": "code",
   "source": "",
   "outputs": [],
   "execution_count": null
  },
  {
   "metadata": {
    "jupyter": {
     "is_executing": true
    }
   },
   "cell_type": "code",
   "source": "",
   "outputs": [],
   "execution_count": null
  },
  {
   "metadata": {
    "jupyter": {
     "is_executing": true
    }
   },
   "cell_type": "code",
   "source": "",
   "outputs": [],
   "execution_count": null
  },
  {
   "metadata": {},
   "cell_type": "code",
   "outputs": [],
   "execution_count": null,
   "source": ""
  }
 ],
 "metadata": {
  "kernelspec": {
   "display_name": "Python 3",
   "language": "python",
   "name": "python3"
  },
  "language_info": {
   "codemirror_mode": {
    "name": "ipython",
    "version": 2
   },
   "file_extension": ".py",
   "mimetype": "text/x-python",
   "name": "python",
   "nbconvert_exporter": "python",
   "pygments_lexer": "ipython2",
   "version": "2.7.6"
  }
 },
 "nbformat": 4,
 "nbformat_minor": 0
}
