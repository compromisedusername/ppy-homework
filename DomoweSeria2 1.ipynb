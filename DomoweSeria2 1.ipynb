{
 "cells": [
  {
   "cell_type": "markdown",
   "source": [
    "# Zadania domowe - Seria 2"
   ],
   "metadata": {
    "collapsed": false
   }
  },
  {
   "cell_type": "markdown",
   "source": [
    "Importowanie funkcji matematycznych"
   ],
   "metadata": {
    "collapsed": false
   }
  },
  {
   "cell_type": "code",
   "execution_count": null,
   "outputs": [],
   "source": [
    "from random import randint\n",
    "\n",
    "# Losuje jedną liczbę z zakresu od 3 do 9 włącznie\n",
    "print(randint(3, 9))"
   ],
   "metadata": {
    "collapsed": false
   }
  },
  {
   "cell_type": "markdown",
   "source": [
    "Napisz program który tworzy listę 1000 losowych liczb naturalnych z zakresu od 1 do 100.\n",
    "Następnie tworzy drugą listę zawierającą tylko te elementy z pierwszej listy, które są podzielne przez 7 ale nie są podzielne przez 5.\n",
    "Wypisać drugą listę na ekran\n",
    "\n",
    "Program napisać w dwóch wersjach - jedną wykorzystującą pętlę for, a drugą wykorzystującą list comprehensions"
   ],
   "metadata": {
    "collapsed": false
   }
  },
  {
   "cell_type": "code",
   "execution_count": 28,
   "outputs": [
    {
     "name": "stdout",
     "output_type": "stream",
     "text": [
      "Regular:\n",
      " [77, 98, 7, 77, 91, 7, 28, 56, 14, 84, 98, 98, 91, 21, 49, 28, 21, 28, 84, 98, 56, 56, 56, 84, 84, 21, 91, 49, 21, 28, 42, 56, 21, 56, 28, 28, 49, 42, 28, 77, 7, 49, 98, 28, 21, 91, 42, 98, 49, 42, 56, 28, 28, 77, 28, 49, 14, 42, 42, 77, 84, 91, 56, 63, 56, 7, 77, 91, 49, 56, 28, 84, 98, 7, 42, 56, 84, 98, 42, 28, 7, 84, 77, 7, 42, 14, 21, 42, 63, 21, 98, 91, 77, 7, 98, 7, 77, 56, 49, 56, 28, 98, 49, 98, 84, 42, 98, 91, 63, 77, 91, 77, 77, 28, 77, 7, 63, 77, 77, 21, 14, 91, 28, 63, 77, 21, 49, 49]\n",
      "\n",
      "\n",
      "Comprehension:\n",
      " [7, 14, 21, 28, 42, 49, 56, 63, 77, 84, 91, 98, 112, 119, 126, 133, 147, 154, 161, 168, 182, 189, 196, 203, 217, 224, 231, 238, 252, 259, 266, 273, 287, 294, 301, 308, 322, 329, 336, 343, 357, 364, 371, 378, 392, 399, 406, 413, 427, 434, 441, 448, 462, 469, 476, 483, 497, 504, 511, 518, 532, 539, 546, 553, 567, 574, 581, 588, 602, 609, 616, 623, 637, 644, 651, 658, 672, 679, 686, 693, 707, 714, 721, 728, 742, 749, 756, 763, 777, 784, 791, 798, 812, 819, 826, 833, 847, 854, 861, 868, 882, 889, 896, 903, 917, 924, 931, 938, 952, 959, 966, 973, 987, 994]\n"
     ]
    }
   ],
   "source": [
    "from random import randint\n",
    "list_of_1000_numbers = []\n",
    "list_div7_not_div5 = []\n",
    "for i in range(0,1000):\n",
    "    list_of_1000_numbers.append(randint(1,100))\n",
    "\n",
    "for i in list_of_1000_numbers:\n",
    "    if (i % 7 == 0) & (i % 5 != 0):\n",
    "        list_div7_not_div5.append(i)\n",
    "print(\"Regular:\\n\",list_div7_not_div5)\n",
    "\n",
    "\n",
    "comprehension_list_div7_not_div5 = [i for i in range(0,1000) if (i % 7 == 0) & (i % 5 != 0) ]\n",
    "print(\"\\n\\nComprehension:\\n\",comprehension_list_div7_not_div5)"
   ],
   "metadata": {
    "collapsed": false
   }
  },
  {
   "cell_type": "markdown",
   "source": [
    "Napisz program, który tworzy listę liczb pierwszych mniejszych lub równych $N$.\n",
    "Program ma implementować sito Erastotenesa tzn.\n",
    "* napierw tworzona jest lista liczb od 2 do $N$\n",
    "* w pierwszej iteracji pętli usuwane są z listy liczby podzielne przez 2 (oprócz samego 2)\n",
    "* pierwszą nieusuniętą liczbą większą od 2 jest 3\n",
    "* w drugiej iteracji pętli usuwane są z listy liczby podzielne przez 3 (oprócz samego 3)\n",
    "* pierwszą nieusuniętą liczbą większą od 3 jest 5 itd.\n",
    "\n",
    "Pętla trwa dopóki można usuwać liczby złożone z listy."
   ],
   "metadata": {
    "collapsed": false
   }
  },
  {
   "cell_type": "code",
   "execution_count": 27,
   "outputs": [
    {
     "name": "stdout",
     "output_type": "stream",
     "text": [
      "[2, 3, 5, 7, 11, 13, 17, 19, 23, 29, 31, 37, 41, 43, 47, 53, 59, 61, 67, 71, 73, 79, 83, 89, 97, 101, 103, 107, 109, 113, 127, 131, 137, 139, 149, 151, 157, 163, 167, 173, 179, 181, 191, 193, 197, 199, 211, 223, 227, 229, 233, 239, 241, 251, 257, 263, 269, 271, 277, 281, 283, 293, 307, 311, 313, 317, 331, 337, 347, 349, 353, 359, 367, 373, 379, 383, 389, 397, 401, 409, 419, 421, 431, 433, 439, 443, 449, 457, 461, 463, 467, 479, 487, 491, 499, 503, 509, 521, 523, 541, 547, 557, 563, 569, 571, 577, 587, 593, 599, 601, 607, 613, 617, 619, 631, 641, 643, 647, 653, 659, 661, 673, 677, 683, 691, 701, 709, 719, 727, 733, 739, 743, 751, 757, 761, 769, 773, 787, 797, 809, 811, 821, 823, 827, 829, 839, 853, 857, 859, 863, 877, 881, 883, 887, 907, 911, 919, 929, 937, 941, 947, 953, 967, 971, 977, 983, 991, 997]\n"
     ]
    }
   ],
   "source": [
    "from math import sqrt\n",
    "def sito_eratostenesa(n):\n",
    "    list_of_numbers = [i for i in range(2,n+1)]\n",
    "    liczba = 2\n",
    "    for i in range(0,int(sqrt(len(list_of_numbers)))):\n",
    "        pivot = 0\n",
    "        for j in range(i+1,len(list_of_numbers)):\n",
    "            if list_of_numbers[j - pivot] % liczba == 0:\n",
    "                list_of_numbers.pop(j - pivot)\n",
    "                pivot = pivot + 1\n",
    "        liczba += 1\n",
    "    print(list_of_numbers)\n",
    "\n",
    "\n",
    "\n",
    "sito_eratostenesa(1000)"
   ],
   "metadata": {
    "collapsed": false
   }
  },
  {
   "cell_type": "markdown",
   "source": [
    "Napisz program, który tworzy listę list, zawierającą wyniki tabliczki mnożenia dwóch liczb od 1 do 10 włącznie.\n",
    "Elementy listy powinny spełniać warunki\n",
    "\n",
    "`lista[i][j] = i*j`\n",
    "\n",
    "Dla zadanych indeksów $i,j$ odczytać wynik mnożenia $i*j$ z listy list i wypisać napis np.:\n",
    "5*7 = 35"
   ],
   "metadata": {
    "collapsed": false
   }
  },
  {
   "cell_type": "code",
   "execution_count": 175,
   "outputs": [
    {
     "name": "stdout",
     "output_type": "stream",
     "text": [
      "50\n"
     ]
    }
   ],
   "source": [
    "def multiplication_table(x,y):\n",
    "    result_table = []\n",
    "    for i in range(1,11):\n",
    "        result_list = []\n",
    "        for j in range(1,11):\n",
    "            result_list.append(i*j)\n",
    "        result_table.append(result_list)\n",
    "    return result_table[x-1][y-1]\n",
    "print(multiplication_table(5,10))\n"
   ],
   "metadata": {
    "collapsed": false
   }
  },
  {
   "cell_type": "markdown",
   "source": [
    "Napisz program, który konwertuje liczbę naturalną $N$ do postaci binarnej.\n",
    "Algorytm konwersji jest następujący\n",
    "\n",
    "*  reszta z dzielenia $N$ przez 2 stanowi ostatnią cyfrę rozwinięcia binarnego liczby\n",
    "*  podstaw za $N$ wynik dzielenia całkowitego $N$ przez 2\n",
    "*  reszta z dzielenia nowego $N$ przez 2 stanowi kolejną od końca cyfrę rozwinięcia binarnego liczby\n",
    "*  procedurę kontunuuj aż $N$ będzie równe 0.\n",
    "\n",
    "Na przykład $N=10$\n",
    "\n",
    "$$\n",
    "10/2 = 5\\ r\\ 0 \\\\\n",
    "5/2 = 2\\ r\\ 1  \\\\\n",
    "2/2 = 1\\ r\\ 0  \\\\\n",
    "1/2 = 0\\ r\\ 1  \\\\\n",
    "$$\n",
    "\n",
    "Reszty w odwrotnej kolejności: 1010.\n",
    "Kolejne cyfry rozwinięcia binarnego (reszty) należy zapisywać do listy.\n",
    "Na końcu na podstawie cyfr zebranych w liście należy wypisać binarną postać liczby $N$."
   ],
   "metadata": {
    "collapsed": false
   }
  },
  {
   "cell_type": "code",
   "execution_count": 1,
   "outputs": [
    {
     "name": "stdout",
     "output_type": "stream",
     "text": [
      "[1, 0, 1, 0]\n"
     ]
    }
   ],
   "source": [
    "def dec_to_binary(n):\n",
    "    bin_list = []\n",
    "    while n >= 1:\n",
    "        bin_list.append(n%2)\n",
    "        n = int(n / 2)\n",
    "    bin_list.reverse()\n",
    "    return bin_list\n",
    "print(dec_to_binary(10))"
   ],
   "metadata": {
    "collapsed": false
   }
  },
  {
   "cell_type": "markdown",
   "source": [
    "Zadanie\n",
    "\n",
    "Napisz program, który oblicza rozkład na czynniki pierwsze liczby naturalnej $N$.\n",
    "Algorytm rozkładu jest następujący.\n",
    "* weź $k = 2$ i sprawdź czy liczba $N$ jest podzielna przez $k$.\n",
    "* jeżeli nie jest podzielna zwiększ o $k$ o jeden\n",
    "* jeżeli jest podzielna przez $k$ to sprawdź jaka jest krotność $n_k$ dzielnika $k$ (jak to policzyć)\n",
    "* podziel $N$ przez $k^{n_k}$ i przyjmij tę wartość jako nowe  $N$, zwiększ $k$ o jeden\n",
    "\n",
    "\n",
    "Kontunuuj procedurę do momentu aż $N=1$\n",
    "\n",
    "Na przykład\n",
    "\n",
    "$$\n",
    "N = 180 \\\\ \\\\\n",
    "****** ITERACJA\\ 1 ******\\\\\n",
    "k=2 \\\\\n",
    "180/2 = 90\\ r\\ 0 \\\\\n",
    "90/2 = 45\\ r\\ 0 \\\\\n",
    "45/2 = 22\\ r\\ 1 \\\\\n",
    "k=2\\ $n_2=2$ \\\\  \\\\\n",
    "****** ITERACJA\\ 2 ******\\\\\n",
    "k = 2+1 = 3 \\\\\n",
    "45/3 = 15\\ r\\ 0\\\\\n",
    "15/3 = 5\\ r\\ 0 \\\\\n",
    "5/3 = 1\\ r\\ 2 \\\\\n",
    "k=3\\ $n_3=2$. \\\\  \\\\\n",
    "****** ITERACJA\\ 3 ******\\\\\n",
    "k = 3+1 = 4 \\\\\n",
    "5/4 = 1\\ r\\ 1 \\\\\n",
    "k=4\\ $n_4=0$. \\\\  \\\\\n",
    "****** ITERACJA\\ 4 ******\\\\\n",
    "k = 4+1 = 5 \\\\\n",
    "5/5 = 1\\ r\\ 0 \\\\\n",
    "k=5\\ n_5=1. \\\\  \\\\\n",
    "****** Koniec\\ pętli ******\\\\\n",
    "180 = 2^2*3^2*5^1\n",
    "\n",
    "$$\n",
    "\n",
    "Dane o znalezionych dzielnikach liczby i ich krotnościach (większych od 0) należy przechowywać w słowniku.\n",
    "Kluczami słownika są znalezione dzielniki, a wartością dla klucza jest krotność dzielnika.\n",
    "\n",
    "Na końcu na podstawie danych o rozkładzie zgdomadzonych w słowniku\n",
    "należy wypisać rozkład liczby $N$ na czynniki pierwsze, na przykład\n",
    "\n",
    " 180 = 2\\^2 * 3\\^2 * 5\n",
    "\n",
    "\n"
   ],
   "metadata": {
    "collapsed": false
   }
  },
  {
   "cell_type": "code",
   "execution_count": 101,
   "outputs": [
    {
     "name": "stdout",
     "output_type": "stream",
     "text": [
      "180 = 2 ^ 2 * 3 ^ 2 * 5 ^ 1"
     ]
    }
   ],
   "source": [
    "def prime_factors(n):\n",
    "    nk = 0\n",
    "    print_n = n\n",
    "    dict_prime_factors = {}\n",
    "    k = 2\n",
    "    tmp_n = n\n",
    "    while n > 1:\n",
    "        nk = 0\n",
    "        while tmp_n % k == 0:\n",
    "            nk = nk + 1\n",
    "            tmp_n = int(tmp_n/k)\n",
    "        if nk != 0:\n",
    "            dict_prime_factors[k]=nk\n",
    "        n = int(n/(k**nk))\n",
    "        k = k + 1\n",
    "    print(print_n,\"= \",end=\"\")\n",
    "    for v, k in dict_prime_factors.items():\n",
    "        is_last_iteration = (v, k) == list(dict_prime_factors.items())[-1]\n",
    "        print(v, \"^\", k, end=\" * \" if not is_last_iteration else \"\")\n",
    "\n",
    "prime_factors(180)"
   ],
   "metadata": {
    "collapsed": false
   }
  }
 ],
 "metadata": {
  "kernelspec": {
   "display_name": "Python 3",
   "language": "python",
   "name": "python3"
  },
  "language_info": {
   "codemirror_mode": {
    "name": "ipython",
    "version": 2
   },
   "file_extension": ".py",
   "mimetype": "text/x-python",
   "name": "python",
   "nbconvert_exporter": "python",
   "pygments_lexer": "ipython2",
   "version": "2.7.6"
  }
 },
 "nbformat": 4,
 "nbformat_minor": 0
}
