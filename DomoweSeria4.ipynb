{
 "cells": [
  {
   "cell_type": "markdown",
   "source": [
    "# Zadania domowe - Seria 4"
   ],
   "metadata": {
    "collapsed": false,
    "pycharm": {
     "name": "#%% md\n"
    }
   }
  },
  {
   "cell_type": "markdown",
   "source": [
    "(2.5pkt) Uzupełnij klasę liczb zespolonych omawianą na zajęciach o następujące operacje\n",
    "* porównywanie liczb zespolonych (operatory `==` i `!=`)\n",
    "* odejmowanie liczby całkowitej/rzeczywistej od liczby zespolonej\n",
    "* odejmowanie liczby zespolonej od liczby całkowitej/rzeczywistej \n",
    "* negacja liczby zespolonej +\n",
    "* mnożenie liczb zespolonych\n",
    "* mnożenie liczby zespolonej i liczby całkowitej/rzeczywistej (lewo- i prawostronnie)\n",
    "* dzielenie liczb zespolonych (jeżeli dzielimy przez 0 powinno zostać zwróceone `None`)\n",
    "* dzielenie liczby zespolonej przez liczbę całkowitą/rzeczywistą\n",
    "* dzielenie liczby całkowitej/rzeczywistej przez liczbę zespoloną\n",
    "* obliczanie modułu liczby zespolonej +\n",
    "* obliczanie argumentu liczby zespolonej\n",
    "* wypisywanie liczby zespolonej w postaci wykładniczej, np.: liczbę $3+j4$ należy wypisać jako `5exp(j0.9272)`\n",
    "\n",
    "W większości przypadków należy przeładować odpowiednie operatory.\n",
    "Wyniki operacji umieszczamy w nowych obiektach klasy `Cmplx`.\n",
    "\n",
    "Nastepnie należy przetestować i przedstawić działanie klasy i jej metod\n",
    "dla liczb zespolonych o współczynnikach wylosowanych z przedziału $(-10,10)$.\n"
   ],
   "metadata": {
    "collapsed": false,
    "pycharm": {
     "name": "#%% md\n"
    }
   }
  },
  {
   "cell_type": "code",
   "execution_count": 18,
   "outputs": [
    {
     "name": "stdout",
     "output_type": "stream",
     "text": [
      "0.0+j0.4\n",
      "1.0+j0.0\n",
      "1.0\n",
      "-1.5707963267948966\n",
      "1.0exp(j-1.5707963267948966)\n"
     ]
    }
   ],
   "source": [
    "from math import sqrt, pi, atan\n",
    "\n",
    "\n",
    "class Cmplx:\n",
    "\n",
    "    def __init__(self, re, im):\n",
    "        self._im = im\n",
    "        self._re = re\n",
    "\n",
    "    def __str__(self):\n",
    "        if self._im>=0:\n",
    "            return str(self._re)+\"+j\"+str(self._im)\n",
    "        else:\n",
    "            return str(self._re)+\"-j\"+str(-self._im)\n",
    "\n",
    "    def module(self):\n",
    "        return sqrt(self._im**2+self._re**2)\n",
    "    \n",
    "    def argument(self):\n",
    "        if self._re == 0 and self._im == 0:\n",
    "            return None\n",
    "        if self._re == 0:\n",
    "            if self._im >= 0:\n",
    "                return -pi/2\n",
    "            else:\n",
    "                return pi/2\n",
    "        return atan(self._im/self._re)\n",
    "\n",
    "    def exp_form(self):\n",
    "        return str(self.module()) + \"exp(j\" +str(self.argument())+\")\"\n",
    "    \n",
    "    \n",
    "    \n",
    "    @property\n",
    "    def re(self):\n",
    "        return self._re\n",
    "\n",
    "    @property\n",
    "    def im(self):\n",
    "        return self._im\n",
    "\n",
    "    def __add__(self, other):\n",
    "        if type(other)==Cmplx:\n",
    "            return Cmplx(self.re+other.re, self.im+other.im)\n",
    "        else:\n",
    "            return Cmplx(self.re+other,self.im)\n",
    "\n",
    "    def __radd__(self, other):\n",
    "        if type(other)==Cmplx:\n",
    "            return Cmplx(self.re+other.re, self.im+other.im)\n",
    "        else:\n",
    "            return Cmplx(self.re+other,self.im)\n",
    "\n",
    "    def __sub__(self, other):\n",
    "        if type(other)==Cmplx:\n",
    "            return Cmplx(self.re-other.re, self.im-other.im)\n",
    "        else:\n",
    "            return Cmplx(self.re-other, self.im)\n",
    "\n",
    "    def __rsub__(self, other):\n",
    "        if type(other)==Cmplx:\n",
    "            return Cmplx(other.re-self.re, other.im-self.im)\n",
    "        else:\n",
    "            return Cmplx(other - self.re, -self.im)\n",
    "\n",
    "    def __invert__(self):\n",
    "        return Cmplx(self.re, -self.im)\n",
    "\n",
    "    def __eq__(self, other):\n",
    "        if (type(other) == Cmplx) and (self.re == other.re) and (self.im == other.im):\n",
    "            return True\n",
    "        else:\n",
    "            return False\n",
    "\n",
    "    def __ne__(self, other):\n",
    "        if (type(other) == Cmplx) and (self.re == other.re) and (self.im == other.im):\n",
    "            return False\n",
    "        else:\n",
    "            return True\n",
    "\n",
    "    def __neg__(self):\n",
    "        return Cmplx(-self.re, -self.im)\n",
    "\n",
    "    def __mul__(self, other):\n",
    "        if type(other) == Cmplx:\n",
    "            return Cmplx(self.re * other.re + self.im * other.im, self.re * other.im + self.im * other.re)\n",
    "        else:\n",
    "            return Cmplx(self.re * other, self.im * other)\n",
    "\n",
    "    def __rmul__(self, other):\n",
    "        if type(other) == Cmplx:\n",
    "            return Cmplx(self.re * other.re + self.im * other.im, self.re * other.im + self.im * other.re)\n",
    "        else:\n",
    "            return Cmplx(self.re * other, self.im * other)\n",
    "\n",
    "    def __truediv__(self, other):\n",
    "        if type(other) == Cmplx:\n",
    "            if (other.re**2 + other.im**2) != 0:\n",
    "                return Cmplx( (self.re*other.re + self.im*other.im)/(other.re**2 + other.im**2), (other.re *self.im - self.re*other.im) / (other.re**2 + other.im**2))\n",
    "            else:\n",
    "                return None\n",
    "        else:\n",
    "            return Cmplx(self.re/other,self.im/other)\n",
    "\n",
    "    def __rtruediv__(self, other):\n",
    "        if type(other) == Cmplx:\n",
    "            if (other.re**2 + other.im**2) != 0:\n",
    "                return Cmplx( (self.re*other.re + self.im*other.im)/(other.re**2 + other.im**2), (other.re *self.im - self.re*other.im) / (other.re**2 + other.im**2))\n",
    "            else:\n",
    "                return None\n",
    "        else:\n",
    "            return Cmplx( (other * self.re) / (other**2 + self.im**2), (other*self.im /(other**2 + self.im**2) ))\n",
    "\n",
    "\n",
    "a = Cmplx(0,1)\n",
    "print(  2 / a)\n",
    "print( a / a)\n",
    "print(a.module())\n",
    "print(a.argument())\n",
    "print(a.exp_form())\n",
    "\n"
   ],
   "metadata": {
    "collapsed": false,
    "pycharm": {
     "name": "#%%\n"
    },
    "ExecuteTime": {
     "end_time": "2024-04-08T22:33:55.162569900Z",
     "start_time": "2024-04-08T22:33:55.115565100Z"
    }
   }
  },
  {
   "cell_type": "markdown",
   "source": [
    "(2.5pkt) Zaimplementuj klasę `Poly` reprezentującą wielomian.\n",
    "Klasa powinna przechowywać współczynniki wielomianu i umożliwiać nastepujące operacje\n",
    "* tworzenie nowego wielomianu na podstawie listy współczynników\n",
    "* wypisywanie wielomianu w ładnej formie np: `2x^3+5x^2-3`\n",
    "* porównywanie wielomianów (operatory `==` i `!=`)\n",
    "* operacje arytmetyczne na wielomianach: dodawanie, odejmowanie, mnożenie, negacja\n",
    "* mnożenie wielomianu przez liczbę (lewo- i prawostonne)\n",
    "* obliczanie stopnia wielomianu\n",
    "\n",
    "Dodatkowo zaimplementować funkcjonalność obliczania wartości wielomianu dla konktretnej liczby.\n",
    "Wykorzystać do tego metodę specjalną `__call__()`, która umożliwia \"wywoływanie obiektu\" tak jak gdyby był funkcją np.:\n",
    "\n",
    "`a = Poly([1,2,3])`\n",
    "`a(5)`\n",
    "\n",
    "W większości przypadków należy przeładować odpowiednie operatory.\n",
    "Wyniki operacji umieszczamy w nowych obiektach klasy `Poly`\n",
    "\n",
    "Nastepnie należy przetestować i przedstawić działanie klasy i jej metod\n",
    "dla wielomianów o stopniach z przedziału $(0,10)$ i współczynnikach wylosowanych z przedziału $(-10,10)$.\n"
   ],
   "metadata": {
    "collapsed": false,
    "pycharm": {
     "name": "#%% md\n"
    }
   }
  },
  {
   "cell_type": "code",
   "execution_count": 19,
   "outputs": [
    {
     "ename": "SyntaxError",
     "evalue": "invalid syntax (3448428665.py, line 30)",
     "output_type": "error",
     "traceback": [
      "\u001B[1;36m  Cell \u001B[1;32mIn[19], line 30\u001B[1;36m\u001B[0m\n\u001B[1;33m    if type(other) == Polly and (len(self.factors) == len(other.))\u001B[0m\n\u001B[1;37m                                                                ^\u001B[0m\n\u001B[1;31mSyntaxError\u001B[0m\u001B[1;31m:\u001B[0m invalid syntax\n"
     ]
    }
   ],
   "source": [
    "class Polly:\n",
    "\n",
    "    def __init__(self, factors: list):\n",
    "        self._factors = factors\n",
    "\n",
    "    @property\n",
    "    def factors(self):\n",
    "        return self._factors\n",
    "\n",
    "    def print_polly(self):\n",
    "        polly_str = \"\"\n",
    "        for x in range(0,len(self._factors)):\n",
    "            if(factors[x]!=0 and factors[x] >= 0):\n",
    "                polly_str = polly_str + self._factors[x] + \"^\" +str(x) + \"+\"\n",
    "            if(factors[x]!=0 and factors[x] < 0):\n",
    "                polly_str = polly_str + self._factors[x] + \"^\" +str(x)\n",
    "        print(polly_str)\n",
    "\n",
    "    def __str__(self):\n",
    "        polly_str = \"\"\n",
    "        for x in range(0,len(self._factors)):\n",
    "            if(factors[x]!=0 and factors[x] >= 0):\n",
    "                polly_str = polly_str + self._factors[x] + \"^\" +str(x) + \"+\"\n",
    "            if(factors[x]!=0 and factors[x] < 0):\n",
    "                polly_str = polly_str + self._factors[x] + \"^\" +str(x)\n",
    "        return polly_str\n",
    "\n",
    "\n",
    "    def __eq__(self, other):\n",
    "        if type(other) == Polly and (len(self.factors) == len(other.factors)):\n",
    "            for(x in range())\n"
   ],
   "metadata": {
    "collapsed": false,
    "pycharm": {
     "name": "#%%\n"
    },
    "ExecuteTime": {
     "end_time": "2024-04-08T23:07:35.650427Z",
     "start_time": "2024-04-08T23:07:35.625275700Z"
    }
   }
  },
  {
   "cell_type": "code",
   "execution_count": null,
   "outputs": [],
   "source": [],
   "metadata": {
    "collapsed": false
   }
  }
 ],
 "metadata": {
  "kernelspec": {
   "display_name": "Python 3",
   "language": "python",
   "name": "python3"
  },
  "language_info": {
   "codemirror_mode": {
    "name": "ipython",
    "version": 2
   },
   "file_extension": ".py",
   "mimetype": "text/x-python",
   "name": "python",
   "nbconvert_exporter": "python",
   "pygments_lexer": "ipython2",
   "version": "2.7.6"
  }
 },
 "nbformat": 4,
 "nbformat_minor": 0
}
