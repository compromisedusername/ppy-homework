{
 "cells": [
  {
   "cell_type": "markdown",
   "source": [
    "# Zadania domowe - Seria 4"
   ],
   "metadata": {
    "collapsed": false,
    "pycharm": {
     "name": "#%% md\n"
    }
   }
  },
  {
   "cell_type": "markdown",
   "source": [
    "(2.5pkt) Uzupełnij klasę liczb zespolonych omawianą na zajęciach o następujące operacje\n",
    "* porównywanie liczb zespolonych (operatory `==` i `!=`)\n",
    "* odejmowanie liczby całkowitej/rzeczywistej od liczby zespolonej\n",
    "* odejmowanie liczby zespolonej od liczby całkowitej/rzeczywistej \n",
    "* negacja liczby zespolonej +\n",
    "* mnożenie liczb zespolonych\n",
    "* mnożenie liczby zespolonej i liczby całkowitej/rzeczywistej (lewo- i prawostronnie)\n",
    "* dzielenie liczb zespolonych (jeżeli dzielimy przez 0 powinno zostać zwróceone `None`)\n",
    "* dzielenie liczby zespolonej przez liczbę całkowitą/rzeczywistą\n",
    "* dzielenie liczby całkowitej/rzeczywistej przez liczbę zespoloną\n",
    "* obliczanie modułu liczby zespolonej +\n",
    "* obliczanie argumentu liczby zespolonej\n",
    "* wypisywanie liczby zespolonej w postaci wykładniczej, np.: liczbę $3+j4$ należy wypisać jako `5exp(j0.9272)`\n",
    "\n",
    "W większości przypadków należy przeładować odpowiednie operatory.\n",
    "Wyniki operacji umieszczamy w nowych obiektach klasy `Cmplx`.\n",
    "\n",
    "Nastepnie należy przetestować i przedstawić działanie klasy i jej metod\n",
    "dla liczb zespolonych o współczynnikach wylosowanych z przedziału $(-10,10)$.\n"
   ],
   "metadata": {
    "collapsed": false,
    "pycharm": {
     "name": "#%% md\n"
    }
   }
  },
  {
   "cell_type": "code",
   "execution_count": null,
   "outputs": [],
   "source": [
    "from math import sqrt, pi, atan\n",
    "\n",
    "\n",
    "class Cmplx:\n",
    "\n",
    "    def __init__(self, re, im):\n",
    "        self._im = im\n",
    "        self._re = re\n",
    "\n",
    "    def __str__(self):\n",
    "        if self._im>=0:\n",
    "            return str(self._re)+\"+j\"+str(self._im)\n",
    "        else:\n",
    "            return str(self._re)+\"-j\"+str(-self._im)\n",
    "\n",
    "    def module(self):\n",
    "        return sqrt(self._im**2+self._re**2)\n",
    "    \n",
    "    def argument(self):\n",
    "        if self._re == 0 and self._im == 0:\n",
    "            return None\n",
    "        if self._re == 0:\n",
    "            if self._im >= 0:\n",
    "                return -pi/2\n",
    "            else:\n",
    "                return pi/2\n",
    "        return atan(self._im/self._re)\n",
    "    \n",
    "    \n",
    "    \n",
    "    @property\n",
    "    def re(self):\n",
    "        return self._re\n",
    "\n",
    "    @property\n",
    "    def im(self):\n",
    "        return self._im\n",
    "\n",
    "    def __add__(self, other):\n",
    "        return Cmplx(self.re+other.re, self.im+other.im)\n",
    "\n",
    "    def __sub__(self, other):\n",
    "        return Cmplx(self.re-other.re, self.im-other.im)\n",
    "\n",
    "    def __invert__(self):\n",
    "        return Cmplx(self.re, -self.im)"
   ],
   "metadata": {
    "collapsed": false,
    "pycharm": {
     "name": "#%%\n"
    }
   }
  },
  {
   "cell_type": "markdown",
   "source": [
    "(2.5pkt) Zaimplementuj klasę `Poly` reprezentującą wielomian.\n",
    "Klasa powinna przechowywać współczynniki wielomianu i umożliwiać nastepujące operacje\n",
    "* tworzenie nowego wielomianu na podstawie listy współczynników\n",
    "* wypisywanie wielomianu w ładnej formie np: `2x^3+5x^2-3`\n",
    "* porównywanie wielomianów (operatory `==` i `!=`)\n",
    "* operacje arytmetyczne na wielomianach: dodawanie, odejmowanie, mnożenie, negacja\n",
    "* mnożenie wielomianu przez liczbę (lewo- i prawostonne)\n",
    "* obliczanie stopnia wielomianu\n",
    "\n",
    "Dodatkowo zaimplementować funkcjonalność obliczania wartości wielomianu dla konktretnej liczby.\n",
    "Wykorzystać do tego metodę specjalną `__call__()`, która umożliwia \"wywoływanie obiektu\" tak jak gdyby był funkcją np.:\n",
    "\n",
    "`a = Poly([1,2,3])`\n",
    "`a(5)`\n",
    "\n",
    "W większości przypadków należy przeładować odpowiednie operatory.\n",
    "Wyniki operacji umieszczamy w nowych obiektach klasy `Poly`\n",
    "\n",
    "Nastepnie należy przetestować i przedstawić działanie klasy i jej metod\n",
    "dla wielomianów o stopniach z przedziału $(0,10)$ i współczynnikach wylosowanych z przedziału $(-10,10)$.\n"
   ],
   "metadata": {
    "collapsed": false,
    "pycharm": {
     "name": "#%% md\n"
    }
   }
  },
  {
   "cell_type": "code",
   "execution_count": null,
   "outputs": [],
   "source": [],
   "metadata": {
    "collapsed": false,
    "pycharm": {
     "name": "#%%\n"
    }
   }
  }
 ],
 "metadata": {
  "kernelspec": {
   "display_name": "Python 3",
   "language": "python",
   "name": "python3"
  },
  "language_info": {
   "codemirror_mode": {
    "name": "ipython",
    "version": 2
   },
   "file_extension": ".py",
   "mimetype": "text/x-python",
   "name": "python",
   "nbconvert_exporter": "python",
   "pygments_lexer": "ipython2",
   "version": "2.7.6"
  }
 },
 "nbformat": 4,
 "nbformat_minor": 0
}
