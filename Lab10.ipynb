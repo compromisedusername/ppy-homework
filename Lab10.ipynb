{
 "cells": [
  {
   "cell_type": "markdown",
   "source": [
    "# Bibiloteki numpy, matplotlib, pandas"
   ],
   "metadata": {
    "collapsed": false,
    "pycharm": {
     "name": "#%% md\n"
    }
   }
  },
  {
   "cell_type": "markdown",
   "source": [
    "## Biblioteka numpy"
   ],
   "metadata": {
    "collapsed": false,
    "pycharm": {
     "name": "#%% md\n"
    }
   }
  },
  {
   "cell_type": "markdown",
   "source": [
    "Instalacja\n",
    "\n",
    "`python -m pip install numpy matplotlib pandas`"
   ],
   "metadata": {
    "collapsed": false,
    "pycharm": {
     "name": "#%% md\n"
    }
   }
  },
  {
   "cell_type": "code",
   "execution_count": 1,
   "outputs": [],
   "source": [
    "import numpy as np"
   ],
   "metadata": {
    "collapsed": false,
    "pycharm": {
     "name": "#%%\n"
    }
   }
  },
  {
   "cell_type": "markdown",
   "source": [
    "Podstawowy typ - `numpy.ndarray`"
   ],
   "metadata": {
    "collapsed": false,
    "pycharm": {
     "name": "#%% md\n"
    }
   }
  },
  {
   "cell_type": "code",
   "execution_count": 2,
   "outputs": [
    {
     "data": {
      "text/plain": "numpy.ndarray"
     },
     "execution_count": 2,
     "metadata": {},
     "output_type": "execute_result"
    }
   ],
   "source": [
    "np.ndarray"
   ],
   "metadata": {
    "collapsed": false,
    "pycharm": {
     "name": "#%%\n"
    }
   }
  },
  {
   "cell_type": "code",
   "execution_count": 3,
   "outputs": [
    {
     "name": "stdout",
     "output_type": "stream",
     "text": [
      "[[1. 2. 3.]\n",
      " [4. 5. 6.]]\n",
      "<class 'numpy.ndarray'>\n"
     ]
    },
    {
     "data": {
      "text/plain": "dtype('float64')"
     },
     "execution_count": 3,
     "metadata": {},
     "output_type": "execute_result"
    }
   ],
   "source": [
    "a = np.array([[1.,2.,3.],[4.,5.,6.]])\n",
    "print(a)\n",
    "print(type(a))\n",
    "a.dtype"
   ],
   "metadata": {
    "collapsed": false,
    "pycharm": {
     "name": "#%%\n"
    }
   }
  },
  {
   "cell_type": "markdown",
   "source": [
    "Atrybuty tablic"
   ],
   "metadata": {
    "collapsed": false,
    "pycharm": {
     "name": "#%% md\n"
    }
   }
  },
  {
   "cell_type": "code",
   "execution_count": 5,
   "outputs": [
    {
     "name": "stdout",
     "output_type": "stream",
     "text": [
      "float64\n",
      "2\n",
      "(2, 3)\n",
      "6\n"
     ]
    }
   ],
   "source": [
    "a = np.array([[1.,2.,3.],[4.,5.,6.]])\n",
    "print(a.dtype)\n",
    "print(a.ndim)\n",
    "print(a.shape)\n",
    "print(a.size)\n",
    "# print(a.nbytes)"
   ],
   "metadata": {
    "collapsed": false,
    "pycharm": {
     "name": "#%%\n"
    }
   }
  },
  {
   "cell_type": "markdown",
   "source": [
    "Tablica jednowymiarowa"
   ],
   "metadata": {
    "collapsed": false,
    "pycharm": {
     "name": "#%% md\n"
    }
   }
  },
  {
   "cell_type": "code",
   "execution_count": null,
   "outputs": [],
   "source": [
    "a = np.ones((1,2))\n",
    "print(a)\n",
    "print(a.ndim)\n",
    "print(a.shape)\n",
    "b = np.ones((2,1))\n",
    "print(b)\n",
    "print(b.ndim)\n",
    "print(b.shape)\n",
    "c = np.ones(2)\n",
    "print(c)\n",
    "print(c.ndim)\n",
    "print(c.shape)"
   ],
   "metadata": {
    "collapsed": false,
    "pycharm": {
     "name": "#%%\n"
    }
   }
  },
  {
   "cell_type": "markdown",
   "source": [
    "Tworzenie tablic"
   ],
   "metadata": {
    "collapsed": false,
    "pycharm": {
     "name": "#%% md\n"
    }
   }
  },
  {
   "cell_type": "code",
   "execution_count": 6,
   "outputs": [
    {
     "name": "stdout",
     "output_type": "stream",
     "text": [
      "[[[0. 0.]\n",
      "  [0. 0.]\n",
      "  [0. 0.]]\n",
      "\n",
      " [[0. 0.]\n",
      "  [0. 0.]\n",
      "  [0. 0.]]]\n",
      "(2, 3, 2)\n",
      "float64\n"
     ]
    }
   ],
   "source": [
    "a = np.zeros((2,3,2))\n",
    "print(a)\n",
    "print(a.shape)\n",
    "print(a.dtype)"
   ],
   "metadata": {
    "collapsed": false,
    "pycharm": {
     "name": "#%%\n"
    }
   }
  },
  {
   "cell_type": "code",
   "execution_count": 7,
   "outputs": [
    {
     "name": "stdout",
     "output_type": "stream",
     "text": [
      "[[1. 1. 1.]\n",
      " [1. 1. 1.]]\n",
      "(2, 3)\n"
     ]
    }
   ],
   "source": [
    "a = np.ones((2,3))\n",
    "print(a)\n",
    "print(a.shape)"
   ],
   "metadata": {
    "collapsed": false,
    "pycharm": {
     "name": "#%%\n"
    }
   }
  },
  {
   "cell_type": "code",
   "execution_count": 8,
   "outputs": [
    {
     "name": "stdout",
     "output_type": "stream",
     "text": [
      "[[0. 0. 0. 0.]\n",
      " [0. 0. 0. 0.]\n",
      " [0. 0. 0. 0.]]\n",
      "(3, 4)\n"
     ]
    }
   ],
   "source": [
    "a = np.empty((3,4))\n",
    "print(a)\n",
    "print(a.shape)"
   ],
   "metadata": {
    "collapsed": false,
    "pycharm": {
     "name": "#%%\n"
    }
   }
  },
  {
   "cell_type": "code",
   "execution_count": 6,
   "outputs": [
    {
     "name": "stdout",
     "output_type": "stream",
     "text": [
      "[1. 2. 3. 4. 5. 6. 7. 8. 9.]\n",
      "[1. 3. 5. 7. 9.]\n",
      "[20 15 10  5]\n",
      "[ 0.  5. 10. 15. 20.]\n"
     ]
    }
   ],
   "source": [
    "a = np.arange(1.0,10)\n",
    "print(a)\n",
    "\n",
    "a = np.arange(1.0,10,2)\n",
    "print(a)\n",
    "\n",
    "a = np.arange(20,0,-5)\n",
    "print(a)\n",
    "\n",
    "a = np.linspace(0,20,5)\n",
    "print(a)"
   ],
   "metadata": {
    "collapsed": false,
    "pycharm": {
     "name": "#%%\n"
    }
   }
  },
  {
   "cell_type": "code",
   "execution_count": 11,
   "outputs": [],
   "source": [
    "from numpy import random"
   ],
   "metadata": {
    "collapsed": false,
    "pycharm": {
     "name": "#%%\n"
    }
   }
  },
  {
   "cell_type": "code",
   "execution_count": 12,
   "outputs": [
    {
     "name": "stdout",
     "output_type": "stream",
     "text": [
      "[9 4 1 8 8]\n",
      "[[5 1]\n",
      " [2 4]]\n",
      "[[0.42144494 0.06852848 0.20811533]\n",
      " [0.51163527 0.4611732  0.88488315]]\n",
      "[ 2.00863367  0.00635703 -0.14603784  1.02288211 -0.54513148 -0.89579433]\n"
     ]
    }
   ],
   "source": [
    "a = random.randint(1,10,5)\n",
    "print(a)\n",
    "\n",
    "a = random.randint(1,10,(2,2))\n",
    "print(a)\n",
    "\n",
    "a = random.rand(2,3)\n",
    "print(a)\n",
    "\n",
    "a = random.randn(6)\n",
    "print(a)"
   ],
   "metadata": {
    "collapsed": false,
    "pycharm": {
     "name": "#%%\n"
    }
   }
  },
  {
   "cell_type": "markdown",
   "source": [
    "Manipulowanie tablicami"
   ],
   "metadata": {
    "collapsed": false,
    "pycharm": {
     "name": "#%% md\n"
    }
   }
  },
  {
   "cell_type": "code",
   "execution_count": 13,
   "outputs": [
    {
     "name": "stdout",
     "output_type": "stream",
     "text": [
      "[1 2 3 4 5 6 7 8]\n",
      "[[1 2 3 4]\n",
      " [5 6 7 8]]\n"
     ]
    }
   ],
   "source": [
    "a = np.arange(1,9)\n",
    "print(a)\n",
    "b = np.reshape(a,(2,4))\n",
    "print(b)\n",
    "# b[1,2] = 100\n",
    "# print(a)\n",
    "# print(id(a))\n",
    "# print(type(b))"
   ],
   "metadata": {
    "collapsed": false,
    "pycharm": {
     "name": "#%%\n"
    }
   }
  },
  {
   "cell_type": "code",
   "execution_count": 14,
   "outputs": [
    {
     "name": "stdout",
     "output_type": "stream",
     "text": [
      "[[1 2 3 4]\n",
      " [5 6 7 8]]\n",
      "\n",
      "[[1 2 3 4]\n",
      " [5 6 7 8]\n",
      " [1 2 3 4]\n",
      " [5 6 7 8]]\n",
      "\n",
      "[[1 2 3 4 1 2 3 4]\n",
      " [5 6 7 8 5 6 7 8]]\n"
     ]
    }
   ],
   "source": [
    "a = np.arange(1,9)\n",
    "a = np.reshape(a,(2,4))\n",
    "print(a)\n",
    "print()\n",
    "\n",
    "b = np.concatenate((a,a))\n",
    "print(b)\n",
    "print()\n",
    "\n",
    "b = np.concatenate((a,a), axis = 1)\n",
    "print(b)"
   ],
   "metadata": {
    "collapsed": false,
    "pycharm": {
     "name": "#%%\n"
    }
   }
  },
  {
   "cell_type": "markdown",
   "source": [
    "Indeksowanie elementów tablicy"
   ],
   "metadata": {
    "collapsed": false,
    "pycharm": {
     "name": "#%% md\n"
    }
   }
  },
  {
   "cell_type": "code",
   "execution_count": 15,
   "outputs": [
    {
     "name": "stdout",
     "output_type": "stream",
     "text": [
      "[[ 1  2  3  4]\n",
      " [ 5  6  7  8]\n",
      " [ 9 10 11 12]]\n",
      "1\n",
      "[[  1   2   3   4]\n",
      " [  5   6 100   8]\n",
      " [  9  10  11  12]]\n",
      "[[  1   2   3   4]\n",
      " [  5 200 100   8]\n",
      " [  9  10  11  12]]\n"
     ]
    }
   ],
   "source": [
    "a = np.arange(1,13)\n",
    "a = np.reshape(a,(3,4))\n",
    "print(a)\n",
    "print(a[0,0])\n",
    "a[1,2]=100\n",
    "print(a)\n",
    "a[-2, 1] = 200\n",
    "print(a)"
   ],
   "metadata": {
    "collapsed": false,
    "pycharm": {
     "name": "#%%\n"
    }
   }
  },
  {
   "cell_type": "code",
   "execution_count": 16,
   "outputs": [
    {
     "name": "stdout",
     "output_type": "stream",
     "text": [
      "[[ 1  2  3  4  5]\n",
      " [ 6  7  8  9 10]\n",
      " [11 12 13 14 15]\n",
      " [16 17 18 19 20]\n",
      " [21 22 23 24 25]]\n",
      "\n",
      "[11 12 13 14 15]\n",
      "\n",
      "[ 4  9 14 19 24]\n",
      "\n"
     ]
    }
   ],
   "source": [
    "a = np.arange(1,26)\n",
    "a = np.reshape(a,(5,5))\n",
    "print(a, end=\"\\n\\n\")\n",
    "print(a[2,:] , end=\"\\n\\n\")\n",
    "print(a[:,3] , end=\"\\n\\n\")\n"
   ],
   "metadata": {
    "collapsed": false,
    "pycharm": {
     "name": "#%%\n"
    }
   }
  },
  {
   "cell_type": "code",
   "execution_count": 17,
   "outputs": [
    {
     "name": "stdout",
     "output_type": "stream",
     "text": [
      "[12 13]\n",
      "\n",
      "[[ 6  7  8  9 10]\n",
      " [11 12 13 14 15]]\n",
      "\n",
      "[[ 8  9 10]\n",
      " [13 14 15]]\n",
      "\n",
      "[[3 4]\n",
      " [8 9]]\n",
      "\n",
      "[[ 8  9]\n",
      " [13 14]]\n",
      "\n"
     ]
    }
   ],
   "source": [
    "print(a[2,1:3], end=\"\\n\\n\" )\n",
    "print(a[1:3,:], end=\"\\n\\n\" )\n",
    "print(a[1:3,2:], end=\"\\n\\n\" )\n",
    "print(a[:2,2:4], end=\"\\n\\n\" )\n",
    "print(a[1:3,2:4], end=\"\\n\\n\" )"
   ],
   "metadata": {
    "collapsed": false,
    "pycharm": {
     "name": "#%%\n"
    }
   }
  },
  {
   "cell_type": "code",
   "execution_count": 18,
   "outputs": [
    {
     "name": "stdout",
     "output_type": "stream",
     "text": [
      "[[ 1  2  3  4  5]\n",
      " [ 6  7  8  9 10]\n",
      " [11 12 13 14 15]\n",
      " [16 17 18 19 20]\n",
      " [21 22 23 24 25]]\n",
      "\n",
      "[[ 1  2  3  4  5]\n",
      " [ 6  0  0  0 10]\n",
      " [11  0  0  0 15]\n",
      " [16  0  0  0 20]\n",
      " [21 22 23 24 25]]\n",
      "\n"
     ]
    }
   ],
   "source": [
    "a = np.arange(1,26)\n",
    "a = np.reshape(a,(5,5))\n",
    "print(a, end=\"\\n\\n\")\n",
    "\n",
    "a[1:4,1:4] = 0\n",
    "print(a, end=\"\\n\\n\")"
   ],
   "metadata": {
    "collapsed": false,
    "pycharm": {
     "name": "#%%\n"
    }
   }
  },
  {
   "cell_type": "code",
   "execution_count": 19,
   "outputs": [
    {
     "name": "stdout",
     "output_type": "stream",
     "text": [
      "[[ 1  2  3  4]\n",
      " [ 5  6  7  8]\n",
      " [ 9 10 11 12]\n",
      " [13 14 15 16]]\n",
      "\n",
      "[[False False False False]\n",
      " [False False False  True]\n",
      " [ True  True  True  True]\n",
      " [ True  True  True  True]]\n",
      "\n",
      "[[False False  True False]\n",
      " [False  True False False]\n",
      " [ True False False  True]\n",
      " [False False  True False]]\n",
      "\n"
     ]
    }
   ],
   "source": [
    "a = np.arange(1,17)\n",
    "a = np.reshape(a,(4,4))\n",
    "print(a, end=\"\\n\\n\")\n",
    "\n",
    "print(a > 7, end=\"\\n\\n\")\n",
    "\n",
    "print(a % 3 == 0, end=\"\\n\\n\")\n"
   ],
   "metadata": {
    "collapsed": false,
    "pycharm": {
     "name": "#%%\n"
    }
   }
  },
  {
   "cell_type": "code",
   "execution_count": 20,
   "outputs": [
    {
     "name": "stdout",
     "output_type": "stream",
     "text": [
      "[[ 1  2  3  4]\n",
      " [ 5  6  7  8]\n",
      " [ 9 10 11 12]\n",
      " [13 14 15 16]]\n",
      "\n",
      "[[1 2 3 4]\n",
      " [5 6 7 0]\n",
      " [0 0 0 0]\n",
      " [0 0 0 0]]\n",
      "\n"
     ]
    }
   ],
   "source": [
    "print(a, end=\"\\n\\n\")\n",
    "a[a > 7] = 0\n",
    "print(a, end=\"\\n\\n\")"
   ],
   "metadata": {
    "collapsed": false,
    "pycharm": {
     "name": "#%%\n"
    }
   }
  },
  {
   "cell_type": "markdown",
   "source": [
    "Statystyka"
   ],
   "metadata": {
    "collapsed": false,
    "pycharm": {
     "name": "#%% md\n"
    }
   }
  },
  {
   "cell_type": "code",
   "execution_count": 21,
   "outputs": [
    {
     "name": "stdout",
     "output_type": "stream",
     "text": [
      "[[ 1  2  3  4  5]\n",
      " [ 6  7  8  9 10]\n",
      " [11 12 13 14 15]\n",
      " [16 17 18 19 20]\n",
      " [21 22 23 24 25]]\n",
      "\n",
      "25\n",
      "\n",
      "[21 22 23 24 25]\n",
      "\n",
      "[[ 5]\n",
      " [10]\n",
      " [15]\n",
      " [20]\n",
      " [25]]\n",
      "\n"
     ]
    }
   ],
   "source": [
    "a = np.arange(1,26)\n",
    "a = np.reshape(a,(5,5))\n",
    "print(a, end=\"\\n\\n\")\n",
    "print(a.max(), end=\"\\n\\n\")\n",
    "print(a.max(axis = 0), end=\"\\n\\n\")\n",
    "print(a.max(axis = 1).reshape((5,1)), end=\"\\n\\n\")"
   ],
   "metadata": {
    "collapsed": false,
    "pycharm": {
     "name": "#%%\n"
    }
   }
  },
  {
   "cell_type": "code",
   "execution_count": 22,
   "outputs": [
    {
     "name": "stdout",
     "output_type": "stream",
     "text": [
      "[[ 1  2  3  4  5]\n",
      " [ 6  7  8  9 10]\n",
      " [11 12 13 14 15]\n",
      " [16 17 18 19 20]\n",
      " [21 22 23 24 25]]\n",
      "\n",
      "325\n",
      "\n",
      "[55 60 65 70 75]\n",
      "\n",
      "[[ 15]\n",
      " [ 40]\n",
      " [ 65]\n",
      " [ 90]\n",
      " [115]]\n",
      "\n"
     ]
    }
   ],
   "source": [
    "a = np.arange(1,26)\n",
    "a = np.reshape(a,(5,5))\n",
    "print(a, end=\"\\n\\n\")\n",
    "print(a.sum(), end=\"\\n\\n\")\n",
    "print(a.sum(axis = 0), end=\"\\n\\n\")\n",
    "print(a.sum(axis = 1).reshape((5,1)), end=\"\\n\\n\")"
   ],
   "metadata": {
    "collapsed": false,
    "pycharm": {
     "name": "#%%\n"
    }
   }
  },
  {
   "cell_type": "code",
   "execution_count": 23,
   "outputs": [
    {
     "name": "stdout",
     "output_type": "stream",
     "text": [
      "[[ 1  2  3  4  5]\n",
      " [ 6  7  8  9 10]\n",
      " [11 12 13 14 15]\n",
      " [16 17 18 19 20]\n",
      " [21 22 23 24 25]]\n",
      "\n",
      "13.0\n",
      "\n",
      "[11. 12. 13. 14. 15.]\n",
      "\n",
      "[[ 3.]\n",
      " [ 8.]\n",
      " [13.]\n",
      " [18.]\n",
      " [23.]]\n",
      "\n"
     ]
    }
   ],
   "source": [
    "a = np.arange(1,26)\n",
    "a = np.reshape(a,(5,5))\n",
    "print(a, end=\"\\n\\n\")\n",
    "print(a.mean(), end=\"\\n\\n\")\n",
    "print(a.mean(axis = 0), end=\"\\n\\n\")\n",
    "print(a.mean(axis = 1).reshape((5,1)), end=\"\\n\\n\")"
   ],
   "metadata": {
    "collapsed": false,
    "pycharm": {
     "name": "#%%\n"
    }
   }
  },
  {
   "cell_type": "markdown",
   "source": [
    "Operacje matematyczne"
   ],
   "metadata": {
    "collapsed": false,
    "pycharm": {
     "name": "#%% md\n"
    }
   }
  },
  {
   "cell_type": "code",
   "execution_count": 24,
   "outputs": [
    {
     "name": "stdout",
     "output_type": "stream",
     "text": [
      "[[9. 1. 6. 5. 5.]\n",
      " [3. 4. 4. 4. 8.]\n",
      " [7. 1. 4. 1. 3.]\n",
      " [8. 7. 5. 4. 4.]\n",
      " [1. 6. 9. 4. 5.]]\n",
      "\n",
      "[[8. 9. 8. 4. 9.]\n",
      " [3. 1. 9. 4. 2.]\n",
      " [4. 9. 6. 7. 5.]\n",
      " [4. 7. 6. 2. 3.]\n",
      " [5. 5. 5. 2. 3.]]\n",
      "\n"
     ]
    }
   ],
   "source": [
    "a = random.randint(1,10,(5,5)).astype(np.float64)\n",
    "print(a, end=\"\\n\\n\")\n",
    "b = random.randint(1,10,(5,5)).astype(np.float64)\n",
    "print(b, end=\"\\n\\n\")"
   ],
   "metadata": {
    "collapsed": false,
    "pycharm": {
     "name": "#%%\n"
    }
   }
  },
  {
   "cell_type": "code",
   "execution_count": 25,
   "outputs": [
    {
     "name": "stdout",
     "output_type": "stream",
     "text": [
      "[[17. 10. 14.  9. 14.]\n",
      " [ 6.  5. 13.  8. 10.]\n",
      " [11. 10. 10.  8.  8.]\n",
      " [12. 14. 11.  6.  7.]\n",
      " [ 6. 11. 14.  6.  8.]]\n",
      "\n",
      "[[ 1. -8. -2.  1. -4.]\n",
      " [ 0.  3. -5.  0.  6.]\n",
      " [ 3. -8. -2. -6. -2.]\n",
      " [ 4.  0. -1.  2.  1.]\n",
      " [-4.  1.  4.  2.  2.]]\n",
      "\n",
      "[[72.  9. 48. 20. 45.]\n",
      " [ 9.  4. 36. 16. 16.]\n",
      " [28.  9. 24.  7. 15.]\n",
      " [32. 49. 30.  8. 12.]\n",
      " [ 5. 30. 45.  8. 15.]]\n",
      "\n",
      "[[1.125      0.11111111 0.75       1.25       0.55555556]\n",
      " [1.         4.         0.44444444 1.         4.        ]\n",
      " [1.75       0.11111111 0.66666667 0.14285714 0.6       ]\n",
      " [2.         1.         0.83333333 2.         1.33333333]\n",
      " [0.2        1.2        1.8        2.         1.66666667]]\n",
      "\n"
     ]
    }
   ],
   "source": [
    "print(a+b, end=\"\\n\\n\")\n",
    "print(a-b, end=\"\\n\\n\")\n",
    "print(a*b, end=\"\\n\\n\")\n",
    "print(a/b, end=\"\\n\\n\")"
   ],
   "metadata": {
    "collapsed": false,
    "pycharm": {
     "name": "#%%\n"
    }
   }
  },
  {
   "cell_type": "markdown",
   "source": [
    "Broadcasting"
   ],
   "metadata": {
    "collapsed": false,
    "pycharm": {
     "name": "#%% md\n"
    }
   }
  },
  {
   "cell_type": "code",
   "execution_count": 26,
   "outputs": [
    {
     "name": "stdout",
     "output_type": "stream",
     "text": [
      "[[11.  3.  8.  7.  7.]\n",
      " [ 5.  6.  6.  6. 10.]\n",
      " [ 9.  3.  6.  3.  5.]\n",
      " [10.  9.  7.  6.  6.]\n",
      " [ 3.  8. 11.  6.  7.]]\n",
      "\n",
      "[[16. 18. 16.  8. 18.]\n",
      " [ 6.  2. 18.  8.  4.]\n",
      " [ 8. 18. 12. 14. 10.]\n",
      " [ 8. 14. 12.  4.  6.]\n",
      " [10. 10. 10.  4.  6.]]\n",
      "\n"
     ]
    }
   ],
   "source": [
    "print(a+2, end=\"\\n\\n\")\n",
    "print(b*2, end=\"\\n\\n\")"
   ],
   "metadata": {
    "collapsed": false,
    "pycharm": {
     "name": "#%%\n"
    }
   }
  },
  {
   "cell_type": "code",
   "execution_count": 27,
   "outputs": [
    {
     "name": "stdout",
     "output_type": "stream",
     "text": [
      "[[6. 5. 1. 4. 5.]\n",
      " [3. 9. 8. 8. 5.]\n",
      " [5. 6. 8. 3. 9.]\n",
      " [8. 2. 6. 5. 6.]]\n",
      "\n",
      "[[2. 8. 5. 3. 6.]]\n",
      "\n",
      "(4, 5)\n",
      "\n",
      "(1, 5)\n",
      "\n",
      "[[ 8. 13.  6.  7. 11.]\n",
      " [ 5. 17. 13. 11. 11.]\n",
      " [ 7. 14. 13.  6. 15.]\n",
      " [10. 10. 11.  8. 12.]]\n",
      "\n"
     ]
    }
   ],
   "source": [
    "a = random.randint(1,10,(4,5)).astype(np.float64)\n",
    "print(a, end=\"\\n\\n\")\n",
    "b = random.randint(1,10,(1,5)).astype(np.float64)\n",
    "print(b, end=\"\\n\\n\")\n",
    "print(a.shape, end=\"\\n\\n\")\n",
    "print(b.shape, end=\"\\n\\n\")\n",
    "print(a+b, end=\"\\n\\n\")"
   ],
   "metadata": {
    "collapsed": false,
    "pycharm": {
     "name": "#%%\n"
    }
   }
  },
  {
   "cell_type": "code",
   "execution_count": 28,
   "outputs": [
    {
     "name": "stdout",
     "output_type": "stream",
     "text": [
      "[[2. 7. 9. 2. 6.]\n",
      " [5. 9. 2. 7. 1.]\n",
      " [2. 6. 2. 2. 6.]\n",
      " [6. 7. 1. 6. 7.]]\n",
      "\n",
      "[[4.]\n",
      " [4.]\n",
      " [8.]\n",
      " [6.]]\n",
      "\n",
      "(4, 5)\n",
      "\n",
      "(4, 1)\n",
      "\n",
      "[[ 8. 28. 36.  8. 24.]\n",
      " [20. 36.  8. 28.  4.]\n",
      " [16. 48. 16. 16. 48.]\n",
      " [36. 42.  6. 36. 42.]]\n",
      "\n"
     ]
    }
   ],
   "source": [
    "a = random.randint(1,10,(4,5)).astype(np.float64)\n",
    "print(a, end=\"\\n\\n\")\n",
    "b = random.randint(1,10,(4,1)).astype(np.float64)\n",
    "print(b, end=\"\\n\\n\")\n",
    "print(a.shape, end=\"\\n\\n\")\n",
    "print(b.shape, end=\"\\n\\n\")\n",
    "print(a*b, end=\"\\n\\n\")"
   ],
   "metadata": {
    "collapsed": false,
    "pycharm": {
     "name": "#%%\n"
    }
   }
  },
  {
   "cell_type": "code",
   "execution_count": 29,
   "outputs": [
    {
     "name": "stdout",
     "output_type": "stream",
     "text": [
      "[[9. 5. 7. 4. 5.]\n",
      " [3. 3. 7. 2. 9.]\n",
      " [7. 6. 5. 9. 2.]\n",
      " [8. 8. 9. 5. 3.]]\n",
      "\n",
      "[[2. 6. 5. 1.]]\n",
      "\n"
     ]
    },
    {
     "ename": "ValueError",
     "evalue": "operands could not be broadcast together with shapes (4,5) (1,4) ",
     "output_type": "error",
     "traceback": [
      "\u001B[1;31m---------------------------------------------------------------------------\u001B[0m",
      "\u001B[1;31mValueError\u001B[0m                                Traceback (most recent call last)",
      "Cell \u001B[1;32mIn[29], line 5\u001B[0m\n\u001B[0;32m      3\u001B[0m b \u001B[38;5;241m=\u001B[39m random\u001B[38;5;241m.\u001B[39mrandint(\u001B[38;5;241m1\u001B[39m,\u001B[38;5;241m10\u001B[39m,(\u001B[38;5;241m1\u001B[39m,\u001B[38;5;241m4\u001B[39m))\u001B[38;5;241m.\u001B[39mastype(np\u001B[38;5;241m.\u001B[39mfloat64)\n\u001B[0;32m      4\u001B[0m \u001B[38;5;28mprint\u001B[39m(b, end\u001B[38;5;241m=\u001B[39m\u001B[38;5;124m\"\u001B[39m\u001B[38;5;130;01m\\n\u001B[39;00m\u001B[38;5;130;01m\\n\u001B[39;00m\u001B[38;5;124m\"\u001B[39m)\n\u001B[1;32m----> 5\u001B[0m \u001B[38;5;28mprint\u001B[39m(\u001B[43ma\u001B[49m\u001B[38;5;241;43m*\u001B[39;49m\u001B[43mb\u001B[49m, end\u001B[38;5;241m=\u001B[39m\u001B[38;5;124m\"\u001B[39m\u001B[38;5;130;01m\\n\u001B[39;00m\u001B[38;5;130;01m\\n\u001B[39;00m\u001B[38;5;124m\"\u001B[39m)\n",
      "\u001B[1;31mValueError\u001B[0m: operands could not be broadcast together with shapes (4,5) (1,4) "
     ]
    }
   ],
   "source": [
    "a = random.randint(1,10,(4,5)).astype(np.float64)\n",
    "print(a, end=\"\\n\\n\")\n",
    "b = random.randint(1,10,(1,4)).astype(np.float64)\n",
    "print(b, end=\"\\n\\n\")\n",
    "print(a*b, end=\"\\n\\n\")"
   ],
   "metadata": {
    "collapsed": false,
    "pycharm": {
     "name": "#%%\n"
    }
   }
  },
  {
   "cell_type": "code",
   "execution_count": 30,
   "outputs": [
    {
     "name": "stdout",
     "output_type": "stream",
     "text": [
      "[[ 0.90929743  0.98935825  0.6569866  -0.95892427  0.41211849]\n",
      " [ 0.84147098  0.6569866   0.98935825  0.14112001 -0.95892427]\n",
      " [ 0.90929743  0.41211849 -0.2794155   0.84147098 -0.95892427]\n",
      " [ 0.6569866  -0.95892427  0.41211849  0.98935825  0.14112001]]\n",
      "\n",
      "[[1.41421356 2.82842712 2.64575131 2.23606798 3.        ]\n",
      " [1.         2.64575131 2.82842712 1.73205081 2.23606798]\n",
      " [1.41421356 3.         2.44948974 1.         2.23606798]\n",
      " [2.64575131 2.23606798 3.         2.82842712 1.73205081]]\n",
      "\n",
      "[[0.69314718 2.07944154 1.94591015 1.60943791 2.19722458]\n",
      " [0.         1.94591015 2.07944154 1.09861229 1.60943791]\n",
      " [0.69314718 2.19722458 1.79175947 0.         1.60943791]\n",
      " [1.94591015 1.60943791 2.19722458 2.07944154 1.09861229]]\n",
      "\n"
     ]
    }
   ],
   "source": [
    "a = random.randint(1,10,(4,5)).astype(np.float64)\n",
    "print(np.sin(a), end=\"\\n\\n\")\n",
    "print(np.sqrt(a), end=\"\\n\\n\")\n",
    "print(np.log(a), end=\"\\n\\n\")"
   ],
   "metadata": {
    "collapsed": false,
    "pycharm": {
     "name": "#%%\n"
    }
   }
  },
  {
   "cell_type": "markdown",
   "source": [
    "Algebra liniowa"
   ],
   "metadata": {
    "collapsed": false,
    "pycharm": {
     "name": "#%% md\n"
    }
   }
  },
  {
   "cell_type": "code",
   "execution_count": 31,
   "outputs": [
    {
     "name": "stdout",
     "output_type": "stream",
     "text": [
      "[[2. 5. 1. 4. 3.]\n",
      " [2. 5. 6. 2. 4.]\n",
      " [2. 7. 3. 7. 3.]\n",
      " [5. 7. 4. 6. 3.]]\n",
      "\n",
      "[[5. 2. 3.]\n",
      " [5. 8. 6.]\n",
      " [4. 7. 3.]\n",
      " [1. 8. 6.]\n",
      " [5. 9. 9.]]\n",
      "\n",
      "[[ 58. 110.  90.]\n",
      " [ 81. 138. 102.]\n",
      " [ 79. 164. 126.]\n",
      " [ 97. 169. 132.]]\n",
      "\n"
     ]
    }
   ],
   "source": [
    "a = random.randint(1,10,(4,5)).astype(np.float64)\n",
    "b = random.randint(1,10,(5,3)).astype(np.float64)\n",
    "print(a, end=\"\\n\\n\")\n",
    "print(b, end=\"\\n\\n\")\n",
    "\n",
    "print(a@b, end=\"\\n\\n\")\n",
    "# print(a*b, end=\"\\n\\n\")"
   ],
   "metadata": {
    "collapsed": false,
    "pycharm": {
     "name": "#%%\n"
    }
   }
  },
  {
   "cell_type": "code",
   "execution_count": 32,
   "outputs": [
    {
     "name": "stdout",
     "output_type": "stream",
     "text": [
      "[[4. 7. 1. 3. 5.]\n",
      " [8. 9. 2. 6. 7.]\n",
      " [4. 7. 7. 7. 1.]\n",
      " [6. 5. 7. 6. 6.]\n",
      " [5. 5. 7. 3. 7.]]\n",
      "\n",
      "[8. 4. 9. 6. 3.]\n",
      "\n",
      "[-5.31056911  0.84634146 -0.52926829  3.63333333  2.58943089]\n",
      "\n",
      "[3.55271368e-15 7.99360578e-15 3.55271368e-15 1.77635684e-15\n",
      " 7.99360578e-15]\n",
      "\n"
     ]
    }
   ],
   "source": [
    "a = random.randint(1,10,(5,5)).astype(np.float64)\n",
    "b = random.randint(1,10,5).astype(np.float64)\n",
    "print(a, end=\"\\n\\n\")\n",
    "print(b, end=\"\\n\\n\")\n",
    "x = np.linalg.solve(a,b)\n",
    "print(x, end=\"\\n\\n\")\n",
    "print(a@x-b, end=\"\\n\\n\")\n"
   ],
   "metadata": {
    "collapsed": false,
    "pycharm": {
     "name": "#%%\n"
    }
   }
  },
  {
   "cell_type": "markdown",
   "source": [
    "Stałe i zmienne specjalne"
   ],
   "metadata": {
    "collapsed": false,
    "pycharm": {
     "name": "#%% md\n"
    }
   }
  },
  {
   "cell_type": "code",
   "execution_count": 36,
   "outputs": [
    {
     "name": "stdout",
     "output_type": "stream",
     "text": [
      "3.141592653589793\n",
      "2.718281828459045\n",
      "inf\n",
      "-inf\n",
      "nan\n"
     ]
    }
   ],
   "source": [
    "print(np.pi)\n",
    "print(np.e)\n",
    "print(np.inf)\n",
    "print(np.NINF)\n",
    "print(np.nan)\n"
   ],
   "metadata": {
    "collapsed": false,
    "pycharm": {
     "name": "#%%\n"
    }
   }
  },
  {
   "cell_type": "markdown",
   "source": [
    "## Biblioteka matplotlib"
   ],
   "metadata": {
    "collapsed": false,
    "pycharm": {
     "name": "#%% md\n"
    }
   }
  },
  {
   "cell_type": "code",
   "execution_count": 37,
   "outputs": [],
   "source": [
    "import matplotlib.pyplot as plt\n",
    "import numpy as np\n"
   ],
   "metadata": {
    "collapsed": false,
    "pycharm": {
     "name": "#%%\n"
    }
   }
  },
  {
   "cell_type": "code",
   "execution_count": 38,
   "outputs": [
    {
     "data": {
      "text/plain": "[<matplotlib.lines.Line2D at 0x2b64b5c9ab0>]"
     },
     "execution_count": 38,
     "metadata": {},
     "output_type": "execute_result"
    },
    {
     "data": {
      "text/plain": "<Figure size 1000x700 with 1 Axes>",
      "image/png": "[encoded data removed]"
     },
     "metadata": {},
     "output_type": "display_data"
    }
   ],
   "source": [
    "# dane do wykresu\n",
    "x = np.arange(0.0, 10.0, 0.1)\n",
    "y = np.sin(x)\n",
    "# tworzenie rysunku i układu osi\n",
    "fig, ax = plt.subplots(figsize=(10,7))\n",
    "# rysowanie wykresu\n",
    "ax.plot(x,y)\n"
   ],
   "metadata": {
    "collapsed": false,
    "pycharm": {
     "name": "#%%\n"
    }
   }
  },
  {
   "cell_type": "code",
   "execution_count": 39,
   "outputs": [
    {
     "data": {
      "text/plain": "[<matplotlib.lines.Line2D at 0x2b64bd53310>]"
     },
     "execution_count": 39,
     "metadata": {},
     "output_type": "execute_result"
    },
    {
     "data": {
      "text/plain": "<Figure size 800x800 with 1 Axes>",
      "image/png": "[encoded data removed]"
     },
     "metadata": {},
     "output_type": "display_data"
    }
   ],
   "source": [
    "# dane do wykresu\n",
    "x = np.arange(0.0, 10.0, 0.1)\n",
    "# tworzenie wykresów\n",
    "fig, ax = plt.subplots(1,1, figsize=(8,8))\n",
    "ax.plot(x, np.sin(x))\n",
    "ax.plot(x, np.cos(x))\n",
    "ax.plot(x, 0.05*x**2)\n",
    "ax.plot(x, np.sqrt(x))\n"
   ],
   "metadata": {
    "collapsed": false,
    "pycharm": {
     "name": "#%%\n"
    }
   }
  },
  {
   "cell_type": "code",
   "execution_count": 40,
   "outputs": [
    {
     "data": {
      "text/plain": "[<matplotlib.lines.Line2D at 0x2b64b8205e0>]"
     },
     "execution_count": 40,
     "metadata": {},
     "output_type": "execute_result"
    },
    {
     "data": {
      "text/plain": "<Figure size 800x800 with 4 Axes>",
      "image/png": "[encoded data removed]"
     },
     "metadata": {},
     "output_type": "display_data"
    }
   ],
   "source": [
    "# dane do wykresu\n",
    "x = np.arange(0.0, 10.0, 0.1)\n",
    "# tworzenie wykresów\n",
    "fig, ax = plt.subplots(2,2, figsize=(8,8))\n",
    "ax[0,0].plot(x, np.sin(x))\n",
    "ax[0,1].plot(x, np.cos(x))\n",
    "ax[1,0].plot(x, x**2)\n",
    "ax[1,1].plot(x, np.sqrt(x))\n"
   ],
   "metadata": {
    "collapsed": false,
    "pycharm": {
     "name": "#%%\n"
    }
   }
  },
  {
   "cell_type": "code",
   "execution_count": 41,
   "outputs": [
    {
     "data": {
      "text/plain": "[<matplotlib.lines.Line2D at 0x2b6482dda20>]"
     },
     "execution_count": 41,
     "metadata": {},
     "output_type": "execute_result"
    },
    {
     "data": {
      "text/plain": "<Figure size 800x800 with 1 Axes>",
      "image/png": "[encoded data removed]"
     },
     "metadata": {},
     "output_type": "display_data"
    }
   ],
   "source": [
    "# dane do wykresu\n",
    "x = np.arange(0.0, 10.0, 0.1)\n",
    "# tworzenie wykresów\n",
    "fig, ax = plt.subplots(1,1, figsize=(8,8))\n",
    "ax.plot(x, np.sin(x), linestyle=':', color='red', linewidth=3)\n",
    "ax.plot(x, np.cos(x), linestyle='-.', color='blue', linewidth=10)\n",
    "ax.plot(x, -np.sin(x), linestyle='--', color='green', linewidth=5)\n"
   ],
   "metadata": {
    "collapsed": false,
    "pycharm": {
     "name": "#%%\n"
    }
   }
  },
  {
   "cell_type": "code",
   "execution_count": 42,
   "outputs": [
    {
     "data": {
      "text/plain": "[<matplotlib.lines.Line2D at 0x2b648231180>]"
     },
     "execution_count": 42,
     "metadata": {},
     "output_type": "execute_result"
    },
    {
     "data": {
      "text/plain": "<Figure size 800x800 with 1 Axes>",
      "image/png": "[encoded data removed]"
     },
     "metadata": {},
     "output_type": "display_data"
    }
   ],
   "source": [
    "# dane do wykresu\n",
    "x = np.arange(0.0, 10.0, 1)\n",
    "# tworzenie wykresu\n",
    "fig, ax = plt.subplots(1,1, figsize=(8,8))\n",
    "ax.plot(x, np.sin(x), marker = '+',\tmarkersize = 10)\n",
    "ax.plot(x, np.cos(x), marker = 'o',\tmarkersize = 10)\n",
    "ax.plot(x, -np.sin(x), marker = 'v', markersize = 50)\n"
   ],
   "metadata": {
    "collapsed": false,
    "pycharm": {
     "name": "#%%\n"
    }
   }
  },
  {
   "cell_type": "code",
   "execution_count": 43,
   "outputs": [
    {
     "data": {
      "text/plain": "<Figure size 800x800 with 1 Axes>",
      "image/png": "[encoded data removed]"
     },
     "metadata": {},
     "output_type": "display_data"
    }
   ],
   "source": [
    "# dane do wykresu\n",
    "x = np.arange(0.0, 10.0, 0.1)\n",
    "# tworzenie wykresu\n",
    "fig, ax = plt.subplots(1,1, figsize=(8,8))\n",
    "ax.plot(x, np.sin(x))\n",
    "ax.plot(x, np.cos(x))\n",
    "ax.set_xlim(0,6)\n",
    "ax.set_ylim(-1,1)\n",
    "for label in ax.get_xticklabels() :\n",
    "    label.set_fontsize(24)\n",
    "for label in ax.get_yticklabels():\n",
    "    label.set_fontsize(16)\n"
   ],
   "metadata": {
    "collapsed": false,
    "pycharm": {
     "name": "#%%\n"
    }
   }
  },
  {
   "cell_type": "code",
   "execution_count": 44,
   "outputs": [
    {
     "data": {
      "text/plain": "<Figure size 800x800 with 1 Axes>",
      "image/png": "[encoded data removed]"
     },
     "metadata": {},
     "output_type": "display_data"
    }
   ],
   "source": [
    "# dane do wykresu\n",
    "x = np.arange(0.0, 10.0, 0.1)\n",
    "# tworzenie wykresu\n",
    "fig, ax = plt.subplots(1,1, figsize=(8,8))\n",
    "ax.plot(x, np.sin(x))\n",
    "ax.plot(x, np.cos(x))\n",
    "ax.set_xlabel('oś x', fontsize = 16)\n",
    "ax.set_ylabel('oś y', fontsize = 16)\n",
    "ax.set_title('tytuł wykresu', fontsize = 24)\n",
    "ax.grid()\n"
   ],
   "metadata": {
    "collapsed": false,
    "pycharm": {
     "name": "#%%\n"
    }
   }
  },
  {
   "cell_type": "code",
   "execution_count": 45,
   "outputs": [
    {
     "data": {
      "text/plain": "<matplotlib.legend.Legend at 0x2b64c173190>"
     },
     "execution_count": 45,
     "metadata": {},
     "output_type": "execute_result"
    },
    {
     "data": {
      "text/plain": "<Figure size 800x800 with 1 Axes>",
      "image/png": "[encoded data removed]"
     },
     "metadata": {},
     "output_type": "display_data"
    }
   ],
   "source": [
    "# dane do wykresu\n",
    "x = np.arange(0.0, 10.0, 0.1)\n",
    "# tworzenie wykresu\n",
    "fig, ax = plt.subplots(1,1, figsize=(8,8))\n",
    "ax.plot(x, np.sin(x), label = 'sinus')\n",
    "ax.plot(x, np.cos(x), label = 'cosinus')\n",
    "ax.plot(x, 0.05*x**2, label = 'kwadrat')\n",
    "ax.plot(x, np.sqrt(x), label = 'piewiastek')\n",
    "ax.legend(fontsize = 16)\n"
   ],
   "metadata": {
    "collapsed": false,
    "pycharm": {
     "name": "#%%\n"
    }
   }
  },
  {
   "cell_type": "code",
   "execution_count": 46,
   "outputs": [
    {
     "data": {
      "text/plain": "<matplotlib.collections.PathCollection at 0x2b64dd38d30>"
     },
     "execution_count": 46,
     "metadata": {},
     "output_type": "execute_result"
    },
    {
     "data": {
      "text/plain": "<Figure size 800x800 with 1 Axes>",
      "image/png": "[encoded data removed]"
     },
     "metadata": {},
     "output_type": "display_data"
    }
   ],
   "source": [
    "# dane do wykresu\n",
    "x = np.arange(0.0, 10.0, 0.5)\n",
    "# tworzenie wykresu\n",
    "fig, ax = plt.subplots(1,1, figsize=(8,8))\n",
    "ax.scatter(x, np.sin(x), marker = '+')\n",
    "ax.scatter(x, np.cos(x), marker = '>')\n",
    "ax.scatter(x, 0.05*x**2, marker = 'o')\n",
    "ax.scatter(x, np.sqrt(x), marker = '.')\n"
   ],
   "metadata": {
    "collapsed": false,
    "pycharm": {
     "name": "#%%\n"
    }
   }
  },
  {
   "cell_type": "code",
   "execution_count": 47,
   "outputs": [
    {
     "data": {
      "text/plain": "Text(0.5, 1.0, 'wykres słupkowy')"
     },
     "execution_count": 47,
     "metadata": {},
     "output_type": "execute_result"
    },
    {
     "data": {
      "text/plain": "<Figure size 800x800 with 1 Axes>",
      "image/png": "[encoded data removed]"
     },
     "metadata": {},
     "output_type": "display_data"
    }
   ],
   "source": [
    "# dane do wykresu\n",
    "x = ['G1', 'G2', 'G3', 'G4']\n",
    "y = [10, 50, 30, 20]\n",
    "# tworzenie wykresu\n",
    "fig, ax = plt.subplots(1,1, figsize=(8,8))\n",
    "ax.bar(x, y)\n",
    "ax.set_xlabel('grupa', fontsize = 16)\n",
    "ax.set_ylabel('wartość', fontsize = 16)\n",
    "ax.set_title('wykres słupkowy', fontsize = 16)\n"
   ],
   "metadata": {
    "collapsed": false,
    "pycharm": {
     "name": "#%%\n"
    }
   }
  },
  {
   "cell_type": "code",
   "execution_count": 48,
   "outputs": [
    {
     "data": {
      "text/plain": "([<matplotlib.patches.Wedge at 0x2b64ddd7c70>,\n  <matplotlib.patches.Wedge at 0x2b64ddbdb70>,\n  <matplotlib.patches.Wedge at 0x2b64ddfc8b0>,\n  <matplotlib.patches.Wedge at 0x2b64ddfcf40>],\n [Text(-0.3399186987098806, 1.0461621663333949, 'G1'),\n  Text(-1.046162158377023, -0.33991872319707317, 'G2'),\n  Text(0.8899187482945414, -0.6465637025335375, 'G3'),\n  Text(0.6465636608734332, 0.8899187785623721, 'G4')],\n [Text(-0.18541019929629848, 0.5706339089091244, '10.0%'),\n  Text(-0.5706339045692853, -0.18541021265294896, '40.0%'),\n  Text(0.4854102263424771, -0.3526711104728386, '30.0%'),\n  Text(0.35267108774914535, 0.4854102428522029, '20.0%')])"
     },
     "execution_count": 48,
     "metadata": {},
     "output_type": "execute_result"
    },
    {
     "data": {
      "text/plain": "<Figure size 800x800 with 1 Axes>",
      "image/png": "[encoded data removed]"
     },
     "metadata": {},
     "output_type": "display_data"
    }
   ],
   "source": [
    "# dane do wykresu\n",
    "labels = ['G1', 'G2', 'G3', 'G4']\n",
    "sizes = [10, 40, 30, 20]\n",
    "# tworzenie wykresu\n",
    "fig1, ax1 = plt.subplots(1,1,figsize=(8,8))\n",
    "ax1.pie(sizes,\n",
    "\tlabels=labels,\n",
    "\tautopct='%.1f%%',\n",
    "\tstartangle=90,\n",
    "\ttextprops={'fontsize': 16})\n"
   ],
   "metadata": {
    "collapsed": false,
    "pycharm": {
     "name": "#%%\n"
    }
   }
  },
  {
   "cell_type": "code",
   "execution_count": 52,
   "outputs": [
    {
     "data": {
      "text/plain": "Text(0, 0.5, 'ilość wystapień')"
     },
     "execution_count": 52,
     "metadata": {},
     "output_type": "execute_result"
    },
    {
     "data": {
      "text/plain": "<Figure size 800x800 with 1 Axes>",
      "image/png": "[encoded data removed]"
     },
     "metadata": {},
     "output_type": "display_data"
    }
   ],
   "source": [
    "# dane do wykresu\n",
    "gen = np.random.default_rng()\n",
    "x = gen.normal(0, 1, 1000)\n",
    "# tworzenie wykresu\n",
    "fig, ax = plt.subplots(1,1, figsize=(8,8))\n",
    "ax.hist(x, bins=20)\n",
    "ax.set_xlabel('zakres wartości',\n",
    "\t\t fontsize = 16)\n",
    "ax.set_ylabel('ilość wystapień',\n",
    "\t\t fontsize = 16)\n"
   ],
   "metadata": {
    "collapsed": false,
    "pycharm": {
     "name": "#%%\n"
    }
   }
  },
  {
   "cell_type": "markdown",
   "source": [
    "## Biblioteka pandas"
   ],
   "metadata": {
    "collapsed": false,
    "pycharm": {
     "name": "#%% md\n"
    }
   }
  },
  {
   "cell_type": "markdown",
   "source": [
    "Podstawowy typ `pandas.core.frame.DataFrame`"
   ],
   "metadata": {
    "collapsed": false,
    "pycharm": {
     "name": "#%% md\n"
    }
   }
  },
  {
   "cell_type": "code",
   "execution_count": 53,
   "outputs": [],
   "source": [
    "import pandas as pd"
   ],
   "metadata": {
    "collapsed": false,
    "pycharm": {
     "name": "#%%\n"
    }
   }
  },
  {
   "cell_type": "code",
   "execution_count": 76,
   "outputs": [
    {
     "data": {
      "text/plain": "pandas.core.frame.DataFrame"
     },
     "execution_count": 76,
     "metadata": {},
     "output_type": "execute_result"
    }
   ],
   "source": [
    "d = {'cecha_1': [1, 2, 3, 4],\n",
    "             'cecha_2': [5, 6, 7, 8]}\n",
    "\n",
    "df = pd.DataFrame(d)\n",
    "type(df)"
   ],
   "metadata": {
    "collapsed": false,
    "pycharm": {
     "name": "#%%\n"
    }
   }
  },
  {
   "cell_type": "code",
   "execution_count": 77,
   "outputs": [
    {
     "data": {
      "text/plain": "   cecha_1  cecha_2\n0        1        5\n1        2        6\n2        3        7\n3        4        8",
      "text/html": "<div>\n<style scoped>\n    .dataframe tbody tr th:only-of-type {\n        vertical-align: middle;\n    }\n\n    .dataframe tbody tr th {\n        vertical-align: top;\n    }\n\n    .dataframe thead th {\n        text-align: right;\n    }\n</style>\n<table border=\"1\" class=\"dataframe\">\n  <thead>\n    <tr style=\"text-align: right;\">\n      <th></th>\n      <th>cecha_1</th>\n      <th>cecha_2</th>\n    </tr>\n  </thead>\n  <tbody>\n    <tr>\n      <th>0</th>\n      <td>1</td>\n      <td>5</td>\n    </tr>\n    <tr>\n      <th>1</th>\n      <td>2</td>\n      <td>6</td>\n    </tr>\n    <tr>\n      <th>2</th>\n      <td>3</td>\n      <td>7</td>\n    </tr>\n    <tr>\n      <th>3</th>\n      <td>4</td>\n      <td>8</td>\n    </tr>\n  </tbody>\n</table>\n</div>"
     },
     "execution_count": 77,
     "metadata": {},
     "output_type": "execute_result"
    }
   ],
   "source": [
    "df"
   ],
   "metadata": {
    "collapsed": false,
    "pycharm": {
     "name": "#%%\n"
    }
   }
  },
  {
   "cell_type": "code",
   "execution_count": 57,
   "outputs": [
    {
     "name": "stdout",
     "output_type": "stream",
     "text": [
      "<class 'pandas.core.frame.DataFrame'>\n",
      "RangeIndex: 4 entries, 0 to 3\n",
      "Data columns (total 2 columns):\n",
      " #   Column   Non-Null Count  Dtype\n",
      "---  ------   --------------  -----\n",
      " 0   cecha_1  4 non-null      int64\n",
      " 1   cecha_2  4 non-null      int64\n",
      "dtypes: int64(2)\n",
      "memory usage: 192.0 bytes\n"
     ]
    }
   ],
   "source": [
    "df.info()"
   ],
   "metadata": {
    "collapsed": false,
    "pycharm": {
     "name": "#%%\n"
    }
   }
  },
  {
   "cell_type": "code",
   "execution_count": 30,
   "outputs": [
    {
     "data": {
      "text/plain": "        cecha_1   cecha_2\ncount  4.000000  4.000000\nmean   2.500000  6.500000\nstd    1.290994  1.290994\nmin    1.000000  5.000000\n25%    1.750000  5.750000\n50%    2.500000  6.500000\n75%    3.250000  7.250000\nmax    4.000000  8.000000",
      "text/html": "<div>\n<style scoped>\n    .dataframe tbody tr th:only-of-type {\n        vertical-align: middle;\n    }\n\n    .dataframe tbody tr th {\n        vertical-align: top;\n    }\n\n    .dataframe thead th {\n        text-align: right;\n    }\n</style>\n<table border=\"1\" class=\"dataframe\">\n  <thead>\n    <tr style=\"text-align: right;\">\n      <th></th>\n      <th>cecha_1</th>\n      <th>cecha_2</th>\n    </tr>\n  </thead>\n  <tbody>\n    <tr>\n      <th>count</th>\n      <td>4.000000</td>\n      <td>4.000000</td>\n    </tr>\n    <tr>\n      <th>mean</th>\n      <td>2.500000</td>\n      <td>6.500000</td>\n    </tr>\n    <tr>\n      <th>std</th>\n      <td>1.290994</td>\n      <td>1.290994</td>\n    </tr>\n    <tr>\n      <th>min</th>\n      <td>1.000000</td>\n      <td>5.000000</td>\n    </tr>\n    <tr>\n      <th>25%</th>\n      <td>1.750000</td>\n      <td>5.750000</td>\n    </tr>\n    <tr>\n      <th>50%</th>\n      <td>2.500000</td>\n      <td>6.500000</td>\n    </tr>\n    <tr>\n      <th>75%</th>\n      <td>3.250000</td>\n      <td>7.250000</td>\n    </tr>\n    <tr>\n      <th>max</th>\n      <td>4.000000</td>\n      <td>8.000000</td>\n    </tr>\n  </tbody>\n</table>\n</div>"
     },
     "execution_count": 30,
     "metadata": {},
     "output_type": "execute_result"
    }
   ],
   "source": [
    "df.describe()"
   ],
   "metadata": {
    "collapsed": false,
    "pycharm": {
     "name": "#%%\n"
    }
   }
  },
  {
   "cell_type": "code",
   "execution_count": 31,
   "outputs": [
    {
     "data": {
      "text/plain": "   cecha_1  cecha_2\n0        1        5\n1        2        6\n2        3        7\n3        4        8",
      "text/html": "<div>\n<style scoped>\n    .dataframe tbody tr th:only-of-type {\n        vertical-align: middle;\n    }\n\n    .dataframe tbody tr th {\n        vertical-align: top;\n    }\n\n    .dataframe thead th {\n        text-align: right;\n    }\n</style>\n<table border=\"1\" class=\"dataframe\">\n  <thead>\n    <tr style=\"text-align: right;\">\n      <th></th>\n      <th>cecha_1</th>\n      <th>cecha_2</th>\n    </tr>\n  </thead>\n  <tbody>\n    <tr>\n      <th>0</th>\n      <td>1</td>\n      <td>5</td>\n    </tr>\n    <tr>\n      <th>1</th>\n      <td>2</td>\n      <td>6</td>\n    </tr>\n    <tr>\n      <th>2</th>\n      <td>3</td>\n      <td>7</td>\n    </tr>\n    <tr>\n      <th>3</th>\n      <td>4</td>\n      <td>8</td>\n    </tr>\n  </tbody>\n</table>\n</div>"
     },
     "execution_count": 31,
     "metadata": {},
     "output_type": "execute_result"
    }
   ],
   "source": [
    "df.head()"
   ],
   "metadata": {
    "collapsed": false,
    "pycharm": {
     "name": "#%%\n"
    }
   }
  },
  {
   "cell_type": "code",
   "execution_count": 58,
   "outputs": [],
   "source": [
    "a = np.random.randint(10,90,(7,4))"
   ],
   "metadata": {
    "collapsed": false,
    "pycharm": {
     "name": "#%%\n"
    }
   }
  },
  {
   "cell_type": "code",
   "execution_count": 59,
   "outputs": [
    {
     "name": "stdout",
     "output_type": "stream",
     "text": [
      "[[37 81 29 81]\n",
      " [48 58 56 14]\n",
      " [72 18 55 87]\n",
      " [86 78 56 75]\n",
      " [74 81 61 43]\n",
      " [25 15 62 64]\n",
      " [63 88 42 65]]\n"
     ]
    }
   ],
   "source": [
    "print(a)"
   ],
   "metadata": {
    "collapsed": false,
    "pycharm": {
     "name": "#%%\n"
    }
   }
  },
  {
   "cell_type": "code",
   "execution_count": 60,
   "outputs": [],
   "source": [
    "ind = ['p1','p2','p3','p4','p5','p6','p7']\n",
    "cols = ['c1','c2','c3','c4']\n"
   ],
   "metadata": {
    "collapsed": false,
    "pycharm": {
     "name": "#%%\n"
    }
   }
  },
  {
   "cell_type": "code",
   "execution_count": 61,
   "outputs": [
    {
     "name": "stdout",
     "output_type": "stream",
     "text": [
      "    c1  c2  c3  c4\n",
      "p1  37  81  29  81\n",
      "p2  48  58  56  14\n",
      "p3  72  18  55  87\n",
      "p4  86  78  56  75\n",
      "p5  74  81  61  43\n",
      "p6  25  15  62  64\n",
      "p7  63  88  42  65\n"
     ]
    }
   ],
   "source": [
    "df = pd.DataFrame(a, columns=cols, index=ind)\n",
    "print(df)"
   ],
   "metadata": {
    "collapsed": false,
    "pycharm": {
     "name": "#%%\n"
    }
   }
  },
  {
   "cell_type": "markdown",
   "source": [
    "Własności tabeli"
   ],
   "metadata": {
    "collapsed": false,
    "pycharm": {
     "name": "#%% md\n"
    }
   }
  },
  {
   "cell_type": "code",
   "execution_count": 62,
   "outputs": [
    {
     "data": {
      "text/plain": "Index(['c1', 'c2', 'c3', 'c4'], dtype='object')"
     },
     "execution_count": 62,
     "metadata": {},
     "output_type": "execute_result"
    }
   ],
   "source": [
    "df.columns"
   ],
   "metadata": {
    "collapsed": false,
    "pycharm": {
     "name": "#%%\n"
    }
   }
  },
  {
   "cell_type": "code",
   "execution_count": 63,
   "outputs": [
    {
     "data": {
      "text/plain": "Index(['p1', 'p2', 'p3', 'p4', 'p5', 'p6', 'p7'], dtype='object')"
     },
     "execution_count": 63,
     "metadata": {},
     "output_type": "execute_result"
    }
   ],
   "source": [
    "df.index"
   ],
   "metadata": {
    "collapsed": false,
    "pycharm": {
     "name": "#%%\n"
    }
   }
  },
  {
   "cell_type": "code",
   "execution_count": 64,
   "outputs": [
    {
     "data": {
      "text/plain": "(7, 4)"
     },
     "execution_count": 64,
     "metadata": {},
     "output_type": "execute_result"
    }
   ],
   "source": [
    "df.shape"
   ],
   "metadata": {
    "collapsed": false,
    "pycharm": {
     "name": "#%%\n"
    }
   }
  },
  {
   "cell_type": "code",
   "execution_count": 67,
   "outputs": [
    {
     "name": "stdout",
     "output_type": "stream",
     "text": [
      "[[37 81 29 81]\n",
      " [48 58 56 14]\n",
      " [72 18 55 87]\n",
      " [86 78 56 75]\n",
      " [74 81 61 43]\n",
      " [25 15 62 64]\n",
      " [63 88 42 65]]\n"
     ]
    }
   ],
   "source": [
    "print(df.values)"
   ],
   "metadata": {
    "collapsed": false,
    "pycharm": {
     "name": "#%%\n"
    }
   }
  },
  {
   "cell_type": "code",
   "execution_count": 71,
   "outputs": [
    {
     "data": {
      "text/plain": "c1    int32\nc2    int32\nc3    int32\nc4    int32\ndtype: object"
     },
     "execution_count": 71,
     "metadata": {},
     "output_type": "execute_result"
    }
   ],
   "source": [
    "df.dtypes"
   ],
   "metadata": {
    "collapsed": false,
    "pycharm": {
     "name": "#%%\n"
    }
   }
  },
  {
   "cell_type": "markdown",
   "source": [
    "Importowanie DataFrame z pliku csv"
   ],
   "metadata": {
    "collapsed": false,
    "pycharm": {
     "name": "#%% md\n"
    }
   }
  },
  {
   "cell_type": "code",
   "execution_count": 72,
   "outputs": [
    {
     "data": {
      "text/plain": "    c1  c2  c3  c4\np1  85  44  75  14\np2  47  11  25  37\np3  61  70  83  36\np4  38  88  45  93\np5  44  71  78  17\np6  11  51  45  66\np7  48  76  40  12",
      "text/html": "<div>\n<style scoped>\n    .dataframe tbody tr th:only-of-type {\n        vertical-align: middle;\n    }\n\n    .dataframe tbody tr th {\n        vertical-align: top;\n    }\n\n    .dataframe thead th {\n        text-align: right;\n    }\n</style>\n<table border=\"1\" class=\"dataframe\">\n  <thead>\n    <tr style=\"text-align: right;\">\n      <th></th>\n      <th>c1</th>\n      <th>c2</th>\n      <th>c3</th>\n      <th>c4</th>\n    </tr>\n  </thead>\n  <tbody>\n    <tr>\n      <th>p1</th>\n      <td>85</td>\n      <td>44</td>\n      <td>75</td>\n      <td>14</td>\n    </tr>\n    <tr>\n      <th>p2</th>\n      <td>47</td>\n      <td>11</td>\n      <td>25</td>\n      <td>37</td>\n    </tr>\n    <tr>\n      <th>p3</th>\n      <td>61</td>\n      <td>70</td>\n      <td>83</td>\n      <td>36</td>\n    </tr>\n    <tr>\n      <th>p4</th>\n      <td>38</td>\n      <td>88</td>\n      <td>45</td>\n      <td>93</td>\n    </tr>\n    <tr>\n      <th>p5</th>\n      <td>44</td>\n      <td>71</td>\n      <td>78</td>\n      <td>17</td>\n    </tr>\n    <tr>\n      <th>p6</th>\n      <td>11</td>\n      <td>51</td>\n      <td>45</td>\n      <td>66</td>\n    </tr>\n    <tr>\n      <th>p7</th>\n      <td>48</td>\n      <td>76</td>\n      <td>40</td>\n      <td>12</td>\n    </tr>\n  </tbody>\n</table>\n</div>"
     },
     "execution_count": 72,
     "metadata": {},
     "output_type": "execute_result"
    }
   ],
   "source": [
    "df = pd.read_csv('file.csv')\n",
    "df"
   ],
   "metadata": {
    "collapsed": false,
    "pycharm": {
     "name": "#%%\n"
    }
   }
  },
  {
   "cell_type": "code",
   "execution_count": 73,
   "outputs": [
    {
     "data": {
      "text/plain": "   c1  c2  c3  c4\n0  47  11  25  37\n1  61  70  83  36\n2  38  88  45  93\n3  44  71  78  17\n4  11  51  45  66",
      "text/html": "<div>\n<style scoped>\n    .dataframe tbody tr th:only-of-type {\n        vertical-align: middle;\n    }\n\n    .dataframe tbody tr th {\n        vertical-align: top;\n    }\n\n    .dataframe thead th {\n        text-align: right;\n    }\n</style>\n<table border=\"1\" class=\"dataframe\">\n  <thead>\n    <tr style=\"text-align: right;\">\n      <th></th>\n      <th>c1</th>\n      <th>c2</th>\n      <th>c3</th>\n      <th>c4</th>\n    </tr>\n  </thead>\n  <tbody>\n    <tr>\n      <th>0</th>\n      <td>47</td>\n      <td>11</td>\n      <td>25</td>\n      <td>37</td>\n    </tr>\n    <tr>\n      <th>1</th>\n      <td>61</td>\n      <td>70</td>\n      <td>83</td>\n      <td>36</td>\n    </tr>\n    <tr>\n      <th>2</th>\n      <td>38</td>\n      <td>88</td>\n      <td>45</td>\n      <td>93</td>\n    </tr>\n    <tr>\n      <th>3</th>\n      <td>44</td>\n      <td>71</td>\n      <td>78</td>\n      <td>17</td>\n    </tr>\n    <tr>\n      <th>4</th>\n      <td>11</td>\n      <td>51</td>\n      <td>45</td>\n      <td>66</td>\n    </tr>\n  </tbody>\n</table>\n</div>"
     },
     "execution_count": 73,
     "metadata": {},
     "output_type": "execute_result"
    }
   ],
   "source": [
    "df = pd.read_csv('file1.csv',\n",
    "             sep = ';', header=0,\n",
    "             names=['c1','c2','c3','c4'])\n",
    "df"
   ],
   "metadata": {
    "collapsed": false,
    "pycharm": {
     "name": "#%%\n"
    }
   }
  },
  {
   "cell_type": "code",
   "execution_count": 89,
   "outputs": [
    {
     "data": {
      "text/plain": "    c1  c2  c3  c4\np1  85  44  75  14\np2  47  11  25  37\np3  61  70  83  36\np4  38  88  45  93\np5  44  71  78  17\np6  11  51  45  66\np7  48  76  40  12",
      "text/html": "<div>\n<style scoped>\n    .dataframe tbody tr th:only-of-type {\n        vertical-align: middle;\n    }\n\n    .dataframe tbody tr th {\n        vertical-align: top;\n    }\n\n    .dataframe thead th {\n        text-align: right;\n    }\n</style>\n<table border=\"1\" class=\"dataframe\">\n  <thead>\n    <tr style=\"text-align: right;\">\n      <th></th>\n      <th>c1</th>\n      <th>c2</th>\n      <th>c3</th>\n      <th>c4</th>\n    </tr>\n  </thead>\n  <tbody>\n    <tr>\n      <th>p1</th>\n      <td>85</td>\n      <td>44</td>\n      <td>75</td>\n      <td>14</td>\n    </tr>\n    <tr>\n      <th>p2</th>\n      <td>47</td>\n      <td>11</td>\n      <td>25</td>\n      <td>37</td>\n    </tr>\n    <tr>\n      <th>p3</th>\n      <td>61</td>\n      <td>70</td>\n      <td>83</td>\n      <td>36</td>\n    </tr>\n    <tr>\n      <th>p4</th>\n      <td>38</td>\n      <td>88</td>\n      <td>45</td>\n      <td>93</td>\n    </tr>\n    <tr>\n      <th>p5</th>\n      <td>44</td>\n      <td>71</td>\n      <td>78</td>\n      <td>17</td>\n    </tr>\n    <tr>\n      <th>p6</th>\n      <td>11</td>\n      <td>51</td>\n      <td>45</td>\n      <td>66</td>\n    </tr>\n    <tr>\n      <th>p7</th>\n      <td>48</td>\n      <td>76</td>\n      <td>40</td>\n      <td>12</td>\n    </tr>\n  </tbody>\n</table>\n</div>"
     },
     "execution_count": 89,
     "metadata": {},
     "output_type": "execute_result"
    }
   ],
   "source": [
    "df = pd.read_csv('file.csv')\n",
    "df"
   ],
   "metadata": {
    "collapsed": false,
    "pycharm": {
     "name": "#%%\n"
    }
   }
  },
  {
   "cell_type": "markdown",
   "source": [
    "Indeksowanie tablic"
   ],
   "metadata": {
    "collapsed": false,
    "pycharm": {
     "name": "#%% md\n"
    }
   }
  },
  {
   "cell_type": "code",
   "execution_count": 90,
   "outputs": [
    {
     "data": {
      "text/plain": "p1    44\np2    11\np3    70\np4    88\np5    71\np6    51\np7    76\nName: c2, dtype: int64"
     },
     "execution_count": 90,
     "metadata": {},
     "output_type": "execute_result"
    }
   ],
   "source": [
    "df['c2']"
   ],
   "metadata": {
    "collapsed": false,
    "pycharm": {
     "name": "#%%\n"
    }
   }
  },
  {
   "cell_type": "code",
   "execution_count": 91,
   "outputs": [
    {
     "data": {
      "text/plain": "    c1  c2\np1  85  44\np2  47  11\np3  61  70\np4  38  88\np5  44  71\np6  11  51\np7  48  76",
      "text/html": "<div>\n<style scoped>\n    .dataframe tbody tr th:only-of-type {\n        vertical-align: middle;\n    }\n\n    .dataframe tbody tr th {\n        vertical-align: top;\n    }\n\n    .dataframe thead th {\n        text-align: right;\n    }\n</style>\n<table border=\"1\" class=\"dataframe\">\n  <thead>\n    <tr style=\"text-align: right;\">\n      <th></th>\n      <th>c1</th>\n      <th>c2</th>\n    </tr>\n  </thead>\n  <tbody>\n    <tr>\n      <th>p1</th>\n      <td>85</td>\n      <td>44</td>\n    </tr>\n    <tr>\n      <th>p2</th>\n      <td>47</td>\n      <td>11</td>\n    </tr>\n    <tr>\n      <th>p3</th>\n      <td>61</td>\n      <td>70</td>\n    </tr>\n    <tr>\n      <th>p4</th>\n      <td>38</td>\n      <td>88</td>\n    </tr>\n    <tr>\n      <th>p5</th>\n      <td>44</td>\n      <td>71</td>\n    </tr>\n    <tr>\n      <th>p6</th>\n      <td>11</td>\n      <td>51</td>\n    </tr>\n    <tr>\n      <th>p7</th>\n      <td>48</td>\n      <td>76</td>\n    </tr>\n  </tbody>\n</table>\n</div>"
     },
     "execution_count": 91,
     "metadata": {},
     "output_type": "execute_result"
    }
   ],
   "source": [
    "df[['c1','c2']]\n"
   ],
   "metadata": {
    "collapsed": false,
    "pycharm": {
     "name": "#%%\n"
    }
   }
  },
  {
   "cell_type": "code",
   "execution_count": 92,
   "outputs": [
    {
     "data": {
      "text/plain": "Empty DataFrame\nColumns: [c1, c2, c3, c4]\nIndex: []",
      "text/html": "<div>\n<style scoped>\n    .dataframe tbody tr th:only-of-type {\n        vertical-align: middle;\n    }\n\n    .dataframe tbody tr th {\n        vertical-align: top;\n    }\n\n    .dataframe thead th {\n        text-align: right;\n    }\n</style>\n<table border=\"1\" class=\"dataframe\">\n  <thead>\n    <tr style=\"text-align: right;\">\n      <th></th>\n      <th>c1</th>\n      <th>c2</th>\n      <th>c3</th>\n      <th>c4</th>\n    </tr>\n  </thead>\n  <tbody>\n  </tbody>\n</table>\n</div>"
     },
     "execution_count": 92,
     "metadata": {},
     "output_type": "execute_result"
    }
   ],
   "source": [
    "df['c0':'c2']"
   ],
   "metadata": {
    "collapsed": false,
    "pycharm": {
     "name": "#%%\n"
    }
   }
  },
  {
   "cell_type": "code",
   "execution_count": 94,
   "outputs": [
    {
     "ename": "KeyError",
     "evalue": "'p1'",
     "output_type": "error",
     "traceback": [
      "\u001B[1;31m---------------------------------------------------------------------------\u001B[0m",
      "\u001B[1;31mKeyError\u001B[0m                                  Traceback (most recent call last)",
      "File \u001B[1;32m~\\Documents\\PycharmProjects\\PPY\\venv\\lib\\site-packages\\pandas\\core\\indexes\\base.py:3805\u001B[0m, in \u001B[0;36mIndex.get_loc\u001B[1;34m(self, key)\u001B[0m\n\u001B[0;32m   3804\u001B[0m \u001B[38;5;28;01mtry\u001B[39;00m:\n\u001B[1;32m-> 3805\u001B[0m     \u001B[38;5;28;01mreturn\u001B[39;00m \u001B[38;5;28;43mself\u001B[39;49m\u001B[38;5;241;43m.\u001B[39;49m\u001B[43m_engine\u001B[49m\u001B[38;5;241;43m.\u001B[39;49m\u001B[43mget_loc\u001B[49m\u001B[43m(\u001B[49m\u001B[43mcasted_key\u001B[49m\u001B[43m)\u001B[49m\n\u001B[0;32m   3806\u001B[0m \u001B[38;5;28;01mexcept\u001B[39;00m \u001B[38;5;167;01mKeyError\u001B[39;00m \u001B[38;5;28;01mas\u001B[39;00m err:\n",
      "File \u001B[1;32mindex.pyx:167\u001B[0m, in \u001B[0;36mpandas._libs.index.IndexEngine.get_loc\u001B[1;34m()\u001B[0m\n",
      "File \u001B[1;32mindex.pyx:196\u001B[0m, in \u001B[0;36mpandas._libs.index.IndexEngine.get_loc\u001B[1;34m()\u001B[0m\n",
      "File \u001B[1;32mpandas\\\\_libs\\\\hashtable_class_helper.pxi:7081\u001B[0m, in \u001B[0;36mpandas._libs.hashtable.PyObjectHashTable.get_item\u001B[1;34m()\u001B[0m\n",
      "File \u001B[1;32mpandas\\\\_libs\\\\hashtable_class_helper.pxi:7089\u001B[0m, in \u001B[0;36mpandas._libs.hashtable.PyObjectHashTable.get_item\u001B[1;34m()\u001B[0m\n",
      "\u001B[1;31mKeyError\u001B[0m: 'p1'",
      "\nThe above exception was the direct cause of the following exception:\n",
      "\u001B[1;31mKeyError\u001B[0m                                  Traceback (most recent call last)",
      "Cell \u001B[1;32mIn[94], line 1\u001B[0m\n\u001B[1;32m----> 1\u001B[0m \u001B[43mdf\u001B[49m\u001B[43m[\u001B[49m\u001B[38;5;124;43m'\u001B[39;49m\u001B[38;5;124;43mp1\u001B[39;49m\u001B[38;5;124;43m'\u001B[39;49m\u001B[43m]\u001B[49m\n",
      "File \u001B[1;32m~\\Documents\\PycharmProjects\\PPY\\venv\\lib\\site-packages\\pandas\\core\\frame.py:4102\u001B[0m, in \u001B[0;36mDataFrame.__getitem__\u001B[1;34m(self, key)\u001B[0m\n\u001B[0;32m   4100\u001B[0m \u001B[38;5;28;01mif\u001B[39;00m \u001B[38;5;28mself\u001B[39m\u001B[38;5;241m.\u001B[39mcolumns\u001B[38;5;241m.\u001B[39mnlevels \u001B[38;5;241m>\u001B[39m \u001B[38;5;241m1\u001B[39m:\n\u001B[0;32m   4101\u001B[0m     \u001B[38;5;28;01mreturn\u001B[39;00m \u001B[38;5;28mself\u001B[39m\u001B[38;5;241m.\u001B[39m_getitem_multilevel(key)\n\u001B[1;32m-> 4102\u001B[0m indexer \u001B[38;5;241m=\u001B[39m \u001B[38;5;28;43mself\u001B[39;49m\u001B[38;5;241;43m.\u001B[39;49m\u001B[43mcolumns\u001B[49m\u001B[38;5;241;43m.\u001B[39;49m\u001B[43mget_loc\u001B[49m\u001B[43m(\u001B[49m\u001B[43mkey\u001B[49m\u001B[43m)\u001B[49m\n\u001B[0;32m   4103\u001B[0m \u001B[38;5;28;01mif\u001B[39;00m is_integer(indexer):\n\u001B[0;32m   4104\u001B[0m     indexer \u001B[38;5;241m=\u001B[39m [indexer]\n",
      "File \u001B[1;32m~\\Documents\\PycharmProjects\\PPY\\venv\\lib\\site-packages\\pandas\\core\\indexes\\base.py:3812\u001B[0m, in \u001B[0;36mIndex.get_loc\u001B[1;34m(self, key)\u001B[0m\n\u001B[0;32m   3807\u001B[0m     \u001B[38;5;28;01mif\u001B[39;00m \u001B[38;5;28misinstance\u001B[39m(casted_key, \u001B[38;5;28mslice\u001B[39m) \u001B[38;5;129;01mor\u001B[39;00m (\n\u001B[0;32m   3808\u001B[0m         \u001B[38;5;28misinstance\u001B[39m(casted_key, abc\u001B[38;5;241m.\u001B[39mIterable)\n\u001B[0;32m   3809\u001B[0m         \u001B[38;5;129;01mand\u001B[39;00m \u001B[38;5;28many\u001B[39m(\u001B[38;5;28misinstance\u001B[39m(x, \u001B[38;5;28mslice\u001B[39m) \u001B[38;5;28;01mfor\u001B[39;00m x \u001B[38;5;129;01min\u001B[39;00m casted_key)\n\u001B[0;32m   3810\u001B[0m     ):\n\u001B[0;32m   3811\u001B[0m         \u001B[38;5;28;01mraise\u001B[39;00m InvalidIndexError(key)\n\u001B[1;32m-> 3812\u001B[0m     \u001B[38;5;28;01mraise\u001B[39;00m \u001B[38;5;167;01mKeyError\u001B[39;00m(key) \u001B[38;5;28;01mfrom\u001B[39;00m \u001B[38;5;21;01merr\u001B[39;00m\n\u001B[0;32m   3813\u001B[0m \u001B[38;5;28;01mexcept\u001B[39;00m \u001B[38;5;167;01mTypeError\u001B[39;00m:\n\u001B[0;32m   3814\u001B[0m     \u001B[38;5;66;03m# If we have a listlike key, _check_indexing_error will raise\u001B[39;00m\n\u001B[0;32m   3815\u001B[0m     \u001B[38;5;66;03m#  InvalidIndexError. Otherwise we fall through and re-raise\u001B[39;00m\n\u001B[0;32m   3816\u001B[0m     \u001B[38;5;66;03m#  the TypeError.\u001B[39;00m\n\u001B[0;32m   3817\u001B[0m     \u001B[38;5;28mself\u001B[39m\u001B[38;5;241m.\u001B[39m_check_indexing_error(key)\n",
      "\u001B[1;31mKeyError\u001B[0m: 'p1'"
     ]
    }
   ],
   "source": [
    "df['p1']"
   ],
   "metadata": {
    "collapsed": false,
    "pycharm": {
     "name": "#%%\n"
    }
   }
  },
  {
   "cell_type": "code",
   "execution_count": 95,
   "outputs": [
    {
     "ename": "InvalidIndexError",
     "evalue": "('p1', slice(None, None, None))",
     "output_type": "error",
     "traceback": [
      "\u001B[1;31m---------------------------------------------------------------------------\u001B[0m",
      "\u001B[1;31mTypeError\u001B[0m                                 Traceback (most recent call last)",
      "File \u001B[1;32m~\\Documents\\PycharmProjects\\PPY\\venv\\lib\\site-packages\\pandas\\core\\indexes\\base.py:3805\u001B[0m, in \u001B[0;36mIndex.get_loc\u001B[1;34m(self, key)\u001B[0m\n\u001B[0;32m   3804\u001B[0m \u001B[38;5;28;01mtry\u001B[39;00m:\n\u001B[1;32m-> 3805\u001B[0m     \u001B[38;5;28;01mreturn\u001B[39;00m \u001B[38;5;28;43mself\u001B[39;49m\u001B[38;5;241;43m.\u001B[39;49m\u001B[43m_engine\u001B[49m\u001B[38;5;241;43m.\u001B[39;49m\u001B[43mget_loc\u001B[49m\u001B[43m(\u001B[49m\u001B[43mcasted_key\u001B[49m\u001B[43m)\u001B[49m\n\u001B[0;32m   3806\u001B[0m \u001B[38;5;28;01mexcept\u001B[39;00m \u001B[38;5;167;01mKeyError\u001B[39;00m \u001B[38;5;28;01mas\u001B[39;00m err:\n",
      "File \u001B[1;32mindex.pyx:167\u001B[0m, in \u001B[0;36mpandas._libs.index.IndexEngine.get_loc\u001B[1;34m()\u001B[0m\n",
      "File \u001B[1;32mindex.pyx:173\u001B[0m, in \u001B[0;36mpandas._libs.index.IndexEngine.get_loc\u001B[1;34m()\u001B[0m\n",
      "\u001B[1;31mTypeError\u001B[0m: '('p1', slice(None, None, None))' is an invalid key",
      "\nDuring handling of the above exception, another exception occurred:\n",
      "\u001B[1;31mInvalidIndexError\u001B[0m                         Traceback (most recent call last)",
      "Cell \u001B[1;32mIn[95], line 1\u001B[0m\n\u001B[1;32m----> 1\u001B[0m \u001B[43mdf\u001B[49m\u001B[43m[\u001B[49m\u001B[38;5;124;43m'\u001B[39;49m\u001B[38;5;124;43mp1\u001B[39;49m\u001B[38;5;124;43m'\u001B[39;49m\u001B[43m,\u001B[49m\u001B[43m:\u001B[49m\u001B[43m]\u001B[49m\n",
      "File \u001B[1;32m~\\Documents\\PycharmProjects\\PPY\\venv\\lib\\site-packages\\pandas\\core\\frame.py:4102\u001B[0m, in \u001B[0;36mDataFrame.__getitem__\u001B[1;34m(self, key)\u001B[0m\n\u001B[0;32m   4100\u001B[0m \u001B[38;5;28;01mif\u001B[39;00m \u001B[38;5;28mself\u001B[39m\u001B[38;5;241m.\u001B[39mcolumns\u001B[38;5;241m.\u001B[39mnlevels \u001B[38;5;241m>\u001B[39m \u001B[38;5;241m1\u001B[39m:\n\u001B[0;32m   4101\u001B[0m     \u001B[38;5;28;01mreturn\u001B[39;00m \u001B[38;5;28mself\u001B[39m\u001B[38;5;241m.\u001B[39m_getitem_multilevel(key)\n\u001B[1;32m-> 4102\u001B[0m indexer \u001B[38;5;241m=\u001B[39m \u001B[38;5;28;43mself\u001B[39;49m\u001B[38;5;241;43m.\u001B[39;49m\u001B[43mcolumns\u001B[49m\u001B[38;5;241;43m.\u001B[39;49m\u001B[43mget_loc\u001B[49m\u001B[43m(\u001B[49m\u001B[43mkey\u001B[49m\u001B[43m)\u001B[49m\n\u001B[0;32m   4103\u001B[0m \u001B[38;5;28;01mif\u001B[39;00m is_integer(indexer):\n\u001B[0;32m   4104\u001B[0m     indexer \u001B[38;5;241m=\u001B[39m [indexer]\n",
      "File \u001B[1;32m~\\Documents\\PycharmProjects\\PPY\\venv\\lib\\site-packages\\pandas\\core\\indexes\\base.py:3817\u001B[0m, in \u001B[0;36mIndex.get_loc\u001B[1;34m(self, key)\u001B[0m\n\u001B[0;32m   3812\u001B[0m     \u001B[38;5;28;01mraise\u001B[39;00m \u001B[38;5;167;01mKeyError\u001B[39;00m(key) \u001B[38;5;28;01mfrom\u001B[39;00m \u001B[38;5;21;01merr\u001B[39;00m\n\u001B[0;32m   3813\u001B[0m \u001B[38;5;28;01mexcept\u001B[39;00m \u001B[38;5;167;01mTypeError\u001B[39;00m:\n\u001B[0;32m   3814\u001B[0m     \u001B[38;5;66;03m# If we have a listlike key, _check_indexing_error will raise\u001B[39;00m\n\u001B[0;32m   3815\u001B[0m     \u001B[38;5;66;03m#  InvalidIndexError. Otherwise we fall through and re-raise\u001B[39;00m\n\u001B[0;32m   3816\u001B[0m     \u001B[38;5;66;03m#  the TypeError.\u001B[39;00m\n\u001B[1;32m-> 3817\u001B[0m     \u001B[38;5;28;43mself\u001B[39;49m\u001B[38;5;241;43m.\u001B[39;49m\u001B[43m_check_indexing_error\u001B[49m\u001B[43m(\u001B[49m\u001B[43mkey\u001B[49m\u001B[43m)\u001B[49m\n\u001B[0;32m   3818\u001B[0m     \u001B[38;5;28;01mraise\u001B[39;00m\n",
      "File \u001B[1;32m~\\Documents\\PycharmProjects\\PPY\\venv\\lib\\site-packages\\pandas\\core\\indexes\\base.py:6059\u001B[0m, in \u001B[0;36mIndex._check_indexing_error\u001B[1;34m(self, key)\u001B[0m\n\u001B[0;32m   6055\u001B[0m \u001B[38;5;28;01mdef\u001B[39;00m \u001B[38;5;21m_check_indexing_error\u001B[39m(\u001B[38;5;28mself\u001B[39m, key):\n\u001B[0;32m   6056\u001B[0m     \u001B[38;5;28;01mif\u001B[39;00m \u001B[38;5;129;01mnot\u001B[39;00m is_scalar(key):\n\u001B[0;32m   6057\u001B[0m         \u001B[38;5;66;03m# if key is not a scalar, directly raise an error (the code below\u001B[39;00m\n\u001B[0;32m   6058\u001B[0m         \u001B[38;5;66;03m# would convert to numpy arrays and raise later any way) - GH29926\u001B[39;00m\n\u001B[1;32m-> 6059\u001B[0m         \u001B[38;5;28;01mraise\u001B[39;00m InvalidIndexError(key)\n",
      "\u001B[1;31mInvalidIndexError\u001B[0m: ('p1', slice(None, None, None))"
     ]
    }
   ],
   "source": [
    "df['p1',:]"
   ],
   "metadata": {
    "collapsed": false,
    "pycharm": {
     "name": "#%%\n"
    }
   }
  },
  {
   "cell_type": "code",
   "execution_count": 96,
   "outputs": [
    {
     "ename": "KeyError",
     "evalue": "\"None of [Index(['p1', 'p2'], dtype='object')] are in the [columns]\"",
     "output_type": "error",
     "traceback": [
      "\u001B[1;31m---------------------------------------------------------------------------\u001B[0m",
      "\u001B[1;31mKeyError\u001B[0m                                  Traceback (most recent call last)",
      "Cell \u001B[1;32mIn[96], line 1\u001B[0m\n\u001B[1;32m----> 1\u001B[0m \u001B[43mdf\u001B[49m\u001B[43m[\u001B[49m\u001B[43m[\u001B[49m\u001B[38;5;124;43m'\u001B[39;49m\u001B[38;5;124;43mp1\u001B[39;49m\u001B[38;5;124;43m'\u001B[39;49m\u001B[43m,\u001B[49m\u001B[38;5;124;43m'\u001B[39;49m\u001B[38;5;124;43mp2\u001B[39;49m\u001B[38;5;124;43m'\u001B[39;49m\u001B[43m]\u001B[49m\u001B[43m]\u001B[49m\n",
      "File \u001B[1;32m~\\Documents\\PycharmProjects\\PPY\\venv\\lib\\site-packages\\pandas\\core\\frame.py:4108\u001B[0m, in \u001B[0;36mDataFrame.__getitem__\u001B[1;34m(self, key)\u001B[0m\n\u001B[0;32m   4106\u001B[0m     \u001B[38;5;28;01mif\u001B[39;00m is_iterator(key):\n\u001B[0;32m   4107\u001B[0m         key \u001B[38;5;241m=\u001B[39m \u001B[38;5;28mlist\u001B[39m(key)\n\u001B[1;32m-> 4108\u001B[0m     indexer \u001B[38;5;241m=\u001B[39m \u001B[38;5;28;43mself\u001B[39;49m\u001B[38;5;241;43m.\u001B[39;49m\u001B[43mcolumns\u001B[49m\u001B[38;5;241;43m.\u001B[39;49m\u001B[43m_get_indexer_strict\u001B[49m\u001B[43m(\u001B[49m\u001B[43mkey\u001B[49m\u001B[43m,\u001B[49m\u001B[43m \u001B[49m\u001B[38;5;124;43m\"\u001B[39;49m\u001B[38;5;124;43mcolumns\u001B[39;49m\u001B[38;5;124;43m\"\u001B[39;49m\u001B[43m)\u001B[49m[\u001B[38;5;241m1\u001B[39m]\n\u001B[0;32m   4110\u001B[0m \u001B[38;5;66;03m# take() does not accept boolean indexers\u001B[39;00m\n\u001B[0;32m   4111\u001B[0m \u001B[38;5;28;01mif\u001B[39;00m \u001B[38;5;28mgetattr\u001B[39m(indexer, \u001B[38;5;124m\"\u001B[39m\u001B[38;5;124mdtype\u001B[39m\u001B[38;5;124m\"\u001B[39m, \u001B[38;5;28;01mNone\u001B[39;00m) \u001B[38;5;241m==\u001B[39m \u001B[38;5;28mbool\u001B[39m:\n",
      "File \u001B[1;32m~\\Documents\\PycharmProjects\\PPY\\venv\\lib\\site-packages\\pandas\\core\\indexes\\base.py:6200\u001B[0m, in \u001B[0;36mIndex._get_indexer_strict\u001B[1;34m(self, key, axis_name)\u001B[0m\n\u001B[0;32m   6197\u001B[0m \u001B[38;5;28;01melse\u001B[39;00m:\n\u001B[0;32m   6198\u001B[0m     keyarr, indexer, new_indexer \u001B[38;5;241m=\u001B[39m \u001B[38;5;28mself\u001B[39m\u001B[38;5;241m.\u001B[39m_reindex_non_unique(keyarr)\n\u001B[1;32m-> 6200\u001B[0m \u001B[38;5;28;43mself\u001B[39;49m\u001B[38;5;241;43m.\u001B[39;49m\u001B[43m_raise_if_missing\u001B[49m\u001B[43m(\u001B[49m\u001B[43mkeyarr\u001B[49m\u001B[43m,\u001B[49m\u001B[43m \u001B[49m\u001B[43mindexer\u001B[49m\u001B[43m,\u001B[49m\u001B[43m \u001B[49m\u001B[43maxis_name\u001B[49m\u001B[43m)\u001B[49m\n\u001B[0;32m   6202\u001B[0m keyarr \u001B[38;5;241m=\u001B[39m \u001B[38;5;28mself\u001B[39m\u001B[38;5;241m.\u001B[39mtake(indexer)\n\u001B[0;32m   6203\u001B[0m \u001B[38;5;28;01mif\u001B[39;00m \u001B[38;5;28misinstance\u001B[39m(key, Index):\n\u001B[0;32m   6204\u001B[0m     \u001B[38;5;66;03m# GH 42790 - Preserve name from an Index\u001B[39;00m\n",
      "File \u001B[1;32m~\\Documents\\PycharmProjects\\PPY\\venv\\lib\\site-packages\\pandas\\core\\indexes\\base.py:6249\u001B[0m, in \u001B[0;36mIndex._raise_if_missing\u001B[1;34m(self, key, indexer, axis_name)\u001B[0m\n\u001B[0;32m   6247\u001B[0m \u001B[38;5;28;01mif\u001B[39;00m nmissing:\n\u001B[0;32m   6248\u001B[0m     \u001B[38;5;28;01mif\u001B[39;00m nmissing \u001B[38;5;241m==\u001B[39m \u001B[38;5;28mlen\u001B[39m(indexer):\n\u001B[1;32m-> 6249\u001B[0m         \u001B[38;5;28;01mraise\u001B[39;00m \u001B[38;5;167;01mKeyError\u001B[39;00m(\u001B[38;5;124mf\u001B[39m\u001B[38;5;124m\"\u001B[39m\u001B[38;5;124mNone of [\u001B[39m\u001B[38;5;132;01m{\u001B[39;00mkey\u001B[38;5;132;01m}\u001B[39;00m\u001B[38;5;124m] are in the [\u001B[39m\u001B[38;5;132;01m{\u001B[39;00maxis_name\u001B[38;5;132;01m}\u001B[39;00m\u001B[38;5;124m]\u001B[39m\u001B[38;5;124m\"\u001B[39m)\n\u001B[0;32m   6251\u001B[0m     not_found \u001B[38;5;241m=\u001B[39m \u001B[38;5;28mlist\u001B[39m(ensure_index(key)[missing_mask\u001B[38;5;241m.\u001B[39mnonzero()[\u001B[38;5;241m0\u001B[39m]]\u001B[38;5;241m.\u001B[39munique())\n\u001B[0;32m   6252\u001B[0m     \u001B[38;5;28;01mraise\u001B[39;00m \u001B[38;5;167;01mKeyError\u001B[39;00m(\u001B[38;5;124mf\u001B[39m\u001B[38;5;124m\"\u001B[39m\u001B[38;5;132;01m{\u001B[39;00mnot_found\u001B[38;5;132;01m}\u001B[39;00m\u001B[38;5;124m not in index\u001B[39m\u001B[38;5;124m\"\u001B[39m)\n",
      "\u001B[1;31mKeyError\u001B[0m: \"None of [Index(['p1', 'p2'], dtype='object')] are in the [columns]\""
     ]
    }
   ],
   "source": [
    "df[['p1','p2']]"
   ],
   "metadata": {
    "collapsed": false,
    "pycharm": {
     "name": "#%%\n"
    }
   }
  },
  {
   "cell_type": "code",
   "execution_count": 118,
   "outputs": [
    {
     "data": {
      "text/plain": "    c1  c2  c3  c4\np1  85  44  75  14\np2  47  11  25  37\np3  61  70  83  36\np4  38  88  45  93\np5  44  71  78  17\np6  11  51  45  66\np7  48  76  40  12",
      "text/html": "<div>\n<style scoped>\n    .dataframe tbody tr th:only-of-type {\n        vertical-align: middle;\n    }\n\n    .dataframe tbody tr th {\n        vertical-align: top;\n    }\n\n    .dataframe thead th {\n        text-align: right;\n    }\n</style>\n<table border=\"1\" class=\"dataframe\">\n  <thead>\n    <tr style=\"text-align: right;\">\n      <th></th>\n      <th>c1</th>\n      <th>c2</th>\n      <th>c3</th>\n      <th>c4</th>\n    </tr>\n  </thead>\n  <tbody>\n    <tr>\n      <th>p1</th>\n      <td>85</td>\n      <td>44</td>\n      <td>75</td>\n      <td>14</td>\n    </tr>\n    <tr>\n      <th>p2</th>\n      <td>47</td>\n      <td>11</td>\n      <td>25</td>\n      <td>37</td>\n    </tr>\n    <tr>\n      <th>p3</th>\n      <td>61</td>\n      <td>70</td>\n      <td>83</td>\n      <td>36</td>\n    </tr>\n    <tr>\n      <th>p4</th>\n      <td>38</td>\n      <td>88</td>\n      <td>45</td>\n      <td>93</td>\n    </tr>\n    <tr>\n      <th>p5</th>\n      <td>44</td>\n      <td>71</td>\n      <td>78</td>\n      <td>17</td>\n    </tr>\n    <tr>\n      <th>p6</th>\n      <td>11</td>\n      <td>51</td>\n      <td>45</td>\n      <td>66</td>\n    </tr>\n    <tr>\n      <th>p7</th>\n      <td>48</td>\n      <td>76</td>\n      <td>40</td>\n      <td>12</td>\n    </tr>\n  </tbody>\n</table>\n</div>"
     },
     "execution_count": 118,
     "metadata": {},
     "output_type": "execute_result"
    }
   ],
   "source": [
    "df"
   ],
   "metadata": {
    "collapsed": false,
    "pycharm": {
     "name": "#%%\n"
    }
   }
  },
  {
   "cell_type": "code",
   "execution_count": 119,
   "outputs": [
    {
     "data": {
      "text/plain": "    c1  c2  c3  c4\np3  61  70  83  36\np4  38  88  45  93\np5  44  71  78  17\np6  11  51  45  66",
      "text/html": "<div>\n<style scoped>\n    .dataframe tbody tr th:only-of-type {\n        vertical-align: middle;\n    }\n\n    .dataframe tbody tr th {\n        vertical-align: top;\n    }\n\n    .dataframe thead th {\n        text-align: right;\n    }\n</style>\n<table border=\"1\" class=\"dataframe\">\n  <thead>\n    <tr style=\"text-align: right;\">\n      <th></th>\n      <th>c1</th>\n      <th>c2</th>\n      <th>c3</th>\n      <th>c4</th>\n    </tr>\n  </thead>\n  <tbody>\n    <tr>\n      <th>p3</th>\n      <td>61</td>\n      <td>70</td>\n      <td>83</td>\n      <td>36</td>\n    </tr>\n    <tr>\n      <th>p4</th>\n      <td>38</td>\n      <td>88</td>\n      <td>45</td>\n      <td>93</td>\n    </tr>\n    <tr>\n      <th>p5</th>\n      <td>44</td>\n      <td>71</td>\n      <td>78</td>\n      <td>17</td>\n    </tr>\n    <tr>\n      <th>p6</th>\n      <td>11</td>\n      <td>51</td>\n      <td>45</td>\n      <td>66</td>\n    </tr>\n  </tbody>\n</table>\n</div>"
     },
     "execution_count": 119,
     "metadata": {},
     "output_type": "execute_result"
    }
   ],
   "source": [
    "df['p3':'p6']"
   ],
   "metadata": {
    "collapsed": false,
    "pycharm": {
     "name": "#%%\n"
    }
   }
  },
  {
   "cell_type": "code",
   "execution_count": 106,
   "outputs": [
    {
     "data": {
      "text/plain": "   c1  c2  c3  c4\n0  47  11  25  37\n1  61  70  83  36\n2  38  88  45  93\n3  44  71  78  17\n4  11  51  45  66",
      "text/html": "<div>\n<style scoped>\n    .dataframe tbody tr th:only-of-type {\n        vertical-align: middle;\n    }\n\n    .dataframe tbody tr th {\n        vertical-align: top;\n    }\n\n    .dataframe thead th {\n        text-align: right;\n    }\n</style>\n<table border=\"1\" class=\"dataframe\">\n  <thead>\n    <tr style=\"text-align: right;\">\n      <th></th>\n      <th>c1</th>\n      <th>c2</th>\n      <th>c3</th>\n      <th>c4</th>\n    </tr>\n  </thead>\n  <tbody>\n    <tr>\n      <th>0</th>\n      <td>47</td>\n      <td>11</td>\n      <td>25</td>\n      <td>37</td>\n    </tr>\n    <tr>\n      <th>1</th>\n      <td>61</td>\n      <td>70</td>\n      <td>83</td>\n      <td>36</td>\n    </tr>\n    <tr>\n      <th>2</th>\n      <td>38</td>\n      <td>88</td>\n      <td>45</td>\n      <td>93</td>\n    </tr>\n    <tr>\n      <th>3</th>\n      <td>44</td>\n      <td>71</td>\n      <td>78</td>\n      <td>17</td>\n    </tr>\n    <tr>\n      <th>4</th>\n      <td>11</td>\n      <td>51</td>\n      <td>45</td>\n      <td>66</td>\n    </tr>\n  </tbody>\n</table>\n</div>"
     },
     "execution_count": 106,
     "metadata": {},
     "output_type": "execute_result"
    }
   ],
   "source": [
    "# df = pd.read_csv('file1.csv',\n",
    "#              sep = ';', header=0,\n",
    "#              names=['c1','c2','c3','c4'])\n",
    "# df"
   ],
   "metadata": {
    "collapsed": false,
    "pycharm": {
     "name": "#%%\n"
    }
   }
  },
  {
   "cell_type": "code",
   "execution_count": 107,
   "outputs": [
    {
     "data": {
      "text/plain": "   c1  c2  c3  c4\n1  61  70  83  36\n2  38  88  45  93\n3  44  71  78  17",
      "text/html": "<div>\n<style scoped>\n    .dataframe tbody tr th:only-of-type {\n        vertical-align: middle;\n    }\n\n    .dataframe tbody tr th {\n        vertical-align: top;\n    }\n\n    .dataframe thead th {\n        text-align: right;\n    }\n</style>\n<table border=\"1\" class=\"dataframe\">\n  <thead>\n    <tr style=\"text-align: right;\">\n      <th></th>\n      <th>c1</th>\n      <th>c2</th>\n      <th>c3</th>\n      <th>c4</th>\n    </tr>\n  </thead>\n  <tbody>\n    <tr>\n      <th>1</th>\n      <td>61</td>\n      <td>70</td>\n      <td>83</td>\n      <td>36</td>\n    </tr>\n    <tr>\n      <th>2</th>\n      <td>38</td>\n      <td>88</td>\n      <td>45</td>\n      <td>93</td>\n    </tr>\n    <tr>\n      <th>3</th>\n      <td>44</td>\n      <td>71</td>\n      <td>78</td>\n      <td>17</td>\n    </tr>\n  </tbody>\n</table>\n</div>"
     },
     "execution_count": 107,
     "metadata": {},
     "output_type": "execute_result"
    }
   ],
   "source": [
    "# df[1:4]"
   ],
   "metadata": {
    "collapsed": false,
    "pycharm": {
     "name": "#%%\n"
    }
   }
  },
  {
   "cell_type": "markdown",
   "source": [
    "Metoda `.at()`"
   ],
   "metadata": {
    "collapsed": false,
    "pycharm": {
     "name": "#%% md\n"
    }
   }
  },
  {
   "cell_type": "code",
   "execution_count": 168,
   "outputs": [
    {
     "data": {
      "text/plain": "    c1  c2  c3  c4\np1  85  44  75  14\np2  47  11  25  37\np3  61  70  83  36\np4  38  88  45  93\np5  44  71  78  17\np6  11  51  45  66\np7  48  76  40  12",
      "text/html": "<div>\n<style scoped>\n    .dataframe tbody tr th:only-of-type {\n        vertical-align: middle;\n    }\n\n    .dataframe tbody tr th {\n        vertical-align: top;\n    }\n\n    .dataframe thead th {\n        text-align: right;\n    }\n</style>\n<table border=\"1\" class=\"dataframe\">\n  <thead>\n    <tr style=\"text-align: right;\">\n      <th></th>\n      <th>c1</th>\n      <th>c2</th>\n      <th>c3</th>\n      <th>c4</th>\n    </tr>\n  </thead>\n  <tbody>\n    <tr>\n      <th>p1</th>\n      <td>85</td>\n      <td>44</td>\n      <td>75</td>\n      <td>14</td>\n    </tr>\n    <tr>\n      <th>p2</th>\n      <td>47</td>\n      <td>11</td>\n      <td>25</td>\n      <td>37</td>\n    </tr>\n    <tr>\n      <th>p3</th>\n      <td>61</td>\n      <td>70</td>\n      <td>83</td>\n      <td>36</td>\n    </tr>\n    <tr>\n      <th>p4</th>\n      <td>38</td>\n      <td>88</td>\n      <td>45</td>\n      <td>93</td>\n    </tr>\n    <tr>\n      <th>p5</th>\n      <td>44</td>\n      <td>71</td>\n      <td>78</td>\n      <td>17</td>\n    </tr>\n    <tr>\n      <th>p6</th>\n      <td>11</td>\n      <td>51</td>\n      <td>45</td>\n      <td>66</td>\n    </tr>\n    <tr>\n      <th>p7</th>\n      <td>48</td>\n      <td>76</td>\n      <td>40</td>\n      <td>12</td>\n    </tr>\n  </tbody>\n</table>\n</div>"
     },
     "execution_count": 168,
     "metadata": {},
     "output_type": "execute_result"
    }
   ],
   "source": [
    "df = pd.read_csv('file.csv')\n",
    "df"
   ],
   "metadata": {
    "collapsed": false,
    "pycharm": {
     "name": "#%%\n"
    }
   }
  },
  {
   "cell_type": "code",
   "execution_count": 167,
   "outputs": [
    {
     "data": {
      "text/plain": "88"
     },
     "execution_count": 167,
     "metadata": {},
     "output_type": "execute_result"
    }
   ],
   "source": [
    "df.at['p4','c2']"
   ],
   "metadata": {
    "collapsed": false,
    "pycharm": {
     "name": "#%%\n"
    }
   }
  },
  {
   "cell_type": "markdown",
   "source": [
    "Metoda `.loc()`"
   ],
   "metadata": {
    "collapsed": false,
    "pycharm": {
     "name": "#%% md\n"
    }
   }
  },
  {
   "cell_type": "code",
   "execution_count": 110,
   "outputs": [
    {
     "data": {
      "text/plain": "    c1  c2  c3  c4\np1  85  44  75  14\np2  47  11  25  37\np3  61  70  83  36\np4  38  88  45  93\np5  44  71  78  17\np6  11  51  45  66\np7  48  76  40  12",
      "text/html": "<div>\n<style scoped>\n    .dataframe tbody tr th:only-of-type {\n        vertical-align: middle;\n    }\n\n    .dataframe tbody tr th {\n        vertical-align: top;\n    }\n\n    .dataframe thead th {\n        text-align: right;\n    }\n</style>\n<table border=\"1\" class=\"dataframe\">\n  <thead>\n    <tr style=\"text-align: right;\">\n      <th></th>\n      <th>c1</th>\n      <th>c2</th>\n      <th>c3</th>\n      <th>c4</th>\n    </tr>\n  </thead>\n  <tbody>\n    <tr>\n      <th>p1</th>\n      <td>85</td>\n      <td>44</td>\n      <td>75</td>\n      <td>14</td>\n    </tr>\n    <tr>\n      <th>p2</th>\n      <td>47</td>\n      <td>11</td>\n      <td>25</td>\n      <td>37</td>\n    </tr>\n    <tr>\n      <th>p3</th>\n      <td>61</td>\n      <td>70</td>\n      <td>83</td>\n      <td>36</td>\n    </tr>\n    <tr>\n      <th>p4</th>\n      <td>38</td>\n      <td>88</td>\n      <td>45</td>\n      <td>93</td>\n    </tr>\n    <tr>\n      <th>p5</th>\n      <td>44</td>\n      <td>71</td>\n      <td>78</td>\n      <td>17</td>\n    </tr>\n    <tr>\n      <th>p6</th>\n      <td>11</td>\n      <td>51</td>\n      <td>45</td>\n      <td>66</td>\n    </tr>\n    <tr>\n      <th>p7</th>\n      <td>48</td>\n      <td>76</td>\n      <td>40</td>\n      <td>12</td>\n    </tr>\n  </tbody>\n</table>\n</div>"
     },
     "execution_count": 110,
     "metadata": {},
     "output_type": "execute_result"
    }
   ],
   "source": [
    "df = pd.read_csv('file.csv')\n",
    "df"
   ],
   "metadata": {
    "collapsed": false,
    "pycharm": {
     "name": "#%%\n"
    }
   }
  },
  {
   "cell_type": "code",
   "execution_count": 111,
   "outputs": [
    {
     "data": {
      "text/plain": "p1    44\np2    11\np3    70\np4    88\np5    71\np6    51\np7    76\nName: c2, dtype: int64"
     },
     "execution_count": 111,
     "metadata": {},
     "output_type": "execute_result"
    }
   ],
   "source": [
    "df.loc[:,'c2']"
   ],
   "metadata": {
    "collapsed": false,
    "pycharm": {
     "name": "#%%\n"
    }
   }
  },
  {
   "cell_type": "code",
   "execution_count": 112,
   "outputs": [
    {
     "ename": "KeyError",
     "evalue": "'c2'",
     "output_type": "error",
     "traceback": [
      "\u001B[1;31m---------------------------------------------------------------------------\u001B[0m",
      "\u001B[1;31mKeyError\u001B[0m                                  Traceback (most recent call last)",
      "File \u001B[1;32m~\\Documents\\PycharmProjects\\PPY\\venv\\lib\\site-packages\\pandas\\core\\indexes\\base.py:3805\u001B[0m, in \u001B[0;36mIndex.get_loc\u001B[1;34m(self, key)\u001B[0m\n\u001B[0;32m   3804\u001B[0m \u001B[38;5;28;01mtry\u001B[39;00m:\n\u001B[1;32m-> 3805\u001B[0m     \u001B[38;5;28;01mreturn\u001B[39;00m \u001B[38;5;28;43mself\u001B[39;49m\u001B[38;5;241;43m.\u001B[39;49m\u001B[43m_engine\u001B[49m\u001B[38;5;241;43m.\u001B[39;49m\u001B[43mget_loc\u001B[49m\u001B[43m(\u001B[49m\u001B[43mcasted_key\u001B[49m\u001B[43m)\u001B[49m\n\u001B[0;32m   3806\u001B[0m \u001B[38;5;28;01mexcept\u001B[39;00m \u001B[38;5;167;01mKeyError\u001B[39;00m \u001B[38;5;28;01mas\u001B[39;00m err:\n",
      "File \u001B[1;32mindex.pyx:167\u001B[0m, in \u001B[0;36mpandas._libs.index.IndexEngine.get_loc\u001B[1;34m()\u001B[0m\n",
      "File \u001B[1;32mindex.pyx:196\u001B[0m, in \u001B[0;36mpandas._libs.index.IndexEngine.get_loc\u001B[1;34m()\u001B[0m\n",
      "File \u001B[1;32mpandas\\\\_libs\\\\hashtable_class_helper.pxi:7081\u001B[0m, in \u001B[0;36mpandas._libs.hashtable.PyObjectHashTable.get_item\u001B[1;34m()\u001B[0m\n",
      "File \u001B[1;32mpandas\\\\_libs\\\\hashtable_class_helper.pxi:7089\u001B[0m, in \u001B[0;36mpandas._libs.hashtable.PyObjectHashTable.get_item\u001B[1;34m()\u001B[0m\n",
      "\u001B[1;31mKeyError\u001B[0m: 'c2'",
      "\nThe above exception was the direct cause of the following exception:\n",
      "\u001B[1;31mKeyError\u001B[0m                                  Traceback (most recent call last)",
      "Cell \u001B[1;32mIn[112], line 1\u001B[0m\n\u001B[1;32m----> 1\u001B[0m \u001B[43mdf\u001B[49m\u001B[38;5;241;43m.\u001B[39;49m\u001B[43mloc\u001B[49m\u001B[43m[\u001B[49m\u001B[38;5;124;43m'\u001B[39;49m\u001B[38;5;124;43mc2\u001B[39;49m\u001B[38;5;124;43m'\u001B[39;49m\u001B[43m]\u001B[49m\n",
      "File \u001B[1;32m~\\Documents\\PycharmProjects\\PPY\\venv\\lib\\site-packages\\pandas\\core\\indexing.py:1191\u001B[0m, in \u001B[0;36m_LocationIndexer.__getitem__\u001B[1;34m(self, key)\u001B[0m\n\u001B[0;32m   1189\u001B[0m maybe_callable \u001B[38;5;241m=\u001B[39m com\u001B[38;5;241m.\u001B[39mapply_if_callable(key, \u001B[38;5;28mself\u001B[39m\u001B[38;5;241m.\u001B[39mobj)\n\u001B[0;32m   1190\u001B[0m maybe_callable \u001B[38;5;241m=\u001B[39m \u001B[38;5;28mself\u001B[39m\u001B[38;5;241m.\u001B[39m_check_deprecated_callable_usage(key, maybe_callable)\n\u001B[1;32m-> 1191\u001B[0m \u001B[38;5;28;01mreturn\u001B[39;00m \u001B[38;5;28;43mself\u001B[39;49m\u001B[38;5;241;43m.\u001B[39;49m\u001B[43m_getitem_axis\u001B[49m\u001B[43m(\u001B[49m\u001B[43mmaybe_callable\u001B[49m\u001B[43m,\u001B[49m\u001B[43m \u001B[49m\u001B[43maxis\u001B[49m\u001B[38;5;241;43m=\u001B[39;49m\u001B[43maxis\u001B[49m\u001B[43m)\u001B[49m\n",
      "File \u001B[1;32m~\\Documents\\PycharmProjects\\PPY\\venv\\lib\\site-packages\\pandas\\core\\indexing.py:1431\u001B[0m, in \u001B[0;36m_LocIndexer._getitem_axis\u001B[1;34m(self, key, axis)\u001B[0m\n\u001B[0;32m   1429\u001B[0m \u001B[38;5;66;03m# fall thru to straight lookup\u001B[39;00m\n\u001B[0;32m   1430\u001B[0m \u001B[38;5;28mself\u001B[39m\u001B[38;5;241m.\u001B[39m_validate_key(key, axis)\n\u001B[1;32m-> 1431\u001B[0m \u001B[38;5;28;01mreturn\u001B[39;00m \u001B[38;5;28;43mself\u001B[39;49m\u001B[38;5;241;43m.\u001B[39;49m\u001B[43m_get_label\u001B[49m\u001B[43m(\u001B[49m\u001B[43mkey\u001B[49m\u001B[43m,\u001B[49m\u001B[43m \u001B[49m\u001B[43maxis\u001B[49m\u001B[38;5;241;43m=\u001B[39;49m\u001B[43maxis\u001B[49m\u001B[43m)\u001B[49m\n",
      "File \u001B[1;32m~\\Documents\\PycharmProjects\\PPY\\venv\\lib\\site-packages\\pandas\\core\\indexing.py:1381\u001B[0m, in \u001B[0;36m_LocIndexer._get_label\u001B[1;34m(self, label, axis)\u001B[0m\n\u001B[0;32m   1379\u001B[0m \u001B[38;5;28;01mdef\u001B[39;00m \u001B[38;5;21m_get_label\u001B[39m(\u001B[38;5;28mself\u001B[39m, label, axis: AxisInt):\n\u001B[0;32m   1380\u001B[0m     \u001B[38;5;66;03m# GH#5567 this will fail if the label is not present in the axis.\u001B[39;00m\n\u001B[1;32m-> 1381\u001B[0m     \u001B[38;5;28;01mreturn\u001B[39;00m \u001B[38;5;28;43mself\u001B[39;49m\u001B[38;5;241;43m.\u001B[39;49m\u001B[43mobj\u001B[49m\u001B[38;5;241;43m.\u001B[39;49m\u001B[43mxs\u001B[49m\u001B[43m(\u001B[49m\u001B[43mlabel\u001B[49m\u001B[43m,\u001B[49m\u001B[43m \u001B[49m\u001B[43maxis\u001B[49m\u001B[38;5;241;43m=\u001B[39;49m\u001B[43maxis\u001B[49m\u001B[43m)\u001B[49m\n",
      "File \u001B[1;32m~\\Documents\\PycharmProjects\\PPY\\venv\\lib\\site-packages\\pandas\\core\\generic.py:4301\u001B[0m, in \u001B[0;36mNDFrame.xs\u001B[1;34m(self, key, axis, level, drop_level)\u001B[0m\n\u001B[0;32m   4299\u001B[0m             new_index \u001B[38;5;241m=\u001B[39m index[loc]\n\u001B[0;32m   4300\u001B[0m \u001B[38;5;28;01melse\u001B[39;00m:\n\u001B[1;32m-> 4301\u001B[0m     loc \u001B[38;5;241m=\u001B[39m \u001B[43mindex\u001B[49m\u001B[38;5;241;43m.\u001B[39;49m\u001B[43mget_loc\u001B[49m\u001B[43m(\u001B[49m\u001B[43mkey\u001B[49m\u001B[43m)\u001B[49m\n\u001B[0;32m   4303\u001B[0m     \u001B[38;5;28;01mif\u001B[39;00m \u001B[38;5;28misinstance\u001B[39m(loc, np\u001B[38;5;241m.\u001B[39mndarray):\n\u001B[0;32m   4304\u001B[0m         \u001B[38;5;28;01mif\u001B[39;00m loc\u001B[38;5;241m.\u001B[39mdtype \u001B[38;5;241m==\u001B[39m np\u001B[38;5;241m.\u001B[39mbool_:\n",
      "File \u001B[1;32m~\\Documents\\PycharmProjects\\PPY\\venv\\lib\\site-packages\\pandas\\core\\indexes\\base.py:3812\u001B[0m, in \u001B[0;36mIndex.get_loc\u001B[1;34m(self, key)\u001B[0m\n\u001B[0;32m   3807\u001B[0m     \u001B[38;5;28;01mif\u001B[39;00m \u001B[38;5;28misinstance\u001B[39m(casted_key, \u001B[38;5;28mslice\u001B[39m) \u001B[38;5;129;01mor\u001B[39;00m (\n\u001B[0;32m   3808\u001B[0m         \u001B[38;5;28misinstance\u001B[39m(casted_key, abc\u001B[38;5;241m.\u001B[39mIterable)\n\u001B[0;32m   3809\u001B[0m         \u001B[38;5;129;01mand\u001B[39;00m \u001B[38;5;28many\u001B[39m(\u001B[38;5;28misinstance\u001B[39m(x, \u001B[38;5;28mslice\u001B[39m) \u001B[38;5;28;01mfor\u001B[39;00m x \u001B[38;5;129;01min\u001B[39;00m casted_key)\n\u001B[0;32m   3810\u001B[0m     ):\n\u001B[0;32m   3811\u001B[0m         \u001B[38;5;28;01mraise\u001B[39;00m InvalidIndexError(key)\n\u001B[1;32m-> 3812\u001B[0m     \u001B[38;5;28;01mraise\u001B[39;00m \u001B[38;5;167;01mKeyError\u001B[39;00m(key) \u001B[38;5;28;01mfrom\u001B[39;00m \u001B[38;5;21;01merr\u001B[39;00m\n\u001B[0;32m   3813\u001B[0m \u001B[38;5;28;01mexcept\u001B[39;00m \u001B[38;5;167;01mTypeError\u001B[39;00m:\n\u001B[0;32m   3814\u001B[0m     \u001B[38;5;66;03m# If we have a listlike key, _check_indexing_error will raise\u001B[39;00m\n\u001B[0;32m   3815\u001B[0m     \u001B[38;5;66;03m#  InvalidIndexError. Otherwise we fall through and re-raise\u001B[39;00m\n\u001B[0;32m   3816\u001B[0m     \u001B[38;5;66;03m#  the TypeError.\u001B[39;00m\n\u001B[0;32m   3817\u001B[0m     \u001B[38;5;28mself\u001B[39m\u001B[38;5;241m.\u001B[39m_check_indexing_error(key)\n",
      "\u001B[1;31mKeyError\u001B[0m: 'c2'"
     ]
    }
   ],
   "source": [
    "df.loc['c2']"
   ],
   "metadata": {
    "collapsed": false,
    "pycharm": {
     "name": "#%%\n"
    }
   }
  },
  {
   "cell_type": "code",
   "execution_count": 100,
   "outputs": [
    {
     "data": {
      "text/plain": "c1    47\nc2    11\nc3    25\nc4    37\nName: p2, dtype: int64"
     },
     "execution_count": 100,
     "metadata": {},
     "output_type": "execute_result"
    }
   ],
   "source": [
    "df.loc['p2']"
   ],
   "metadata": {
    "collapsed": false,
    "pycharm": {
     "name": "#%%\n"
    }
   }
  },
  {
   "cell_type": "code",
   "execution_count": 101,
   "outputs": [
    {
     "data": {
      "text/plain": "c1    47\nc2    11\nc3    25\nc4    37\nName: p2, dtype: int64"
     },
     "execution_count": 101,
     "metadata": {},
     "output_type": "execute_result"
    }
   ],
   "source": [
    "df.loc['p2',:]"
   ],
   "metadata": {
    "collapsed": false,
    "pycharm": {
     "name": "#%%\n"
    }
   }
  },
  {
   "cell_type": "code",
   "execution_count": 103,
   "outputs": [
    {
     "data": {
      "text/plain": "    c1  c2  c3  c4\np2  47  11  25  37\np3  61  70  83  36\np4  38  88  45  93",
      "text/html": "<div>\n<style scoped>\n    .dataframe tbody tr th:only-of-type {\n        vertical-align: middle;\n    }\n\n    .dataframe tbody tr th {\n        vertical-align: top;\n    }\n\n    .dataframe thead th {\n        text-align: right;\n    }\n</style>\n<table border=\"1\" class=\"dataframe\">\n  <thead>\n    <tr style=\"text-align: right;\">\n      <th></th>\n      <th>c1</th>\n      <th>c2</th>\n      <th>c3</th>\n      <th>c4</th>\n    </tr>\n  </thead>\n  <tbody>\n    <tr>\n      <th>p2</th>\n      <td>47</td>\n      <td>11</td>\n      <td>25</td>\n      <td>37</td>\n    </tr>\n    <tr>\n      <th>p3</th>\n      <td>61</td>\n      <td>70</td>\n      <td>83</td>\n      <td>36</td>\n    </tr>\n    <tr>\n      <th>p4</th>\n      <td>38</td>\n      <td>88</td>\n      <td>45</td>\n      <td>93</td>\n    </tr>\n  </tbody>\n</table>\n</div>"
     },
     "execution_count": 103,
     "metadata": {},
     "output_type": "execute_result"
    }
   ],
   "source": [
    "df.loc['p2':'p4',:]"
   ],
   "metadata": {
    "collapsed": false,
    "pycharm": {
     "name": "#%%\n"
    }
   }
  },
  {
   "cell_type": "code",
   "execution_count": 104,
   "outputs": [
    {
     "data": {
      "text/plain": "    c1  c2  c3  c4\np6  11  51  45  66\np2  47  11  25  37",
      "text/html": "<div>\n<style scoped>\n    .dataframe tbody tr th:only-of-type {\n        vertical-align: middle;\n    }\n\n    .dataframe tbody tr th {\n        vertical-align: top;\n    }\n\n    .dataframe thead th {\n        text-align: right;\n    }\n</style>\n<table border=\"1\" class=\"dataframe\">\n  <thead>\n    <tr style=\"text-align: right;\">\n      <th></th>\n      <th>c1</th>\n      <th>c2</th>\n      <th>c3</th>\n      <th>c4</th>\n    </tr>\n  </thead>\n  <tbody>\n    <tr>\n      <th>p6</th>\n      <td>11</td>\n      <td>51</td>\n      <td>45</td>\n      <td>66</td>\n    </tr>\n    <tr>\n      <th>p2</th>\n      <td>47</td>\n      <td>11</td>\n      <td>25</td>\n      <td>37</td>\n    </tr>\n  </tbody>\n</table>\n</div>"
     },
     "execution_count": 104,
     "metadata": {},
     "output_type": "execute_result"
    }
   ],
   "source": [
    "df.loc[['p6','p2'],:]"
   ],
   "metadata": {
    "collapsed": false,
    "pycharm": {
     "name": "#%%\n"
    }
   }
  },
  {
   "cell_type": "code",
   "execution_count": 105,
   "outputs": [
    {
     "data": {
      "text/plain": "    c3  c2\np6  45  51\np2  25  11",
      "text/html": "<div>\n<style scoped>\n    .dataframe tbody tr th:only-of-type {\n        vertical-align: middle;\n    }\n\n    .dataframe tbody tr th {\n        vertical-align: top;\n    }\n\n    .dataframe thead th {\n        text-align: right;\n    }\n</style>\n<table border=\"1\" class=\"dataframe\">\n  <thead>\n    <tr style=\"text-align: right;\">\n      <th></th>\n      <th>c3</th>\n      <th>c2</th>\n    </tr>\n  </thead>\n  <tbody>\n    <tr>\n      <th>p6</th>\n      <td>45</td>\n      <td>51</td>\n    </tr>\n    <tr>\n      <th>p2</th>\n      <td>25</td>\n      <td>11</td>\n    </tr>\n  </tbody>\n</table>\n</div>"
     },
     "execution_count": 105,
     "metadata": {},
     "output_type": "execute_result"
    }
   ],
   "source": [
    "df.loc[['p6','p2'], ['c3','c2'] ]\n"
   ],
   "metadata": {
    "collapsed": false,
    "pycharm": {
     "name": "#%%\n"
    }
   }
  },
  {
   "cell_type": "markdown",
   "source": [
    "Metoda `iloc()`"
   ],
   "metadata": {
    "collapsed": false,
    "pycharm": {
     "name": "#%% md\n"
    }
   }
  },
  {
   "cell_type": "code",
   "execution_count": 113,
   "outputs": [
    {
     "data": {
      "text/plain": "    c1  c2  c3  c4\np2  47  11  25  37\np3  61  70  83  36",
      "text/html": "<div>\n<style scoped>\n    .dataframe tbody tr th:only-of-type {\n        vertical-align: middle;\n    }\n\n    .dataframe tbody tr th {\n        vertical-align: top;\n    }\n\n    .dataframe thead th {\n        text-align: right;\n    }\n</style>\n<table border=\"1\" class=\"dataframe\">\n  <thead>\n    <tr style=\"text-align: right;\">\n      <th></th>\n      <th>c1</th>\n      <th>c2</th>\n      <th>c3</th>\n      <th>c4</th>\n    </tr>\n  </thead>\n  <tbody>\n    <tr>\n      <th>p2</th>\n      <td>47</td>\n      <td>11</td>\n      <td>25</td>\n      <td>37</td>\n    </tr>\n    <tr>\n      <th>p3</th>\n      <td>61</td>\n      <td>70</td>\n      <td>83</td>\n      <td>36</td>\n    </tr>\n  </tbody>\n</table>\n</div>"
     },
     "execution_count": 113,
     "metadata": {},
     "output_type": "execute_result"
    }
   ],
   "source": [
    "df.iloc[1:3,:]"
   ],
   "metadata": {
    "collapsed": false,
    "pycharm": {
     "name": "#%%\n"
    }
   }
  },
  {
   "cell_type": "code",
   "execution_count": 88,
   "outputs": [
    {
     "data": {
      "text/plain": "    c1  c2  c3  c4\np6  11  51  45  66\np2  47  11  25  37",
      "text/html": "<div>\n<style scoped>\n    .dataframe tbody tr th:only-of-type {\n        vertical-align: middle;\n    }\n\n    .dataframe tbody tr th {\n        vertical-align: top;\n    }\n\n    .dataframe thead th {\n        text-align: right;\n    }\n</style>\n<table border=\"1\" class=\"dataframe\">\n  <thead>\n    <tr style=\"text-align: right;\">\n      <th></th>\n      <th>c1</th>\n      <th>c2</th>\n      <th>c3</th>\n      <th>c4</th>\n    </tr>\n  </thead>\n  <tbody>\n    <tr>\n      <th>p6</th>\n      <td>11</td>\n      <td>51</td>\n      <td>45</td>\n      <td>66</td>\n    </tr>\n    <tr>\n      <th>p2</th>\n      <td>47</td>\n      <td>11</td>\n      <td>25</td>\n      <td>37</td>\n    </tr>\n  </tbody>\n</table>\n</div>"
     },
     "execution_count": 88,
     "metadata": {},
     "output_type": "execute_result"
    }
   ],
   "source": [
    "df.iloc[[5,1],:]"
   ],
   "metadata": {
    "collapsed": false,
    "pycharm": {
     "name": "#%%\n"
    }
   }
  },
  {
   "cell_type": "code",
   "execution_count": 89,
   "outputs": [
    {
     "data": {
      "text/plain": "    c3  c2\np6  45  51\np2  25  11",
      "text/html": "<div>\n<style scoped>\n    .dataframe tbody tr th:only-of-type {\n        vertical-align: middle;\n    }\n\n    .dataframe tbody tr th {\n        vertical-align: top;\n    }\n\n    .dataframe thead th {\n        text-align: right;\n    }\n</style>\n<table border=\"1\" class=\"dataframe\">\n  <thead>\n    <tr style=\"text-align: right;\">\n      <th></th>\n      <th>c3</th>\n      <th>c2</th>\n    </tr>\n  </thead>\n  <tbody>\n    <tr>\n      <th>p6</th>\n      <td>45</td>\n      <td>51</td>\n    </tr>\n    <tr>\n      <th>p2</th>\n      <td>25</td>\n      <td>11</td>\n    </tr>\n  </tbody>\n</table>\n</div>"
     },
     "execution_count": 89,
     "metadata": {},
     "output_type": "execute_result"
    }
   ],
   "source": [
    "df.iloc[[5,1], [2,1]]\n"
   ],
   "metadata": {
    "collapsed": false,
    "pycharm": {
     "name": "#%%\n"
    }
   }
  },
  {
   "cell_type": "markdown",
   "source": [
    "Operacje logiczne na kolumnach"
   ],
   "metadata": {
    "collapsed": false,
    "pycharm": {
     "name": "#%% md\n"
    }
   }
  },
  {
   "cell_type": "code",
   "execution_count": 114,
   "outputs": [
    {
     "data": {
      "text/plain": "    c1  c2  c3  c4\np1  85  44  75  14\np2  47  11  25  37\np3  61  70  83  36\np4  38  88  45  93\np5  44  71  78  17\np6  11  51  45  66\np7  48  76  40  12",
      "text/html": "<div>\n<style scoped>\n    .dataframe tbody tr th:only-of-type {\n        vertical-align: middle;\n    }\n\n    .dataframe tbody tr th {\n        vertical-align: top;\n    }\n\n    .dataframe thead th {\n        text-align: right;\n    }\n</style>\n<table border=\"1\" class=\"dataframe\">\n  <thead>\n    <tr style=\"text-align: right;\">\n      <th></th>\n      <th>c1</th>\n      <th>c2</th>\n      <th>c3</th>\n      <th>c4</th>\n    </tr>\n  </thead>\n  <tbody>\n    <tr>\n      <th>p1</th>\n      <td>85</td>\n      <td>44</td>\n      <td>75</td>\n      <td>14</td>\n    </tr>\n    <tr>\n      <th>p2</th>\n      <td>47</td>\n      <td>11</td>\n      <td>25</td>\n      <td>37</td>\n    </tr>\n    <tr>\n      <th>p3</th>\n      <td>61</td>\n      <td>70</td>\n      <td>83</td>\n      <td>36</td>\n    </tr>\n    <tr>\n      <th>p4</th>\n      <td>38</td>\n      <td>88</td>\n      <td>45</td>\n      <td>93</td>\n    </tr>\n    <tr>\n      <th>p5</th>\n      <td>44</td>\n      <td>71</td>\n      <td>78</td>\n      <td>17</td>\n    </tr>\n    <tr>\n      <th>p6</th>\n      <td>11</td>\n      <td>51</td>\n      <td>45</td>\n      <td>66</td>\n    </tr>\n    <tr>\n      <th>p7</th>\n      <td>48</td>\n      <td>76</td>\n      <td>40</td>\n      <td>12</td>\n    </tr>\n  </tbody>\n</table>\n</div>"
     },
     "execution_count": 114,
     "metadata": {},
     "output_type": "execute_result"
    }
   ],
   "source": [
    "df = pd.read_csv('file.csv')\n",
    "df"
   ],
   "metadata": {
    "collapsed": false,
    "pycharm": {
     "name": "#%%\n"
    }
   }
  },
  {
   "cell_type": "code",
   "execution_count": 115,
   "outputs": [
    {
     "data": {
      "text/plain": "p1     True\np2     True\np3     True\np4    False\np5     True\np6    False\np7     True\nName: c1, dtype: bool"
     },
     "execution_count": 115,
     "metadata": {},
     "output_type": "execute_result"
    }
   ],
   "source": [
    "df['c1'] > 40\n"
   ],
   "metadata": {
    "collapsed": false,
    "pycharm": {
     "name": "#%%\n"
    }
   }
  },
  {
   "cell_type": "code",
   "execution_count": 116,
   "outputs": [
    {
     "data": {
      "text/plain": "    c1  c2  c3  c4\np1  85  44  75  14\np2  47  11  25  37\np3  61  70  83  36\np5  44  71  78  17\np7  48  76  40  12",
      "text/html": "<div>\n<style scoped>\n    .dataframe tbody tr th:only-of-type {\n        vertical-align: middle;\n    }\n\n    .dataframe tbody tr th {\n        vertical-align: top;\n    }\n\n    .dataframe thead th {\n        text-align: right;\n    }\n</style>\n<table border=\"1\" class=\"dataframe\">\n  <thead>\n    <tr style=\"text-align: right;\">\n      <th></th>\n      <th>c1</th>\n      <th>c2</th>\n      <th>c3</th>\n      <th>c4</th>\n    </tr>\n  </thead>\n  <tbody>\n    <tr>\n      <th>p1</th>\n      <td>85</td>\n      <td>44</td>\n      <td>75</td>\n      <td>14</td>\n    </tr>\n    <tr>\n      <th>p2</th>\n      <td>47</td>\n      <td>11</td>\n      <td>25</td>\n      <td>37</td>\n    </tr>\n    <tr>\n      <th>p3</th>\n      <td>61</td>\n      <td>70</td>\n      <td>83</td>\n      <td>36</td>\n    </tr>\n    <tr>\n      <th>p5</th>\n      <td>44</td>\n      <td>71</td>\n      <td>78</td>\n      <td>17</td>\n    </tr>\n    <tr>\n      <th>p7</th>\n      <td>48</td>\n      <td>76</td>\n      <td>40</td>\n      <td>12</td>\n    </tr>\n  </tbody>\n</table>\n</div>"
     },
     "execution_count": 116,
     "metadata": {},
     "output_type": "execute_result"
    }
   ],
   "source": [
    "df[df['c1'] > 40]\n"
   ],
   "metadata": {
    "collapsed": false,
    "pycharm": {
     "name": "#%%\n"
    }
   }
  },
  {
   "cell_type": "markdown",
   "source": [
    "Manipulowanie danych w tablicami"
   ],
   "metadata": {
    "collapsed": false,
    "pycharm": {
     "name": "#%% md\n"
    }
   }
  },
  {
   "cell_type": "code",
   "execution_count": 120,
   "outputs": [
    {
     "data": {
      "text/plain": "    c1  c2  c3  c4\np1  85  44  75  14\np2  47  11  25  37\np3  61  70  83  36\np4  38  88  45  93\np5  44  71  78  17\np6  11  51  45  66\np7  48  76  40  12",
      "text/html": "<div>\n<style scoped>\n    .dataframe tbody tr th:only-of-type {\n        vertical-align: middle;\n    }\n\n    .dataframe tbody tr th {\n        vertical-align: top;\n    }\n\n    .dataframe thead th {\n        text-align: right;\n    }\n</style>\n<table border=\"1\" class=\"dataframe\">\n  <thead>\n    <tr style=\"text-align: right;\">\n      <th></th>\n      <th>c1</th>\n      <th>c2</th>\n      <th>c3</th>\n      <th>c4</th>\n    </tr>\n  </thead>\n  <tbody>\n    <tr>\n      <th>p1</th>\n      <td>85</td>\n      <td>44</td>\n      <td>75</td>\n      <td>14</td>\n    </tr>\n    <tr>\n      <th>p2</th>\n      <td>47</td>\n      <td>11</td>\n      <td>25</td>\n      <td>37</td>\n    </tr>\n    <tr>\n      <th>p3</th>\n      <td>61</td>\n      <td>70</td>\n      <td>83</td>\n      <td>36</td>\n    </tr>\n    <tr>\n      <th>p4</th>\n      <td>38</td>\n      <td>88</td>\n      <td>45</td>\n      <td>93</td>\n    </tr>\n    <tr>\n      <th>p5</th>\n      <td>44</td>\n      <td>71</td>\n      <td>78</td>\n      <td>17</td>\n    </tr>\n    <tr>\n      <th>p6</th>\n      <td>11</td>\n      <td>51</td>\n      <td>45</td>\n      <td>66</td>\n    </tr>\n    <tr>\n      <th>p7</th>\n      <td>48</td>\n      <td>76</td>\n      <td>40</td>\n      <td>12</td>\n    </tr>\n  </tbody>\n</table>\n</div>"
     },
     "execution_count": 120,
     "metadata": {},
     "output_type": "execute_result"
    }
   ],
   "source": [
    "df"
   ],
   "metadata": {
    "collapsed": false,
    "pycharm": {
     "name": "#%%\n"
    }
   }
  },
  {
   "cell_type": "code",
   "execution_count": 122,
   "outputs": [
    {
     "data": {
      "text/plain": "    c1  c2  c3  c4\np1   0  44  75  14\np2   0  11  25  37\np3   0  70  83  36\np4   0  88  45  93\np5   0  71  78  17\np6   0  51  45  66\np7   0  76  40  12",
      "text/html": "<div>\n<style scoped>\n    .dataframe tbody tr th:only-of-type {\n        vertical-align: middle;\n    }\n\n    .dataframe tbody tr th {\n        vertical-align: top;\n    }\n\n    .dataframe thead th {\n        text-align: right;\n    }\n</style>\n<table border=\"1\" class=\"dataframe\">\n  <thead>\n    <tr style=\"text-align: right;\">\n      <th></th>\n      <th>c1</th>\n      <th>c2</th>\n      <th>c3</th>\n      <th>c4</th>\n    </tr>\n  </thead>\n  <tbody>\n    <tr>\n      <th>p1</th>\n      <td>0</td>\n      <td>44</td>\n      <td>75</td>\n      <td>14</td>\n    </tr>\n    <tr>\n      <th>p2</th>\n      <td>0</td>\n      <td>11</td>\n      <td>25</td>\n      <td>37</td>\n    </tr>\n    <tr>\n      <th>p3</th>\n      <td>0</td>\n      <td>70</td>\n      <td>83</td>\n      <td>36</td>\n    </tr>\n    <tr>\n      <th>p4</th>\n      <td>0</td>\n      <td>88</td>\n      <td>45</td>\n      <td>93</td>\n    </tr>\n    <tr>\n      <th>p5</th>\n      <td>0</td>\n      <td>71</td>\n      <td>78</td>\n      <td>17</td>\n    </tr>\n    <tr>\n      <th>p6</th>\n      <td>0</td>\n      <td>51</td>\n      <td>45</td>\n      <td>66</td>\n    </tr>\n    <tr>\n      <th>p7</th>\n      <td>0</td>\n      <td>76</td>\n      <td>40</td>\n      <td>12</td>\n    </tr>\n  </tbody>\n</table>\n</div>"
     },
     "execution_count": 122,
     "metadata": {},
     "output_type": "execute_result"
    }
   ],
   "source": [
    "df['c1'] = 0\n",
    "df"
   ],
   "metadata": {
    "collapsed": false,
    "pycharm": {
     "name": "#%%\n"
    }
   }
  },
  {
   "cell_type": "code",
   "execution_count": 123,
   "outputs": [
    {
     "data": {
      "text/plain": "    c1  c2  c3  c4\np1   0  44  75  14\np2   0  11  25  37\np3   0  70  83  36\np4   0  88   0   0\np5   0  71   0   0\np6   0  51  45  66\np7   0  76  40  12",
      "text/html": "<div>\n<style scoped>\n    .dataframe tbody tr th:only-of-type {\n        vertical-align: middle;\n    }\n\n    .dataframe tbody tr th {\n        vertical-align: top;\n    }\n\n    .dataframe thead th {\n        text-align: right;\n    }\n</style>\n<table border=\"1\" class=\"dataframe\">\n  <thead>\n    <tr style=\"text-align: right;\">\n      <th></th>\n      <th>c1</th>\n      <th>c2</th>\n      <th>c3</th>\n      <th>c4</th>\n    </tr>\n  </thead>\n  <tbody>\n    <tr>\n      <th>p1</th>\n      <td>0</td>\n      <td>44</td>\n      <td>75</td>\n      <td>14</td>\n    </tr>\n    <tr>\n      <th>p2</th>\n      <td>0</td>\n      <td>11</td>\n      <td>25</td>\n      <td>37</td>\n    </tr>\n    <tr>\n      <th>p3</th>\n      <td>0</td>\n      <td>70</td>\n      <td>83</td>\n      <td>36</td>\n    </tr>\n    <tr>\n      <th>p4</th>\n      <td>0</td>\n      <td>88</td>\n      <td>0</td>\n      <td>0</td>\n    </tr>\n    <tr>\n      <th>p5</th>\n      <td>0</td>\n      <td>71</td>\n      <td>0</td>\n      <td>0</td>\n    </tr>\n    <tr>\n      <th>p6</th>\n      <td>0</td>\n      <td>51</td>\n      <td>45</td>\n      <td>66</td>\n    </tr>\n    <tr>\n      <th>p7</th>\n      <td>0</td>\n      <td>76</td>\n      <td>40</td>\n      <td>12</td>\n    </tr>\n  </tbody>\n</table>\n</div>"
     },
     "execution_count": 123,
     "metadata": {},
     "output_type": "execute_result"
    }
   ],
   "source": [
    "df.loc['p4':'p5',['c3','c4']] = 0\n",
    "df"
   ],
   "metadata": {
    "collapsed": false,
    "pycharm": {
     "name": "#%%\n"
    }
   }
  },
  {
   "cell_type": "code",
   "execution_count": 124,
   "outputs": [
    {
     "data": {
      "text/plain": "    c1  c2  c3  c4\np1  85  44  75  14\np2  47  11  25  37\np3  61  70  83  36\np4  38  88  45  93\np5  44  71  78  17\np6  11  51  45  66\np7  48  76  40  12",
      "text/html": "<div>\n<style scoped>\n    .dataframe tbody tr th:only-of-type {\n        vertical-align: middle;\n    }\n\n    .dataframe tbody tr th {\n        vertical-align: top;\n    }\n\n    .dataframe thead th {\n        text-align: right;\n    }\n</style>\n<table border=\"1\" class=\"dataframe\">\n  <thead>\n    <tr style=\"text-align: right;\">\n      <th></th>\n      <th>c1</th>\n      <th>c2</th>\n      <th>c3</th>\n      <th>c4</th>\n    </tr>\n  </thead>\n  <tbody>\n    <tr>\n      <th>p1</th>\n      <td>85</td>\n      <td>44</td>\n      <td>75</td>\n      <td>14</td>\n    </tr>\n    <tr>\n      <th>p2</th>\n      <td>47</td>\n      <td>11</td>\n      <td>25</td>\n      <td>37</td>\n    </tr>\n    <tr>\n      <th>p3</th>\n      <td>61</td>\n      <td>70</td>\n      <td>83</td>\n      <td>36</td>\n    </tr>\n    <tr>\n      <th>p4</th>\n      <td>38</td>\n      <td>88</td>\n      <td>45</td>\n      <td>93</td>\n    </tr>\n    <tr>\n      <th>p5</th>\n      <td>44</td>\n      <td>71</td>\n      <td>78</td>\n      <td>17</td>\n    </tr>\n    <tr>\n      <th>p6</th>\n      <td>11</td>\n      <td>51</td>\n      <td>45</td>\n      <td>66</td>\n    </tr>\n    <tr>\n      <th>p7</th>\n      <td>48</td>\n      <td>76</td>\n      <td>40</td>\n      <td>12</td>\n    </tr>\n  </tbody>\n</table>\n</div>"
     },
     "execution_count": 124,
     "metadata": {},
     "output_type": "execute_result"
    }
   ],
   "source": [
    "df = pd.read_csv('file.csv')\n",
    "df"
   ],
   "metadata": {
    "collapsed": false,
    "pycharm": {
     "name": "#%%\n"
    }
   }
  },
  {
   "cell_type": "code",
   "execution_count": 126,
   "outputs": [
    {
     "data": {
      "text/plain": "    c1  c2  c3  c4\np1  85   0  75   0\np2  47   0  25   0\np3  61   0  83   0\np4  38  88  45  93\np5  44   0  78   0\np6  11  51  45  66\np7  48   0  40   0",
      "text/html": "<div>\n<style scoped>\n    .dataframe tbody tr th:only-of-type {\n        vertical-align: middle;\n    }\n\n    .dataframe tbody tr th {\n        vertical-align: top;\n    }\n\n    .dataframe thead th {\n        text-align: right;\n    }\n</style>\n<table border=\"1\" class=\"dataframe\">\n  <thead>\n    <tr style=\"text-align: right;\">\n      <th></th>\n      <th>c1</th>\n      <th>c2</th>\n      <th>c3</th>\n      <th>c4</th>\n    </tr>\n  </thead>\n  <tbody>\n    <tr>\n      <th>p1</th>\n      <td>85</td>\n      <td>0</td>\n      <td>75</td>\n      <td>0</td>\n    </tr>\n    <tr>\n      <th>p2</th>\n      <td>47</td>\n      <td>0</td>\n      <td>25</td>\n      <td>0</td>\n    </tr>\n    <tr>\n      <th>p3</th>\n      <td>61</td>\n      <td>0</td>\n      <td>83</td>\n      <td>0</td>\n    </tr>\n    <tr>\n      <th>p4</th>\n      <td>38</td>\n      <td>88</td>\n      <td>45</td>\n      <td>93</td>\n    </tr>\n    <tr>\n      <th>p5</th>\n      <td>44</td>\n      <td>0</td>\n      <td>78</td>\n      <td>0</td>\n    </tr>\n    <tr>\n      <th>p6</th>\n      <td>11</td>\n      <td>51</td>\n      <td>45</td>\n      <td>66</td>\n    </tr>\n    <tr>\n      <th>p7</th>\n      <td>48</td>\n      <td>0</td>\n      <td>40</td>\n      <td>0</td>\n    </tr>\n  </tbody>\n</table>\n</div>"
     },
     "execution_count": 126,
     "metadata": {},
     "output_type": "execute_result"
    }
   ],
   "source": [
    "df.loc[df['c1']>40, ['c2','c4']] = 0\n",
    "df"
   ],
   "metadata": {
    "collapsed": false,
    "pycharm": {
     "name": "#%%\n"
    }
   }
  },
  {
   "cell_type": "code",
   "execution_count": 132,
   "outputs": [
    {
     "data": {
      "text/plain": "    c1  c2  c3  c4\np1  85  44  75  14\np2  47  11  25  37\np3  61  70  83  36\np4  38  88  45  93\np5  44  71  78  17\np6  11  51  45  66\np7  48  76  40  12",
      "text/html": "<div>\n<style scoped>\n    .dataframe tbody tr th:only-of-type {\n        vertical-align: middle;\n    }\n\n    .dataframe tbody tr th {\n        vertical-align: top;\n    }\n\n    .dataframe thead th {\n        text-align: right;\n    }\n</style>\n<table border=\"1\" class=\"dataframe\">\n  <thead>\n    <tr style=\"text-align: right;\">\n      <th></th>\n      <th>c1</th>\n      <th>c2</th>\n      <th>c3</th>\n      <th>c4</th>\n    </tr>\n  </thead>\n  <tbody>\n    <tr>\n      <th>p1</th>\n      <td>85</td>\n      <td>44</td>\n      <td>75</td>\n      <td>14</td>\n    </tr>\n    <tr>\n      <th>p2</th>\n      <td>47</td>\n      <td>11</td>\n      <td>25</td>\n      <td>37</td>\n    </tr>\n    <tr>\n      <th>p3</th>\n      <td>61</td>\n      <td>70</td>\n      <td>83</td>\n      <td>36</td>\n    </tr>\n    <tr>\n      <th>p4</th>\n      <td>38</td>\n      <td>88</td>\n      <td>45</td>\n      <td>93</td>\n    </tr>\n    <tr>\n      <th>p5</th>\n      <td>44</td>\n      <td>71</td>\n      <td>78</td>\n      <td>17</td>\n    </tr>\n    <tr>\n      <th>p6</th>\n      <td>11</td>\n      <td>51</td>\n      <td>45</td>\n      <td>66</td>\n    </tr>\n    <tr>\n      <th>p7</th>\n      <td>48</td>\n      <td>76</td>\n      <td>40</td>\n      <td>12</td>\n    </tr>\n  </tbody>\n</table>\n</div>"
     },
     "execution_count": 132,
     "metadata": {},
     "output_type": "execute_result"
    }
   ],
   "source": [
    "df = pd.read_csv('file.csv')\n",
    "df\n"
   ],
   "metadata": {
    "collapsed": false,
    "pycharm": {
     "name": "#%%\n"
    }
   }
  },
  {
   "cell_type": "code",
   "execution_count": 133,
   "outputs": [
    {
     "data": {
      "text/plain": "    c1  c2  c3  c4\np1  85   0  75   0\np2  47   0  25   0\np3  61  70  83  36\np4  38  88  45  93\np5  44  71  78  17\np6  11  51  45  66\np7  48  76  40  12",
      "text/html": "<div>\n<style scoped>\n    .dataframe tbody tr th:only-of-type {\n        vertical-align: middle;\n    }\n\n    .dataframe tbody tr th {\n        vertical-align: top;\n    }\n\n    .dataframe thead th {\n        text-align: right;\n    }\n</style>\n<table border=\"1\" class=\"dataframe\">\n  <thead>\n    <tr style=\"text-align: right;\">\n      <th></th>\n      <th>c1</th>\n      <th>c2</th>\n      <th>c3</th>\n      <th>c4</th>\n    </tr>\n  </thead>\n  <tbody>\n    <tr>\n      <th>p1</th>\n      <td>85</td>\n      <td>0</td>\n      <td>75</td>\n      <td>0</td>\n    </tr>\n    <tr>\n      <th>p2</th>\n      <td>47</td>\n      <td>0</td>\n      <td>25</td>\n      <td>0</td>\n    </tr>\n    <tr>\n      <th>p3</th>\n      <td>61</td>\n      <td>70</td>\n      <td>83</td>\n      <td>36</td>\n    </tr>\n    <tr>\n      <th>p4</th>\n      <td>38</td>\n      <td>88</td>\n      <td>45</td>\n      <td>93</td>\n    </tr>\n    <tr>\n      <th>p5</th>\n      <td>44</td>\n      <td>71</td>\n      <td>78</td>\n      <td>17</td>\n    </tr>\n    <tr>\n      <th>p6</th>\n      <td>11</td>\n      <td>51</td>\n      <td>45</td>\n      <td>66</td>\n    </tr>\n    <tr>\n      <th>p7</th>\n      <td>48</td>\n      <td>76</td>\n      <td>40</td>\n      <td>12</td>\n    </tr>\n  </tbody>\n</table>\n</div>"
     },
     "execution_count": 133,
     "metadata": {},
     "output_type": "execute_result"
    }
   ],
   "source": [
    "df.loc[(df['c1']>40) & (df['c2']<60), ['c2','c4']] = 0\n",
    "df"
   ],
   "metadata": {
    "collapsed": false,
    "pycharm": {
     "name": "#%%\n"
    }
   }
  },
  {
   "cell_type": "markdown",
   "source": [
    "Analiza i przetwarzanie danych w tabeli"
   ],
   "metadata": {
    "collapsed": false,
    "pycharm": {
     "name": "#%% md\n"
    }
   }
  },
  {
   "cell_type": "code",
   "execution_count": 134,
   "outputs": [
    {
     "data": {
      "text/plain": "    c1  c2  c3  c4\np1  85  44  75  14\np2  47  11  25  37\np3  61  70  83  36\np4  38  88  45  93\np5  44  71  78  17\np6  11  51  45  66\np7  48  76  40  12",
      "text/html": "<div>\n<style scoped>\n    .dataframe tbody tr th:only-of-type {\n        vertical-align: middle;\n    }\n\n    .dataframe tbody tr th {\n        vertical-align: top;\n    }\n\n    .dataframe thead th {\n        text-align: right;\n    }\n</style>\n<table border=\"1\" class=\"dataframe\">\n  <thead>\n    <tr style=\"text-align: right;\">\n      <th></th>\n      <th>c1</th>\n      <th>c2</th>\n      <th>c3</th>\n      <th>c4</th>\n    </tr>\n  </thead>\n  <tbody>\n    <tr>\n      <th>p1</th>\n      <td>85</td>\n      <td>44</td>\n      <td>75</td>\n      <td>14</td>\n    </tr>\n    <tr>\n      <th>p2</th>\n      <td>47</td>\n      <td>11</td>\n      <td>25</td>\n      <td>37</td>\n    </tr>\n    <tr>\n      <th>p3</th>\n      <td>61</td>\n      <td>70</td>\n      <td>83</td>\n      <td>36</td>\n    </tr>\n    <tr>\n      <th>p4</th>\n      <td>38</td>\n      <td>88</td>\n      <td>45</td>\n      <td>93</td>\n    </tr>\n    <tr>\n      <th>p5</th>\n      <td>44</td>\n      <td>71</td>\n      <td>78</td>\n      <td>17</td>\n    </tr>\n    <tr>\n      <th>p6</th>\n      <td>11</td>\n      <td>51</td>\n      <td>45</td>\n      <td>66</td>\n    </tr>\n    <tr>\n      <th>p7</th>\n      <td>48</td>\n      <td>76</td>\n      <td>40</td>\n      <td>12</td>\n    </tr>\n  </tbody>\n</table>\n</div>"
     },
     "execution_count": 134,
     "metadata": {},
     "output_type": "execute_result"
    }
   ],
   "source": [
    "df = pd.read_csv('file.csv')\n",
    "df"
   ],
   "metadata": {
    "collapsed": false,
    "pycharm": {
     "name": "#%%\n"
    }
   }
  },
  {
   "cell_type": "code",
   "execution_count": 135,
   "outputs": [
    {
     "data": {
      "text/plain": "c1    85\nc2    88\nc3    83\nc4    93\ndtype: int64"
     },
     "execution_count": 135,
     "metadata": {},
     "output_type": "execute_result"
    }
   ],
   "source": [
    "df.max()"
   ],
   "metadata": {
    "collapsed": false,
    "pycharm": {
     "name": "#%%\n"
    }
   }
  },
  {
   "cell_type": "code",
   "execution_count": 136,
   "outputs": [
    {
     "data": {
      "text/plain": "c1    47.714286\nc2    58.714286\nc3    55.857143\nc4    39.285714\ndtype: float64"
     },
     "execution_count": 136,
     "metadata": {},
     "output_type": "execute_result"
    }
   ],
   "source": [
    "df.mean()"
   ],
   "metadata": {
    "collapsed": false,
    "pycharm": {
     "name": "#%%\n"
    }
   }
  },
  {
   "cell_type": "code",
   "execution_count": 137,
   "outputs": [
    {
     "data": {
      "text/plain": "    c1  c2  c3  c4\np1  85  44  75  14\np2  47  11  25  37\np3  61  70  83  36\np4  38  88  45  93\np5  44  71  78  17\np6  11  51  45  66\np7  48  76  40  12",
      "text/html": "<div>\n<style scoped>\n    .dataframe tbody tr th:only-of-type {\n        vertical-align: middle;\n    }\n\n    .dataframe tbody tr th {\n        vertical-align: top;\n    }\n\n    .dataframe thead th {\n        text-align: right;\n    }\n</style>\n<table border=\"1\" class=\"dataframe\">\n  <thead>\n    <tr style=\"text-align: right;\">\n      <th></th>\n      <th>c1</th>\n      <th>c2</th>\n      <th>c3</th>\n      <th>c4</th>\n    </tr>\n  </thead>\n  <tbody>\n    <tr>\n      <th>p1</th>\n      <td>85</td>\n      <td>44</td>\n      <td>75</td>\n      <td>14</td>\n    </tr>\n    <tr>\n      <th>p2</th>\n      <td>47</td>\n      <td>11</td>\n      <td>25</td>\n      <td>37</td>\n    </tr>\n    <tr>\n      <th>p3</th>\n      <td>61</td>\n      <td>70</td>\n      <td>83</td>\n      <td>36</td>\n    </tr>\n    <tr>\n      <th>p4</th>\n      <td>38</td>\n      <td>88</td>\n      <td>45</td>\n      <td>93</td>\n    </tr>\n    <tr>\n      <th>p5</th>\n      <td>44</td>\n      <td>71</td>\n      <td>78</td>\n      <td>17</td>\n    </tr>\n    <tr>\n      <th>p6</th>\n      <td>11</td>\n      <td>51</td>\n      <td>45</td>\n      <td>66</td>\n    </tr>\n    <tr>\n      <th>p7</th>\n      <td>48</td>\n      <td>76</td>\n      <td>40</td>\n      <td>12</td>\n    </tr>\n  </tbody>\n</table>\n</div>"
     },
     "execution_count": 137,
     "metadata": {},
     "output_type": "execute_result"
    }
   ],
   "source": [
    "df"
   ],
   "metadata": {
    "collapsed": false,
    "pycharm": {
     "name": "#%%\n"
    }
   }
  },
  {
   "cell_type": "code",
   "execution_count": 138,
   "outputs": [
    {
     "data": {
      "text/plain": "    c1  c2  c3  c4\np2  47  11  25  37\np7  48  76  40  12\np4  38  88  45  93\np6  11  51  45  66\np1  85  44  75  14\np5  44  71  78  17\np3  61  70  83  36",
      "text/html": "<div>\n<style scoped>\n    .dataframe tbody tr th:only-of-type {\n        vertical-align: middle;\n    }\n\n    .dataframe tbody tr th {\n        vertical-align: top;\n    }\n\n    .dataframe thead th {\n        text-align: right;\n    }\n</style>\n<table border=\"1\" class=\"dataframe\">\n  <thead>\n    <tr style=\"text-align: right;\">\n      <th></th>\n      <th>c1</th>\n      <th>c2</th>\n      <th>c3</th>\n      <th>c4</th>\n    </tr>\n  </thead>\n  <tbody>\n    <tr>\n      <th>p2</th>\n      <td>47</td>\n      <td>11</td>\n      <td>25</td>\n      <td>37</td>\n    </tr>\n    <tr>\n      <th>p7</th>\n      <td>48</td>\n      <td>76</td>\n      <td>40</td>\n      <td>12</td>\n    </tr>\n    <tr>\n      <th>p4</th>\n      <td>38</td>\n      <td>88</td>\n      <td>45</td>\n      <td>93</td>\n    </tr>\n    <tr>\n      <th>p6</th>\n      <td>11</td>\n      <td>51</td>\n      <td>45</td>\n      <td>66</td>\n    </tr>\n    <tr>\n      <th>p1</th>\n      <td>85</td>\n      <td>44</td>\n      <td>75</td>\n      <td>14</td>\n    </tr>\n    <tr>\n      <th>p5</th>\n      <td>44</td>\n      <td>71</td>\n      <td>78</td>\n      <td>17</td>\n    </tr>\n    <tr>\n      <th>p3</th>\n      <td>61</td>\n      <td>70</td>\n      <td>83</td>\n      <td>36</td>\n    </tr>\n  </tbody>\n</table>\n</div>"
     },
     "execution_count": 138,
     "metadata": {},
     "output_type": "execute_result"
    }
   ],
   "source": [
    "df.sort_values(by='c3')"
   ],
   "metadata": {
    "collapsed": false,
    "pycharm": {
     "name": "#%%\n"
    }
   }
  },
  {
   "cell_type": "code",
   "execution_count": 139,
   "outputs": [
    {
     "data": {
      "text/plain": "    c1  c2  c3  c4\np1  85  44  75  14\np2  47  11  25  37\np3  61  70  83  36\np4  38  88  45  93\np5  44  71  78  17\np6  11  51  45  66\np7  48  76  40  12",
      "text/html": "<div>\n<style scoped>\n    .dataframe tbody tr th:only-of-type {\n        vertical-align: middle;\n    }\n\n    .dataframe tbody tr th {\n        vertical-align: top;\n    }\n\n    .dataframe thead th {\n        text-align: right;\n    }\n</style>\n<table border=\"1\" class=\"dataframe\">\n  <thead>\n    <tr style=\"text-align: right;\">\n      <th></th>\n      <th>c1</th>\n      <th>c2</th>\n      <th>c3</th>\n      <th>c4</th>\n    </tr>\n  </thead>\n  <tbody>\n    <tr>\n      <th>p1</th>\n      <td>85</td>\n      <td>44</td>\n      <td>75</td>\n      <td>14</td>\n    </tr>\n    <tr>\n      <th>p2</th>\n      <td>47</td>\n      <td>11</td>\n      <td>25</td>\n      <td>37</td>\n    </tr>\n    <tr>\n      <th>p3</th>\n      <td>61</td>\n      <td>70</td>\n      <td>83</td>\n      <td>36</td>\n    </tr>\n    <tr>\n      <th>p4</th>\n      <td>38</td>\n      <td>88</td>\n      <td>45</td>\n      <td>93</td>\n    </tr>\n    <tr>\n      <th>p5</th>\n      <td>44</td>\n      <td>71</td>\n      <td>78</td>\n      <td>17</td>\n    </tr>\n    <tr>\n      <th>p6</th>\n      <td>11</td>\n      <td>51</td>\n      <td>45</td>\n      <td>66</td>\n    </tr>\n    <tr>\n      <th>p7</th>\n      <td>48</td>\n      <td>76</td>\n      <td>40</td>\n      <td>12</td>\n    </tr>\n  </tbody>\n</table>\n</div>"
     },
     "execution_count": 139,
     "metadata": {},
     "output_type": "execute_result"
    }
   ],
   "source": [
    "df"
   ],
   "metadata": {
    "collapsed": false,
    "pycharm": {
     "name": "#%%\n"
    }
   }
  },
  {
   "cell_type": "code",
   "execution_count": 141,
   "outputs": [
    {
     "data": {
      "text/plain": "    c1  c2  c3  c4\np2  47  11  25  37\np7  48  76  40  12\np4  38  88  45  93\np6  11  51  45  66\np1  85  44  75  14\np5  44  71  78  17\np3  61  70  83  36",
      "text/html": "<div>\n<style scoped>\n    .dataframe tbody tr th:only-of-type {\n        vertical-align: middle;\n    }\n\n    .dataframe tbody tr th {\n        vertical-align: top;\n    }\n\n    .dataframe thead th {\n        text-align: right;\n    }\n</style>\n<table border=\"1\" class=\"dataframe\">\n  <thead>\n    <tr style=\"text-align: right;\">\n      <th></th>\n      <th>c1</th>\n      <th>c2</th>\n      <th>c3</th>\n      <th>c4</th>\n    </tr>\n  </thead>\n  <tbody>\n    <tr>\n      <th>p2</th>\n      <td>47</td>\n      <td>11</td>\n      <td>25</td>\n      <td>37</td>\n    </tr>\n    <tr>\n      <th>p7</th>\n      <td>48</td>\n      <td>76</td>\n      <td>40</td>\n      <td>12</td>\n    </tr>\n    <tr>\n      <th>p4</th>\n      <td>38</td>\n      <td>88</td>\n      <td>45</td>\n      <td>93</td>\n    </tr>\n    <tr>\n      <th>p6</th>\n      <td>11</td>\n      <td>51</td>\n      <td>45</td>\n      <td>66</td>\n    </tr>\n    <tr>\n      <th>p1</th>\n      <td>85</td>\n      <td>44</td>\n      <td>75</td>\n      <td>14</td>\n    </tr>\n    <tr>\n      <th>p5</th>\n      <td>44</td>\n      <td>71</td>\n      <td>78</td>\n      <td>17</td>\n    </tr>\n    <tr>\n      <th>p3</th>\n      <td>61</td>\n      <td>70</td>\n      <td>83</td>\n      <td>36</td>\n    </tr>\n  </tbody>\n</table>\n</div>"
     },
     "execution_count": 141,
     "metadata": {},
     "output_type": "execute_result"
    }
   ],
   "source": [
    "df.sort_values(by='c3', inplace=True)\n",
    "df"
   ],
   "metadata": {
    "collapsed": false,
    "pycharm": {
     "name": "#%%\n"
    }
   }
  },
  {
   "cell_type": "code",
   "execution_count": 142,
   "outputs": [
    {
     "data": {
      "text/plain": "    c1  c2  c3  c4\np1  85  44  75  14\np2  47  11  25  37\np3  61  70  83  36\np4  38  88  45  93\np5  44  71  78  17\np6  11  51  45  66\np7  48  76  40  12",
      "text/html": "<div>\n<style scoped>\n    .dataframe tbody tr th:only-of-type {\n        vertical-align: middle;\n    }\n\n    .dataframe tbody tr th {\n        vertical-align: top;\n    }\n\n    .dataframe thead th {\n        text-align: right;\n    }\n</style>\n<table border=\"1\" class=\"dataframe\">\n  <thead>\n    <tr style=\"text-align: right;\">\n      <th></th>\n      <th>c1</th>\n      <th>c2</th>\n      <th>c3</th>\n      <th>c4</th>\n    </tr>\n  </thead>\n  <tbody>\n    <tr>\n      <th>p1</th>\n      <td>85</td>\n      <td>44</td>\n      <td>75</td>\n      <td>14</td>\n    </tr>\n    <tr>\n      <th>p2</th>\n      <td>47</td>\n      <td>11</td>\n      <td>25</td>\n      <td>37</td>\n    </tr>\n    <tr>\n      <th>p3</th>\n      <td>61</td>\n      <td>70</td>\n      <td>83</td>\n      <td>36</td>\n    </tr>\n    <tr>\n      <th>p4</th>\n      <td>38</td>\n      <td>88</td>\n      <td>45</td>\n      <td>93</td>\n    </tr>\n    <tr>\n      <th>p5</th>\n      <td>44</td>\n      <td>71</td>\n      <td>78</td>\n      <td>17</td>\n    </tr>\n    <tr>\n      <th>p6</th>\n      <td>11</td>\n      <td>51</td>\n      <td>45</td>\n      <td>66</td>\n    </tr>\n    <tr>\n      <th>p7</th>\n      <td>48</td>\n      <td>76</td>\n      <td>40</td>\n      <td>12</td>\n    </tr>\n  </tbody>\n</table>\n</div>"
     },
     "execution_count": 142,
     "metadata": {},
     "output_type": "execute_result"
    }
   ],
   "source": [
    "df = pd.read_csv('file.csv')\n",
    "df"
   ],
   "metadata": {
    "collapsed": false,
    "pycharm": {
     "name": "#%%\n"
    }
   }
  },
  {
   "cell_type": "code",
   "execution_count": 145,
   "outputs": [
    {
     "data": {
      "text/plain": "c1    35.00\nc2    55.25\nc3    48.25\nc4    53.25\ndtype: float64"
     },
     "execution_count": 145,
     "metadata": {},
     "output_type": "execute_result"
    }
   ],
   "source": [
    "df[ df['c1'] < df['c1'].mean() ].mean()"
   ],
   "metadata": {
    "collapsed": false,
    "pycharm": {
     "name": "#%%\n"
    }
   }
  },
  {
   "cell_type": "code",
   "execution_count": 147,
   "outputs": [
    {
     "data": {
      "text/plain": "c1    35.00\nc2    55.25\nc3    48.25\nc4    53.25\ndtype: float64"
     },
     "execution_count": 147,
     "metadata": {},
     "output_type": "execute_result"
    }
   ],
   "source": [
    "df.loc[df['c1'] < df['c1'].mean(),:].mean()"
   ],
   "metadata": {
    "collapsed": false,
    "pycharm": {
     "name": "#%%\n"
    }
   }
  },
  {
   "cell_type": "code",
   "execution_count": 152,
   "outputs": [
    {
     "data": {
      "text/plain": "    c1  c2  c3  c4\np1  85  44  75  g1\np2  47  11  25  g1\np3  61  70  83  g1\np4  38  88  45  93\np5  44  71  78  g1\np6  11  51  45  66\np7  48  76  40  g1",
      "text/html": "<div>\n<style scoped>\n    .dataframe tbody tr th:only-of-type {\n        vertical-align: middle;\n    }\n\n    .dataframe tbody tr th {\n        vertical-align: top;\n    }\n\n    .dataframe thead th {\n        text-align: right;\n    }\n</style>\n<table border=\"1\" class=\"dataframe\">\n  <thead>\n    <tr style=\"text-align: right;\">\n      <th></th>\n      <th>c1</th>\n      <th>c2</th>\n      <th>c3</th>\n      <th>c4</th>\n    </tr>\n  </thead>\n  <tbody>\n    <tr>\n      <th>p1</th>\n      <td>85</td>\n      <td>44</td>\n      <td>75</td>\n      <td>g1</td>\n    </tr>\n    <tr>\n      <th>p2</th>\n      <td>47</td>\n      <td>11</td>\n      <td>25</td>\n      <td>g1</td>\n    </tr>\n    <tr>\n      <th>p3</th>\n      <td>61</td>\n      <td>70</td>\n      <td>83</td>\n      <td>g1</td>\n    </tr>\n    <tr>\n      <th>p4</th>\n      <td>38</td>\n      <td>88</td>\n      <td>45</td>\n      <td>93</td>\n    </tr>\n    <tr>\n      <th>p5</th>\n      <td>44</td>\n      <td>71</td>\n      <td>78</td>\n      <td>g1</td>\n    </tr>\n    <tr>\n      <th>p6</th>\n      <td>11</td>\n      <td>51</td>\n      <td>45</td>\n      <td>66</td>\n    </tr>\n    <tr>\n      <th>p7</th>\n      <td>48</td>\n      <td>76</td>\n      <td>40</td>\n      <td>g1</td>\n    </tr>\n  </tbody>\n</table>\n</div>"
     },
     "execution_count": 152,
     "metadata": {},
     "output_type": "execute_result"
    }
   ],
   "source": [
    "df"
   ],
   "metadata": {
    "collapsed": false,
    "pycharm": {
     "name": "#%%\n"
    }
   }
  },
  {
   "cell_type": "code",
   "execution_count": 153,
   "outputs": [
    {
     "data": {
      "text/plain": "    c1  c2  c3  c4\np1  85  44  75  14\np2  47  11  25  37\np3  61  70  83  36\np4  38  88  45  93\np5  44  71  78  17\np6  11  51  45  66\np7  48  76  40  12",
      "text/html": "<div>\n<style scoped>\n    .dataframe tbody tr th:only-of-type {\n        vertical-align: middle;\n    }\n\n    .dataframe tbody tr th {\n        vertical-align: top;\n    }\n\n    .dataframe thead th {\n        text-align: right;\n    }\n</style>\n<table border=\"1\" class=\"dataframe\">\n  <thead>\n    <tr style=\"text-align: right;\">\n      <th></th>\n      <th>c1</th>\n      <th>c2</th>\n      <th>c3</th>\n      <th>c4</th>\n    </tr>\n  </thead>\n  <tbody>\n    <tr>\n      <th>p1</th>\n      <td>85</td>\n      <td>44</td>\n      <td>75</td>\n      <td>14</td>\n    </tr>\n    <tr>\n      <th>p2</th>\n      <td>47</td>\n      <td>11</td>\n      <td>25</td>\n      <td>37</td>\n    </tr>\n    <tr>\n      <th>p3</th>\n      <td>61</td>\n      <td>70</td>\n      <td>83</td>\n      <td>36</td>\n    </tr>\n    <tr>\n      <th>p4</th>\n      <td>38</td>\n      <td>88</td>\n      <td>45</td>\n      <td>93</td>\n    </tr>\n    <tr>\n      <th>p5</th>\n      <td>44</td>\n      <td>71</td>\n      <td>78</td>\n      <td>17</td>\n    </tr>\n    <tr>\n      <th>p6</th>\n      <td>11</td>\n      <td>51</td>\n      <td>45</td>\n      <td>66</td>\n    </tr>\n    <tr>\n      <th>p7</th>\n      <td>48</td>\n      <td>76</td>\n      <td>40</td>\n      <td>12</td>\n    </tr>\n  </tbody>\n</table>\n</div>"
     },
     "execution_count": 153,
     "metadata": {},
     "output_type": "execute_result"
    }
   ],
   "source": [
    "df = pd.read_csv('file.csv')\n",
    "df"
   ],
   "metadata": {
    "collapsed": false,
    "pycharm": {
     "name": "#%%\n"
    }
   }
  },
  {
   "cell_type": "code",
   "execution_count": 156,
   "outputs": [
    {
     "name": "stdout",
     "output_type": "stream",
     "text": [
      "p1     True\n",
      "p2     True\n",
      "p3     True\n",
      "p4    False\n",
      "p5     True\n",
      "p6    False\n",
      "p7     True\n",
      "Name: c4, dtype: bool\n",
      "p1    False\n",
      "p2    False\n",
      "p3    False\n",
      "p4     True\n",
      "p5    False\n",
      "p6     True\n",
      "p7    False\n",
      "Name: c4, dtype: bool\n"
     ]
    },
    {
     "name": "stderr",
     "output_type": "stream",
     "text": [
      "C:\\Users\\damian\\AppData\\Local\\Temp\\ipykernel_17000\\3230354196.py:5: FutureWarning: Setting an item of incompatible dtype is deprecated and will raise an error in a future version of pandas. Value 'g1' has dtype incompatible with int64, please explicitly cast to a compatible dtype first.\n",
      "  df.loc[ind1,'c4'] = 'g1'\n"
     ]
    },
    {
     "data": {
      "text/plain": "    c1  c2  c3  c4\np1  85  44  75  g1\np2  47  11  25  g1\np3  61  70  83  g1\np4  38  88  45  g2\np5  44  71  78  g1\np6  11  51  45  g2\np7  48  76  40  g1",
      "text/html": "<div>\n<style scoped>\n    .dataframe tbody tr th:only-of-type {\n        vertical-align: middle;\n    }\n\n    .dataframe tbody tr th {\n        vertical-align: top;\n    }\n\n    .dataframe thead th {\n        text-align: right;\n    }\n</style>\n<table border=\"1\" class=\"dataframe\">\n  <thead>\n    <tr style=\"text-align: right;\">\n      <th></th>\n      <th>c1</th>\n      <th>c2</th>\n      <th>c3</th>\n      <th>c4</th>\n    </tr>\n  </thead>\n  <tbody>\n    <tr>\n      <th>p1</th>\n      <td>85</td>\n      <td>44</td>\n      <td>75</td>\n      <td>g1</td>\n    </tr>\n    <tr>\n      <th>p2</th>\n      <td>47</td>\n      <td>11</td>\n      <td>25</td>\n      <td>g1</td>\n    </tr>\n    <tr>\n      <th>p3</th>\n      <td>61</td>\n      <td>70</td>\n      <td>83</td>\n      <td>g1</td>\n    </tr>\n    <tr>\n      <th>p4</th>\n      <td>38</td>\n      <td>88</td>\n      <td>45</td>\n      <td>g2</td>\n    </tr>\n    <tr>\n      <th>p5</th>\n      <td>44</td>\n      <td>71</td>\n      <td>78</td>\n      <td>g1</td>\n    </tr>\n    <tr>\n      <th>p6</th>\n      <td>11</td>\n      <td>51</td>\n      <td>45</td>\n      <td>g2</td>\n    </tr>\n    <tr>\n      <th>p7</th>\n      <td>48</td>\n      <td>76</td>\n      <td>40</td>\n      <td>g1</td>\n    </tr>\n  </tbody>\n</table>\n</div>"
     },
     "execution_count": 156,
     "metadata": {},
     "output_type": "execute_result"
    }
   ],
   "source": [
    "ind1 = df['c4']<50\n",
    "ind2 = ~(df['c4']<50)\n",
    "print(ind1)\n",
    "print(ind2)\n",
    "df.loc[ind1,'c4'] = 'g1'\n",
    "df.loc[ind2,'c4'] = 'g2'\n",
    "df"
   ],
   "metadata": {
    "collapsed": false,
    "pycharm": {
     "name": "#%%\n"
    }
   }
  },
  {
   "cell_type": "code",
   "execution_count": 160,
   "outputs": [
    {
     "data": {
      "text/plain": "      c1    c2    c3\nc4                  \ng1  57.0  54.4  60.2\ng2  24.5  69.5  45.0",
      "text/html": "<div>\n<style scoped>\n    .dataframe tbody tr th:only-of-type {\n        vertical-align: middle;\n    }\n\n    .dataframe tbody tr th {\n        vertical-align: top;\n    }\n\n    .dataframe thead th {\n        text-align: right;\n    }\n</style>\n<table border=\"1\" class=\"dataframe\">\n  <thead>\n    <tr style=\"text-align: right;\">\n      <th></th>\n      <th>c1</th>\n      <th>c2</th>\n      <th>c3</th>\n    </tr>\n    <tr>\n      <th>c4</th>\n      <th></th>\n      <th></th>\n      <th></th>\n    </tr>\n  </thead>\n  <tbody>\n    <tr>\n      <th>g1</th>\n      <td>57.0</td>\n      <td>54.4</td>\n      <td>60.2</td>\n    </tr>\n    <tr>\n      <th>g2</th>\n      <td>24.5</td>\n      <td>69.5</td>\n      <td>45.0</td>\n    </tr>\n  </tbody>\n</table>\n</div>"
     },
     "execution_count": 160,
     "metadata": {},
     "output_type": "execute_result"
    }
   ],
   "source": [
    "df2 = df.groupby(by='c4').mean()\n",
    "df2\n"
   ],
   "metadata": {
    "collapsed": false,
    "pycharm": {
     "name": "#%%\n"
    }
   }
  },
  {
   "cell_type": "code",
   "execution_count": 164,
   "outputs": [
    {
     "data": {
      "text/plain": "Index(['g1', 'g2'], dtype='object', name='c4')"
     },
     "execution_count": 164,
     "metadata": {},
     "output_type": "execute_result"
    }
   ],
   "source": [
    "df2.index"
   ],
   "metadata": {
    "collapsed": false,
    "pycharm": {
     "name": "#%%\n"
    }
   }
  },
  {
   "cell_type": "code",
   "execution_count": 165,
   "outputs": [
    {
     "data": {
      "text/plain": "Index(['p1', 'p2', 'p3', 'p4', 'p5', 'p6', 'p7'], dtype='object')"
     },
     "execution_count": 165,
     "metadata": {},
     "output_type": "execute_result"
    }
   ],
   "source": [
    "df.index"
   ],
   "metadata": {
    "collapsed": false,
    "pycharm": {
     "name": "#%%\n"
    }
   }
  },
  {
   "cell_type": "markdown",
   "source": [
    "Łączenie i dzielenie tabeli"
   ],
   "metadata": {
    "collapsed": false,
    "pycharm": {
     "name": "#%% md\n"
    }
   }
  },
  {
   "cell_type": "code",
   "execution_count": 166,
   "outputs": [
    {
     "data": {
      "text/plain": "    c1  c2  c3  c4\np1  85  44  75  14\np2  47  11  25  37\np3  61  70  83  36\np4  38  88  45  93\np5  44  71  78  17\np6  11  51  45  66\np7  48  76  40  12",
      "text/html": "<div>\n<style scoped>\n    .dataframe tbody tr th:only-of-type {\n        vertical-align: middle;\n    }\n\n    .dataframe tbody tr th {\n        vertical-align: top;\n    }\n\n    .dataframe thead th {\n        text-align: right;\n    }\n</style>\n<table border=\"1\" class=\"dataframe\">\n  <thead>\n    <tr style=\"text-align: right;\">\n      <th></th>\n      <th>c1</th>\n      <th>c2</th>\n      <th>c3</th>\n      <th>c4</th>\n    </tr>\n  </thead>\n  <tbody>\n    <tr>\n      <th>p1</th>\n      <td>85</td>\n      <td>44</td>\n      <td>75</td>\n      <td>14</td>\n    </tr>\n    <tr>\n      <th>p2</th>\n      <td>47</td>\n      <td>11</td>\n      <td>25</td>\n      <td>37</td>\n    </tr>\n    <tr>\n      <th>p3</th>\n      <td>61</td>\n      <td>70</td>\n      <td>83</td>\n      <td>36</td>\n    </tr>\n    <tr>\n      <th>p4</th>\n      <td>38</td>\n      <td>88</td>\n      <td>45</td>\n      <td>93</td>\n    </tr>\n    <tr>\n      <th>p5</th>\n      <td>44</td>\n      <td>71</td>\n      <td>78</td>\n      <td>17</td>\n    </tr>\n    <tr>\n      <th>p6</th>\n      <td>11</td>\n      <td>51</td>\n      <td>45</td>\n      <td>66</td>\n    </tr>\n    <tr>\n      <th>p7</th>\n      <td>48</td>\n      <td>76</td>\n      <td>40</td>\n      <td>12</td>\n    </tr>\n  </tbody>\n</table>\n</div>"
     },
     "execution_count": 166,
     "metadata": {},
     "output_type": "execute_result"
    }
   ],
   "source": [
    "df = pd.read_csv('file.csv')\n",
    "df"
   ],
   "metadata": {
    "collapsed": false,
    "pycharm": {
     "name": "#%%\n"
    }
   }
  },
  {
   "cell_type": "code",
   "execution_count": 169,
   "outputs": [],
   "source": [
    "df11 = df.loc['p1':'p4',['c1','c2']]\n",
    "df12 = df.loc['p1':'p4',['c3','c4']]\n",
    "df21 = df.loc['p4':,['c1','c2']]\n",
    "df22 = df.loc['p4':,['c3','c4']]"
   ],
   "metadata": {
    "collapsed": false,
    "pycharm": {
     "name": "#%%\n"
    }
   }
  },
  {
   "cell_type": "code",
   "execution_count": 173,
   "outputs": [
    {
     "data": {
      "text/plain": "    c3  c4\np4  45  93\np5  78  17\np6  45  66\np7  40  12",
      "text/html": "<div>\n<style scoped>\n    .dataframe tbody tr th:only-of-type {\n        vertical-align: middle;\n    }\n\n    .dataframe tbody tr th {\n        vertical-align: top;\n    }\n\n    .dataframe thead th {\n        text-align: right;\n    }\n</style>\n<table border=\"1\" class=\"dataframe\">\n  <thead>\n    <tr style=\"text-align: right;\">\n      <th></th>\n      <th>c3</th>\n      <th>c4</th>\n    </tr>\n  </thead>\n  <tbody>\n    <tr>\n      <th>p4</th>\n      <td>45</td>\n      <td>93</td>\n    </tr>\n    <tr>\n      <th>p5</th>\n      <td>78</td>\n      <td>17</td>\n    </tr>\n    <tr>\n      <th>p6</th>\n      <td>45</td>\n      <td>66</td>\n    </tr>\n    <tr>\n      <th>p7</th>\n      <td>40</td>\n      <td>12</td>\n    </tr>\n  </tbody>\n</table>\n</div>"
     },
     "execution_count": 173,
     "metadata": {},
     "output_type": "execute_result"
    }
   ],
   "source": [
    "df22"
   ],
   "metadata": {
    "collapsed": false,
    "pycharm": {
     "name": "#%%\n"
    }
   }
  },
  {
   "cell_type": "code",
   "execution_count": 174,
   "outputs": [
    {
     "data": {
      "text/plain": "    c1  c2\np1  85  44\np2  47  11\np3  61  70\np4  38  88\np4  38  88\np5  44  71\np6  11  51\np7  48  76",
      "text/html": "<div>\n<style scoped>\n    .dataframe tbody tr th:only-of-type {\n        vertical-align: middle;\n    }\n\n    .dataframe tbody tr th {\n        vertical-align: top;\n    }\n\n    .dataframe thead th {\n        text-align: right;\n    }\n</style>\n<table border=\"1\" class=\"dataframe\">\n  <thead>\n    <tr style=\"text-align: right;\">\n      <th></th>\n      <th>c1</th>\n      <th>c2</th>\n    </tr>\n  </thead>\n  <tbody>\n    <tr>\n      <th>p1</th>\n      <td>85</td>\n      <td>44</td>\n    </tr>\n    <tr>\n      <th>p2</th>\n      <td>47</td>\n      <td>11</td>\n    </tr>\n    <tr>\n      <th>p3</th>\n      <td>61</td>\n      <td>70</td>\n    </tr>\n    <tr>\n      <th>p4</th>\n      <td>38</td>\n      <td>88</td>\n    </tr>\n    <tr>\n      <th>p4</th>\n      <td>38</td>\n      <td>88</td>\n    </tr>\n    <tr>\n      <th>p5</th>\n      <td>44</td>\n      <td>71</td>\n    </tr>\n    <tr>\n      <th>p6</th>\n      <td>11</td>\n      <td>51</td>\n    </tr>\n    <tr>\n      <th>p7</th>\n      <td>48</td>\n      <td>76</td>\n    </tr>\n  </tbody>\n</table>\n</div>"
     },
     "execution_count": 174,
     "metadata": {},
     "output_type": "execute_result"
    }
   ],
   "source": [
    "pd.concat([df11,df21])"
   ],
   "metadata": {
    "collapsed": false,
    "pycharm": {
     "name": "#%%\n"
    }
   }
  },
  {
   "cell_type": "code",
   "execution_count": 176,
   "outputs": [
    {
     "data": {
      "text/plain": "    c1  c2  c3  c4\np1  85  44  75  14\np2  47  11  25  37\np3  61  70  83  36\np4  38  88  45  93",
      "text/html": "<div>\n<style scoped>\n    .dataframe tbody tr th:only-of-type {\n        vertical-align: middle;\n    }\n\n    .dataframe tbody tr th {\n        vertical-align: top;\n    }\n\n    .dataframe thead th {\n        text-align: right;\n    }\n</style>\n<table border=\"1\" class=\"dataframe\">\n  <thead>\n    <tr style=\"text-align: right;\">\n      <th></th>\n      <th>c1</th>\n      <th>c2</th>\n      <th>c3</th>\n      <th>c4</th>\n    </tr>\n  </thead>\n  <tbody>\n    <tr>\n      <th>p1</th>\n      <td>85</td>\n      <td>44</td>\n      <td>75</td>\n      <td>14</td>\n    </tr>\n    <tr>\n      <th>p2</th>\n      <td>47</td>\n      <td>11</td>\n      <td>25</td>\n      <td>37</td>\n    </tr>\n    <tr>\n      <th>p3</th>\n      <td>61</td>\n      <td>70</td>\n      <td>83</td>\n      <td>36</td>\n    </tr>\n    <tr>\n      <th>p4</th>\n      <td>38</td>\n      <td>88</td>\n      <td>45</td>\n      <td>93</td>\n    </tr>\n  </tbody>\n</table>\n</div>"
     },
     "execution_count": 176,
     "metadata": {},
     "output_type": "execute_result"
    }
   ],
   "source": [
    "# pd.concat([df11,df12])\n",
    "pd.concat([df11,df12],axis=1)"
   ],
   "metadata": {
    "collapsed": false,
    "pycharm": {
     "name": "#%%\n"
    }
   }
  },
  {
   "cell_type": "code",
   "execution_count": 179,
   "outputs": [
    {
     "data": {
      "text/plain": "      c1    c2    c3    c4\np1  85.0  44.0   NaN   NaN\np2  47.0  11.0   NaN   NaN\np3  61.0  70.0   NaN   NaN\np4  38.0  88.0   NaN   NaN\np4   NaN   NaN  45.0  93.0\np5   NaN   NaN  78.0  17.0\np6   NaN   NaN  45.0  66.0\np7   NaN   NaN  40.0  12.0",
      "text/html": "<div>\n<style scoped>\n    .dataframe tbody tr th:only-of-type {\n        vertical-align: middle;\n    }\n\n    .dataframe tbody tr th {\n        vertical-align: top;\n    }\n\n    .dataframe thead th {\n        text-align: right;\n    }\n</style>\n<table border=\"1\" class=\"dataframe\">\n  <thead>\n    <tr style=\"text-align: right;\">\n      <th></th>\n      <th>c1</th>\n      <th>c2</th>\n      <th>c3</th>\n      <th>c4</th>\n    </tr>\n  </thead>\n  <tbody>\n    <tr>\n      <th>p1</th>\n      <td>85.0</td>\n      <td>44.0</td>\n      <td>NaN</td>\n      <td>NaN</td>\n    </tr>\n    <tr>\n      <th>p2</th>\n      <td>47.0</td>\n      <td>11.0</td>\n      <td>NaN</td>\n      <td>NaN</td>\n    </tr>\n    <tr>\n      <th>p3</th>\n      <td>61.0</td>\n      <td>70.0</td>\n      <td>NaN</td>\n      <td>NaN</td>\n    </tr>\n    <tr>\n      <th>p4</th>\n      <td>38.0</td>\n      <td>88.0</td>\n      <td>NaN</td>\n      <td>NaN</td>\n    </tr>\n    <tr>\n      <th>p4</th>\n      <td>NaN</td>\n      <td>NaN</td>\n      <td>45.0</td>\n      <td>93.0</td>\n    </tr>\n    <tr>\n      <th>p5</th>\n      <td>NaN</td>\n      <td>NaN</td>\n      <td>78.0</td>\n      <td>17.0</td>\n    </tr>\n    <tr>\n      <th>p6</th>\n      <td>NaN</td>\n      <td>NaN</td>\n      <td>45.0</td>\n      <td>66.0</td>\n    </tr>\n    <tr>\n      <th>p7</th>\n      <td>NaN</td>\n      <td>NaN</td>\n      <td>40.0</td>\n      <td>12.0</td>\n    </tr>\n  </tbody>\n</table>\n</div>"
     },
     "execution_count": 179,
     "metadata": {},
     "output_type": "execute_result"
    }
   ],
   "source": [
    "pd.concat([df11,df22])"
   ],
   "metadata": {
    "collapsed": false,
    "pycharm": {
     "name": "#%%\n"
    }
   }
  },
  {
   "cell_type": "code",
   "execution_count": 178,
   "outputs": [
    {
     "data": {
      "text/plain": "Empty DataFrame\nColumns: []\nIndex: [p1, p2, p3, p4, p4, p5, p6, p7]",
      "text/html": "<div>\n<style scoped>\n    .dataframe tbody tr th:only-of-type {\n        vertical-align: middle;\n    }\n\n    .dataframe tbody tr th {\n        vertical-align: top;\n    }\n\n    .dataframe thead th {\n        text-align: right;\n    }\n</style>\n<table border=\"1\" class=\"dataframe\">\n  <thead>\n    <tr style=\"text-align: right;\">\n      <th></th>\n    </tr>\n  </thead>\n  <tbody>\n    <tr>\n      <th>p1</th>\n    </tr>\n    <tr>\n      <th>p2</th>\n    </tr>\n    <tr>\n      <th>p3</th>\n    </tr>\n    <tr>\n      <th>p4</th>\n    </tr>\n    <tr>\n      <th>p4</th>\n    </tr>\n    <tr>\n      <th>p5</th>\n    </tr>\n    <tr>\n      <th>p6</th>\n    </tr>\n    <tr>\n      <th>p7</th>\n    </tr>\n  </tbody>\n</table>\n</div>"
     },
     "execution_count": 178,
     "metadata": {},
     "output_type": "execute_result"
    }
   ],
   "source": [
    "pd.concat([df11,df22], join='inner')"
   ],
   "metadata": {
    "collapsed": false,
    "pycharm": {
     "name": "#%%\n"
    }
   }
  },
  {
   "cell_type": "markdown",
   "source": [
    "Wartość nan"
   ],
   "metadata": {
    "collapsed": false,
    "pycharm": {
     "name": "#%% md\n"
    }
   }
  },
  {
   "cell_type": "code",
   "execution_count": 181,
   "outputs": [
    {
     "data": {
      "text/plain": "      c1    c2    c3    c4\np1  85.0  44.0   NaN   NaN\np2  47.0  11.0   NaN   NaN\np3  61.0  70.0   NaN   NaN\np4  38.0  88.0   NaN   NaN\np4   NaN   NaN  45.0  93.0\np5   NaN   NaN  78.0  17.0\np6   NaN   NaN  45.0  66.0\np7   NaN   NaN  40.0  12.0",
      "text/html": "<div>\n<style scoped>\n    .dataframe tbody tr th:only-of-type {\n        vertical-align: middle;\n    }\n\n    .dataframe tbody tr th {\n        vertical-align: top;\n    }\n\n    .dataframe thead th {\n        text-align: right;\n    }\n</style>\n<table border=\"1\" class=\"dataframe\">\n  <thead>\n    <tr style=\"text-align: right;\">\n      <th></th>\n      <th>c1</th>\n      <th>c2</th>\n      <th>c3</th>\n      <th>c4</th>\n    </tr>\n  </thead>\n  <tbody>\n    <tr>\n      <th>p1</th>\n      <td>85.0</td>\n      <td>44.0</td>\n      <td>NaN</td>\n      <td>NaN</td>\n    </tr>\n    <tr>\n      <th>p2</th>\n      <td>47.0</td>\n      <td>11.0</td>\n      <td>NaN</td>\n      <td>NaN</td>\n    </tr>\n    <tr>\n      <th>p3</th>\n      <td>61.0</td>\n      <td>70.0</td>\n      <td>NaN</td>\n      <td>NaN</td>\n    </tr>\n    <tr>\n      <th>p4</th>\n      <td>38.0</td>\n      <td>88.0</td>\n      <td>NaN</td>\n      <td>NaN</td>\n    </tr>\n    <tr>\n      <th>p4</th>\n      <td>NaN</td>\n      <td>NaN</td>\n      <td>45.0</td>\n      <td>93.0</td>\n    </tr>\n    <tr>\n      <th>p5</th>\n      <td>NaN</td>\n      <td>NaN</td>\n      <td>78.0</td>\n      <td>17.0</td>\n    </tr>\n    <tr>\n      <th>p6</th>\n      <td>NaN</td>\n      <td>NaN</td>\n      <td>45.0</td>\n      <td>66.0</td>\n    </tr>\n    <tr>\n      <th>p7</th>\n      <td>NaN</td>\n      <td>NaN</td>\n      <td>40.0</td>\n      <td>12.0</td>\n    </tr>\n  </tbody>\n</table>\n</div>"
     },
     "execution_count": 181,
     "metadata": {},
     "output_type": "execute_result"
    }
   ],
   "source": [
    "df3 = pd.concat([df11,df22])\n",
    "df3"
   ],
   "metadata": {
    "collapsed": false,
    "pycharm": {
     "name": "#%%\n"
    }
   }
  },
  {
   "cell_type": "code",
   "execution_count": 185,
   "outputs": [
    {
     "data": {
      "text/plain": "nan"
     },
     "execution_count": 185,
     "metadata": {},
     "output_type": "execute_result"
    }
   ],
   "source": [
    "df3.at['p1','c3']"
   ],
   "metadata": {
    "collapsed": false,
    "pycharm": {
     "name": "#%%\n"
    }
   }
  },
  {
   "cell_type": "code",
   "execution_count": 199,
   "outputs": [
    {
     "data": {
      "text/plain": "       c1     c2     c3     c4\np1  False  False   True   True\np2  False  False   True   True\np3  False  False   True   True\np4  False  False   True   True\np4   True   True  False  False\np5   True   True  False  False\np6   True   True  False  False\np7   True   True  False  False",
      "text/html": "<div>\n<style scoped>\n    .dataframe tbody tr th:only-of-type {\n        vertical-align: middle;\n    }\n\n    .dataframe tbody tr th {\n        vertical-align: top;\n    }\n\n    .dataframe thead th {\n        text-align: right;\n    }\n</style>\n<table border=\"1\" class=\"dataframe\">\n  <thead>\n    <tr style=\"text-align: right;\">\n      <th></th>\n      <th>c1</th>\n      <th>c2</th>\n      <th>c3</th>\n      <th>c4</th>\n    </tr>\n  </thead>\n  <tbody>\n    <tr>\n      <th>p1</th>\n      <td>False</td>\n      <td>False</td>\n      <td>True</td>\n      <td>True</td>\n    </tr>\n    <tr>\n      <th>p2</th>\n      <td>False</td>\n      <td>False</td>\n      <td>True</td>\n      <td>True</td>\n    </tr>\n    <tr>\n      <th>p3</th>\n      <td>False</td>\n      <td>False</td>\n      <td>True</td>\n      <td>True</td>\n    </tr>\n    <tr>\n      <th>p4</th>\n      <td>False</td>\n      <td>False</td>\n      <td>True</td>\n      <td>True</td>\n    </tr>\n    <tr>\n      <th>p4</th>\n      <td>True</td>\n      <td>True</td>\n      <td>False</td>\n      <td>False</td>\n    </tr>\n    <tr>\n      <th>p5</th>\n      <td>True</td>\n      <td>True</td>\n      <td>False</td>\n      <td>False</td>\n    </tr>\n    <tr>\n      <th>p6</th>\n      <td>True</td>\n      <td>True</td>\n      <td>False</td>\n      <td>False</td>\n    </tr>\n    <tr>\n      <th>p7</th>\n      <td>True</td>\n      <td>True</td>\n      <td>False</td>\n      <td>False</td>\n    </tr>\n  </tbody>\n</table>\n</div>"
     },
     "execution_count": 199,
     "metadata": {},
     "output_type": "execute_result"
    }
   ],
   "source": [
    "df3.isna()"
   ],
   "metadata": {
    "collapsed": false,
    "pycharm": {
     "name": "#%%\n"
    }
   }
  },
  {
   "cell_type": "code",
   "execution_count": 192,
   "outputs": [
    {
     "data": {
      "text/plain": "Index(['c1', 'c2', 'c3', 'c4'], dtype='object')"
     },
     "execution_count": 192,
     "metadata": {},
     "output_type": "execute_result"
    }
   ],
   "source": [
    "df3.columns"
   ],
   "metadata": {
    "collapsed": false,
    "pycharm": {
     "name": "#%%\n"
    }
   }
  },
  {
   "cell_type": "code",
   "execution_count": 200,
   "outputs": [
    {
     "data": {
      "text/plain": "4"
     },
     "execution_count": 200,
     "metadata": {},
     "output_type": "execute_result"
    }
   ],
   "source": [
    "df3['c4'].isna().sum()"
   ],
   "metadata": {
    "collapsed": false,
    "pycharm": {
     "name": "#%%\n"
    }
   }
  },
  {
   "cell_type": "code",
   "execution_count": 204,
   "outputs": [
    {
     "name": "stdout",
     "output_type": "stream",
     "text": [
      "c1 4\n",
      "c2 4\n",
      "c3 4\n",
      "c4 4\n"
     ]
    }
   ],
   "source": [
    "for col in df3.columns:\n",
    "\tprint(col,df3[col].isna().sum())"
   ],
   "metadata": {
    "collapsed": false,
    "pycharm": {
     "name": "#%%\n"
    }
   }
  },
  {
   "cell_type": "markdown",
   "source": [],
   "metadata": {
    "collapsed": false,
    "pycharm": {
     "name": "#%% md\n"
    }
   }
  },
  {
   "cell_type": "code",
   "execution_count": null,
   "outputs": [],
   "source": [],
   "metadata": {
    "collapsed": false,
    "pycharm": {
     "name": "#%%\n"
    }
   }
  },
  {
   "cell_type": "markdown",
   "source": [],
   "metadata": {
    "collapsed": false,
    "pycharm": {
     "name": "#%% md\n"
    }
   }
  },
  {
   "cell_type": "code",
   "execution_count": null,
   "outputs": [],
   "source": [],
   "metadata": {
    "collapsed": false,
    "pycharm": {
     "name": "#%%\n"
    }
   }
  },
  {
   "cell_type": "markdown",
   "source": [],
   "metadata": {
    "collapsed": false,
    "pycharm": {
     "name": "#%% md\n"
    }
   }
  },
  {
   "cell_type": "code",
   "execution_count": null,
   "outputs": [],
   "source": [],
   "metadata": {
    "collapsed": false,
    "pycharm": {
     "name": "#%%\n"
    }
   }
  },
  {
   "cell_type": "markdown",
   "source": [],
   "metadata": {
    "collapsed": false,
    "pycharm": {
     "name": "#%% md\n"
    }
   }
  },
  {
   "cell_type": "code",
   "execution_count": null,
   "outputs": [],
   "source": [],
   "metadata": {
    "collapsed": false,
    "pycharm": {
     "name": "#%%\n"
    }
   }
  },
  {
   "cell_type": "markdown",
   "source": [],
   "metadata": {
    "collapsed": false,
    "pycharm": {
     "name": "#%% md\n"
    }
   }
  },
  {
   "cell_type": "code",
   "execution_count": null,
   "outputs": [],
   "source": [],
   "metadata": {
    "collapsed": false,
    "pycharm": {
     "name": "#%%\n"
    }
   }
  },
  {
   "cell_type": "markdown",
   "source": [],
   "metadata": {
    "collapsed": false,
    "pycharm": {
     "name": "#%% md\n"
    }
   }
  },
  {
   "cell_type": "code",
   "execution_count": null,
   "outputs": [],
   "source": [],
   "metadata": {
    "collapsed": false,
    "pycharm": {
     "name": "#%%\n"
    }
   }
  },
  {
   "cell_type": "markdown",
   "source": [],
   "metadata": {
    "collapsed": false,
    "pycharm": {
     "name": "#%% md\n"
    }
   }
  },
  {
   "cell_type": "code",
   "execution_count": null,
   "outputs": [],
   "source": [],
   "metadata": {
    "collapsed": false,
    "pycharm": {
     "name": "#%%\n"
    }
   }
  },
  {
   "cell_type": "markdown",
   "source": [],
   "metadata": {
    "collapsed": false,
    "pycharm": {
     "name": "#%% md\n"
    }
   }
  },
  {
   "cell_type": "code",
   "execution_count": null,
   "outputs": [],
   "source": [],
   "metadata": {
    "collapsed": false,
    "pycharm": {
     "name": "#%%\n"
    }
   }
  },
  {
   "cell_type": "markdown",
   "source": [],
   "metadata": {
    "collapsed": false,
    "pycharm": {
     "name": "#%% md\n"
    }
   }
  },
  {
   "cell_type": "code",
   "execution_count": null,
   "outputs": [],
   "source": [],
   "metadata": {
    "collapsed": false,
    "pycharm": {
     "name": "#%%\n"
    }
   }
  },
  {
   "cell_type": "markdown",
   "source": [],
   "metadata": {
    "collapsed": false,
    "pycharm": {
     "name": "#%% md\n"
    }
   }
  },
  {
   "cell_type": "code",
   "execution_count": null,
   "outputs": [],
   "source": [],
   "metadata": {
    "collapsed": false,
    "pycharm": {
     "name": "#%%\n"
    }
   }
  },
  {
   "cell_type": "markdown",
   "source": [],
   "metadata": {
    "collapsed": false,
    "pycharm": {
     "name": "#%% md\n"
    }
   }
  },
  {
   "cell_type": "code",
   "execution_count": null,
   "outputs": [],
   "source": [],
   "metadata": {
    "collapsed": false,
    "pycharm": {
     "name": "#%%\n"
    }
   }
  },
  {
   "cell_type": "markdown",
   "source": [],
   "metadata": {
    "collapsed": false,
    "pycharm": {
     "name": "#%% md\n"
    }
   }
  },
  {
   "cell_type": "code",
   "execution_count": null,
   "outputs": [],
   "source": [],
   "metadata": {
    "collapsed": false,
    "pycharm": {
     "name": "#%%\n"
    }
   }
  },
  {
   "cell_type": "markdown",
   "source": [],
   "metadata": {
    "collapsed": false,
    "pycharm": {
     "name": "#%% md\n"
    }
   }
  },
  {
   "cell_type": "code",
   "execution_count": null,
   "outputs": [],
   "source": [],
   "metadata": {
    "collapsed": false,
    "pycharm": {
     "name": "#%%\n"
    }
   }
  },
  {
   "cell_type": "markdown",
   "source": [],
   "metadata": {
    "collapsed": false,
    "pycharm": {
     "name": "#%% md\n"
    }
   }
  },
  {
   "cell_type": "code",
   "execution_count": null,
   "outputs": [],
   "source": [],
   "metadata": {
    "collapsed": false,
    "pycharm": {
     "name": "#%%\n"
    }
   }
  },
  {
   "cell_type": "markdown",
   "source": [],
   "metadata": {
    "collapsed": false,
    "pycharm": {
     "name": "#%% md\n"
    }
   }
  },
  {
   "cell_type": "code",
   "execution_count": null,
   "outputs": [],
   "source": [],
   "metadata": {
    "collapsed": false,
    "pycharm": {
     "name": "#%%\n"
    }
   }
  },
  {
   "cell_type": "markdown",
   "source": [],
   "metadata": {
    "collapsed": false,
    "pycharm": {
     "name": "#%% md\n"
    }
   }
  },
  {
   "cell_type": "code",
   "execution_count": null,
   "outputs": [],
   "source": [],
   "metadata": {
    "collapsed": false,
    "pycharm": {
     "name": "#%%\n"
    }
   }
  },
  {
   "cell_type": "markdown",
   "source": [],
   "metadata": {
    "collapsed": false,
    "pycharm": {
     "name": "#%% md\n"
    }
   }
  },
  {
   "cell_type": "code",
   "execution_count": null,
   "outputs": [],
   "source": [],
   "metadata": {
    "collapsed": false,
    "pycharm": {
     "name": "#%%\n"
    }
   }
  },
  {
   "cell_type": "markdown",
   "source": [],
   "metadata": {
    "collapsed": false,
    "pycharm": {
     "name": "#%% md\n"
    }
   }
  },
  {
   "cell_type": "code",
   "execution_count": null,
   "outputs": [],
   "source": [],
   "metadata": {
    "collapsed": false,
    "pycharm": {
     "name": "#%%\n"
    }
   }
  },
  {
   "cell_type": "markdown",
   "source": [],
   "metadata": {
    "collapsed": false,
    "pycharm": {
     "name": "#%% md\n"
    }
   }
  },
  {
   "cell_type": "code",
   "execution_count": null,
   "outputs": [],
   "source": [],
   "metadata": {
    "collapsed": false,
    "pycharm": {
     "name": "#%%\n"
    }
   }
  },
  {
   "cell_type": "markdown",
   "source": [],
   "metadata": {
    "collapsed": false,
    "pycharm": {
     "name": "#%% md\n"
    }
   }
  },
  {
   "cell_type": "code",
   "execution_count": null,
   "outputs": [],
   "source": [],
   "metadata": {
    "collapsed": false,
    "pycharm": {
     "name": "#%%\n"
    }
   }
  },
  {
   "cell_type": "markdown",
   "source": [],
   "metadata": {
    "collapsed": false,
    "pycharm": {
     "name": "#%% md\n"
    }
   }
  },
  {
   "cell_type": "code",
   "execution_count": null,
   "outputs": [],
   "source": [],
   "metadata": {
    "collapsed": false,
    "pycharm": {
     "name": "#%%\n"
    }
   }
  },
  {
   "cell_type": "markdown",
   "source": [],
   "metadata": {
    "collapsed": false,
    "pycharm": {
     "name": "#%% md\n"
    }
   }
  },
  {
   "cell_type": "code",
   "execution_count": null,
   "outputs": [],
   "source": [],
   "metadata": {
    "collapsed": false,
    "pycharm": {
     "name": "#%%\n"
    }
   }
  },
  {
   "cell_type": "markdown",
   "source": [],
   "metadata": {
    "collapsed": false,
    "pycharm": {
     "name": "#%% md\n"
    }
   }
  },
  {
   "cell_type": "code",
   "execution_count": null,
   "outputs": [],
   "source": [],
   "metadata": {
    "collapsed": false,
    "pycharm": {
     "name": "#%%\n"
    }
   }
  },
  {
   "cell_type": "markdown",
   "source": [],
   "metadata": {
    "collapsed": false,
    "pycharm": {
     "name": "#%% md\n"
    }
   }
  },
  {
   "cell_type": "code",
   "execution_count": null,
   "outputs": [],
   "source": [],
   "metadata": {
    "collapsed": false,
    "pycharm": {
     "name": "#%%\n"
    }
   }
  },
  {
   "cell_type": "markdown",
   "source": [],
   "metadata": {
    "collapsed": false,
    "pycharm": {
     "name": "#%% md\n"
    }
   }
  },
  {
   "cell_type": "code",
   "execution_count": null,
   "outputs": [],
   "source": [],
   "metadata": {
    "collapsed": false,
    "pycharm": {
     "name": "#%%\n"
    }
   }
  },
  {
   "cell_type": "markdown",
   "source": [],
   "metadata": {
    "collapsed": false,
    "pycharm": {
     "name": "#%% md\n"
    }
   }
  },
  {
   "cell_type": "code",
   "execution_count": null,
   "outputs": [],
   "source": [],
   "metadata": {
    "collapsed": false,
    "pycharm": {
     "name": "#%%\n"
    }
   }
  },
  {
   "cell_type": "markdown",
   "source": [],
   "metadata": {
    "collapsed": false,
    "pycharm": {
     "name": "#%% md\n"
    }
   }
  },
  {
   "cell_type": "code",
   "execution_count": null,
   "outputs": [],
   "source": [],
   "metadata": {
    "collapsed": false,
    "pycharm": {
     "name": "#%%\n"
    }
   }
  },
  {
   "cell_type": "markdown",
   "source": [],
   "metadata": {
    "collapsed": false,
    "pycharm": {
     "name": "#%% md\n"
    }
   }
  },
  {
   "cell_type": "code",
   "execution_count": null,
   "outputs": [],
   "source": [],
   "metadata": {
    "collapsed": false,
    "pycharm": {
     "name": "#%%\n"
    }
   }
  },
  {
   "cell_type": "markdown",
   "source": [],
   "metadata": {
    "collapsed": false,
    "pycharm": {
     "name": "#%% md\n"
    }
   }
  },
  {
   "cell_type": "code",
   "execution_count": null,
   "outputs": [],
   "source": [],
   "metadata": {
    "collapsed": false,
    "pycharm": {
     "name": "#%%\n"
    }
   }
  },
  {
   "cell_type": "markdown",
   "source": [],
   "metadata": {
    "collapsed": false,
    "pycharm": {
     "name": "#%% md\n"
    }
   }
  },
  {
   "cell_type": "code",
   "execution_count": null,
   "outputs": [],
   "source": [],
   "metadata": {
    "collapsed": false,
    "pycharm": {
     "name": "#%%\n"
    }
   }
  },
  {
   "cell_type": "markdown",
   "source": [],
   "metadata": {
    "collapsed": false,
    "pycharm": {
     "name": "#%% md\n"
    }
   }
  }
 ],
 "metadata": {
  "kernelspec": {
   "display_name": "Python 3",
   "language": "python",
   "name": "python3"
  },
  "language_info": {
   "codemirror_mode": {
    "name": "ipython",
    "version": 2
   },
   "file_extension": ".py",
   "mimetype": "text/x-python",
   "name": "python",
   "nbconvert_exporter": "python",
   "pygments_lexer": "ipython2",
   "version": "2.7.6"
  }
 },
 "nbformat": 4,
 "nbformat_minor": 0
}