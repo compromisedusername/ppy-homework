{
 "cells": [
  {
   "cell_type": "markdown",
   "source": [
    "# Metody specjalne - implementacja protokołów"
   ],
   "metadata": {
    "collapsed": false,
    "pycharm": {
     "name": "#%% md\n"
    }
   }
  },
  {
   "cell_type": "markdown",
   "source": [
    "## Protokół sekwencji"
   ],
   "metadata": {
    "collapsed": false,
    "pycharm": {
     "name": "#%% md\n"
    }
   }
  },
  {
   "cell_type": "markdown",
   "source": [
    "Klasa liczb zespolonych"
   ],
   "metadata": {
    "collapsed": false,
    "pycharm": {
     "name": "#%% md\n"
    }
   }
  },
  {
   "cell_type": "code",
   "source": [
    "class Cmplx:\n",
    "\n",
    "    def __init__(self, re, im):\n",
    "        self._im = im\n",
    "        self._re = re\n",
    "\n",
    "    def __str__(self):\n",
    "        if self._im>=0:\n",
    "            return str(self._re)+\"+j\"+str(self._im)\n",
    "        else:\n",
    "            return str(self._re)+\"-j\"+str(-self._im)\n",
    "\n",
    "    @property\n",
    "    def re(self):\n",
    "        return self._re\n",
    "\n",
    "    @property\n",
    "    def im(self):\n",
    "        return self._im\n",
    "\n",
    "    def __add__(self, other):\n",
    "        return Cmplx(self.re+other.re, self.im+other.im)\n",
    "\n",
    "    def __sub__(self, other):\n",
    "        return Cmplx(self.re-other.re, self.im-other.im)\n",
    "\n",
    "    def __mul__(self, other):\n",
    "        if type(other) == Cmplx:\n",
    "            return Cmplx(self.re*other.re-self.im*other.im, self.re*other.im+self.im*other.re)\n",
    "        else:\n",
    "            return Cmplx(other*self.re, other*self.im)\n",
    "\n",
    "    def __rmul__(self, other):\n",
    "        return self*other\n",
    "\n"
   ],
   "metadata": {
    "collapsed": false,
    "pycharm": {
     "name": "#%%\n"
    },
    "ExecuteTime": {
     "end_time": "2024-05-16T21:22:11.509846Z",
     "start_time": "2024-05-16T21:22:11.501762Z"
    }
   },
   "outputs": [],
   "execution_count": 12
  },
  {
   "cell_type": "markdown",
   "source": [
    "Klasa implementująca szereg liczb zespolonych"
   ],
   "metadata": {
    "collapsed": false,
    "pycharm": {
     "name": "#%% md\n"
    }
   }
  },
  {
   "cell_type": "code",
   "source": [
    "class CmplxSeries:\n",
    "\n",
    "    def __init__(self,length,begin,diff):\n",
    "        self._begin = begin\n",
    "        self._diff = diff\n",
    "        self._length = length\n",
    "\n",
    "    def __str__(self):\n",
    "        s = \"(\"\n",
    "        for i in range(0,len(self)-1):\n",
    "            s = s+str(self[i])+\", \"\n",
    "        s = s+str(self[len(self)-1])+\")\"\n",
    "        return s\n",
    "\n",
    "    def __len__(self):\n",
    "        return self._length\n",
    "\n",
    "    def __getitem__(self, index):\n",
    "        if 0 <= index < self._length:\n",
    "            return self._begin + index*self._diff\n",
    "        # else:\n",
    "        #     # raise IndexError\n",
    "\n",
    "    def __contains__(self, item):\n",
    "        pass\n",
    "\n",
    "    def __reversed__(self):\n",
    "        pass\n",
    "\n"
   ],
   "metadata": {
    "collapsed": false,
    "pycharm": {
     "name": "#%%\n"
    },
    "ExecuteTime": {
     "end_time": "2024-05-16T21:22:04.340208Z",
     "start_time": "2024-05-16T21:22:04.333645Z"
    }
   },
   "outputs": [],
   "execution_count": 10
  },
  {
   "cell_type": "code",
   "source": [
    "b = Cmplx(2,3)\n",
    "d = Cmplx(1,-1)\n",
    "n = 10\n",
    "print(b)"
   ],
   "metadata": {
    "collapsed": false,
    "pycharm": {
     "name": "#%%\n"
    },
    "ExecuteTime": {
     "end_time": "2024-05-16T21:22:15.707180Z",
     "start_time": "2024-05-16T21:22:15.702250Z"
    }
   },
   "outputs": [
    {
     "name": "stdout",
     "output_type": "stream",
     "text": [
      "2+j3\n"
     ]
    }
   ],
   "execution_count": 13
  },
  {
   "cell_type": "markdown",
   "source": [
    "Instancja klasy CmlpxSeries"
   ],
   "metadata": {
    "collapsed": false,
    "pycharm": {
     "name": "#%% md\n"
    }
   }
  },
  {
   "cell_type": "code",
   "execution_count": 10,
   "outputs": [
    {
     "name": "stdout",
     "output_type": "stream",
     "text": [
      "(2+j3, 3+j2, 4+j1, 5+j0, 6-j1, 7-j2, 8-j3, 9-j4, 10-j5, 11-j6)\n"
     ]
    }
   ],
   "source": [
    "s = CmplxSeries(n,b,d)\n",
    "print(s)"
   ],
   "metadata": {
    "collapsed": false,
    "pycharm": {
     "name": "#%%\n"
    }
   }
  },
  {
   "cell_type": "markdown",
   "source": [
    "Możliwość wykorzystania operatora indeksowania dzięki implementacji protokołu sekwencji"
   ],
   "metadata": {
    "collapsed": false,
    "pycharm": {
     "name": "#%% md\n"
    }
   }
  },
  {
   "cell_type": "code",
   "execution_count": 11,
   "outputs": [
    {
     "name": "stdout",
     "output_type": "stream",
     "text": [
      "10\n",
      "7-j2\n",
      "None\n"
     ]
    }
   ],
   "source": [
    "s = CmplxSeries(n,b,d)\n",
    "print(len(s))\n",
    "print(s[5])\n",
    "print(s[-1])"
   ],
   "metadata": {
    "collapsed": false,
    "pycharm": {
     "name": "#%%\n"
    }
   }
  },
  {
   "cell_type": "markdown",
   "source": [
    "Brak obsługi zakresów - slice objects"
   ],
   "metadata": {
    "collapsed": false,
    "pycharm": {
     "name": "#%% md\n"
    }
   }
  },
  {
   "cell_type": "code",
   "execution_count": 12,
   "outputs": [],
   "source": [
    "# print(s[5:10])"
   ],
   "metadata": {
    "collapsed": false,
    "pycharm": {
     "name": "#%%\n"
    }
   }
  },
  {
   "cell_type": "markdown",
   "source": [
    "Dodana obsługa slices w metodzie `__getitem__()`"
   ],
   "metadata": {
    "collapsed": false,
    "pycharm": {
     "name": "#%% md\n"
    }
   }
  },
  {
   "cell_type": "code",
   "source": [
    "class CmplxSeries:\n",
    "\n",
    "    def __init__(self,length,begin,diff):\n",
    "        self._begin = begin\n",
    "        self._diff = diff\n",
    "        self._length = length\n",
    "\n",
    "    def __str__(self):\n",
    "        s = \"(\"\n",
    "        for i in range(0,len(self)-1):\n",
    "            s = s+str(self[i])+\", \"\n",
    "        s = s+str(self[len(self)-1])+\")\"\n",
    "        return s\n",
    "\n",
    "    def __len__(self):\n",
    "        return self._length\n",
    "\n",
    "    def __getitem__(self, index):\n",
    "        if isinstance(index, int):\n",
    "            if 0 <= index < self._length:\n",
    "                return self._begin + index*self._diff\n",
    "            # else:\n",
    "            #     raise IndexError\n",
    "        elif isinstance(index, slice):\n",
    "            start, stop, step = index.indices(len(self))\n",
    "            # print(start, stop, step)\n",
    "\n",
    "            if 0<=start<stop<len(self):\n",
    "                b = self[start]\n",
    "                l = stop - start\n",
    "                d = self._diff\n",
    "                return CmplxSeries(l,b,d)\n",
    "        #     else:\n",
    "        #         raise IndexError\n",
    "        # else:\n",
    "        #     raise IndexError\n",
    "\n",
    "    def __contains__(self, item):\n",
    "        pass\n",
    "\n",
    "    def __reversed__(self):\n",
    "        pass"
   ],
   "metadata": {
    "collapsed": false,
    "pycharm": {
     "name": "#%%\n"
    },
    "ExecuteTime": {
     "end_time": "2024-05-16T21:43:21.787415Z",
     "start_time": "2024-05-16T21:43:21.780054Z"
    }
   },
   "outputs": [],
   "execution_count": 27
  },
  {
   "cell_type": "code",
   "source": [
    "s = CmplxSeries(n,b,d)\n",
    "print(s[1])\n",
    "print(s[1:9:3])"
   ],
   "metadata": {
    "collapsed": false,
    "pycharm": {
     "name": "#%%\n"
    },
    "ExecuteTime": {
     "end_time": "2024-05-16T21:43:38.392616Z",
     "start_time": "2024-05-16T21:43:38.387698Z"
    }
   },
   "outputs": [
    {
     "name": "stdout",
     "output_type": "stream",
     "text": [
      "3+j2\n",
      "(3+j2, 4+j1, 5+j0, 6-j1, 7-j2, 8-j3, 9-j4, 10-j5)\n"
     ]
    }
   ],
   "execution_count": 32
  },
  {
   "cell_type": "markdown",
   "source": [
    "## Protokół iteracji"
   ],
   "metadata": {
    "collapsed": false,
    "pycharm": {
     "name": "#%% md\n"
    }
   }
  },
  {
   "cell_type": "markdown",
   "source": [
    "Prosty iterator po kwadratach liczb z zakresu"
   ],
   "metadata": {
    "collapsed": false,
    "pycharm": {
     "name": "#%% md\n"
    }
   }
  },
  {
   "cell_type": "code",
   "execution_count": 9,
   "outputs": [],
   "source": [
    "class IterSquares:\n",
    "\n",
    "    def __init__(self, begin, end, diff):\n",
    "        self._begin = begin\n",
    "        self._end = end\n",
    "        self._diff = diff\n",
    "        self._actual = begin\n",
    "\n",
    "    def __iter__(self):\n",
    "        self._actual = self._begin\n",
    "        return self\n",
    "\n",
    "    def __next__(self):\n",
    "        if (self._diff>0 and self._actual<self._end) or (self._diff<0 and self._actual>self._end):\n",
    "            ret = self._actual**2\n",
    "            self._actual = self._actual+self._diff\n",
    "            return ret\n",
    "        else:\n",
    "            raise StopIteration\n",
    "\n"
   ],
   "metadata": {
    "collapsed": false,
    "pycharm": {
     "name": "#%%\n"
    },
    "ExecuteTime": {
     "end_time": "2024-04-28T20:31:23.552348200Z",
     "start_time": "2024-04-28T20:31:23.517242900Z"
    }
   }
  },
  {
   "cell_type": "markdown",
   "source": [
    "Iterowanie \"ręczne\" za pomocą funkcji `next()`"
   ],
   "metadata": {
    "collapsed": false,
    "pycharm": {
     "name": "#%% md\n"
    }
   }
  },
  {
   "cell_type": "code",
   "execution_count": 10,
   "outputs": [],
   "source": [
    "it = IterSquares(2,10,1)"
   ],
   "metadata": {
    "collapsed": false,
    "pycharm": {
     "name": "#%%\n"
    },
    "ExecuteTime": {
     "end_time": "2024-04-28T20:31:25.316894600Z",
     "start_time": "2024-04-28T20:31:25.309005500Z"
    }
   }
  },
  {
   "cell_type": "code",
   "execution_count": 12,
   "outputs": [
    {
     "name": "stdout",
     "output_type": "stream",
     "text": [
      "16\n",
      "25\n",
      "36\n",
      "49\n",
      "64\n",
      "81\n"
     ]
    },
    {
     "ename": "StopIteration",
     "evalue": "",
     "output_type": "error",
     "traceback": [
      "\u001B[1;31m---------------------------------------------------------------------------\u001B[0m",
      "\u001B[1;31mStopIteration\u001B[0m                             Traceback (most recent call last)",
      "Cell \u001B[1;32mIn[12], line 7\u001B[0m\n\u001B[0;32m      5\u001B[0m \u001B[38;5;28mprint\u001B[39m(\u001B[38;5;28mnext\u001B[39m(it))\n\u001B[0;32m      6\u001B[0m \u001B[38;5;28mprint\u001B[39m(\u001B[38;5;28mnext\u001B[39m(it))\n\u001B[1;32m----> 7\u001B[0m \u001B[38;5;28mprint\u001B[39m(\u001B[38;5;28;43mnext\u001B[39;49m\u001B[43m(\u001B[49m\u001B[43mit\u001B[49m\u001B[43m)\u001B[49m)\n\u001B[0;32m      8\u001B[0m \u001B[38;5;28mprint\u001B[39m(\u001B[38;5;28mnext\u001B[39m(it))\n\u001B[0;32m      9\u001B[0m \u001B[38;5;28mprint\u001B[39m(\u001B[38;5;28mnext\u001B[39m(it))\n",
      "Cell \u001B[1;32mIn[9], line 19\u001B[0m, in \u001B[0;36mIterSquares.__next__\u001B[1;34m(self)\u001B[0m\n\u001B[0;32m     17\u001B[0m     \u001B[38;5;28;01mreturn\u001B[39;00m ret\n\u001B[0;32m     18\u001B[0m \u001B[38;5;28;01melse\u001B[39;00m:\n\u001B[1;32m---> 19\u001B[0m     \u001B[38;5;28;01mraise\u001B[39;00m \u001B[38;5;167;01mStopIteration\u001B[39;00m\n",
      "\u001B[1;31mStopIteration\u001B[0m: "
     ]
    }
   ],
   "source": [
    "print(next(it))\n",
    "print(next(it))\n",
    "print(next(it))\n",
    "print(next(it))\n",
    "print(next(it))\n",
    "print(next(it))\n",
    "print(next(it))\n",
    "print(next(it))\n",
    "print(next(it))\n",
    "print(next(it))\n",
    "print(next(it))\n",
    "print(next(it))\n",
    "print(next(it))\n",
    "print(next(it))\n",
    "print(next(it))\n",
    "print(next(it))\n",
    "print(next(it))"
   ],
   "metadata": {
    "collapsed": false,
    "pycharm": {
     "name": "#%%\n"
    },
    "ExecuteTime": {
     "end_time": "2024-04-28T20:37:54.996904400Z",
     "start_time": "2024-04-28T20:37:54.936150100Z"
    }
   }
  },
  {
   "cell_type": "markdown",
   "source": [
    "Pętla while"
   ],
   "metadata": {
    "collapsed": false,
    "pycharm": {
     "name": "#%% md\n"
    }
   }
  },
  {
   "cell_type": "code",
   "execution_count": 18,
   "outputs": [
    {
     "name": "stdout",
     "output_type": "stream",
     "text": [
      "4 9 16 25 36 49 64 81 koniec iterowania\n"
     ]
    }
   ],
   "source": [
    "it = IterSquares(2,10,1)\n",
    "while True:\n",
    "    try:\n",
    "        print(next(it), end=\" \")\n",
    "    except StopIteration:\n",
    "        print(\"koniec iterowania\")\n",
    "        break\n"
   ],
   "metadata": {
    "collapsed": false,
    "pycharm": {
     "name": "#%%\n"
    }
   }
  },
  {
   "cell_type": "code",
   "execution_count": 19,
   "outputs": [
    {
     "name": "stdout",
     "output_type": "stream",
     "text": [
      "4 9 16 25 36 49 64 81 koniec iterowania\n"
     ]
    }
   ],
   "source": [
    "it = IterSquares(2,10,1)\n",
    "while True:\n",
    "    try:\n",
    "        print(next(it), end=\" \")\n",
    "    except StopIteration:\n",
    "        print(\"koniec iterowania\")\n",
    "        break\n"
   ],
   "metadata": {
    "collapsed": false,
    "pycharm": {
     "name": "#%%\n"
    }
   }
  },
  {
   "cell_type": "markdown",
   "source": [
    "Wyczerpanie iteratora"
   ],
   "metadata": {
    "collapsed": false,
    "pycharm": {
     "name": "#%% md\n"
    }
   }
  },
  {
   "cell_type": "code",
   "execution_count": 20,
   "outputs": [
    {
     "name": "stdout",
     "output_type": "stream",
     "text": [
      "koniec iterowania\n"
     ]
    }
   ],
   "source": [
    "while True:\n",
    "    try:\n",
    "        print(next(it))\n",
    "    except StopIteration:\n",
    "        print(\"koniec iterowania\")\n",
    "        break"
   ],
   "metadata": {
    "collapsed": false,
    "pycharm": {
     "name": "#%%\n"
    }
   }
  },
  {
   "cell_type": "markdown",
   "source": [
    "Ponowna inicjalizacja iteratora"
   ],
   "metadata": {
    "collapsed": false,
    "pycharm": {
     "name": "#%% md\n"
    }
   }
  },
  {
   "cell_type": "code",
   "execution_count": 21,
   "outputs": [
    {
     "name": "stdout",
     "output_type": "stream",
     "text": [
      "4 9 16 25 36 49 64 81 koniec iterowania\n"
     ]
    }
   ],
   "source": [
    "it = iter(it)\n",
    "while True:\n",
    "    try:\n",
    "        print(next(it), end=\" \")\n",
    "    except StopIteration:\n",
    "        print(\"koniec iterowania\")\n",
    "        break"
   ],
   "metadata": {
    "collapsed": false,
    "pycharm": {
     "name": "#%%\n"
    }
   }
  },
  {
   "cell_type": "markdown",
   "source": [
    "Pętla for"
   ],
   "metadata": {
    "collapsed": false,
    "pycharm": {
     "name": "#%% md\n"
    }
   }
  },
  {
   "cell_type": "code",
   "execution_count": 22,
   "outputs": [
    {
     "name": "stdout",
     "output_type": "stream",
     "text": [
      "4 9 16 25 36 49 64 81 "
     ]
    }
   ],
   "source": [
    "it = IterSquares(2,10,1)\n",
    "for elem in it:\n",
    "    print(elem, end=\" \")"
   ],
   "metadata": {
    "collapsed": false,
    "pycharm": {
     "name": "#%%\n"
    }
   }
  },
  {
   "cell_type": "markdown",
   "source": [
    "Comprehensions"
   ],
   "metadata": {
    "collapsed": false,
    "pycharm": {
     "name": "#%% md\n"
    }
   }
  },
  {
   "cell_type": "code",
   "execution_count": 23,
   "outputs": [
    {
     "name": "stdout",
     "output_type": "stream",
     "text": [
      "[9, 25, 49, 81]\n"
     ]
    }
   ],
   "source": [
    "it = IterSquares(2,10,1)\n",
    "l = [elem for elem in it if elem % 2 !=0 ]\n",
    "print(l)"
   ],
   "metadata": {
    "collapsed": false,
    "pycharm": {
     "name": "#%%\n"
    }
   }
  },
  {
   "cell_type": "markdown",
   "source": [
    "Konwersje do typów kontenerowych"
   ],
   "metadata": {
    "collapsed": false,
    "pycharm": {
     "name": "#%% md\n"
    }
   }
  },
  {
   "cell_type": "code",
   "execution_count": 24,
   "outputs": [
    {
     "name": "stdout",
     "output_type": "stream",
     "text": [
      "[4, 9, 16, 25, 36, 49, 64, 81]\n"
     ]
    }
   ],
   "source": [
    "it = IterSquares(2,10,1)\n",
    "l = list(it)\n",
    "print(l)"
   ],
   "metadata": {
    "collapsed": false,
    "pycharm": {
     "name": "#%%\n"
    }
   }
  },
  {
   "cell_type": "markdown",
   "source": [
    "Funkcje wbudowane"
   ],
   "metadata": {
    "collapsed": false,
    "pycharm": {
     "name": "#%% md\n"
    }
   }
  },
  {
   "cell_type": "code",
   "execution_count": 25,
   "outputs": [
    {
     "name": "stdout",
     "output_type": "stream",
     "text": [
      "81\n",
      "4\n",
      "284\n"
     ]
    }
   ],
   "source": [
    "it = IterSquares(2,10,1)\n",
    "print(max(it))\n",
    "print(min(it))\n",
    "print(sum(it))"
   ],
   "metadata": {
    "collapsed": false,
    "pycharm": {
     "name": "#%%\n"
    }
   }
  },
  {
   "cell_type": "markdown",
   "source": [
    "Klasa do iterowania po elementach szeregu zespolonego"
   ],
   "metadata": {
    "collapsed": false,
    "pycharm": {
     "name": "#%% md\n"
    }
   }
  },
  {
   "cell_type": "code",
   "execution_count": 26,
   "outputs": [],
   "source": [
    "class CmplxSeriesIter:\n",
    "\n",
    "    def __init__(self,length,begin,diff):\n",
    "        self._begin = begin\n",
    "        self._diff = diff\n",
    "        self._length = length\n",
    "        self._ind = 0\n",
    "\n",
    "    def __iter__(self):\n",
    "        self._ind = 0\n",
    "        return self\n",
    "\n",
    "    def __next__(self):\n",
    "        if self._ind < self._length:\n",
    "            elem = self._begin + self._ind*self._diff\n",
    "            self._ind += 1\n",
    "            return elem\n",
    "        else:\n",
    "            raise StopIteration\n",
    "\n"
   ],
   "metadata": {
    "collapsed": false,
    "pycharm": {
     "name": "#%%\n"
    }
   }
  },
  {
   "cell_type": "markdown",
   "source": [
    "Tworzenie iteratora"
   ],
   "metadata": {
    "collapsed": false,
    "pycharm": {
     "name": "#%% md\n"
    }
   }
  },
  {
   "cell_type": "code",
   "execution_count": 27,
   "outputs": [],
   "source": [
    "b = Cmplx(2,3)\n",
    "d = Cmplx(1,-1)\n",
    "n = 10\n",
    "s = CmplxSeriesIter(n,b,d)\n"
   ],
   "metadata": {
    "collapsed": false,
    "pycharm": {
     "name": "#%%\n"
    }
   }
  },
  {
   "cell_type": "markdown",
   "source": [
    "Iterowanie za pomocą funkcji next()"
   ],
   "metadata": {
    "collapsed": false,
    "pycharm": {
     "name": "#%% md\n"
    }
   }
  },
  {
   "cell_type": "code",
   "execution_count": 28,
   "outputs": [
    {
     "name": "stdout",
     "output_type": "stream",
     "text": [
      "2+j3\n"
     ]
    }
   ],
   "source": [
    "print(next(s))"
   ],
   "metadata": {
    "collapsed": false,
    "pycharm": {
     "name": "#%%\n"
    }
   }
  },
  {
   "cell_type": "markdown",
   "source": [
    "Reinicjalizacja iteratora i ponowne iterowanie"
   ],
   "metadata": {
    "collapsed": false,
    "pycharm": {
     "name": "#%% md\n"
    }
   }
  },
  {
   "cell_type": "code",
   "execution_count": 29,
   "outputs": [
    {
     "data": {
      "text/plain": "<__main__.CmplxSeriesIter at 0x1e07846c040>"
     },
     "execution_count": 29,
     "metadata": {},
     "output_type": "execute_result"
    }
   ],
   "source": [
    "iter(s)"
   ],
   "metadata": {
    "collapsed": false,
    "pycharm": {
     "name": "#%%\n"
    }
   }
  },
  {
   "cell_type": "code",
   "execution_count": 30,
   "outputs": [
    {
     "name": "stdout",
     "output_type": "stream",
     "text": [
      "2+j3\n"
     ]
    }
   ],
   "source": [
    "print(next(s))"
   ],
   "metadata": {
    "collapsed": false,
    "pycharm": {
     "name": "#%%\n"
    }
   }
  },
  {
   "cell_type": "markdown",
   "source": [
    "Iteratory w pętli for"
   ],
   "metadata": {
    "collapsed": false,
    "pycharm": {
     "name": "#%% md\n"
    }
   }
  },
  {
   "cell_type": "code",
   "execution_count": 31,
   "outputs": [
    {
     "name": "stdout",
     "output_type": "stream",
     "text": [
      "2+j3 3+j2 4+j1 5+j0 6-j1 7-j2 8-j3 9-j4 10-j5 11-j6 "
     ]
    }
   ],
   "source": [
    "for elem in CmplxSeriesIter(n,b,d):\n",
    "    print(elem, end=\" \")"
   ],
   "metadata": {
    "collapsed": false,
    "pycharm": {
     "name": "#%%\n"
    }
   }
  },
  {
   "cell_type": "markdown",
   "source": [
    "Iteratory w comprehensions"
   ],
   "metadata": {
    "collapsed": false,
    "pycharm": {
     "name": "#%% md\n"
    }
   }
  },
  {
   "cell_type": "code",
   "execution_count": 32,
   "outputs": [
    {
     "name": "stdout",
     "output_type": "stream",
     "text": [
      "2+j3  3+j2  4+j1  5+j0  6-j1  7-j2  8-j3  9-j4  10-j5  11-j6  "
     ]
    }
   ],
   "source": [
    "l = [e for e in CmplxSeriesIter(n,b,d)]\n",
    "for e in l:\n",
    "    print(e, end=\"  \")"
   ],
   "metadata": {
    "collapsed": false,
    "pycharm": {
     "name": "#%%\n"
    }
   }
  },
  {
   "cell_type": "markdown",
   "source": [
    "konwersje do typów kontenerowych"
   ],
   "metadata": {
    "collapsed": false,
    "pycharm": {
     "name": "#%% md\n"
    }
   }
  },
  {
   "cell_type": "code",
   "execution_count": 33,
   "outputs": [
    {
     "name": "stdout",
     "output_type": "stream",
     "text": [
      "2+j3  3+j2  4+j1  5+j0  6-j1  7-j2  8-j3  9-j4  10-j5  11-j6  "
     ]
    }
   ],
   "source": [
    "l = list(CmplxSeriesIter(n,b,d))\n",
    "for e in l:\n",
    "    print(e, end=\"  \")"
   ],
   "metadata": {
    "collapsed": false,
    "pycharm": {
     "name": "#%%\n"
    }
   }
  },
  {
   "cell_type": "code",
   "execution_count": 34,
   "outputs": [
    {
     "name": "stdout",
     "output_type": "stream",
     "text": [
      "2+j3  3+j2  4+j1  5+j0  6-j1  7-j2  8-j3  9-j4  10-j5  11-j6  \n",
      "2+j3  3+j2  4+j1  5+j0  6-j1  7-j2  8-j3  9-j4  10-j5  11-j6  "
     ]
    }
   ],
   "source": [
    "a = CmplxSeriesIter(n,b,d)\n",
    "for elem in a:\n",
    "    print(elem, end=\"  \")\n",
    "\n",
    "print()\n",
    "for elem in a:\n",
    "    print(elem, end=\"  \")"
   ],
   "metadata": {
    "collapsed": false,
    "pycharm": {
     "name": "#%%\n"
    }
   }
  },
  {
   "cell_type": "markdown",
   "source": [
    "# Iteratory i iterables"
   ],
   "metadata": {
    "collapsed": false,
    "pycharm": {
     "name": "#%% md\n"
    }
   }
  },
  {
   "cell_type": "markdown",
   "source": [
    "Klasa szereg liczb zespolonych"
   ],
   "metadata": {
    "collapsed": false,
    "pycharm": {
     "name": "#%% md\n"
    }
   }
  },
  {
   "cell_type": "code",
   "execution_count": 14,
   "outputs": [],
   "source": [
    "class CmplxSeries:\n",
    "\n",
    "    def __init__(self,length,begin,diff):\n",
    "        self._begin = begin\n",
    "        self._diff = diff\n",
    "        self._length = length\n",
    "\n",
    "    def __str__(self):\n",
    "        s = \"(\"\n",
    "        for i in range(0,len(self)-1):\n",
    "            s = s+str(self[i])+\", \"\n",
    "        s = s+str(self[len(self)-1])+\")\"\n",
    "        return s\n",
    "\n",
    "    def __len__(self):\n",
    "        return self._length\n",
    "\n",
    "    def __getitem__(self, index):\n",
    "        if 0 <= index < self._length:\n",
    "            return self._begin + index*self._diff\n",
    "        # else:\n",
    "        #     # raise IndexError\n",
    "\n",
    "    def __contains__(self, item):\n",
    "        pass\n",
    "\n",
    "    def __reversed__(self):\n",
    "        pass\n",
    "\n",
    "    def __iter__(self):\n",
    "        return CmplxSeriesIter(self)\n"
   ],
   "metadata": {
    "collapsed": false,
    "pycharm": {
     "name": "#%%\n"
    },
    "ExecuteTime": {
     "end_time": "2024-04-28T21:54:50.015653800Z",
     "start_time": "2024-04-28T21:54:49.986399900Z"
    }
   }
  },
  {
   "cell_type": "markdown",
   "source": [
    "Osobna klasa do iterowania po szeregu"
   ],
   "metadata": {
    "collapsed": false,
    "pycharm": {
     "name": "#%% md\n"
    }
   }
  },
  {
   "cell_type": "code",
   "execution_count": 13,
   "outputs": [],
   "source": [
    "class CmplxSeriesIter:\n",
    "\n",
    "    def __init__(self,series):\n",
    "        self._series = series\n",
    "        self._ind = 0\n",
    "\n",
    "    def __iter__(self):\n",
    "        self._ind = 0\n",
    "        return self\n",
    "\n",
    "    def __next__(self):\n",
    "        if self._ind < len(self._series):\n",
    "            elem = self._series[self._ind]\n",
    "            self._ind += 1\n",
    "            return elem\n",
    "        else:\n",
    "            raise StopIteration"
   ],
   "metadata": {
    "collapsed": false,
    "pycharm": {
     "name": "#%%\n"
    },
    "ExecuteTime": {
     "end_time": "2024-04-28T21:54:47.995930800Z",
     "start_time": "2024-04-28T21:54:47.963958300Z"
    }
   }
  },
  {
   "cell_type": "markdown",
   "source": [
    "Ręczne iterowanie po szeregu"
   ],
   "metadata": {
    "collapsed": false,
    "pycharm": {
     "name": "#%% md\n"
    }
   }
  },
  {
   "cell_type": "code",
   "execution_count": 37,
   "outputs": [
    {
     "ename": "TypeError",
     "evalue": "'CmplxSeries' object is not an iterator",
     "output_type": "error",
     "traceback": [
      "\u001B[1;31m---------------------------------------------------------------------------\u001B[0m",
      "\u001B[1;31mTypeError\u001B[0m                                 Traceback (most recent call last)",
      "Cell \u001B[1;32mIn[37], line 2\u001B[0m\n\u001B[0;32m      1\u001B[0m a \u001B[38;5;241m=\u001B[39m CmplxSeries(n,b,d)\n\u001B[1;32m----> 2\u001B[0m \u001B[38;5;28;43mnext\u001B[39;49m\u001B[43m(\u001B[49m\u001B[43ma\u001B[49m\u001B[43m)\u001B[49m\n",
      "\u001B[1;31mTypeError\u001B[0m: 'CmplxSeries' object is not an iterator"
     ]
    }
   ],
   "source": [
    "a = CmplxSeries(n,b,d)\n",
    "next(a)"
   ],
   "metadata": {
    "collapsed": false,
    "pycharm": {
     "name": "#%%\n"
    }
   }
  },
  {
   "cell_type": "code",
   "execution_count": 15,
   "outputs": [],
   "source": [
    "a = CmplxSeries(n,b,d)\n",
    "it = iter(a)"
   ],
   "metadata": {
    "collapsed": false,
    "pycharm": {
     "name": "#%%\n"
    },
    "ExecuteTime": {
     "end_time": "2024-04-28T21:54:53.147377500Z",
     "start_time": "2024-04-28T21:54:53.116061400Z"
    }
   }
  },
  {
   "cell_type": "code",
   "execution_count": 18,
   "outputs": [
    {
     "name": "stdout",
     "output_type": "stream",
     "text": [
      "5+j0\n"
     ]
    }
   ],
   "source": [
    "print(next(it))"
   ],
   "metadata": {
    "collapsed": false,
    "pycharm": {
     "name": "#%%\n"
    },
    "ExecuteTime": {
     "end_time": "2024-04-28T21:55:00.416702400Z",
     "start_time": "2024-04-28T21:55:00.385110Z"
    }
   }
  },
  {
   "cell_type": "markdown",
   "source": [
    "Pętla for"
   ],
   "metadata": {
    "collapsed": false,
    "pycharm": {
     "name": "#%% md\n"
    }
   }
  },
  {
   "cell_type": "code",
   "execution_count": null,
   "outputs": [],
   "source": [
    "a = CmplxSeries(n,b,d)\n",
    "for elem in a:\n",
    "    print(elem, end=\"  \")"
   ],
   "metadata": {
    "collapsed": false,
    "pycharm": {
     "name": "#%%\n"
    }
   }
  },
  {
   "cell_type": "markdown",
   "source": [
    "List comprehensions"
   ],
   "metadata": {
    "collapsed": false,
    "pycharm": {
     "name": "#%% md\n"
    }
   }
  },
  {
   "cell_type": "code",
   "execution_count": null,
   "outputs": [],
   "source": [
    "s = CmplxSeries(n,b,d)\n",
    "l = [elem for elem in s]\n",
    "for elem in l:\n",
    "    print(elem, end=\"  \")\n"
   ],
   "metadata": {
    "collapsed": false,
    "pycharm": {
     "name": "#%%\n"
    }
   }
  },
  {
   "cell_type": "markdown",
   "source": [
    "Funkcje wbudowane"
   ],
   "metadata": {
    "collapsed": false,
    "pycharm": {
     "name": "#%% md\n"
    }
   }
  },
  {
   "cell_type": "code",
   "execution_count": null,
   "outputs": [],
   "source": [
    "s = CmplxSeries(n,b,d)\n",
    "print(sum(s, start=Cmplx(0,0)))"
   ],
   "metadata": {
    "collapsed": false,
    "pycharm": {
     "name": "#%%\n"
    }
   }
  },
  {
   "cell_type": "code",
   "execution_count": null,
   "outputs": [],
   "source": [],
   "metadata": {
    "collapsed": false,
    "pycharm": {
     "name": "#%%\n"
    }
   }
  },
  {
   "cell_type": "code",
   "execution_count": null,
   "outputs": [],
   "source": [],
   "metadata": {
    "collapsed": false,
    "pycharm": {
     "name": "#%%\n"
    }
   }
  },
  {
   "cell_type": "code",
   "execution_count": null,
   "outputs": [],
   "source": [],
   "metadata": {
    "collapsed": false,
    "pycharm": {
     "name": "#%%\n"
    }
   }
  },
  {
   "cell_type": "code",
   "execution_count": null,
   "outputs": [],
   "source": [],
   "metadata": {
    "collapsed": false,
    "pycharm": {
     "name": "#%%\n"
    }
   }
  },
  {
   "cell_type": "code",
   "execution_count": null,
   "outputs": [],
   "source": [],
   "metadata": {
    "collapsed": false,
    "pycharm": {
     "name": "#%%\n"
    }
   }
  },
  {
   "cell_type": "code",
   "execution_count": null,
   "outputs": [],
   "source": [],
   "metadata": {
    "collapsed": false,
    "pycharm": {
     "name": "#%%\n"
    }
   }
  },
  {
   "cell_type": "code",
   "execution_count": null,
   "outputs": [],
   "source": [],
   "metadata": {
    "collapsed": false,
    "pycharm": {
     "name": "#%%\n"
    }
   }
  },
  {
   "cell_type": "code",
   "execution_count": null,
   "outputs": [],
   "source": [],
   "metadata": {
    "collapsed": false,
    "pycharm": {
     "name": "#%%\n"
    }
   }
  },
  {
   "cell_type": "code",
   "execution_count": null,
   "outputs": [],
   "source": [],
   "metadata": {
    "collapsed": false,
    "pycharm": {
     "name": "#%%\n"
    }
   }
  },
  {
   "cell_type": "code",
   "execution_count": null,
   "outputs": [],
   "source": [],
   "metadata": {
    "collapsed": false,
    "pycharm": {
     "name": "#%%\n"
    }
   }
  },
  {
   "cell_type": "code",
   "execution_count": null,
   "outputs": [],
   "source": [],
   "metadata": {
    "collapsed": false,
    "pycharm": {
     "name": "#%%\n"
    }
   }
  },
  {
   "cell_type": "code",
   "execution_count": null,
   "outputs": [],
   "source": [],
   "metadata": {
    "collapsed": false,
    "pycharm": {
     "name": "#%%\n"
    }
   }
  },
  {
   "cell_type": "code",
   "execution_count": null,
   "outputs": [],
   "source": [],
   "metadata": {
    "collapsed": false,
    "pycharm": {
     "name": "#%%\n"
    }
   }
  },
  {
   "cell_type": "code",
   "execution_count": null,
   "outputs": [],
   "source": [],
   "metadata": {
    "collapsed": false,
    "pycharm": {
     "name": "#%%\n"
    }
   }
  },
  {
   "cell_type": "code",
   "execution_count": null,
   "outputs": [],
   "source": [],
   "metadata": {
    "collapsed": false,
    "pycharm": {
     "name": "#%%\n"
    }
   }
  },
  {
   "cell_type": "code",
   "execution_count": null,
   "outputs": [],
   "source": [],
   "metadata": {
    "collapsed": false,
    "pycharm": {
     "name": "#%%\n"
    }
   }
  },
  {
   "cell_type": "code",
   "execution_count": null,
   "outputs": [],
   "source": [],
   "metadata": {
    "collapsed": false,
    "pycharm": {
     "name": "#%%\n"
    }
   }
  },
  {
   "cell_type": "code",
   "execution_count": null,
   "outputs": [],
   "source": [],
   "metadata": {
    "collapsed": false,
    "pycharm": {
     "name": "#%%\n"
    }
   }
  },
  {
   "cell_type": "code",
   "execution_count": null,
   "outputs": [],
   "source": [],
   "metadata": {
    "collapsed": false,
    "pycharm": {
     "name": "#%%\n"
    }
   }
  },
  {
   "cell_type": "code",
   "execution_count": null,
   "outputs": [],
   "source": [],
   "metadata": {
    "collapsed": false,
    "pycharm": {
     "name": "#%%\n"
    }
   }
  },
  {
   "cell_type": "code",
   "execution_count": null,
   "outputs": [],
   "source": [],
   "metadata": {
    "collapsed": false,
    "pycharm": {
     "name": "#%%\n"
    }
   }
  },
  {
   "cell_type": "code",
   "execution_count": null,
   "outputs": [],
   "source": [],
   "metadata": {
    "collapsed": false,
    "pycharm": {
     "name": "#%%\n"
    }
   }
  },
  {
   "cell_type": "code",
   "execution_count": null,
   "outputs": [],
   "source": [],
   "metadata": {
    "collapsed": false,
    "pycharm": {
     "name": "#%%\n"
    }
   }
  }
 ],
 "metadata": {
  "kernelspec": {
   "display_name": "Python 3",
   "language": "python",
   "name": "python3"
  },
  "language_info": {
   "codemirror_mode": {
    "name": "ipython",
    "version": 2
   },
   "file_extension": ".py",
   "mimetype": "text/x-python",
   "name": "python",
   "nbconvert_exporter": "python",
   "pygments_lexer": "ipython2",
   "version": "2.7.6"
  }
 },
 "nbformat": 4,
 "nbformat_minor": 0
}
