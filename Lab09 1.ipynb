{
 "cells": [
  {
   "cell_type": "markdown",
   "metadata": {
    "pycharm": {
     "name": "#%% md\n"
    }
   },
   "source": [
    "# Dziedziczenie i polimorfizm"
   ]
  },
  {
   "cell_type": "markdown",
   "metadata": {
    "pycharm": {
     "name": "#%% md\n"
    }
   },
   "source": [
    "## Dziedziczenie - ponowne wykorzystanie kodu"
   ]
  },
  {
   "cell_type": "markdown",
   "metadata": {
    "pycharm": {
     "name": "#%% md\n"
    }
   },
   "source": [
    "Przesuwanie rejestru w lewo - schemat ogólny \n",
    "```\n",
    "C | R\n",
    "\n",
    "_ | 1 0 1 0 1 0 1 0 |\n",
    "  \n",
    "1 | 0 1 0 1 0 1 0 _ |\n",
    "\n",
    "```\n",
    "\n",
    "Przesuwanie rejestru w prawo - schemat ogólny \n",
    "```\n",
    "R               | C\n",
    "\n",
    "1 0 1 0 1 0 1 0 |\n",
    "  \n",
    "_ 1 0 1 0 1 0 1 | 0\n",
    "\n",
    "```\n",
    "\n",
    "Różne rodzaje przesunięć - różne sposoby uzupełniania brakującego bitu w rejestrze"
   ]
  },
  {
   "cell_type": "markdown",
   "metadata": {
    "pycharm": {
     "name": "#%% md\n"
    }
   },
   "source": [
    "Klasa bazowa - realizuje tylko podstawową funkcjonalność"
   ]
  },
  {
   "cell_type": "code",
   "metadata": {
    "pycharm": {
     "name": "#%%\n"
    },
    "ExecuteTime": {
     "end_time": "2024-05-17T20:58:44.709161Z",
     "start_time": "2024-05-17T20:58:44.702178Z"
    }
   },
   "source": [
    "class Shifter:\n",
    "\n",
    "    def __init__(self, sdir):\n",
    "        self.sdir = sdir\n",
    "        self.carry = 0\n",
    "\n",
    "    def shift(self, rgstr):\n",
    "        lng = len(rgstr)\n",
    "        if self.sdir == \"left\":\n",
    "            self.carry = rgstr[0]\n",
    "            for i in range(1,lng):                \n",
    "                rgstr[i-1] = rgstr[i]\n",
    "        else:\n",
    "            self.carry = rgstr[lng-1]\n",
    "            for i in range(lng-1,0,-1):                \n",
    "                rgstr[i] = rgstr[i-1] \n",
    "        \n",
    "        "
   ],
   "outputs": [],
   "execution_count": 2
  },
  {
   "cell_type": "code",
   "metadata": {
    "collapsed": false,
    "jupyter": {
     "outputs_hidden": false
    },
    "pycharm": {
     "name": "#%%\n"
    },
    "ExecuteTime": {
     "end_time": "2024-05-17T20:59:16.590779Z",
     "start_time": "2024-05-17T20:59:16.584766Z"
    }
   },
   "source": [
    "rgstr = [1, 0, 1, 0, 1, 0, 1, 0]\n",
    "s = Shifter(\"left\")\n",
    "print(s.carry, rgstr)\n",
    "for i in range(0,8):\n",
    "    s.shift(rgstr)\n",
    "    print(s.carry, rgstr)\n"
   ],
   "outputs": [
    {
     "name": "stdout",
     "output_type": "stream",
     "text": [
      "0 [1, 0, 1, 0, 1, 0, 1, 0]\n",
      "1 [0, 1, 0, 1, 0, 1, 0, 0]\n",
      "0 [1, 0, 1, 0, 1, 0, 0, 0]\n",
      "1 [0, 1, 0, 1, 0, 0, 0, 0]\n",
      "0 [1, 0, 1, 0, 0, 0, 0, 0]\n",
      "1 [0, 1, 0, 0, 0, 0, 0, 0]\n",
      "0 [1, 0, 0, 0, 0, 0, 0, 0]\n",
      "1 [0, 0, 0, 0, 0, 0, 0, 0]\n",
      "0 [0, 0, 0, 0, 0, 0, 0, 0]\n"
     ]
    }
   ],
   "execution_count": 4
  },
  {
   "cell_type": "code",
   "metadata": {
    "collapsed": false,
    "jupyter": {
     "outputs_hidden": false
    },
    "pycharm": {
     "name": "#%%\n"
    },
    "ExecuteTime": {
     "end_time": "2024-05-17T20:59:27.934954Z",
     "start_time": "2024-05-17T20:59:27.929815Z"
    }
   },
   "source": [
    "rgstr = [1, 0, 1, 0, 1, 0, 1, 0]\n",
    "s = Shifter(\"right\")\n",
    "print(rgstr, s.carry)\n",
    "for i in range(0,8):\n",
    "    s.shift(rgstr)\n",
    "    print(rgstr, s.carry)\n"
   ],
   "outputs": [
    {
     "name": "stdout",
     "output_type": "stream",
     "text": [
      "[1, 0, 1, 0, 1, 0, 1, 0] 0\n",
      "[1, 1, 0, 1, 0, 1, 0, 1] 0\n",
      "[1, 1, 1, 0, 1, 0, 1, 0] 1\n",
      "[1, 1, 1, 1, 0, 1, 0, 1] 0\n",
      "[1, 1, 1, 1, 1, 0, 1, 0] 1\n",
      "[1, 1, 1, 1, 1, 1, 0, 1] 0\n",
      "[1, 1, 1, 1, 1, 1, 1, 0] 1\n",
      "[1, 1, 1, 1, 1, 1, 1, 1] 0\n",
      "[1, 1, 1, 1, 1, 1, 1, 1] 1\n"
     ]
    }
   ],
   "execution_count": 5
  },
  {
   "cell_type": "markdown",
   "metadata": {
    "pycharm": {
     "name": "#%% md\n"
    }
   },
   "source": [
    "Klasa pochodna LogicalShifter - uzupełnianie brakującego bitu zerem "
   ]
  },
  {
   "cell_type": "code",
   "metadata": {
    "pycharm": {
     "name": "#%%\n"
    },
    "ExecuteTime": {
     "end_time": "2024-05-17T21:07:21.742945Z",
     "start_time": "2024-05-17T21:07:21.728846Z"
    }
   },
   "source": [
    "class LogicalShifter(Shifter):\n",
    "\n",
    "    def __init__(self, sdir):\n",
    "        super().__init__(sdir)\n",
    "\n",
    "    def shift(self, rgstr):\n",
    "        lng = len(rgstr)\n",
    "        super().shift(rgstr)\n",
    "        if self.sdir == \"left\":\n",
    "            rgstr[lng-1] = 0\n",
    "        else:\n",
    "            rgstr[0] = 0\n",
    "        return rgstr\n",
    "    \n",
    "\n",
    "\n",
    "    "
   ],
   "outputs": [
    {
     "ename": "SyntaxError",
     "evalue": "incomplete input (4112952382.py, line 17)",
     "output_type": "error",
     "traceback": [
      "\u001B[1;36m  Cell \u001B[1;32mIn[11], line 17\u001B[1;36m\u001B[0m\n\u001B[1;33m    \u001B[0m\n\u001B[1;37m    ^\u001B[0m\n\u001B[1;31mSyntaxError\u001B[0m\u001B[1;31m:\u001B[0m incomplete input\n"
     ]
    }
   ],
   "execution_count": 11
  },
  {
   "cell_type": "code",
   "metadata": {
    "pycharm": {
     "name": "#%%\n"
    },
    "ExecuteTime": {
     "end_time": "2024-05-17T21:06:29.599709Z",
     "start_time": "2024-05-17T21:06:29.594138Z"
    }
   },
   "source": [
    "rgstr = [1, 0, 1, 0, 1, 0, 1, 0]\n",
    "s = LogicalShifter(\"left\")\n",
    "print(s.carry, rgstr)\n",
    "for i in range(0,8):\n",
    "    s.shift(rgstr)\n",
    "    print(s.carry, rgstr)"
   ],
   "outputs": [
    {
     "name": "stdout",
     "output_type": "stream",
     "text": [
      "0 [1, 0, 1, 0, 1, 0, 1, 0]\n",
      "1 [0, 1, 0, 1, 0, 1, 0, 0]\n",
      "0 [1, 0, 1, 0, 1, 0, 0, 0]\n",
      "1 [0, 1, 0, 1, 0, 0, 0, 0]\n",
      "0 [1, 0, 1, 0, 0, 0, 0, 0]\n",
      "1 [0, 1, 0, 0, 0, 0, 0, 0]\n",
      "0 [1, 0, 0, 0, 0, 0, 0, 0]\n",
      "1 [0, 0, 0, 0, 0, 0, 0, 0]\n",
      "0 [0, 0, 0, 0, 0, 0, 0, 0]\n"
     ]
    }
   ],
   "execution_count": 9
  },
  {
   "cell_type": "code",
   "metadata": {
    "pycharm": {
     "name": "#%%\n"
    },
    "ExecuteTime": {
     "end_time": "2024-05-17T21:06:35.340247Z",
     "start_time": "2024-05-17T21:06:35.334158Z"
    }
   },
   "source": [
    "rgstr = [1, 0, 1, 0, 1, 0, 1, 0]\n",
    "s = LogicalShifter(\"guwno\")\n",
    "print(rgstr, s.carry)\n",
    "for i in range(0,8):\n",
    "    s.shift(rgstr)\n",
    "    print(rgstr, s.carry)"
   ],
   "outputs": [
    {
     "name": "stdout",
     "output_type": "stream",
     "text": [
      "[1, 0, 1, 0, 1, 0, 1, 0] 0\n",
      "[0, 1, 0, 1, 0, 1, 0, 1] 0\n",
      "[0, 0, 1, 0, 1, 0, 1, 0] 1\n",
      "[0, 0, 0, 1, 0, 1, 0, 1] 0\n",
      "[0, 0, 0, 0, 1, 0, 1, 0] 1\n",
      "[0, 0, 0, 0, 0, 1, 0, 1] 0\n",
      "[0, 0, 0, 0, 0, 0, 1, 0] 1\n",
      "[0, 0, 0, 0, 0, 0, 0, 1] 0\n",
      "[0, 0, 0, 0, 0, 0, 0, 0] 1\n"
     ]
    }
   ],
   "execution_count": 10
  },
  {
   "cell_type": "markdown",
   "metadata": {
    "pycharm": {
     "name": "#%% md\n"
    }
   },
   "source": [
    "Klasa pochodna CyclicShifter - uzupełnianie brakującego bitu bitem carry"
   ]
  },
  {
   "cell_type": "code",
   "metadata": {
    "pycharm": {
     "name": "#%%\n"
    },
    "ExecuteTime": {
     "end_time": "2024-05-17T21:15:20.450395Z",
     "start_time": "2024-05-17T21:15:20.441394Z"
    }
   },
   "source": [
    "class CyclicShifter(Shifter):\n",
    "\n",
    "    def __init__(self, sdir):\n",
    "        super().__init__(sdir)\n",
    "\n",
    "    def shift(self, rgstr):\n",
    "        lng = len(rgstr)\n",
    "        super().shift(rgstr)\n",
    "        if self.sdir == \"left\":\n",
    "            rgstr[lng-1] = self.carry\n",
    "        else:\n",
    "            rgstr[0] = self.carry\n",
    "        return rgstr"
   ],
   "outputs": [],
   "execution_count": 14
  },
  {
   "cell_type": "code",
   "metadata": {
    "pycharm": {
     "name": "#%%\n"
    },
    "ExecuteTime": {
     "end_time": "2024-05-17T21:15:22.633106Z",
     "start_time": "2024-05-17T21:15:22.624865Z"
    }
   },
   "source": [
    "rgstr = [1, 0, 1, 0, 1, 0, 1, 0]\n",
    "s = CyclicShifter(\"left\")\n",
    "print(s.carry, rgstr)\n",
    "for i in range(0,8):\n",
    "    s.shift(rgstr)\n",
    "    print(s.carry, rgstr)"
   ],
   "outputs": [
    {
     "name": "stdout",
     "output_type": "stream",
     "text": [
      "0 [1, 0, 1, 0, 1, 0, 1, 0]\n",
      "1 [0, 1, 0, 1, 0, 1, 0, 1]\n",
      "0 [1, 0, 1, 0, 1, 0, 1, 0]\n",
      "1 [0, 1, 0, 1, 0, 1, 0, 1]\n",
      "0 [1, 0, 1, 0, 1, 0, 1, 0]\n",
      "1 [0, 1, 0, 1, 0, 1, 0, 1]\n",
      "0 [1, 0, 1, 0, 1, 0, 1, 0]\n",
      "1 [0, 1, 0, 1, 0, 1, 0, 1]\n",
      "0 [1, 0, 1, 0, 1, 0, 1, 0]\n"
     ]
    }
   ],
   "execution_count": 15
  },
  {
   "cell_type": "code",
   "metadata": {
    "pycharm": {
     "name": "#%%\n"
    },
    "ExecuteTime": {
     "end_time": "2024-05-16T22:03:22.684764Z",
     "start_time": "2024-05-16T22:03:22.211176Z"
    }
   },
   "source": [
    "rgstr = [1, 0, 1, 0, 1, 0, 1, 0]\n",
    "s = CyclicShifter(\"right\")\n",
    "print(rgstr, s.carry)\n",
    "for i in range(0,10):\n",
    "    s.shift(rgstr)\n",
    "    print(rgstr, s.carry)"
   ],
   "outputs": [
    {
     "ename": "NameError",
     "evalue": "name 'CyclicShifter' is not defined",
     "output_type": "error",
     "traceback": [
      "\u001B[1;31m---------------------------------------------------------------------------\u001B[0m",
      "\u001B[1;31mNameError\u001B[0m                                 Traceback (most recent call last)",
      "Cell \u001B[1;32mIn[1], line 2\u001B[0m\n\u001B[0;32m      1\u001B[0m rgstr \u001B[38;5;241m=\u001B[39m [\u001B[38;5;241m1\u001B[39m, \u001B[38;5;241m0\u001B[39m, \u001B[38;5;241m1\u001B[39m, \u001B[38;5;241m0\u001B[39m, \u001B[38;5;241m1\u001B[39m, \u001B[38;5;241m0\u001B[39m, \u001B[38;5;241m1\u001B[39m, \u001B[38;5;241m0\u001B[39m]\n\u001B[1;32m----> 2\u001B[0m s \u001B[38;5;241m=\u001B[39m \u001B[43mCyclicShifter\u001B[49m(\u001B[38;5;124m\"\u001B[39m\u001B[38;5;124mright\u001B[39m\u001B[38;5;124m\"\u001B[39m)\n\u001B[0;32m      3\u001B[0m \u001B[38;5;28mprint\u001B[39m(rgstr, s\u001B[38;5;241m.\u001B[39mcarry)\n\u001B[0;32m      4\u001B[0m \u001B[38;5;28;01mfor\u001B[39;00m i \u001B[38;5;129;01min\u001B[39;00m \u001B[38;5;28mrange\u001B[39m(\u001B[38;5;241m0\u001B[39m,\u001B[38;5;241m10\u001B[39m):\n",
      "\u001B[1;31mNameError\u001B[0m: name 'CyclicShifter' is not defined"
     ]
    }
   ],
   "execution_count": 1
  },
  {
   "cell_type": "code",
   "execution_count": 15,
   "metadata": {
    "pycharm": {
     "name": "#%%\n"
    }
   },
   "outputs": [
    {
     "name": "stdout",
     "output_type": "stream",
     "text": [
      "<class '__main__.CyclicShifter'>\n",
      "True\n"
     ]
    }
   ],
   "source": [
    "s = CyclicShifter(\"right\")\n",
    "print(type(s))\n",
    "print(isinstance(s,Shifter))"
   ]
  },
  {
   "cell_type": "code",
   "execution_count": 16,
   "metadata": {
    "pycharm": {
     "name": "#%%\n"
    }
   },
   "outputs": [
    {
     "name": "stdout",
     "output_type": "stream",
     "text": [
      "<class '__main__.Shifter'>\n",
      "False\n"
     ]
    }
   ],
   "source": [
    "s = Shifter(\"right\")\n",
    "print(type(s))\n",
    "print(isinstance(s,CyclicShifter))"
   ]
  },
  {
   "cell_type": "markdown",
   "metadata": {
    "pycharm": {
     "name": "#%% md\n"
    }
   },
   "source": [
    "## Polimorfizm - wspólne interfejsy dla rodziny klas"
   ]
  },
  {
   "cell_type": "markdown",
   "metadata": {
    "pycharm": {
     "name": "#%% md\n"
    }
   },
   "source": [
    "Kodowanie liczb całkowitych - 8 bitów\n",
    "\n",
    "Kod Sign-Magnitude - najbardziej znaczący bit jest bitem znaku (0 - liczba nieujemna, 1 liczba ujemna)\n",
    "\n",
    "```\n",
    "0 1 0 1 0 1 0 1 = 0 | 1 0 1 0 1 0 1 = +(1*64 + 0*32 + 1*16 + 0*8 + 1*4 + 0*2 + 1*1) = +85\n",
    "1 0 1 0 1 0 1 0 = 1 | 0 1 0 1 0 1 0 = -(0*64 + 1*32 + 0*16 + 1*8 + 0*4 + 1*2 + 0*1) = -42\n",
    "```\n",
    "\n",
    "Kod U2 - uzupełnień do dwóch - najbardziej znaczący bit ma wagę (-128)\n",
    "\n",
    "```\n",
    "0 1 0 1 0 1 0 1 = 0*(-128) + 1*64 + 0*32 + 1*16 + 0*8 + 1*4 + 0*2 + 1*1 = +85\n",
    "1 0 1 0 1 0 1 0 = 1*(-128) + 0*64 + 1*32 + 0*16 + 1*8 + 0*4 + 1*2 + 0*1 = -128 + 42 = -86\n",
    "```\n"
   ]
  },
  {
   "cell_type": "code",
   "metadata": {
    "pycharm": {
     "name": "#%%\n"
    },
    "ExecuteTime": {
     "end_time": "2024-05-17T22:17:47.493704Z",
     "start_time": "2024-05-17T22:17:47.483108Z"
    }
   },
   "source": [
    "class SMEncoding:\n",
    "\n",
    "    def __init__(self):\n",
    "        self.enc = None\n",
    "\n",
    "    def encode(self, num):\n",
    "\n",
    "        self.enc = [0, 0, 0, 0, 0, 0, 0, 0]\n",
    "        \n",
    "        if num < 0:\n",
    "            num = -num\n",
    "            self.enc[0] = 1\n",
    "       \n",
    "        for i in range(7,0,-1):\n",
    "            self.enc[i] = num % 2\n",
    "            num = num//2\n",
    "\n",
    "    def decode(self):\n",
    "        num = 0\n",
    "        for i in range(1,8):\n",
    "            num += self.enc[i]*(2**(7-i))\n",
    "\n",
    "        if self.enc[0] == 1:\n",
    "            num = -num\n",
    "        return num\n",
    "\n",
    "    # def convertFrom(self, other):\n",
    "\n",
    "    #     self.encode(other.decode())\n",
    "            \n",
    "\n",
    "    "
   ],
   "outputs": [],
   "execution_count": 20
  },
  {
   "cell_type": "code",
   "metadata": {
    "pycharm": {
     "name": "#%%\n"
    },
    "ExecuteTime": {
     "end_time": "2024-05-17T22:18:16.870337Z",
     "start_time": "2024-05-17T22:18:16.859224Z"
    }
   },
   "source": [
    "class U2Encoding:\n",
    "\n",
    "    def __init__(self):\n",
    "        self.enc = None\n",
    "\n",
    "    def encode(self, num):\n",
    "\n",
    "        self.enc = [0, 0, 0, 0, 0, 0, 0, 0]\n",
    "        \n",
    "        if num < 0:\n",
    "            num = 128+num\n",
    "            self.enc[0] = 1\n",
    "       \n",
    "        for i in range(7,0,-1):\n",
    "            self.enc[i] = num % 2\n",
    "            num = num//2\n",
    "\n",
    "    def decode(self):\n",
    "        num = 0\n",
    "        for i in range(1,8):\n",
    "            num += self.enc[i]*(2**(7-i))\n",
    "\n",
    "        if self.enc[0] == 1:\n",
    "            num = -128+num\n",
    "\n",
    "        return num\n",
    "\n",
    "    def convertFrom(self, other):\n",
    "        self.encode(other.decode())"
   ],
   "outputs": [],
   "execution_count": 26
  },
  {
   "cell_type": "code",
   "metadata": {
    "pycharm": {
     "name": "#%%\n"
    },
    "ExecuteTime": {
     "end_time": "2024-05-17T22:17:50.751526Z",
     "start_time": "2024-05-17T22:17:50.739719Z"
    }
   },
   "source": [
    "smenc = SMEncoding()\n",
    "num = -42\n",
    "smenc.encode(num)\n",
    "print(smenc.enc)\n",
    "print(smenc.decode())"
   ],
   "outputs": [
    {
     "name": "stdout",
     "output_type": "stream",
     "text": [
      "[1, 0, 1, 0, 1, 0, 1, 0]\n",
      "-42\n"
     ]
    }
   ],
   "execution_count": 21
  },
  {
   "cell_type": "code",
   "metadata": {
    "pycharm": {
     "name": "#%%\n"
    },
    "ExecuteTime": {
     "end_time": "2024-05-17T22:17:53.352913Z",
     "start_time": "2024-05-17T22:17:53.345520Z"
    }
   },
   "source": [
    "u2enc = U2Encoding()\n",
    "num = -86\n",
    "u2enc.encode(num)\n",
    "print(u2enc.enc)\n",
    "print(u2enc.decode())"
   ],
   "outputs": [
    {
     "name": "stdout",
     "output_type": "stream",
     "text": [
      "[1, 0, 1, 0, 1, 0, 1, 0]\n",
      "-86\n"
     ]
    }
   ],
   "execution_count": 22
  },
  {
   "cell_type": "markdown",
   "metadata": {
    "pycharm": {
     "name": "#%% md\n"
    }
   },
   "source": [
    "Wspólny interfejs - metody `encode` i `decode`"
   ]
  },
  {
   "cell_type": "code",
   "metadata": {
    "pycharm": {
     "name": "#%%\n"
    },
    "ExecuteTime": {
     "end_time": "2024-05-17T22:18:20.074116Z",
     "start_time": "2024-05-17T22:18:20.060266Z"
    }
   },
   "source": [
    "\n",
    "smenc = SMEncoding()\n",
    "u2enc = U2Encoding()\n",
    "num = -42\n",
    "smenc.encode(num)\n",
    "print(smenc.enc)\n",
    "print(smenc.decode())\n",
    "\n",
    "u2enc.convertFrom(smenc)\n",
    "u2enc.encode(smenc.decode())\n",
    "print(u2enc.enc)\n",
    "print(u2enc.decode())"
   ],
   "outputs": [
    {
     "name": "stdout",
     "output_type": "stream",
     "text": [
      "[1, 0, 1, 0, 1, 0, 1, 0]\n",
      "-42\n",
      "[1, 1, 0, 1, 0, 1, 1, 0]\n",
      "-42\n"
     ]
    }
   ],
   "execution_count": 27
  },
  {
   "cell_type": "code",
   "execution_count": 38,
   "metadata": {
    "pycharm": {
     "name": "#%%\n"
    }
   },
   "outputs": [
    {
     "name": "stdout",
     "output_type": "stream",
     "text": [
      "[1, 0, 1, 0, 1, 0, 1, 0]\n",
      "-86\n",
      "[1, 1, 0, 1, 0, 1, 1, 0]\n",
      "-86\n"
     ]
    }
   ],
   "source": [
    "smenc = SMEncoding()\n",
    "u2enc = U2Encoding()\n",
    "num = -86\n",
    "u2enc.encode(num)\n",
    "print(u2enc.enc)\n",
    "print(u2enc.decode())\n",
    "\n",
    "# smenc.convertFrom(u2enc)\n",
    "smenc.encode(u2enc.decode())\n",
    "print(smenc.enc)\n",
    "print(smenc.decode())"
   ]
  },
  {
   "cell_type": "markdown",
   "metadata": {
    "pycharm": {
     "name": "#%% md\n"
    }
   },
   "source": [
    "Klasy abstrakcyjne - biblioteka `ABC`"
   ]
  },
  {
   "cell_type": "code",
   "metadata": {
    "pycharm": {
     "name": "#%%\n"
    },
    "ExecuteTime": {
     "end_time": "2024-05-17T22:19:54.418256Z",
     "start_time": "2024-05-17T22:19:54.414135Z"
    }
   },
   "source": [
    "from abc import ABC, abstractmethod"
   ],
   "outputs": [],
   "execution_count": 32
  },
  {
   "cell_type": "code",
   "metadata": {
    "pycharm": {
     "name": "#%%\n"
    },
    "ExecuteTime": {
     "end_time": "2024-05-17T22:19:56.723938Z",
     "start_time": "2024-05-17T22:19:56.719252Z"
    }
   },
   "source": [
    "class IntEncoding(ABC):\n",
    "\n",
    "    @abstractmethod\n",
    "    def encode(self, num):\n",
    "        pass\n",
    "\n",
    "    @abstractmethod\n",
    "    def decode(self):\n",
    "        pass"
   ],
   "outputs": [],
   "execution_count": 33
  },
  {
   "cell_type": "code",
   "metadata": {
    "pycharm": {
     "name": "#%%\n"
    },
    "ExecuteTime": {
     "end_time": "2024-05-17T22:19:57.945789Z",
     "start_time": "2024-05-17T22:19:57.928705Z"
    }
   },
   "source": [
    "a = IntEncoding()"
   ],
   "outputs": [
    {
     "ename": "TypeError",
     "evalue": "Can't instantiate abstract class IntEncoding with abstract methods decode, encode",
     "output_type": "error",
     "traceback": [
      "\u001B[1;31m---------------------------------------------------------------------------\u001B[0m",
      "\u001B[1;31mTypeError\u001B[0m                                 Traceback (most recent call last)",
      "Cell \u001B[1;32mIn[34], line 1\u001B[0m\n\u001B[1;32m----> 1\u001B[0m a \u001B[38;5;241m=\u001B[39m \u001B[43mIntEncoding\u001B[49m\u001B[43m(\u001B[49m\u001B[43m)\u001B[49m\n",
      "\u001B[1;31mTypeError\u001B[0m: Can't instantiate abstract class IntEncoding with abstract methods decode, encode"
     ]
    }
   ],
   "execution_count": 34
  },
  {
   "cell_type": "code",
   "metadata": {
    "pycharm": {
     "name": "#%%\n"
    },
    "ExecuteTime": {
     "end_time": "2024-05-17T22:20:04.710082Z",
     "start_time": "2024-05-17T22:20:04.704154Z"
    }
   },
   "source": [
    "class SMEncoding(IntEncoding):\n",
    "\n",
    "    def __init__(self):\n",
    "        self.enc = None\n",
    "\n",
    "    def encode(self, num):\n",
    "\n",
    "        self.enc = [0, 0, 0, 0, 0, 0, 0, 0]\n",
    "        \n",
    "        if num < 0:\n",
    "            num = -num\n",
    "            self.enc[0] = 1\n",
    "       \n",
    "        for i in range(7,0,-1):\n",
    "            self.enc[i] = num % 2\n",
    "            num = num//2\n",
    "\n",
    "    # def decode(self):\n",
    "    #     num = 0\n",
    "    #     for i in range(1,8):\n",
    "    #         num += self.enc[i]*(2**(7-i))\n",
    "\n",
    "    #     if self.enc[0] == 1:\n",
    "    #         num = -num\n",
    "    #     return num\n"
   ],
   "outputs": [],
   "execution_count": 35
  },
  {
   "cell_type": "code",
   "metadata": {
    "pycharm": {
     "name": "#%%\n"
    },
    "ExecuteTime": {
     "end_time": "2024-05-17T22:20:06.709237Z",
     "start_time": "2024-05-17T22:20:06.692680Z"
    }
   },
   "source": [
    "a = SMEncoding()"
   ],
   "outputs": [
    {
     "ename": "TypeError",
     "evalue": "Can't instantiate abstract class SMEncoding with abstract method decode",
     "output_type": "error",
     "traceback": [
      "\u001B[1;31m---------------------------------------------------------------------------\u001B[0m",
      "\u001B[1;31mTypeError\u001B[0m                                 Traceback (most recent call last)",
      "Cell \u001B[1;32mIn[36], line 1\u001B[0m\n\u001B[1;32m----> 1\u001B[0m a \u001B[38;5;241m=\u001B[39m \u001B[43mSMEncoding\u001B[49m\u001B[43m(\u001B[49m\u001B[43m)\u001B[49m\n",
      "\u001B[1;31mTypeError\u001B[0m: Can't instantiate abstract class SMEncoding with abstract method decode"
     ]
    }
   ],
   "execution_count": 36
  },
  {
   "cell_type": "code",
   "metadata": {
    "pycharm": {
     "name": "#%%\n"
    },
    "ExecuteTime": {
     "end_time": "2024-05-17T22:20:07.950873Z",
     "start_time": "2024-05-17T22:20:07.943286Z"
    }
   },
   "source": [
    "class SMEncoding(IntEncoding):\n",
    "\n",
    "    def __init__(self):\n",
    "        self.enc = None\n",
    "\n",
    "    def encode(self, num):\n",
    "\n",
    "        self.enc = [0, 0, 0, 0, 0, 0, 0, 0]\n",
    "        \n",
    "        if num < 0:\n",
    "            num = -num\n",
    "            self.enc[0] = 1\n",
    "       \n",
    "        for i in range(7,0,-1):\n",
    "            self.enc[i] = num % 2\n",
    "            num = num//2\n",
    "\n",
    "    def decode(self):\n",
    "        num = 0\n",
    "        for i in range(1,8):\n",
    "            num += self.enc[i]*(2**(7-i))\n",
    "\n",
    "        if self.enc[0] == 1:\n",
    "            num = -num\n",
    "        return num"
   ],
   "outputs": [],
   "execution_count": 37
  },
  {
   "cell_type": "code",
   "metadata": {
    "pycharm": {
     "name": "#%%\n"
    },
    "ExecuteTime": {
     "end_time": "2024-05-17T22:20:11.791543Z",
     "start_time": "2024-05-17T22:20:11.787595Z"
    }
   },
   "source": [
    "a = SMEncoding()\n",
    "print(isinstance(a,IntEncoding))"
   ],
   "outputs": [
    {
     "name": "stdout",
     "output_type": "stream",
     "text": [
      "True\n"
     ]
    }
   ],
   "execution_count": 38
  },
  {
   "cell_type": "code",
   "metadata": {
    "pycharm": {
     "name": "#%%\n"
    },
    "ExecuteTime": {
     "end_time": "2024-05-17T22:20:13.740594Z",
     "start_time": "2024-05-17T22:20:13.730817Z"
    }
   },
   "source": [
    "class IntEncoding(ABC):\n",
    "\n",
    "    def __init__(self):\n",
    "        self.enc = None\n",
    "\n",
    "    @abstractmethod\n",
    "    def encode(self, num):\n",
    "        pass\n",
    "\n",
    "    @abstractmethod\n",
    "    def decode(self):\n",
    "        pass\n",
    "\n",
    "    def encode7(self,num):\n",
    "        for i in range(7,0,-1):\n",
    "            self.enc[i] = num % 2\n",
    "            num = num//2\n",
    "\n",
    "    def decode7(self):\n",
    "        num = 0\n",
    "        for i in range(1,8):\n",
    "            num += self.enc[i]*(2**(7-i))\n",
    "        return num\n",
    "\n",
    "\n",
    "class SMEncoding(IntEncoding):\n",
    "\n",
    "    def __init__(self):\n",
    "        super().__init__()\n",
    "\n",
    "    def encode(self, num):\n",
    "\n",
    "        self.enc = [0, 0, 0, 0, 0, 0, 0, 0]\n",
    "\n",
    "        if num < 0:\n",
    "            num = -num\n",
    "            self.enc[0] = 1\n",
    "\n",
    "        self.encode7(num)\n",
    "\n",
    "    def decode(self):\n",
    "\n",
    "        num = self.decode7()\n",
    "        if self.enc[0] == 1:\n",
    "            num = -num\n",
    "        return num\n",
    "\n",
    "\n",
    "class U2Encoding(IntEncoding):\n",
    "\n",
    "    def __init__(self):\n",
    "        super().__init__()\n",
    "\n",
    "    def encode(self, num):\n",
    "\n",
    "        self.enc = [0, 0, 0, 0, 0, 0, 0, 0]\n",
    "\n",
    "        if num < 0:\n",
    "            num = 128+num\n",
    "            self.enc[0] = 1\n",
    "\n",
    "        self.encode7(num)\n",
    "\n",
    "    def decode(self):\n",
    "\n",
    "        num = self.decode7()\n",
    "\n",
    "        if self.enc[0] == 1:\n",
    "            num = -128+num\n",
    "\n",
    "        return num"
   ],
   "outputs": [],
   "execution_count": 39
  },
  {
   "cell_type": "code",
   "metadata": {
    "pycharm": {
     "name": "#%%\n"
    },
    "ExecuteTime": {
     "end_time": "2024-05-17T22:20:15.168312Z",
     "start_time": "2024-05-17T22:20:15.161561Z"
    }
   },
   "source": [
    "smenc = SMEncoding()\n",
    "u2enc = U2Encoding()\n",
    "num = -86\n",
    "u2enc.encode(num)\n",
    "print(u2enc.enc)\n",
    "print(u2enc.decode())\n",
    "\n",
    "# smenc.convertFrom(u2enc)\n",
    "smenc.encode(u2enc.decode())\n",
    "print(smenc.enc)\n",
    "print(smenc.decode())"
   ],
   "outputs": [
    {
     "name": "stdout",
     "output_type": "stream",
     "text": [
      "[1, 0, 1, 0, 1, 0, 1, 0]\n",
      "-86\n",
      "[1, 1, 0, 1, 0, 1, 1, 0]\n",
      "-86\n"
     ]
    }
   ],
   "execution_count": 40
  },
  {
   "cell_type": "code",
   "metadata": {
    "pycharm": {
     "name": "#%%\n"
    },
    "ExecuteTime": {
     "end_time": "2024-05-17T22:20:16.516067Z",
     "start_time": "2024-05-17T22:20:16.511721Z"
    }
   },
   "source": [],
   "outputs": [],
   "execution_count": 40
  },
  {
   "metadata": {},
   "cell_type": "code",
   "outputs": [],
   "execution_count": null,
   "source": ""
  }
 ],
 "metadata": {
  "kernelspec": {
   "display_name": "Python 3 (ipykernel)",
   "language": "python",
   "name": "python3"
  },
  "language_info": {
   "codemirror_mode": {
    "name": "ipython",
    "version": 3
   },
   "file_extension": ".py",
   "mimetype": "text/x-python",
   "name": "python",
   "nbconvert_exporter": "python",
   "pygments_lexer": "ipython3",
   "version": "3.11.9"
  }
 },
 "nbformat": 4,
 "nbformat_minor": 4
}
