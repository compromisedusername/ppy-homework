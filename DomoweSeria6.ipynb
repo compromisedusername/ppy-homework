{
 "cells": [
  {
   "cell_type": "markdown",
   "source": [
    "\n",
    "## Zadania domowe - Seria 6"
   ],
   "metadata": {
    "collapsed": false,
    "pycharm": {
     "name": "#%% md\n"
    }
   }
  },
  {
   "cell_type": "markdown",
   "source": [
    "Napisać generator, który generuje kolejne dzielniki liczby naturalnej $N$.\n",
    "Wypisać dzielniki wybranej liczby $N$ korzystając z pętli for i generatora.\n",
    "Utworzyć listę dzielników wybranej liczby $N$ korzystając z list comprehensions."
   ],
   "metadata": {
    "collapsed": false,
    "pycharm": {
     "name": "#%% md\n"
    }
   }
  },
  {
   "cell_type": "code",
   "source": [
    "def divisors_generator(N):\n",
    "    for i in range(1, N + 1):\n",
    "        if N % i == 0:\n",
    "            yield i\n",
    "\n",
    "# Wybrane liczby do testów\n",
    "N1 = 12\n",
    "N2 = 20\n",
    "\n",
    "# Wypisanie dzielników za pomocą pętli for i generatora\n",
    "print(f\"Dzielniki liczby {N1}:\")\n",
    "for divisor in divisors_generator(N1):\n",
    "    print(divisor, end=\" \")\n",
    "print()\n",
    "\n",
    "print(f\"Dzielniki liczby {N2}:\")\n",
    "for divisor in divisors_generator(N2):\n",
    "    print(divisor, end=\" \")\n",
    "print()\n",
    "\n",
    "# Utworzenie listy dzielników za pomocą list comprehensions\n",
    "divisors_list_N1 = [divisor for divisor in divisors_generator(N1)]\n",
    "divisors_list_N2 = [divisor for divisor in divisors_generator(N2)]\n",
    "\n",
    "print(f\"Lista dzielników liczby {N1}: {divisors_list_N1}\")\n",
    "print(f\"Lista dzielników liczby {N2}: {divisors_list_N2}\")"
   ],
   "metadata": {
    "collapsed": false,
    "pycharm": {
     "name": "#%%\n"
    },
    "ExecuteTime": {
     "end_time": "2024-06-16T20:54:00.636225Z",
     "start_time": "2024-06-16T20:54:00.620962Z"
    }
   },
   "outputs": [
    {
     "name": "stdout",
     "output_type": "stream",
     "text": [
      "Dzielniki liczby 12:\n",
      "1 2 3 4 6 12 \n",
      "Dzielniki liczby 20:\n",
      "1 2 4 5 10 20 \n",
      "Lista dzielników liczby 12: [1, 2, 3, 4, 6, 12]\n",
      "Lista dzielników liczby 20: [1, 2, 4, 5, 10, 20]\n"
     ]
    }
   ],
   "execution_count": 1
  },
  {
   "cell_type": "markdown",
   "source": [
    "Napisać generator, który generuje pary (dzielnik pierwszy, krotność dzielnika) dla liczby $N$.\n",
    "Wypisać dzielniki pierwsze wybranej liczby $N$ wraz z krotnościami korzystając z pętli for i generatora.\n",
    "Utworzyć słownik o kluczach będących dzielnikami pierwszymi wybranej liczby $N$\n",
    "i wartościach będących krotnościami odpowiednich dzielników korzystając z dictionary comprehensions."
   ],
   "metadata": {
    "collapsed": false,
    "pycharm": {
     "name": "#%% md\n"
    }
   }
  },
  {
   "cell_type": "code",
   "execution_count": null,
   "outputs": [],
   "source": [],
   "metadata": {
    "collapsed": false,
    "pycharm": {
     "name": "#%%\n"
    }
   }
  },
  {
   "cell_type": "markdown",
   "source": [
    "(2 pkt) W zadaniu wykorzystać klasę `Poly` z czwartej serii zadań.\n",
    "Napisać generator, który dla danej listy liczb, generuje wielomiany o współczynnikach będących liczbami\n",
    "z listy i coraz niższych potęgach. Na przykład dla listy liczb `[3,5,0,6,4]` generator ma generować kolejno wielomiany\n",
    "\n",
    "$$ 3x^4,\\ 5x^3,\\ 0,\\ 6x,\\ 4 $$\n",
    "\n",
    "Wykorzystać wbudowaną funkcję sum() aby zsumować wielomiany generowane za pomocą generatora\n",
    "dla przykładowej listy listy liczb. Porównać (operator `==`) wielomian uzyskany tą metodą\n",
    "z wielomianem utworzonym bezpośrednio na podstawie listy liczb.\n"
   ],
   "metadata": {
    "collapsed": false,
    "pycharm": {
     "name": "#%% md\n"
    }
   }
  },
  {
   "cell_type": "code",
   "source": [
    "class Poly:\n",
    "    def __init__(self, coeffs):\n",
    "        self.coeffs = coeffs\n",
    "    \n",
    "    def __repr__(self):\n",
    "        terms = [f\"{coeff}x^{exp}\" for exp, coeff in enumerate(self.coeffs[::-1])]\n",
    "        return \" + \".join(terms[::-1])\n",
    "    \n",
    "    def __add__(self, other):\n",
    "        max_len = max(len(self.coeffs), len(other.coeffs))\n",
    "        new_coeffs = [0] * max_len\n",
    "        \n",
    "        for i in range(len(self.coeffs)):\n",
    "            new_coeffs[i] += self.coeffs[i]\n",
    "        \n",
    "        for i in range(len(other.coeffs)):\n",
    "            new_coeffs[i] += other.coeffs[i]\n",
    "        \n",
    "        return Poly(new_coeffs)\n",
    "    \n",
    "    def __eq__(self, other):\n",
    "        return self.coeffs == other.coeffs\n",
    "\n",
    "def poly_generator(coeffs):\n",
    "    for i in range(len(coeffs)):\n",
    "        yield Poly(coeffs[i:])\n",
    "\n",
    "# Przykładowa lista liczb\n",
    "coeffs_list = [3, 5, 0, 6, 4]\n",
    "\n",
    "# Generowanie i sumowanie wielomianów za pomocą generatora\n",
    "generated_poly = sum(poly_generator(coeffs_list))\n",
    "\n",
    "# Utworzenie wielomianu bezpośrednio z listy liczb\n",
    "direct_poly = Poly(coeffs_list)\n",
    "\n",
    "# Porównanie wyników\n",
    "print(\"Wielomian uzyskany przez generator:\")\n",
    "print(generated_poly)\n",
    "print(\"Wielomian utworzony bezpośrednio z listy:\")\n",
    "print(direct_poly)\n",
    "print(\"Czy wielomiany są identyczne?\", generated_poly == direct_poly)\n"
   ],
   "metadata": {
    "collapsed": false,
    "pycharm": {
     "name": "#%%\n"
    },
    "ExecuteTime": {
     "end_time": "2024-06-16T20:55:05.105502Z",
     "start_time": "2024-06-16T20:55:04.476828Z"
    }
   },
   "outputs": [
    {
     "ename": "TypeError",
     "evalue": "unsupported operand type(s) for +: 'int' and 'Poly'",
     "output_type": "error",
     "traceback": [
      "\u001B[1;31m---------------------------------------------------------------------------\u001B[0m",
      "\u001B[1;31mTypeError\u001B[0m                                 Traceback (most recent call last)",
      "Cell \u001B[1;32mIn[2], line 32\u001B[0m\n\u001B[0;32m     29\u001B[0m coeffs_list \u001B[38;5;241m=\u001B[39m [\u001B[38;5;241m3\u001B[39m, \u001B[38;5;241m5\u001B[39m, \u001B[38;5;241m0\u001B[39m, \u001B[38;5;241m6\u001B[39m, \u001B[38;5;241m4\u001B[39m]\n\u001B[0;32m     31\u001B[0m \u001B[38;5;66;03m# Generowanie i sumowanie wielomianów za pomocą generatora\u001B[39;00m\n\u001B[1;32m---> 32\u001B[0m generated_poly \u001B[38;5;241m=\u001B[39m \u001B[38;5;28;43msum\u001B[39;49m\u001B[43m(\u001B[49m\u001B[43mpoly_generator\u001B[49m\u001B[43m(\u001B[49m\u001B[43mcoeffs_list\u001B[49m\u001B[43m)\u001B[49m\u001B[43m)\u001B[49m\n\u001B[0;32m     34\u001B[0m \u001B[38;5;66;03m# Utworzenie wielomianu bezpośrednio z listy liczb\u001B[39;00m\n\u001B[0;32m     35\u001B[0m direct_poly \u001B[38;5;241m=\u001B[39m Poly(coeffs_list)\n",
      "\u001B[1;31mTypeError\u001B[0m: unsupported operand type(s) for +: 'int' and 'Poly'"
     ]
    }
   ],
   "execution_count": 2
  },
  {
   "cell_type": "markdown",
   "source": [
    "Napisz dekorator  `mulArgs`, który dekoruje funkcje matematyczne jednej zmiennej.\n",
    "Po udekorowaniu funkcja powinna przyjmować dowolną (zmienną) liczbę argumentów i zwracać listę wartości\n",
    "dekorowanej funkcji dla tych argumentów. Na przykład funkcja\n",
    "\n",
    "```\n",
    "@mulArgs\n",
    "def myExp(x):\n",
    "    return exp(x)\n",
    "```\n",
    "powinna umożliwiać wywołanie `myExp(1,2,3,4)` i zwrócić listę\n",
    "$$\n",
    "\\left[ e^1, e^2, e^3, e^4 \\right]\n",
    "$$\n",
    "\n",
    "Udekorować funkcje `mySin, myCos, myExp` i przetestować ich działanie.\n"
   ],
   "metadata": {
    "collapsed": false,
    "pycharm": {
     "name": "#%% md\n"
    }
   }
  },
  {
   "cell_type": "code",
   "source": [
    "import math\n",
    "\n",
    "def mulArgs(func):\n",
    "    def wrapper(*args):\n",
    "        return [func(arg) for arg in args]\n",
    "    return wrapper\n",
    "\n",
    "# Dekorowanie funkcji matematycznych\n",
    "@mulArgs\n",
    "def myExp(x):\n",
    "    return math.exp(x)\n",
    "\n",
    "@mulArgs\n",
    "def mySin(x):\n",
    "    return math.sin(x)\n",
    "\n",
    "@mulArgs\n",
    "def myCos(x):\n",
    "    return math.cos(x)\n",
    "\n",
    "# Testowanie działania udekorowanych funkcji\n",
    "args = [1, 2, 3, 4]\n",
    "\n",
    "print(\"Wartości funkcji exp dla argumentów:\", args)\n",
    "print(myExp(*args))\n",
    "\n",
    "print(\"Wartości funkcji sin dla argumentów:\", args)\n",
    "print(mySin(*args))\n",
    "\n",
    "print(\"Wartości funkcji cos dla argumentów:\", args)\n",
    "print(myCos(*args))\n"
   ],
   "metadata": {
    "collapsed": false,
    "pycharm": {
     "name": "#%%\n"
    },
    "ExecuteTime": {
     "end_time": "2024-06-16T20:56:20.757791Z",
     "start_time": "2024-06-16T20:56:20.748102Z"
    }
   },
   "outputs": [
    {
     "name": "stdout",
     "output_type": "stream",
     "text": [
      "Wartości funkcji exp dla argumentów: [1, 2, 3, 4]\n",
      "[2.718281828459045, 7.38905609893065, 20.085536923187668, 54.598150033144236]\n",
      "Wartości funkcji sin dla argumentów: [1, 2, 3, 4]\n",
      "[0.8414709848078965, 0.9092974268256817, 0.1411200080598672, -0.7568024953079282]\n",
      "Wartości funkcji cos dla argumentów: [1, 2, 3, 4]\n",
      "[0.5403023058681397, -0.4161468365471424, -0.9899924966004454, -0.6536436208636119]\n"
     ]
    }
   ],
   "execution_count": 3
  },
  {
   "metadata": {},
   "cell_type": "code",
   "outputs": [],
   "execution_count": null,
   "source": ""
  }
 ],
 "metadata": {
  "kernelspec": {
   "display_name": "Python 3",
   "language": "python",
   "name": "python3"
  },
  "language_info": {
   "codemirror_mode": {
    "name": "ipython",
    "version": 2
   },
   "file_extension": ".py",
   "mimetype": "text/x-python",
   "name": "python",
   "nbconvert_exporter": "python",
   "pygments_lexer": "ipython2",
   "version": "2.7.6"
  }
 },
 "nbformat": 4,
 "nbformat_minor": 0
}
