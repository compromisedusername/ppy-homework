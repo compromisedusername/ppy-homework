{
 "cells": [
  {
   "cell_type": "markdown",
   "source": [
    "# Zadania domowe - Seria 6"
   ],
   "metadata": {
    "collapsed": false,
    "pycharm": {
     "name": "#%% md\n"
    }
   }
  },
  {
   "cell_type": "markdown",
   "source": [
    "(5 pkt) Napisać klasę abstrakcyjną `ZeroFinder`, która stanowi klasę bazową dla klas implementujących algorytm szukania miejsca zerowego funkcji jednej zmiennej $f(x)$ w przedziale $[a,b]$.\n",
    "Zakładamy, że funkcja jest ciągła i znaki $f(a)$ oraz $f(b)$ są różne - tzn. funkcja ma na pewno miejsce zerowe w przedziale $[a,b]$.\n",
    "Algorytmy kończą działanie, gdy zostaje znaleziony punkt $x_0$ dla którego spełniony jest warunek\n",
    "\n",
    "$$\n",
    "\n",
    "\\left|f(x_0) \\right| \\leq \\varepsilon\n",
    "\n",
    "$$\n",
    "\n",
    "Funkcja $f(x)$, końce przedziału poszukiwań $a,b$ oraz tolerancja $\\varepsilon$ są argumentami metody inicjalizującej klasę `ZeroFinder`.\n",
    "Klasa deklaruje metodę abstrakcyjną `findZero()`, implementującą właściwy algorytm poszukiwań miejsca zerowego funkcji.\n",
    "\n",
    "Następnie zaimplementować dwie konkretne klasy `Halving` oraz `Secant` dziedziczące po klasie `ZeroFinder`.\n",
    "Klasa `Halving` implementuje algorytm połowienia. W każdej iteracji algorytmu obliczany jest punkt\n",
    "$$\n",
    "\n",
    "x=\\frac{a+b}{2}\n",
    "\n",
    "$$\n",
    "Jeżeli znaki $f(a)$ oraz $f(x)$ są takie same to $x$ staje się nowym $a$. W przeciwnym przypadku $x$ staje się nowym $b$.\n",
    "W ten sposób w każdej iteracji zmniejszamy dwukrotnie długość przedziału poszukiwań miejsca zerowego.\n",
    "\n",
    "Klasa `Secant` implementuje algorytm siecznych. W kolejnych iteracjach obliczamy $x$ - punkt przecięcia prostej przechodzącej przez punkty $(a,f(a))$ oraz $(b,f(b))$ z osią $X$. Nastepnie przypisujemy\n",
    "$$\n",
    "a:=b\\\\\n",
    "b:=x\n",
    "$$\n",
    "i kontunuujemy obliczenia.\n",
    "\n",
    "\n",
    "Utowrzyć obiekty klas `Halving` oraz `Secant` oraz przetestować ich działanie poszukując miejsc zerowych\n",
    "* $f(x) = e^{x+1}-1$ w przedziale $[-2,\\ 2.5]$\n",
    "* $f(x) = sin(x+1)$ w przedziale $[-2,\\ 1]$\n",
    "\n",
    "Przyjąć tolerancję rozwiązania $\\varepsilon = 10^{-6}$\n"
   ],
   "metadata": {
    "collapsed": false,
    "pycharm": {
     "name": "#%% md\n"
    }
   }
  },
  {
   "metadata": {
    "ExecuteTime": {
     "end_time": "2024-05-19T18:32:09.201423Z",
     "start_time": "2024-05-19T18:32:09.180311Z"
    }
   },
   "cell_type": "code",
   "source": [
    "from abc import ABC, abstractmethod\n",
    "\n",
    "\n",
    "class ZeroFinder(ABC):\n",
    "\n",
    "    def __init__(self, function, a, b , tolerance):\n",
    "        self._a = a\n",
    "        self._b = b\n",
    "        self._function = function\n",
    "        self._tolerance = tolerance\n",
    "    \n",
    "    \n",
    "    @property\n",
    "    def a(self):\n",
    "        return self._a\n",
    "    \n",
    "    @property\n",
    "    def b(self):\n",
    "        return self._b\n",
    "    \n",
    "    @property\n",
    "    def function(self):\n",
    "        return self._function\n",
    "    \n",
    "    @property\n",
    "    def tolerance(self):\n",
    "        return self._tolerance\n",
    "    \n",
    "    @abstractmethod\n",
    "    def findZero(self):\n",
    "        pass\n",
    "    \n",
    "    @a.setter\n",
    "    def a(self, value):\n",
    "        self._a = value\n",
    "\n",
    "    @b.setter\n",
    "    def b(self, value):\n",
    "        self._b = value\n",
    "    \n",
    "class Secant(ZeroFinder):\n",
    "    \"\"\"Secant class implements secants algorithm.\"\"\"\n",
    "    def __init__(self, function, a, b, tolerance):\n",
    "        super().__init__(function, a, b, tolerance)\n",
    "    \n",
    "    def findZero(self):\n",
    "        x = self.a - (self.function(self.a)*(self.b-self.a))/(self.function(self.b)-self.function(self.a))\n",
    "        while abs(self.function(x)) > self.tolerance:\n",
    "            self.a = self.b\n",
    "            self.b = x\n",
    "            x = self.a - (self.function(self.a)*(self.b-self.a))/(self.function(self.b)-self.function(self.a))\n",
    "        return x\n",
    "\n",
    "    \n",
    "\n",
    "\n",
    "class Halving(ZeroFinder):\n",
    "    \"\"\"Halving class implements halving algorithm\"\"\"\n",
    "    def __init__(self, function, a, b, tolerance):\n",
    "        super().__init__(function, a, b, tolerance)\n",
    "\n",
    "    def findZero(self):\n",
    "        x = (self.b + self.a) / 2\n",
    "        while abs(self.function(x)) > self.tolerance:\n",
    "            if (self.function(self.a) * self.function(x)) < 0:\n",
    "                self.b = x\n",
    "            else:\n",
    "                self.a = x\n",
    "            x = (self.a + self.b) / 2\n",
    "\n",
    "        return x\n"
   ],
   "outputs": [],
   "execution_count": 59
  },
  {
   "cell_type": "code",
   "source": [
    "from math import exp, sin\n",
    "\n",
    "h = Halving(lambda x : exp(x+1)-1,-2, 2.5, 0.000001)\n",
    "s = Secant(lambda x : sin(x+1),-2, 1, 0.00001)\n",
    "\n",
    "\n",
    "print(\"Secant algorithm\",s.findZero())\n",
    "print(\"Halving algorithm: \",h.findZero())\n"
   ],
   "metadata": {
    "collapsed": false,
    "pycharm": {
     "name": "#%%\n"
    },
    "ExecuteTime": {
     "end_time": "2024-05-19T18:32:11.122434Z",
     "start_time": "2024-05-19T18:32:11.109773Z"
    }
   },
   "outputs": [
    {
     "name": "stdout",
     "output_type": "stream",
     "text": [
      "Secant algorithm -1.0000011764599501\n",
      "Halving algorithm:  -0.9999995231628418\n"
     ]
    }
   ],
   "execution_count": 60
  },
  {
   "metadata": {},
   "cell_type": "code",
   "source": "",
   "outputs": [],
   "execution_count": null
  },
  {
   "metadata": {},
   "cell_type": "code",
   "outputs": [],
   "execution_count": null,
   "source": ""
  }
 ],
 "metadata": {
  "kernelspec": {
   "display_name": "Python 3",
   "language": "python",
   "name": "python3"
  },
  "language_info": {
   "codemirror_mode": {
    "name": "ipython",
    "version": 2
   },
   "file_extension": ".py",
   "mimetype": "text/x-python",
   "name": "python",
   "nbconvert_exporter": "python",
   "pygments_lexer": "ipython2",
   "version": "2.7.6"
  }
 },
 "nbformat": 4,
 "nbformat_minor": 0
}
