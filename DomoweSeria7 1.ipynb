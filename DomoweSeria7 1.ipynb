{
 "cells": [
  {
   "cell_type": "markdown",
   "source": [
    "# Zadania domowe - Seria 6"
   ],
   "metadata": {
    "collapsed": false,
    "pycharm": {
     "name": "#%% md\n"
    }
   }
  },
  {
   "cell_type": "markdown",
   "source": [
    "(5 pkt) Napisać klasę abstrakcyjną `ZeroFinder`, która stanowi klasę bazową dla klas implementujących algorytm szukania miejsca zerowego funkcji jednej zmiennej $f(x)$ w przedziale $[a,b]$.\n",
    "Zakładamy, że funkcja jest ciągła i znaki $f(a)$ oraz $f(b)$ są różne - tzn. funkcja ma na pewno miejsce zerowe w przedziale $[a,b]$.\n",
    "Algorytmy kończą działanie, gdy zostaje znaleziony punkt $x_0$ dla którego spełniony jest warunek\n",
    "\n",
    "$$\n",
    "\n",
    "\\left|f(x_0) \\right| \\leq \\varepsilon\n",
    "\n",
    "$$\n",
    "\n",
    "Funkcja $f(x)$, końce przedziału poszukiwań $a,b$ oraz tolerancja $\\varepsilon$ są argumentami metody inicjalizującej klasę `ZeroFinder`.\n",
    "Klasa deklaruje metodę abstrakcyjną `findZero()`, implementującą właściwy algorytm poszukiwań miejsca zerowego funkcji.\n",
    "\n",
    "Następnie zaimplementować dwie konkretne klasy `Halving` oraz `Secant` dziedziczące po klasie `ZeroFinder`.\n",
    "Klasa `Halving` implementuje algorytm połowienia. W każdej iteracji algorytmu obliczany jest punkt\n",
    "$$\n",
    "\n",
    "x=\\frac{a+b}{2}\n",
    "\n",
    "$$\n",
    "Jeżeli znaki $f(a)$ oraz $f(x)$ są takie same to $x$ staje się nowym $a$. W przeciwnym przypadku $x$ staje się nowym $b$.\n",
    "W ten sposób w każdej iteracji zmniejszamy dwukrotnie długość przedziału poszukiwań miejsca zerowego.\n",
    "\n",
    "Klasa `Secant` implementuje algorytm siecznych. W kolejnych iteracjach obliczamy $x$ - punkt przecięcia prostej przechodzącej przez punkty $(a,f(a))$ oraz $(b,f(b))$ z osią $X$. Nastepnie przypisujemy\n",
    "$$\n",
    "a:=b\\\\\n",
    "b:=x\n",
    "$$\n",
    "i kontunuujemy obliczenia.\n",
    "\n",
    "\n",
    "Utowrzyć obiekty klas `Halving` oraz `Secant` oraz przetestować ich działanie poszukując miejsc zerowych\n",
    "* $f(x) = e^{x+1}-1$ w przedziale $[-2,\\ 2.5]$\n",
    "* $f(x) = sin(x+1)$ w przedziale $[-2,\\ 1]$\n",
    "\n",
    "Przyjąć tolerancję rozwiązania $\\varepsilon = 10^{-6}$\n"
   ],
   "metadata": {
    "collapsed": false,
    "pycharm": {
     "name": "#%% md\n"
    }
   }
  },
  {
   "cell_type": "code",
   "source": [
    "from abc import ABC, abstractmethod\n",
    "\n",
    "class ZeroFinder:\n",
    "    \n",
    "    def __init__(self, fun, a, b, tolerance):\n",
    "        self.function = fun\n",
    "        self.a = a\n",
    "        self.b = b\n",
    "        self.tolerance = tolerance\n",
    "    \n",
    "    @abstractmethod\n",
    "    def findZero(self):\n",
    "        pass"
   ],
   "metadata": {
    "collapsed": false,
    "pycharm": {
     "name": "#%%\n"
    },
    "ExecuteTime": {
     "end_time": "2024-05-17T22:47:06.854774Z",
     "start_time": "2024-05-17T22:47:06.839758Z"
    }
   },
   "outputs": [
    {
     "ename": "SyntaxError",
     "evalue": "incomplete input (3413188774.py, line 9)",
     "output_type": "error",
     "traceback": [
      "\u001B[1;36m  Cell \u001B[1;32mIn[1], line 9\u001B[1;36m\u001B[0m\n\u001B[1;33m    @abstractmethod\u001B[0m\n\u001B[1;37m                   ^\u001B[0m\n\u001B[1;31mSyntaxError\u001B[0m\u001B[1;31m:\u001B[0m incomplete input\n"
     ]
    }
   ],
   "execution_count": 1
  },
  {
   "cell_type": "markdown",
   "source": [],
   "metadata": {
    "collapsed": false,
    "pycharm": {
     "name": "#%% md\n"
    }
   }
  },
  {
   "cell_type": "code",
   "execution_count": null,
   "outputs": [],
   "source": [],
   "metadata": {
    "collapsed": false,
    "pycharm": {
     "name": "#%%\n"
    }
   }
  }
 ],
 "metadata": {
  "kernelspec": {
   "display_name": "Python 3",
   "language": "python",
   "name": "python3"
  },
  "language_info": {
   "codemirror_mode": {
    "name": "ipython",
    "version": 2
   },
   "file_extension": ".py",
   "mimetype": "text/x-python",
   "name": "python",
   "nbconvert_exporter": "python",
   "pygments_lexer": "ipython2",
   "version": "2.7.6"
  }
 },
 "nbformat": 4,
 "nbformat_minor": 0
}
