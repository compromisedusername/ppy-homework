{
 "cells": [
  {
   "cell_type": "markdown",
   "source": [
    "# Zadania domowe - Seria 3"
   ],
   "metadata": {
    "collapsed": false
   }
  },
  {
   "cell_type": "markdown",
   "source": [
    "Losowanie liczb rzeczywistych z przedziału"
   ],
   "metadata": {
    "collapsed": false
   }
  },
  {
   "cell_type": "code",
   "source": [
    "from random import uniform\n",
    "\n",
    "# Losuje jedną liczbę z zakresu od 3 do 9 włącznie\n",
    "print(uniform(-0.25, 4.37))"
   ],
   "metadata": {
    "collapsed": false,
    "pycharm": {
     "is_executing": true
    },
    "ExecuteTime": {
     "end_time": "2024-04-06T23:06:08.112016Z",
     "start_time": "2024-04-06T23:06:08.107254Z"
    }
   },
   "outputs": [
    {
     "name": "stdout",
     "output_type": "stream",
     "text": [
      "2.4516369703184484\n"
     ]
    }
   ],
   "execution_count": 41
  },
  {
   "cell_type": "markdown",
   "source": [
    "Napisać funkcję, która przyjmuje jako argument liczbę naturalną N, i zwraca listę jej dzielników."
   ],
   "metadata": {
    "collapsed": false
   }
  },
  {
   "cell_type": "code",
   "source": [
    "def divisors(n: int) -> list:\n",
    "    \"\"\" Results in list of divisiors given N number. \"\"\"\n",
    "    return list(x for x in range(2,n+1) if n % x == 0)\n",
    "\n",
    "print(divisors(n=65536))\n",
    "print(divisors.__doc__)\n",
    "    "
   ],
   "metadata": {
    "collapsed": false,
    "ExecuteTime": {
     "end_time": "2024-04-06T23:16:09.037332Z",
     "start_time": "2024-04-06T23:16:09.024293Z"
    }
   },
   "outputs": [
    {
     "name": "stdout",
     "output_type": "stream",
     "text": [
      "[2, 4, 8, 16, 32, 64, 128, 256, 512, 1024, 2048, 4096, 8192, 16384, 32768, 65536]\n",
      " Results in lists of divisiors given N number \n"
     ]
    }
   ],
   "execution_count": 55
  },
  {
   "cell_type": "markdown",
   "source": [
    "Napisz funkcję, która zwraca macierz rozmiaru $M\\times N$, złożoną z losowych liczb rzeczywistych z przedziału $[a,b]$\n",
    "Parametrami funkcji mają być liczby $M,N,a,b$.\n",
    "\n",
    "Macierz jest reprezentowana jako lista list np.:\n",
    "\n",
    "`A=[[1,2,3],[4,5,6],[7,8,9]]`\n",
    "\n",
    "Uruchomić funkcję dla przykładowych parametrów i wypisać wynikową macierz na ekranie.\n",
    "Następnie uruchomić drugi raz tę samą funkcję, ale z parametrami nazwanymi.\n"
   ],
   "metadata": {
    "collapsed": false
   }
  },
  {
   "cell_type": "code",
   "source": [
    "from random import uniform\n",
    "\n",
    "def create_matrix(m: int, n: int, a: float, b: float ) -> list:\n",
    "    \"\"\"Return matrix of 'n' x 'm' size with elements in range ['a','b']\"\"\"\n",
    "    \n",
    "    mapMatrix =lambda x: [uniform(a,b) for _ in range(0, n)]\n",
    "    matrix = (list(map(mapMatrix,[_ for _ in range(0,m)])))\n",
    "    \n",
    "    \n",
    "    return matrix\n",
    "    \n",
    "for i in create_matrix(3,5,1,5):\n",
    "    print(i,'\\n')\n",
    "    \n",
    "print(\"Self named parameters\")\n",
    "\n",
    "for i in create_matrix(a=1,b=2,n=5,m=3):\n",
    "    print(i,'\\n')"
   ],
   "metadata": {
    "collapsed": false,
    "ExecuteTime": {
<<<<<<< HEAD
     "end_time": "2024-04-07T11:29:45.235603Z",
     "start_time": "2024-04-07T11:29:45.215281Z"
=======
     "end_time": "2024-04-07T20:33:23.543120700Z",
     "start_time": "2024-04-07T20:33:23.527242500Z"
>>>>>>> d3d486400086d8ec26ed254a9ebe1219a7c5f26a
    }
   },
   "outputs": [
    {
     "name": "stdout",
     "output_type": "stream",
     "text": [
<<<<<<< HEAD
      "[1.5224397695905294, 3.665949661041741, 3.553103576051436, 3.3029080641974082, 1.5868335765111081] \n",
      "\n",
      "[4.280890482779512, 4.482541173787156, 3.1615405090308353, 2.8099931854338736, 1.8036742172307152] \n",
      "\n",
      "[4.747062806657122, 2.2707117464790234, 1.996404669230266, 4.606559710261672, 2.15425434766075] \n",
      "\n",
      "Self named parameters\n",
      "[1.1033953939456413, 1.7018094428712172, 1.3897802463292614, 1.7872943862560375, 1.7270023878588514] \n",
      "\n",
      "[1.584479331782887, 1.3370559338001957, 1.4456848330385599, 1.7121237279720196, 1.0680182354899306] \n",
      "\n",
      "[1.734875607444586, 1.0071329789109744, 1.4638048523129352, 1.2098589976233503, 1.8644932259037263] \n",
=======
      "[1.3656356949338542, 2.5358948382955333, 2.10124501319821, 3.1495832624224387, 1.2315180195339188] \n",
      "\n",
      "[4.2914857129603785, 4.15320352104191, 2.1593485763958826, 4.778840705025745, 3.286203642235171] \n",
      "\n",
      "[1.0786525245585428, 1.7160503556789015, 1.5590624204962946, 1.7185666803470054, 1.126771291354685] \n",
      "\n",
      "Self named parameters\n",
      "[1.233694786178083, 1.1664006916604421, 1.7249468228033356, 1.5615339313706413, 1.8289153461321876] \n",
      "\n",
      "[1.634341292793938, 1.9895812743516805, 1.3684478551379282, 1.5743476611629887, 1.526877032125942] \n",
      "\n",
      "[1.823122550822926, 1.3009532934285213, 1.4957059887636222, 1.556191915106833, 1.816344208745396] \n",
>>>>>>> d3d486400086d8ec26ed254a9ebe1219a7c5f26a
      "\n"
     ]
    }
   ],
<<<<<<< HEAD
   "execution_count": 2
=======
   "execution_count": 63
>>>>>>> d3d486400086d8ec26ed254a9ebe1219a7c5f26a
  },
  {
   "cell_type": "markdown",
   "source": [
    "Napisz funkcję, która pobiera jako argumenty macierze liczb rzeczywistych $A$ i $B$,\n",
    "a jako wynik zwraca ich iloczyn $C= A*B$, jeżeli wymiary macierzy umożliwiają wykonanie mnożenia,\n",
    "lub `None` w przeciwnym wypadku.\n",
    "\n",
    "Wylosować przykładowe macierze $A$ i $B$ (funkcja z zadania 1) oraz wypisać wynikową macierz na ekranie."
   ],
   "metadata": {
    "collapsed": false
   }
  },
  {
   "cell_type": "code",
<<<<<<< HEAD
   "source": [
    "matrix1 = create_matrix(3,2,0,1)\n",
    "matrix2 = create_matrix(2,5,0,1)\n",
    "\n",
    "\n",
    "def dot_product(vector1: list,vector2: list):\n",
    "    result = 0\n",
    "    for a,b in vector1,vector2:\n",
    "        result = result + a*b\n",
    "    return result\n",
    "\n",
    "def matrix_transposition(matrix: list) -> list:\n",
    "    transpositioned_matrix = []\n",
    "    if(len(matrix) == 1):\n",
    "        return matrix\n",
    "    for row in range(0,len(matrix[0])):\n",
    "        transpositioned_list = []\n",
    "        for col in range(0,len(matrix)):\n",
    "            transpositioned_list.append(matrix[col][row])\n",
    "        transpositioned_matrix.append(transpositioned_list)\n",
    "    return transpositioned_matrix\n",
    "def matrix_multiplication(matrix1: list, matrix2: list) -> list:\n",
    "    if len(matrix1[0]) != len(matrix2):\n",
    "        return None\n",
    "    matrix_multiplicated = []\n",
    "    matrix2t = matrix_transposition(matrix2)\n",
    "    i = 0\n",
    "    for vec1 in matrix1:\n",
    "        vector = []\n",
    "        for vec2 in matrix2t:\n",
    "            vector.append(dot_product(vec1,vec2))\n",
    "        matrix_multiplicated.append(vector)\n",
    "    return matrix_multiplicated\n",
    "a = [[1,1,1],[1,1,1]]\n",
    "b = [[1,1,1],[1,1,1],[1,1,1]]\n",
    "print(matrix_multiplication(a,b))    \n",
    "    \n"
   ],
   "metadata": {
    "collapsed": false,
    "jupyter": {
     "is_executing": true
    }
   },
   "outputs": [],
   "execution_count": null
=======
   "execution_count": 83,
   "outputs": [
    {
     "name": "stdout",
     "output_type": "stream",
     "text": [
      "[[6, 12], [6, 12], [6, 12], [6, 12]]\n"
     ]
    }
   ],
   "source": [
    "\n",
    "def dot_result(vec1:list,vec2:list)-> list:\n",
    "    \"\"\"Function return dot result of given vectors\"\"\"\n",
    "    result = 0\n",
    "    for i in range(0,len(vec1)):\n",
    "        result = result + vec1[i]*vec2[i]\n",
    "    return result\n",
    "\n",
    "def transpose_matrix(matrix: list)->list:\n",
    "    \"\"\"Function return transposed matrix.\"\"\"\n",
    "    matrix_transposed = []\n",
    "    for i in range(0,len(matrix[0])):\n",
    "        vector_transpose = []\n",
    "        for j in range(0,len(matrix)):\n",
    "            vector_transpose.append(matrix[j][i])\n",
    "        matrix_transposed.append(vector_transpose)\n",
    "    return matrix_transposed\n",
    "\n",
    "\n",
    "def matrix_multiplication(matrix1: list, matrix2: list) -> list:\n",
    "    \"\"\"Multiplies two given matrixes, if first matrix is empty, function returns second given matrix\"\"\"\n",
    "    if len(matrix1)==0:\n",
    "        return matrix2\n",
    "    matrix_result = []\n",
    "    vector_in_matrix = []\n",
    "    if len(matrix1[0]) != len(matrix2):\n",
    "        return None\n",
    "    matrix2t = transpose_matrix(matrix2)\n",
    "    for vec1 in matrix1:\n",
    "        vector_in_matrix = []\n",
    "        for vec2 in matrix2t:\n",
    "            vector_in_matrix.append(dot_result(vec1,vec2))\n",
    "        matrix_result.append(vector_in_matrix)\n",
    "    return matrix_result\n",
    "\n",
    "\n",
    "print(matrix_multiplication([[1,2,3],[1,2,3],[1,2,3],[1,2,3]],[[1,2],[1,2],[1,2]]))"
   ],
   "metadata": {
    "collapsed": false,
    "ExecuteTime": {
     "end_time": "2024-04-07T20:40:42.187450200Z",
     "start_time": "2024-04-07T20:40:42.185940400Z"
    }
   }
>>>>>>> d3d486400086d8ec26ed254a9ebe1219a7c5f26a
  },
  {
   "cell_type": "markdown",
   "source": [
    "Napisać funkcję podobną do funkcji z poprzedniego zadania, ale tym razem funkcja przujmuje jako argumenty\n",
    "dowolną liczbę macierzy i oblicza iloczyn ich wszystkich w kolejności w jakiej zostały podane do funkcji.\n",
    "\n",
    "$$\n",
    "C = A_1 \\cdot A_2 \\cdot ... \\cdot A_n\n",
    "$$\n",
    "\n",
    "W definicji funkcji skorzystać z operatora pakowania `*`.\n",
    "\n",
    "Wypisać wynik działania funkcji dla czterech, pięciu i sześciu wylosowanych macierzy."
   ],
   "metadata": {
    "collapsed": false
   }
  },
  {
   "cell_type": "code",
   "execution_count": 88,
   "outputs": [
    {
     "name": "stdout",
     "output_type": "stream",
     "text": [
      "[251.46762778071738, 261.35487963940255, 282.5067300243134, 252.89896924314527, 241.4249436428625, 306.50380762085365]\n",
      "[255.63557309021985, 265.65170651574647, 287.14499118177605, 257.0614053962336, 245.41795518140623, 311.5578738573908]\n",
      "--------\n",
      "[2620.3864827679054, 2399.5677887800666, 2864.3155691679794, 2776.8574394123752, 2201.093634248792, 2395.9665563655058, 2542.86858822686]\n",
      "[2663.593653504647, 2439.121104715464, 2911.5435256682103, 2822.6280010911055, 2237.3826468770594, 2435.4617784872444, 2584.8034172727293]\n",
      "--------\n",
      "[26053.52309586142, 26706.63142488658]\n",
      "[26483.061399294293, 27146.933718594464]\n"
     ]
    }
   ],
   "source": [
    "def matrixes_multiplication(*l):\n",
    "    \"\"\"Returns multiplication of given N matrixes\"\"\"\n",
    "    matrix_chain = []\n",
    "    for matrix in l:\n",
    "        matrix_chain = matrix_multiplication(matrix_chain,matrix)\n",
    "    return matrix_chain\n",
    "\n",
    "a = create_matrix(2,3,1,2)\n",
    "b = create_matrix(3,4,1,2)\n",
    "c = create_matrix(4,5,1,2)\n",
    "d = create_matrix(5,6,1,2)\n",
    "e = create_matrix(6,7,1,2)\n",
    "f = create_matrix(7,2,1,2)\n",
    "\n",
    "for i in matrixes_multiplication(a,b,c,d): # matrix should be 2x6\n",
    "    print(i)\n",
    "print(\"--------\")\n",
    "for i in matrixes_multiplication(a,b,c,d,e): # matrix should be 2x7\n",
    "    print(i)\n",
    "print(\"--------\")\n",
    "for i in matrixes_multiplication(a,b,c,d,e,f): # matrix should be 2x2\n",
    "    print(i)"
   ],
   "metadata": {
    "collapsed": false,
    "ExecuteTime": {
     "end_time": "2024-04-07T20:42:23.462668400Z",
     "start_time": "2024-04-07T20:42:23.456624300Z"
    }
   }
  },
  {
   "cell_type": "markdown",
   "source": [
    "Napisać funkcję, która implementuje sortowanie bąbelkowe listy liczb. Jako argumenty wejściowe podajemy listę liczb\n",
    "oraz kierunek sortowania o wartościach logicznych `True` jeżeli sortujemy rosnąco oraz `False` jeżeli sortujemy malejąco\n",
    "Domyślna wartość kierunku sortowania to `True`.\n",
    "\n",
    "Wylosować listę liczb całkowitych z przedziału od 1 do 100 o zadanej długości $N$\n",
    "i wypisać na ekranie posortowaną listę."
   ],
   "metadata": {
    "collapsed": false
   }
  },
  {
   "cell_type": "code",
   "execution_count": 34,
   "outputs": [
    {
     "name": "stdout",
     "output_type": "stream",
     "text": [
      "[0, 1, 2, 2, 3, 4, 5, 5, 6, 10, 11, 11, 11, 11, 13, 15, 15, 16, 16, 18, 18, 22, 23, 23, 27, 29, 30, 30, 31, 32, 32, 33, 33, 33, 35, 36, 36, 37, 37, 39, 40, 42, 42, 43, 44, 45, 45, 47, 48, 48, 49, 50, 51, 51, 52, 52, 52, 53, 53, 54, 58, 63, 64, 64, 65, 66, 66, 67, 69, 69, 70, 72, 72, 73, 79, 80, 80, 83, 83, 84, 84, 86, 89, 90, 90, 90, 91, 91, 92, 92, 92, 94, 96, 96, 97, 97, 98, 99, 99, 100]\n"
     ]
    }
   ],
   "source": [
    "import random\n",
    "\n",
    "\n",
    "def bubble_sort(numbers: list, asc: bool = True) -> list:\n",
    "    \"\"\"Sorts numbers list in ascending (default) or descending order using bubble sort algorithm.\"\"\"\n",
    "    numbers_list = numbers\n",
    "    for i in range(len(numbers_list) - 1):\n",
    "        swapped = False\n",
    "        for j in range(len(numbers_list) - i - 1):\n",
    "            if (asc and numbers_list[j] > numbers_list[j + 1]) or (not asc and numbers_list[j] < numbers_list[j + 1]):\n",
    "                numbers_list[j], numbers_list[j + 1] = numbers_list[j + 1], numbers_list[j]\n",
    "                swapped = True\n",
    "        if not swapped:\n",
    "            break\n",
    "    return numbers_list\n",
    "\n",
    "numbers = [random.randint(0, 100) for _ in range(100)]\n",
    "sorted_numbers = bubble_sort(numbers, True)\n",
    "print(sorted_numbers)"
   ],
   "metadata": {
    "collapsed": false,
    "ExecuteTime": {
     "end_time": "2024-04-07T20:08:00.721665600Z",
     "start_time": "2024-04-07T20:08:00.705941900Z"
    }
   }
  },
  {
   "cell_type": "markdown",
   "source": [],
   "metadata": {
    "collapsed": false
   }
  },
  {
   "cell_type": "code",
   "execution_count": null,
   "outputs": [],
   "source": [],
   "metadata": {
    "collapsed": false
   }
  },
  {
   "cell_type": "markdown",
   "source": [],
   "metadata": {
    "collapsed": false
   }
  },
  {
   "cell_type": "code",
   "execution_count": null,
   "outputs": [],
   "source": [],
   "metadata": {
    "collapsed": false
   }
  },
  {
   "cell_type": "markdown",
   "source": [],
   "metadata": {
    "collapsed": false
   }
  },
  {
   "cell_type": "code",
   "execution_count": null,
   "outputs": [],
   "source": [],
   "metadata": {
    "collapsed": false
   }
  },
  {
   "cell_type": "markdown",
   "source": [],
   "metadata": {
    "collapsed": false
   }
  }
 ],
 "metadata": {
  "kernelspec": {
   "display_name": "Python 3",
   "language": "python",
   "name": "python3"
  },
  "language_info": {
   "codemirror_mode": {
    "name": "ipython",
    "version": 2
   },
   "file_extension": ".py",
   "mimetype": "text/x-python",
   "name": "python",
   "nbconvert_exporter": "python",
   "pygments_lexer": "ipython2",
   "version": "2.7.6"
  }
 },
 "nbformat": 4,
 "nbformat_minor": 0
}
