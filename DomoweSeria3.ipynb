{
 "cells": [
  {
   "cell_type": "markdown",
   "source": [
    "# Zadania domowe - Seria 3"
   ],
   "metadata": {
    "collapsed": false
   }
  },
  {
   "cell_type": "markdown",
   "source": [
    "Losowanie liczb rzeczywistych z przedziału"
   ],
   "metadata": {
    "collapsed": false
   }
  },
  {
   "cell_type": "code",
   "source": [
    "from random import uniform\n",
    "\n",
    "# Losuje jedną liczbę z zakresu od 3 do 9 włącznie\n",
    "print(uniform(-0.25, 4.37))"
   ],
   "metadata": {
    "collapsed": false,
    "pycharm": {
     "is_executing": true
    },
    "ExecuteTime": {
     "end_time": "2024-04-06T23:06:08.112016Z",
     "start_time": "2024-04-06T23:06:08.107254Z"
    }
   },
   "outputs": [
    {
     "name": "stdout",
     "output_type": "stream",
     "text": [
      "2.4516369703184484\n"
     ]
    }
   ],
   "execution_count": 41
  },
  {
   "cell_type": "markdown",
   "source": [
    "Napisać funkcję, która przyjmuje jako argument liczbę naturalną N, i zwraca listę jej dzielników."
   ],
   "metadata": {
    "collapsed": false
   }
  },
  {
   "cell_type": "code",
   "source": [
    "def divisors(n: int) -> list:\n",
    "    \"\"\" Results in list of divisiors given N number. \"\"\"\n",
    "    return list(x for x in range(2,n+1) if n % x == 0)\n",
    "\n",
    "print(divisors(n=65536))\n",
    "print(divisors.__doc__)\n",
    "    "
   ],
   "metadata": {
    "collapsed": false,
    "ExecuteTime": {
     "end_time": "2024-04-06T23:16:09.037332Z",
     "start_time": "2024-04-06T23:16:09.024293Z"
    }
   },
   "outputs": [
    {
     "name": "stdout",
     "output_type": "stream",
     "text": [
      "[2, 4, 8, 16, 32, 64, 128, 256, 512, 1024, 2048, 4096, 8192, 16384, 32768, 65536]\n",
      " Results in lists of divisiors given N number \n"
     ]
    }
   ],
   "execution_count": 55
  },
  {
   "cell_type": "markdown",
   "source": [
    "Napisz funkcję, która zwraca macierz rozmiaru $M\\times N$, złożoną z losowych liczb rzeczywistych z przedziału $[a,b]$\n",
    "Parametrami funkcji mają być liczby $M,N,a,b$.\n",
    "\n",
    "Macierz jest reprezentowana jako lista list np.:\n",
    "\n",
    "`A=[[1,2,3],[4,5,6],[7,8,9]]`\n",
    "\n",
    "Uruchomić funkcję dla przykładowych parametrów i wypisać wynikową macierz na ekranie.\n",
    "Następnie uruchomić drugi raz tę samą funkcję, ale z parametrami nazwanymi.\n"
   ],
   "metadata": {
    "collapsed": false
   }
  },
  {
   "cell_type": "code",
   "source": [
    "from random import uniform\n",
    "\n",
    "def create_matrix(m: int, n: int, a: float, b: float ) -> list:\n",
    "    \"\"\"Return matrix of N x M size with elements in range [a,b]\"\"\"\n",
    "    \n",
    "    mapMatrix =lambda x: [uniform(a,b) for _ in range(0, n)]\n",
    "    matrix = (list(map(mapMatrix,[_ for _ in range(0,m)])))\n",
    "    \n",
    "    \n",
    "    return matrix\n",
    "    \n",
    "for i in create_matrix(3,5,1,5):\n",
    "    print(i,'\\n')\n",
    "    \n",
    "print(\"Self named parameters\")\n",
    "\n",
    "for i in create_matrix(a=1,b=2,n=5,m=3):\n",
    "    print(i,'\\n')"
   ],
   "metadata": {
    "collapsed": false,
    "ExecuteTime": {
     "end_time": "2024-04-07T00:06:45.774234Z",
     "start_time": "2024-04-07T00:06:45.754387Z"
    }
   },
   "outputs": [
    {
     "name": "stdout",
     "output_type": "stream",
     "text": [
      "[2.8347488613076868, 2.5932621341404736, 4.661861183258537, 1.3839162174647597, 4.60913604783959] \n",
      "\n",
      "[3.994867400561595, 2.839444398596988, 2.638136457326059, 2.9303253557111337, 4.178947152900435] \n",
      "\n",
      "[4.499350858835474, 1.5049405566449003, 4.411931002351573, 3.737251884877776, 3.9588475172109336] \n",
      "\n",
      "Self named parameters\n",
      "[1.1469352480816248, 1.354364493878747, 1.8976051656315063, 1.5655236412128657, 1.418644664039967] \n",
      "\n",
      "[1.0888928018957063, 1.984345320413039, 1.71132463954491, 1.1245772906426186, 1.8721898222772233] \n",
      "\n",
      "[1.4027007753869212, 1.8724779220470438, 1.2383630362578413, 1.3458559651294995, 1.4818219620472397] \n",
      "\n"
     ]
    }
   ],
   "execution_count": 111
  },
  {
   "cell_type": "markdown",
   "source": [
    "Napisz funkcję, która pobiera jako argumenty macierze liczb rzeczywistych $A$ i $B$,\n",
    "a jako wynik zwraca ich iloczyn $C= A*B$, jeżeli wymiary macierzy umożliwiają wykonanie mnożenia,\n",
    "lub `None` w przeciwnym wypadku.\n",
    "\n",
    "Wylosować przykładowe macierze $A$ i $B$ (funkcja z zadania 1) oraz wypisać wynikową macierz na ekranie."
   ],
   "metadata": {
    "collapsed": false
   }
  },
  {
   "cell_type": "code",
   "execution_count": null,
   "outputs": [],
   "source": [
    "matrix1 = create_matrix(3,2,0,1)\n",
    "matrix2 = create_matrix(2,5,0,1)"
   ],
   "metadata": {
    "collapsed": false
   }
  },
  {
   "cell_type": "markdown",
   "source": [
    "Napisać funkcję podobną do funkcji z poprzedniego zadania, ale tym razem funkcja przujmuje jako argumenty\n",
    "dowolną liczbę macierzy i oblicza iloczyn ich wszystkich w kolejności w jakiej zostały podane do funkcji.\n",
    "\n",
    "$$\n",
    "C = A_1 \\cdot A_2 \\cdot ... \\cdot A_n\n",
    "$$\n",
    "\n",
    "W definicji funkcji skorzystać z operatora pakowania `*`.\n",
    "\n",
    "Wypisać wynik działania funkcji dla czterech, pięciu i sześciu wylosowanych macierzy."
   ],
   "metadata": {
    "collapsed": false
   }
  },
  {
   "cell_type": "code",
   "execution_count": null,
   "outputs": [],
   "source": [],
   "metadata": {
    "collapsed": false
   }
  },
  {
   "cell_type": "markdown",
   "source": [
    "Napisać funkcję, która implementuje sortowanie bąbelkowe listy liczb. Jako argumenty wejściowe podajemy listę liczb\n",
    "oraz kierunek sortowania o wartościach logicznych `True` jeżeli sortujemy rosnąco oraz `False` jeżeli sortujemy malejąco\n",
    "Domyślna wartość kierunku sortowania to `True`.\n",
    "\n",
    "Wylosować listę liczb całkowitych z przedziału od 1 do 100 o zadanej długości $N$\n",
    "i wypisać na ekranie posortowaną listę."
   ],
   "metadata": {
    "collapsed": false
   }
  },
  {
   "cell_type": "code",
   "execution_count": null,
   "outputs": [],
   "source": [],
   "metadata": {
    "collapsed": false
   }
  },
  {
   "cell_type": "markdown",
   "source": [],
   "metadata": {
    "collapsed": false
   }
  },
  {
   "cell_type": "code",
   "execution_count": null,
   "outputs": [],
   "source": [],
   "metadata": {
    "collapsed": false
   }
  },
  {
   "cell_type": "markdown",
   "source": [],
   "metadata": {
    "collapsed": false
   }
  },
  {
   "cell_type": "code",
   "execution_count": null,
   "outputs": [],
   "source": [],
   "metadata": {
    "collapsed": false
   }
  },
  {
   "cell_type": "markdown",
   "source": [],
   "metadata": {
    "collapsed": false
   }
  },
  {
   "cell_type": "code",
   "execution_count": null,
   "outputs": [],
   "source": [],
   "metadata": {
    "collapsed": false
   }
  },
  {
   "cell_type": "markdown",
   "source": [],
   "metadata": {
    "collapsed": false
   }
  }
 ],
 "metadata": {
  "kernelspec": {
   "display_name": "Python 3",
   "language": "python",
   "name": "python3"
  },
  "language_info": {
   "codemirror_mode": {
    "name": "ipython",
    "version": 2
   },
   "file_extension": ".py",
   "mimetype": "text/x-python",
   "name": "python",
   "nbconvert_exporter": "python",
   "pygments_lexer": "ipython2",
   "version": "2.7.6"
  }
 },
 "nbformat": 4,
 "nbformat_minor": 0
}
