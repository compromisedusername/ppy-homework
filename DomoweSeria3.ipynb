{
 "cells": [
  {
   "cell_type": "markdown",
   "source": [
    "# Zadania domowe - Seria 3"
   ],
   "metadata": {
    "collapsed": false
   }
  },
  {
   "cell_type": "markdown",
   "source": [
    "Losowanie liczb rzeczywistych z przedziału"
   ],
   "metadata": {
    "collapsed": false
   }
  },
  {
   "cell_type": "code",
   "source": [
    "from random import uniform\n",
    "\n",
    "# Losuje jedną liczbę z zakresu od 3 do 9 włącznie\n",
    "print(uniform(-0.25, 4.37))"
   ],
   "metadata": {
    "collapsed": false,
    "pycharm": {
     "is_executing": true
    },
    "ExecuteTime": {
     "end_time": "2024-04-06T23:06:08.112016Z",
     "start_time": "2024-04-06T23:06:08.107254Z"
    }
   },
   "outputs": [
    {
     "name": "stdout",
     "output_type": "stream",
     "text": [
      "2.4516369703184484\n"
     ]
    }
   ],
   "execution_count": 41
  },
  {
   "cell_type": "markdown",
   "source": [
    "Napisać funkcję, która przyjmuje jako argument liczbę naturalną N, i zwraca listę jej dzielników."
   ],
   "metadata": {
    "collapsed": false
   }
  },
  {
   "cell_type": "code",
   "source": [
    "def divisors(n: int) -> list:\n",
    "    \"\"\" Results in list of divisiors given N number. \"\"\"\n",
    "    return list(x for x in range(2,n+1) if n % x == 0)\n",
    "\n",
    "print(divisors(n=65536))\n",
    "print(divisors.__doc__)\n",
    "    "
   ],
   "metadata": {
    "collapsed": false,
    "ExecuteTime": {
     "end_time": "2024-04-06T23:16:09.037332Z",
     "start_time": "2024-04-06T23:16:09.024293Z"
    }
   },
   "outputs": [
    {
     "name": "stdout",
     "output_type": "stream",
     "text": [
      "[2, 4, 8, 16, 32, 64, 128, 256, 512, 1024, 2048, 4096, 8192, 16384, 32768, 65536]\n",
      " Results in lists of divisiors given N number \n"
     ]
    }
   ],
   "execution_count": 55
  },
  {
   "cell_type": "markdown",
   "source": [
    "Napisz funkcję, która zwraca macierz rozmiaru $M\\times N$, złożoną z losowych liczb rzeczywistych z przedziału $[a,b]$\n",
    "Parametrami funkcji mają być liczby $M,N,a,b$.\n",
    "\n",
    "Macierz jest reprezentowana jako lista list np.:\n",
    "\n",
    "`A=[[1,2,3],[4,5,6],[7,8,9]]`\n",
    "\n",
    "Uruchomić funkcję dla przykładowych parametrów i wypisać wynikową macierz na ekranie.\n",
    "Następnie uruchomić drugi raz tę samą funkcję, ale z parametrami nazwanymi.\n"
   ],
   "metadata": {
    "collapsed": false
   }
  },
  {
   "cell_type": "code",
   "source": [
    "from random import uniform\n",
    "\n",
    "def create_matrix(m: int, n: int, a: float, b: float ) -> list:\n",
    "    \"\"\"Return matrix of 'n' x 'm' size with elements in range ['a','b']\"\"\"\n",
    "    \n",
    "    mapMatrix =lambda x: [uniform(a,b) for _ in range(0, n)]\n",
    "    matrix = (list(map(mapMatrix,[_ for _ in range(0,m)])))\n",
    "    \n",
    "    \n",
    "    return matrix\n",
    "    \n",
    "for i in create_matrix(3,5,1,5):\n",
    "    print(i,'\\n')\n",
    "    \n",
    "print(\"Self named parameters\")\n",
    "\n",
    "for i in create_matrix(a=1,b=2,n=5,m=3):\n",
    "    print(i,'\\n')"
   ],
   "metadata": {
    "collapsed": false,
    "ExecuteTime": {
     "end_time": "2024-04-07T11:29:45.235603Z",
     "start_time": "2024-04-07T11:29:45.215281Z"
    }
   },
   "outputs": [
    {
     "name": "stdout",
     "output_type": "stream",
     "text": [
      "[1.5224397695905294, 3.665949661041741, 3.553103576051436, 3.3029080641974082, 1.5868335765111081] \n",
      "\n",
      "[4.280890482779512, 4.482541173787156, 3.1615405090308353, 2.8099931854338736, 1.8036742172307152] \n",
      "\n",
      "[4.747062806657122, 2.2707117464790234, 1.996404669230266, 4.606559710261672, 2.15425434766075] \n",
      "\n",
      "Self named parameters\n",
      "[1.1033953939456413, 1.7018094428712172, 1.3897802463292614, 1.7872943862560375, 1.7270023878588514] \n",
      "\n",
      "[1.584479331782887, 1.3370559338001957, 1.4456848330385599, 1.7121237279720196, 1.0680182354899306] \n",
      "\n",
      "[1.734875607444586, 1.0071329789109744, 1.4638048523129352, 1.2098589976233503, 1.8644932259037263] \n",
      "\n"
     ]
    }
   ],
   "execution_count": 2
  },
  {
   "cell_type": "markdown",
   "source": [
    "Napisz funkcję, która pobiera jako argumenty macierze liczb rzeczywistych $A$ i $B$,\n",
    "a jako wynik zwraca ich iloczyn $C= A*B$, jeżeli wymiary macierzy umożliwiają wykonanie mnożenia,\n",
    "lub `None` w przeciwnym wypadku.\n",
    "\n",
    "Wylosować przykładowe macierze $A$ i $B$ (funkcja z zadania 1) oraz wypisać wynikową macierz na ekranie."
   ],
   "metadata": {
    "collapsed": false
   }
  },
  {
   "cell_type": "code",
   "source": [
    "matrix1 = create_matrix(3,2,0,1)\n",
    "matrix2 = create_matrix(2,5,0,1)\n",
    "\n",
    "\n",
    "def dot_product(vector1: list,vector2: list):\n",
    "    result = 0\n",
    "    for a,b in vector1,vector2:\n",
    "        result = result + a*b\n",
    "    return result\n",
    "\n",
    "def matrix_transposition(matrix: list) -> list:\n",
    "    transpositioned_matrix = []\n",
    "    if(len(matrix) == 1):\n",
    "        return matrix\n",
    "    for row in range(0,len(matrix[0])):\n",
    "        transpositioned_list = []\n",
    "        for col in range(0,len(matrix)):\n",
    "            transpositioned_list.append(matrix[col][row])\n",
    "        transpositioned_matrix.append(transpositioned_list)\n",
    "    return transpositioned_matrix\n",
    "def matrix_multiplication(matrix1: list, matrix2: list) -> list:\n",
    "    if len(matrix1[0]) != len(matrix2):\n",
    "        return None\n",
    "    matrix_multiplicated = []\n",
    "    matrix2t = matrix_transposition(matrix2)\n",
    "    i = 0\n",
    "    for vec1 in matrix1:\n",
    "        vector = []\n",
    "        for vec2 in matrix2t:\n",
    "            vector.append(dot_product(vec1,vec2))\n",
    "        matrix_multiplicated.append(vector)\n",
    "    return matrix_multiplicated\n",
    "a = [[1,1,1],[1,1,1]]\n",
    "b = [[1,1,1],[1,1,1],[1,1,1]]\n",
    "print(matrix_multiplication(a,b))    \n",
    "    \n"
   ],
   "metadata": {
    "collapsed": false,
    "jupyter": {
     "is_executing": true
    }
   },
   "outputs": [],
   "execution_count": null
  },
  {
   "cell_type": "markdown",
   "source": [
    "Napisać funkcję podobną do funkcji z poprzedniego zadania, ale tym razem funkcja przujmuje jako argumenty\n",
    "dowolną liczbę macierzy i oblicza iloczyn ich wszystkich w kolejności w jakiej zostały podane do funkcji.\n",
    "\n",
    "$$\n",
    "C = A_1 \\cdot A_2 \\cdot ... \\cdot A_n\n",
    "$$\n",
    "\n",
    "W definicji funkcji skorzystać z operatora pakowania `*`.\n",
    "\n",
    "Wypisać wynik działania funkcji dla czterech, pięciu i sześciu wylosowanych macierzy."
   ],
   "metadata": {
    "collapsed": false
   }
  },
  {
   "cell_type": "code",
   "execution_count": null,
   "outputs": [],
   "source": [],
   "metadata": {
    "collapsed": false
   }
  },
  {
   "cell_type": "markdown",
   "source": [
    "Napisać funkcję, która implementuje sortowanie bąbelkowe listy liczb. Jako argumenty wejściowe podajemy listę liczb\n",
    "oraz kierunek sortowania o wartościach logicznych `True` jeżeli sortujemy rosnąco oraz `False` jeżeli sortujemy malejąco\n",
    "Domyślna wartość kierunku sortowania to `True`.\n",
    "\n",
    "Wylosować listę liczb całkowitych z przedziału od 1 do 100 o zadanej długości $N$\n",
    "i wypisać na ekranie posortowaną listę."
   ],
   "metadata": {
    "collapsed": false
   }
  },
  {
   "cell_type": "code",
   "execution_count": null,
   "outputs": [],
   "source": [],
   "metadata": {
    "collapsed": false
   }
  },
  {
   "cell_type": "markdown",
   "source": [],
   "metadata": {
    "collapsed": false
   }
  },
  {
   "cell_type": "code",
   "execution_count": null,
   "outputs": [],
   "source": [],
   "metadata": {
    "collapsed": false
   }
  },
  {
   "cell_type": "markdown",
   "source": [],
   "metadata": {
    "collapsed": false
   }
  },
  {
   "cell_type": "code",
   "execution_count": null,
   "outputs": [],
   "source": [],
   "metadata": {
    "collapsed": false
   }
  },
  {
   "cell_type": "markdown",
   "source": [],
   "metadata": {
    "collapsed": false
   }
  },
  {
   "cell_type": "code",
   "execution_count": null,
   "outputs": [],
   "source": [],
   "metadata": {
    "collapsed": false
   }
  },
  {
   "cell_type": "markdown",
   "source": [],
   "metadata": {
    "collapsed": false
   }
  }
 ],
 "metadata": {
  "kernelspec": {
   "display_name": "Python 3",
   "language": "python",
   "name": "python3"
  },
  "language_info": {
   "codemirror_mode": {
    "name": "ipython",
    "version": 2
   },
   "file_extension": ".py",
   "mimetype": "text/x-python",
   "name": "python",
   "nbconvert_exporter": "python",
   "pygments_lexer": "ipython2",
   "version": "2.7.6"
  }
 },
 "nbformat": 4,
 "nbformat_minor": 0
}
