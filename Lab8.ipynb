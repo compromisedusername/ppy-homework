{
 "cells": [
  {
   "cell_type": "markdown",
   "source": [
    "# Generatory"
   ],
   "metadata": {
    "collapsed": false,
    "pycharm": {
     "name": "#%% md\n"
    }
   }
  },
  {
   "cell_type": "markdown",
   "source": [
    "## Genratory jako alternatywa dla iteratorów"
   ],
   "metadata": {
    "collapsed": false,
    "pycharm": {
     "name": "#%% md\n"
    }
   }
  },
  {
   "cell_type": "code",
   "execution_count": 31,
   "outputs": [],
   "source": [
    "class IterSquares:\n",
    "\n",
    "    def __init__(self, begin, end, diff):\n",
    "        self._begin = begin\n",
    "        self._end = end\n",
    "        self._diff = diff\n",
    "        self._actual = begin\n",
    "\n",
    "    def __iter__(self):\n",
    "        self._actual = self._begin\n",
    "        return self\n",
    "\n",
    "    def __next__(self):\n",
    "        if (self._diff>0 and self._actual<self._end) or (self._diff<0 and self._actual>self._end):\n",
    "            ret = self._actual**2\n",
    "            self._actual = self._actual+self._diff\n",
    "            return ret\n",
    "        else:\n",
    "            raise StopIteration\n",
    "\n"
   ],
   "metadata": {
    "collapsed": false,
    "pycharm": {
     "name": "#%%\n"
    }
   }
  },
  {
   "cell_type": "markdown",
   "source": [
    "Definicja generatora - słowo kluczowe `yield`"
   ],
   "metadata": {
    "collapsed": false,
    "pycharm": {
     "name": "#%% md\n"
    }
   }
  },
  {
   "cell_type": "code",
   "execution_count": 32,
   "outputs": [],
   "source": [
    "def iter_squares(begin, end, diff):\n",
    "    actual = begin\n",
    "    while (diff>0 and actual<end) or (diff<0 and actual>end):\n",
    "        yield actual**2\n",
    "        actual = actual+diff"
   ],
   "metadata": {
    "collapsed": false,
    "pycharm": {
     "name": "#%%\n"
    }
   }
  },
  {
   "cell_type": "markdown",
   "source": [
    "Iterowanie \"ręczne\" za pomocą funkcji `next()`"
   ],
   "metadata": {
    "collapsed": false,
    "pycharm": {
     "name": "#%% md\n"
    }
   }
  },
  {
   "cell_type": "code",
   "source": [
    "def iter_squares(begin, end, diff):\n",
    "    if diff < 0:\n",
    "        tmp = begin\n",
    "        begin = end\n",
    "        end = tmp\n",
    "    actual = begin\n",
    "    while actual < end:\n",
    "        yield actual**2\n",
    "        actual = actual + diff\n",
    "\n",
    "it = iter_squares(10, 2, -1)"
   ],
   "metadata": {
    "collapsed": false,
    "pycharm": {
     "name": "#%%\n"
    },
    "ExecuteTime": {
     "end_time": "2024-05-17T20:08:09.065499Z",
     "start_time": "2024-05-17T20:08:09.059023Z"
    }
   },
   "outputs": [],
   "execution_count": 18
  },
  {
   "cell_type": "code",
   "source": [
    "l = list(it)\n",
    "print(l)"
   ],
   "metadata": {
    "collapsed": false,
    "pycharm": {
     "name": "#%%\n"
    },
    "ExecuteTime": {
     "end_time": "2024-05-17T20:09:01.894053Z",
     "start_time": "2024-05-17T20:09:01.894053Z"
    }
   },
   "outputs": [],
   "execution_count": null
  },
  {
   "cell_type": "markdown",
   "source": [
    "Pętla while"
   ],
   "metadata": {
    "collapsed": false,
    "pycharm": {
     "name": "#%% md\n"
    }
   }
  },
  {
   "cell_type": "code",
   "execution_count": 41,
   "outputs": [
    {
     "name": "stdout",
     "output_type": "stream",
     "text": [
      "4 9 16 25 36 49 64 81 koniec iterowania\n"
     ]
    }
   ],
   "source": [
    "it = iter_squares(2, 10, 1)\n",
    "while True:\n",
    "    try:\n",
    "        print(next(it), end=\" \")\n",
    "    except StopIteration:\n",
    "        print(\"koniec iterowania\")\n",
    "        break\n"
   ],
   "metadata": {
    "collapsed": false,
    "pycharm": {
     "name": "#%%\n"
    }
   }
  },
  {
   "cell_type": "markdown",
   "source": [
    "Wyczerpanie iteratora"
   ],
   "metadata": {
    "collapsed": false,
    "pycharm": {
     "name": "#%% md\n"
    }
   }
  },
  {
   "cell_type": "code",
   "source": [
    "while True:\n",
    "    try:\n",
    "        print(next(it))\n",
    "    except StopIteration:\n",
    "        print(\"koniec iterowania\")\n",
    "        break"
   ],
   "metadata": {
    "collapsed": false,
    "pycharm": {
     "name": "#%%\n"
    }
   },
   "outputs": [],
   "execution_count": null
  },
  {
   "cell_type": "markdown",
   "source": [
    "Pętla for"
   ],
   "metadata": {
    "collapsed": false,
    "pycharm": {
     "name": "#%% md\n"
    }
   }
  },
  {
   "cell_type": "code",
   "execution_count": 43,
   "outputs": [
    {
     "name": "stdout",
     "output_type": "stream",
     "text": [
      "4 9 16 25 36 49 64 81 "
     ]
    }
   ],
   "source": [
    "it = iter_squares(2, 10, 1)\n",
    "for elem in it:\n",
    "    print(elem, end=\" \")"
   ],
   "metadata": {
    "collapsed": false,
    "pycharm": {
     "name": "#%%\n"
    }
   }
  },
  {
   "cell_type": "markdown",
   "source": [
    "Comprehensions"
   ],
   "metadata": {
    "collapsed": false,
    "pycharm": {
     "name": "#%% md\n"
    }
   }
  },
  {
   "cell_type": "code",
   "execution_count": 44,
   "outputs": [
    {
     "name": "stdout",
     "output_type": "stream",
     "text": [
      "[9, 25, 49, 81]\n"
     ]
    }
   ],
   "source": [
    "it = iter_squares(2, 10, 1)\n",
    "l = [elem for elem in it if elem % 2 !=0 ]\n",
    "print(l)"
   ],
   "metadata": {
    "collapsed": false,
    "pycharm": {
     "name": "#%%\n"
    }
   }
  },
  {
   "cell_type": "markdown",
   "source": [
    "Konwersje do typów kontenerowych"
   ],
   "metadata": {
    "collapsed": false,
    "pycharm": {
     "name": "#%% md\n"
    }
   }
  },
  {
   "cell_type": "code",
   "source": [
    "it = iter_squares(2, 10, -1)\n",
    "l = list(it)\n",
    "print(l)"
   ],
   "metadata": {
    "collapsed": false,
    "pycharm": {
     "name": "#%%\n"
    },
    "ExecuteTime": {
     "end_time": "2024-05-17T20:07:30.708587Z",
     "start_time": "2024-05-17T20:07:30.703474Z"
    }
   },
   "outputs": [
    {
     "name": "stdout",
     "output_type": "stream",
     "text": [
      "[]\n"
     ]
    }
   ],
   "execution_count": 15
  },
  {
   "cell_type": "markdown",
   "source": [
    "Funkcje wbudowane"
   ],
   "metadata": {
    "collapsed": false,
    "pycharm": {
     "name": "#%% md\n"
    }
   }
  },
  {
   "cell_type": "code",
   "execution_count": 46,
   "outputs": [
    {
     "name": "stdout",
     "output_type": "stream",
     "text": [
      "81\n",
      "4\n",
      "284\n"
     ]
    }
   ],
   "source": [
    "it = iter_squares(2, 10, 1)\n",
    "print(max(it))\n",
    "it = iter_squares(2, 10, 1)\n",
    "print(min(it))\n",
    "it = iter_squares(2, 10, 1)\n",
    "print(sum(it))"
   ],
   "metadata": {
    "collapsed": false,
    "pycharm": {
     "name": "#%%\n"
    }
   }
  },
  {
   "cell_type": "code",
   "execution_count": 33,
   "outputs": [
    {
     "data": {
      "text/plain": "['__add__',\n '__class__',\n '__class_getitem__',\n '__contains__',\n '__delattr__',\n '__dir__',\n '__doc__',\n '__eq__',\n '__format__',\n '__ge__',\n '__getattribute__',\n '__getitem__',\n '__getnewargs__',\n '__gt__',\n '__hash__',\n '__init__',\n '__init_subclass__',\n '__iter__',\n '__le__',\n '__len__',\n '__lt__',\n '__mul__',\n '__ne__',\n '__new__',\n '__reduce__',\n '__reduce_ex__',\n '__repr__',\n '__rmul__',\n '__setattr__',\n '__sizeof__',\n '__str__',\n '__subclasshook__',\n 'count',\n 'index']"
     },
     "execution_count": 33,
     "metadata": {},
     "output_type": "execute_result"
    }
   ],
   "source": [
    "it = iter_squares(2, 10, 1)\n",
    "dir(iter_squares.__code__.co_freevars)"
   ],
   "metadata": {
    "collapsed": false,
    "pycharm": {
     "name": "#%%\n"
    }
   }
  },
  {
   "cell_type": "code",
   "execution_count": 34,
   "outputs": [
    {
     "name": "stdout",
     "output_type": "stream",
     "text": [
      "None\n"
     ]
    }
   ],
   "source": [
    "print(iter_squares.__closure__)"
   ],
   "metadata": {
    "collapsed": false,
    "pycharm": {
     "name": "#%%\n"
    }
   }
  },
  {
   "cell_type": "markdown",
   "source": [
    "## Iterowanie po elementach szeregu zespolonego"
   ],
   "metadata": {
    "collapsed": false,
    "pycharm": {
     "name": "#%% md\n"
    }
   }
  },
  {
   "cell_type": "code",
   "execution_count": 104,
   "outputs": [],
   "source": [
    "class Cmplx:\n",
    "\n",
    "    def __init__(self, re, im):\n",
    "        self._im = im\n",
    "        self._re = re\n",
    "\n",
    "    def __str__(self):\n",
    "        if self._im>=0:\n",
    "            return str(self._re)+\"+j\"+str(self._im)\n",
    "        else:\n",
    "            return str(self._re)+\"-j\"+str(-self._im)\n",
    "\n",
    "    @property\n",
    "    def re(self):\n",
    "        return self._re\n",
    "\n",
    "    @property\n",
    "    def im(self):\n",
    "        return self._im\n",
    "\n",
    "    def __add__(self, other):\n",
    "        if isinstance(other,Cmplx):\n",
    "            return Cmplx(self.re+other.re, self.im+other.im)\n",
    "        else:\n",
    "            return Cmplx(self.re+other, self.im)\n",
    "\n",
    "    def __radd__(self, other):\n",
    "        return self+other\n",
    "\n",
    "    def __sub__(self, other):\n",
    "        return Cmplx(self.re-other.re, self.im-other.im)\n",
    "\n",
    "    def __mul__(self, other):\n",
    "        if type(other) == Cmplx:\n",
    "            return Cmplx(self.re*other.re-self.im*other.im, self.re*other.im+self.im*other.re)\n",
    "        else:\n",
    "            return Cmplx(other*self.re, other*self.im)\n",
    "\n",
    "    def __rmul__(self, other):\n",
    "        return self*other\n",
    "\n",
    "    def __pow__(self, other):\n",
    "        c = Cmplx(1,0)\n",
    "        for i in range(0, other):\n",
    "            c = c*self\n",
    "        return c\n"
   ],
   "metadata": {
    "collapsed": false,
    "pycharm": {
     "name": "#%%\n"
    }
   }
  },
  {
   "cell_type": "code",
   "source": [
    "class CmplxSeriesIter:\n",
    "\n",
    "    def __init__(self,length,begin,diff):\n",
    "        self._begin = begin\n",
    "        self._diff = diff\n",
    "        self._length = length\n",
    "        self._ind = 0\n",
    "\n",
    "    def __iter__(self):\n",
    "        self._ind = 0\n",
    "        return self\n",
    "\n",
    "    def __next__(self):\n",
    "        if self._ind < self._length:\n",
    "            elem = self._begin + self._ind*self._diff\n",
    "            self._ind += 1\n",
    "            return elem\n",
    "        else:\n",
    "            raise StopIteration\n",
    "\n"
   ],
   "metadata": {
    "collapsed": false,
    "pycharm": {
     "name": "#%%\n"
    },
    "ExecuteTime": {
     "end_time": "2024-05-16T21:47:17.411536Z",
     "start_time": "2024-05-16T21:47:17.401333Z"
    }
   },
   "outputs": [],
   "execution_count": 1
  },
  {
   "cell_type": "code",
   "execution_count": 72,
   "outputs": [],
   "source": [
    "def cmplx_series_iter(length,begin,diff):\n",
    "    ind = 0\n",
    "    while ind < length:\n",
    "        yield begin + ind*diff\n",
    "        ind += 1\n"
   ],
   "metadata": {
    "collapsed": false,
    "pycharm": {
     "name": "#%%\n"
    }
   }
  },
  {
   "cell_type": "markdown",
   "source": [
    "Tworzenie iteratora"
   ],
   "metadata": {
    "collapsed": false,
    "pycharm": {
     "name": "#%% md\n"
    }
   }
  },
  {
   "cell_type": "code",
   "source": [
    "b = Cmplx(2,3)\n",
    "d = Cmplx(1,-1)\n",
    "n = 10\n",
    "s = cmplx_series_iter(n,b,d)\n"
   ],
   "metadata": {
    "collapsed": false,
    "pycharm": {
     "name": "#%%\n"
    },
    "ExecuteTime": {
     "end_time": "2024-05-16T21:47:33.125079Z",
     "start_time": "2024-05-16T21:47:33.106438Z"
    }
   },
   "outputs": [
    {
     "ename": "NameError",
     "evalue": "name 'Cmplx' is not defined",
     "output_type": "error",
     "traceback": [
      "\u001B[1;31m---------------------------------------------------------------------------\u001B[0m",
      "\u001B[1;31mNameError\u001B[0m                                 Traceback (most recent call last)",
      "Cell \u001B[1;32mIn[3], line 1\u001B[0m\n\u001B[1;32m----> 1\u001B[0m b \u001B[38;5;241m=\u001B[39m \u001B[43mCmplx\u001B[49m(\u001B[38;5;241m2\u001B[39m,\u001B[38;5;241m3\u001B[39m)\n\u001B[0;32m      2\u001B[0m d \u001B[38;5;241m=\u001B[39m Cmplx(\u001B[38;5;241m1\u001B[39m,\u001B[38;5;241m-\u001B[39m\u001B[38;5;241m1\u001B[39m)\n\u001B[0;32m      3\u001B[0m n \u001B[38;5;241m=\u001B[39m \u001B[38;5;241m10\u001B[39m\n",
      "\u001B[1;31mNameError\u001B[0m: name 'Cmplx' is not defined"
     ]
    }
   ],
   "execution_count": 3
  },
  {
   "cell_type": "markdown",
   "source": [
    "Iterowanie za pomocą funkcji next()"
   ],
   "metadata": {
    "collapsed": false,
    "pycharm": {
     "name": "#%% md\n"
    }
   }
  },
  {
   "cell_type": "code",
   "source": [
    "print(next(s))"
   ],
   "metadata": {
    "collapsed": false,
    "pycharm": {
     "name": "#%%\n"
    },
    "ExecuteTime": {
     "end_time": "2024-05-16T21:47:31.320648Z",
     "start_time": "2024-05-16T21:47:30.511168Z"
    }
   },
   "outputs": [
    {
     "ename": "NameError",
     "evalue": "name 's' is not defined",
     "output_type": "error",
     "traceback": [
      "\u001B[1;31m---------------------------------------------------------------------------\u001B[0m",
      "\u001B[1;31mNameError\u001B[0m                                 Traceback (most recent call last)",
      "Cell \u001B[1;32mIn[2], line 1\u001B[0m\n\u001B[1;32m----> 1\u001B[0m \u001B[38;5;28mprint\u001B[39m(\u001B[38;5;28mnext\u001B[39m(\u001B[43ms\u001B[49m))\n",
      "\u001B[1;31mNameError\u001B[0m: name 's' is not defined"
     ]
    }
   ],
   "execution_count": 2
  },
  {
   "cell_type": "markdown",
   "source": [
    "Iteratory w pętli for"
   ],
   "metadata": {
    "collapsed": false,
    "pycharm": {
     "name": "#%% md\n"
    }
   }
  },
  {
   "cell_type": "code",
   "execution_count": 87,
   "outputs": [
    {
     "name": "stdout",
     "output_type": "stream",
     "text": [
      "2+j3  3+j2  4+j1  5+j0  6-j1  7-j2  8-j3  9-j4  10-j5  11-j6  "
     ]
    }
   ],
   "source": [
    "for elem in cmplx_series_iter(n,b,d):\n",
    "    print(elem, end=\"  \")"
   ],
   "metadata": {
    "collapsed": false,
    "pycharm": {
     "name": "#%%\n"
    }
   }
  },
  {
   "cell_type": "markdown",
   "source": [
    "Iteratory w comprehensions"
   ],
   "metadata": {
    "collapsed": false,
    "pycharm": {
     "name": "#%% md\n"
    }
   }
  },
  {
   "cell_type": "code",
   "execution_count": 88,
   "outputs": [
    {
     "name": "stdout",
     "output_type": "stream",
     "text": [
      "2+j3  3+j2  4+j1  5+j0  6-j1  7-j2  8-j3  9-j4  10-j5  11-j6  "
     ]
    }
   ],
   "source": [
    "l = [e for e in cmplx_series_iter(n,b,d)]\n",
    "for e in l:\n",
    "    print(e, end=\"  \")"
   ],
   "metadata": {
    "collapsed": false,
    "pycharm": {
     "name": "#%%\n"
    }
   }
  },
  {
   "cell_type": "markdown",
   "source": [
    "konwersje do typów kontenerowych"
   ],
   "metadata": {
    "collapsed": false,
    "pycharm": {
     "name": "#%% md\n"
    }
   }
  },
  {
   "cell_type": "code",
   "execution_count": 90,
   "outputs": [
    {
     "name": "stdout",
     "output_type": "stream",
     "text": [
      "2+j3  3+j2  4+j1  5+j0  6-j1  7-j2  8-j3  9-j4  10-j5  11-j6  "
     ]
    }
   ],
   "source": [
    "l = list(cmplx_series_iter(n,b,d))\n",
    "for e in l:\n",
    "    print(e, end=\"  \")"
   ],
   "metadata": {
    "collapsed": false,
    "pycharm": {
     "name": "#%%\n"
    }
   }
  },
  {
   "cell_type": "markdown",
   "source": [
    "## Wyrażenia generatorowe - \"generator comprehensions\""
   ],
   "metadata": {
    "collapsed": false,
    "pycharm": {
     "name": "#%% md\n"
    }
   }
  },
  {
   "cell_type": "code",
   "execution_count": 95,
   "outputs": [],
   "source": [
    "b = Cmplx(2,3)\n",
    "d = Cmplx(1,-1)\n",
    "n = 10\n"
   ],
   "metadata": {
    "collapsed": false,
    "pycharm": {
     "name": "#%%\n"
    }
   }
  },
  {
   "cell_type": "code",
   "execution_count": 94,
   "outputs": [],
   "source": [
    "s = (b+i*d for i in range(0,n))\n",
    "\n",
    "for elem in s:\n",
    "    print(elem, end=\"  \")\n",
    "#\n",
    "# for elem in s:\n",
    "#     print(elem, end=\"  \")"
   ],
   "metadata": {
    "collapsed": false,
    "pycharm": {
     "name": "#%%\n"
    }
   }
  },
  {
   "cell_type": "code",
   "execution_count": 103,
   "outputs": [
    {
     "name": "stdout",
     "output_type": "stream",
     "text": [
      "65-j15\n"
     ]
    }
   ],
   "source": [
    "a = sum(b+i*d for i in range(0,n))\n",
    "print(a)"
   ],
   "metadata": {
    "collapsed": false,
    "pycharm": {
     "name": "#%%\n"
    }
   }
  },
  {
   "cell_type": "code",
   "execution_count": null,
   "outputs": [],
   "source": [],
   "metadata": {
    "collapsed": false,
    "pycharm": {
     "name": "#%%\n"
    }
   }
  },
  {
   "cell_type": "markdown",
   "source": [
    "## Składanie generatorów i iteratorów"
   ],
   "metadata": {
    "collapsed": false,
    "pycharm": {
     "name": "#%% md\n"
    }
   }
  },
  {
   "cell_type": "markdown",
   "source": [],
   "metadata": {
    "collapsed": false,
    "pycharm": {
     "name": "#%% md\n"
    }
   }
  },
  {
   "cell_type": "code",
   "execution_count": 106,
   "outputs": [
    {
     "name": "stdout",
     "output_type": "stream",
     "text": [
      "2+j3\n",
      "-46+j9\n",
      "-46+j9\n"
     ]
    }
   ],
   "source": [
    "a = Cmplx(2,3)\n",
    "print(a)\n",
    "print(a**3)\n",
    "print(a*a*a)"
   ],
   "metadata": {
    "collapsed": false,
    "pycharm": {
     "name": "#%%\n"
    }
   }
  },
  {
   "cell_type": "markdown",
   "source": [
    "generator szeregu liczb zespolonych"
   ],
   "metadata": {
    "collapsed": false,
    "pycharm": {
     "name": "#%% md\n"
    }
   }
  },
  {
   "cell_type": "code",
   "execution_count": 109,
   "outputs": [],
   "source": [
    "b = Cmplx(2,3)\n",
    "d = Cmplx(1,-1)\n",
    "n = 10\n",
    "g1 = cmplx_series_iter(n,b,d)\n"
   ],
   "metadata": {
    "collapsed": false,
    "pycharm": {
     "name": "#%%\n"
    }
   }
  },
  {
   "cell_type": "markdown",
   "source": [
    "generator drugich potęg"
   ],
   "metadata": {
    "collapsed": false,
    "pycharm": {
     "name": "#%% md\n"
    }
   }
  },
  {
   "cell_type": "code",
   "source": [
    "def square_iter2(series):\n",
    "    for elem in series:\n",
    "        yield elem**2"
   ],
   "metadata": {
    "collapsed": false,
    "pycharm": {
     "name": "#%%\n"
    },
    "ExecuteTime": {
     "end_time": "2024-05-16T21:49:14.812808Z",
     "start_time": "2024-05-16T21:49:14.808823Z"
    }
   },
   "outputs": [],
   "execution_count": 4
  },
  {
   "cell_type": "markdown",
   "source": [
    "składanie generatorów i iteratorów"
   ],
   "metadata": {
    "collapsed": false,
    "pycharm": {
     "name": "#%% md\n"
    }
   }
  },
  {
   "cell_type": "code",
   "source": [
    "b = Cmplx(2,3)\n",
    "d = Cmplx(1,-1)\n",
    "n = 10\n",
    "\n",
    "# for elem in  cmplx_series_iter(n,b,d) :\n",
    "#     print(elem, end = \"  \")\n",
    "# print()\n",
    "for elem in square_iter2( cmplx_series_iter(n,b,d) ):\n",
    "    print(elem, end = \"  \")"
   ],
   "metadata": {
    "collapsed": false,
    "pycharm": {
     "name": "#%%\n"
    },
    "ExecuteTime": {
     "end_time": "2024-05-16T21:49:29.238966Z",
     "start_time": "2024-05-16T21:49:29.218942Z"
    }
   },
   "outputs": [
    {
     "ename": "NameError",
     "evalue": "name 'Cmplx' is not defined",
     "output_type": "error",
     "traceback": [
      "\u001B[1;31m---------------------------------------------------------------------------\u001B[0m",
      "\u001B[1;31mNameError\u001B[0m                                 Traceback (most recent call last)",
      "Cell \u001B[1;32mIn[5], line 1\u001B[0m\n\u001B[1;32m----> 1\u001B[0m b \u001B[38;5;241m=\u001B[39m \u001B[43mCmplx\u001B[49m(\u001B[38;5;241m2\u001B[39m,\u001B[38;5;241m3\u001B[39m)\n\u001B[0;32m      2\u001B[0m d \u001B[38;5;241m=\u001B[39m Cmplx(\u001B[38;5;241m1\u001B[39m,\u001B[38;5;241m-\u001B[39m\u001B[38;5;241m1\u001B[39m)\n\u001B[0;32m      3\u001B[0m n \u001B[38;5;241m=\u001B[39m \u001B[38;5;241m10\u001B[39m\n",
      "\u001B[1;31mNameError\u001B[0m: name 'Cmplx' is not defined"
     ]
    }
   ],
   "execution_count": 5
  },
  {
   "cell_type": "code",
   "execution_count": 127,
   "outputs": [
    {
     "name": "stdout",
     "output_type": "stream",
     "text": [
      "400-j360\n"
     ]
    }
   ],
   "source": [
    "a = sum(square_iter2( cmplx_series_iter(n,b,d) ))\n",
    "print(a)"
   ],
   "metadata": {
    "collapsed": false,
    "pycharm": {
     "name": "#%%\n"
    }
   }
  },
  {
   "cell_type": "code",
   "execution_count": 124,
   "outputs": [
    {
     "name": "stdout",
     "output_type": "stream",
     "text": [
      "-5+j12  5+j12  15+j8  25+j0  35-j12  45-j28  55-j48  65-j72  75-j100  85-j132  "
     ]
    }
   ],
   "source": [
    "b = Cmplx(2,3)\n",
    "d = Cmplx(1,-1)\n",
    "n = 10\n",
    "\n",
    "# for elem in ( b+i*d for i in range(0,n) ):\n",
    "#     print(elem, end = \"  \")\n",
    "# print()\n",
    "for elem in square_iter2( b+i*d for i in range(0,n) ):\n",
    "    print(elem, end = \"  \")"
   ],
   "metadata": {
    "collapsed": false,
    "pycharm": {
     "name": "#%%\n"
    }
   }
  },
  {
   "cell_type": "code",
   "execution_count": 123,
   "outputs": [
    {
     "name": "stdout",
     "output_type": "stream",
     "text": [
      "-5+j12  5+j12  15+j8  25+j0  35-j12  45-j28  55-j48  65-j72  75-j100  85-j132  "
     ]
    }
   ],
   "source": [
    "b = Cmplx(2,3)\n",
    "d = Cmplx(1,-1)\n",
    "n = 10\n",
    "\n",
    "for elem in square_iter2( CmplxSeriesIter(n,b,d) ):\n",
    "    print(elem, end = \"  \")"
   ],
   "metadata": {
    "collapsed": false,
    "pycharm": {
     "name": "#%%\n"
    }
   }
  },
  {
   "cell_type": "markdown",
   "source": [
    "# Generator w metodzie __iter__()"
   ],
   "metadata": {
    "collapsed": false,
    "pycharm": {
     "name": "#%% md\n"
    }
   }
  },
  {
   "cell_type": "markdown",
   "source": [
    "Klasa szereg liczb zespolonych"
   ],
   "metadata": {
    "collapsed": false,
    "pycharm": {
     "name": "#%% md\n"
    }
   }
  },
  {
   "cell_type": "code",
   "execution_count": 132,
   "outputs": [],
   "source": [
    "class CmplxSeries:\n",
    "\n",
    "    def __init__(self,length,begin,diff):\n",
    "        self._begin = begin\n",
    "        self._diff = diff\n",
    "        self._length = length\n",
    "\n",
    "    def __str__(self):\n",
    "        s = \"(\"\n",
    "        for i in range(0,len(self)-1):\n",
    "            s = s+str(self[i])+\", \"\n",
    "        s = s+str(self[len(self)-1])+\")\"\n",
    "        return s\n",
    "\n",
    "    def __len__(self):\n",
    "        return self._length\n",
    "\n",
    "    def __getitem__(self, index):\n",
    "        if 0 <= index < self._length:\n",
    "            return self._begin + index*self._diff\n",
    "        # else:\n",
    "        #     # raise IndexError\n",
    "\n",
    "    def __contains__(self, item):\n",
    "        pass\n",
    "\n",
    "    def __reversed__(self):\n",
    "        pass\n",
    "\n",
    "    def __iter__(self):\n",
    "        return cmplx_series_iter(self._length, self._begin, self._diff)\n"
   ],
   "metadata": {
    "collapsed": false,
    "pycharm": {
     "name": "#%%\n"
    }
   }
  },
  {
   "cell_type": "markdown",
   "source": [
    "Definicja generatora"
   ],
   "metadata": {
    "collapsed": false,
    "pycharm": {
     "name": "#%% md\n"
    }
   }
  },
  {
   "cell_type": "code",
   "execution_count": 131,
   "outputs": [],
   "source": [
    "def cmplx_series_iter(length,begin,diff):\n",
    "    ind = 0\n",
    "    while ind < length:\n",
    "        yield begin + ind*diff\n",
    "        ind += 1\n"
   ],
   "metadata": {
    "collapsed": false,
    "pycharm": {
     "name": "#%%\n"
    }
   }
  },
  {
   "cell_type": "markdown",
   "source": [
    "Ręczne iterowanie po szeregu"
   ],
   "metadata": {
    "collapsed": false,
    "pycharm": {
     "name": "#%% md\n"
    }
   }
  },
  {
   "cell_type": "code",
   "execution_count": 133,
   "outputs": [],
   "source": [
    "a = CmplxSeries(n,b,d)\n",
    "it = iter(a)"
   ],
   "metadata": {
    "collapsed": false,
    "pycharm": {
     "name": "#%%\n"
    }
   }
  },
  {
   "cell_type": "code",
   "execution_count": 138,
   "outputs": [
    {
     "name": "stdout",
     "output_type": "stream",
     "text": [
      "6-j1\n"
     ]
    }
   ],
   "source": [
    "print(next(it))"
   ],
   "metadata": {
    "collapsed": false,
    "pycharm": {
     "name": "#%%\n"
    }
   }
  },
  {
   "cell_type": "markdown",
   "source": [
    "Pętla for"
   ],
   "metadata": {
    "collapsed": false,
    "pycharm": {
     "name": "#%% md\n"
    }
   }
  },
  {
   "cell_type": "code",
   "execution_count": 139,
   "outputs": [
    {
     "name": "stdout",
     "output_type": "stream",
     "text": [
      "2+j3  3+j2  4+j1  5+j0  6-j1  7-j2  8-j3  9-j4  10-j5  11-j6  "
     ]
    }
   ],
   "source": [
    "a = CmplxSeries(n,b,d)\n",
    "for elem in a:\n",
    "    print(elem, end=\"  \")"
   ],
   "metadata": {
    "collapsed": false,
    "pycharm": {
     "name": "#%%\n"
    }
   }
  },
  {
   "cell_type": "markdown",
   "source": [
    "List comprehensions"
   ],
   "metadata": {
    "collapsed": false,
    "pycharm": {
     "name": "#%% md\n"
    }
   }
  },
  {
   "cell_type": "code",
   "execution_count": 140,
   "outputs": [
    {
     "name": "stdout",
     "output_type": "stream",
     "text": [
      "2+j3  3+j2  4+j1  5+j0  6-j1  7-j2  8-j3  9-j4  10-j5  11-j6  "
     ]
    }
   ],
   "source": [
    "s = CmplxSeries(n,b,d)\n",
    "l = [elem for elem in s]\n",
    "for elem in l:\n",
    "    print(elem, end=\"  \")\n"
   ],
   "metadata": {
    "collapsed": false,
    "pycharm": {
     "name": "#%%\n"
    }
   }
  },
  {
   "cell_type": "markdown",
   "source": [
    "Funkcje wbudowane"
   ],
   "metadata": {
    "collapsed": false,
    "pycharm": {
     "name": "#%% md\n"
    }
   }
  },
  {
   "cell_type": "code",
   "execution_count": 141,
   "outputs": [
    {
     "name": "stdout",
     "output_type": "stream",
     "text": [
      "65-j15\n"
     ]
    }
   ],
   "source": [
    "s = CmplxSeries(n,b,d)\n",
    "print(sum(s, start=Cmplx(0,0)))"
   ],
   "metadata": {
    "collapsed": false,
    "pycharm": {
     "name": "#%%\n"
    }
   }
  },
  {
   "cell_type": "code",
   "execution_count": null,
   "outputs": [],
   "source": [],
   "metadata": {
    "collapsed": false,
    "pycharm": {
     "name": "#%%\n"
    }
   }
  },
  {
   "cell_type": "markdown",
   "source": [
    "# Dekoratory"
   ],
   "metadata": {
    "collapsed": false,
    "pycharm": {
     "name": "#%% md\n"
    }
   }
  },
  {
   "cell_type": "markdown",
   "source": [
    "## Funkcje zwracające funkcje"
   ],
   "metadata": {
    "collapsed": false,
    "pycharm": {
     "name": "#%% md\n"
    }
   }
  },
  {
   "cell_type": "code",
   "source": [
    "from math import log"
   ],
   "metadata": {
    "collapsed": false,
    "pycharm": {
     "name": "#%%\n"
    },
    "ExecuteTime": {
     "end_time": "2024-05-17T20:27:46.061976Z",
     "start_time": "2024-05-17T20:27:46.058226Z"
    }
   },
   "outputs": [],
   "execution_count": 21
  },
  {
   "cell_type": "code",
   "execution_count": 6,
   "outputs": [
    {
     "name": "stdout",
     "output_type": "stream",
     "text": [
      "0.6309297535714574\n",
      "0.5\n"
     ]
    }
   ],
   "source": [
    "def log3(x):\n",
    "    return log(x)/log(3)\n",
    "\n",
    "print(log3(2))\n",
    "\n",
    "def log4(x):\n",
    "    return log(x)/log(4)\n",
    "\n",
    "print(log4(2))"
   ],
   "metadata": {
    "collapsed": false,
    "pycharm": {
     "name": "#%%\n"
    }
   }
  },
  {
   "cell_type": "code",
   "source": [
    "def logGen(base):\n",
    "    def logBase(x):\n",
    "        return log(x)/log(base)\n",
    "    return logBase\n",
    "log3 = logGen(3)\n",
    "log4 = logGen(4)\n",
    "\n",
    "print(log3(3))\n",
    "print(log4(2))"
   ],
   "metadata": {
    "collapsed": false,
    "pycharm": {
     "name": "#%%\n"
    },
    "ExecuteTime": {
     "end_time": "2024-05-17T20:29:56.645324Z",
     "start_time": "2024-05-17T20:29:56.640114Z"
    }
   },
   "outputs": [
    {
     "name": "stdout",
     "output_type": "stream",
     "text": [
      "1.0\n",
      "0.5\n"
     ]
    }
   ],
   "execution_count": 27
  },
  {
   "cell_type": "code",
   "execution_count": 44,
   "outputs": [
    {
     "data": {
      "text/plain": "3"
     },
     "execution_count": 44,
     "metadata": {},
     "output_type": "execute_result"
    }
   ],
   "source": [
    "log3.__closure__[0]"
   ],
   "metadata": {
    "collapsed": false,
    "pycharm": {
     "name": "#%%\n"
    }
   }
  },
  {
   "cell_type": "markdown",
   "source": [
    "## Funkcje przyjmujące inne funkcje jako argumenty"
   ],
   "metadata": {
    "collapsed": false,
    "pycharm": {
     "name": "#%% md\n"
    }
   }
  },
  {
   "cell_type": "code",
   "source": [
    "from math import exp, sin, cos"
   ],
   "metadata": {
    "collapsed": false,
    "pycharm": {
     "name": "#%%\n"
    },
    "ExecuteTime": {
     "end_time": "2024-05-17T20:32:02.522771Z",
     "start_time": "2024-05-17T20:32:02.518432Z"
    }
   },
   "outputs": [],
   "execution_count": 31
  },
  {
   "cell_type": "code",
   "source": [
    "def myExp(x):\n",
    "    return exp(x)\n",
    "\n",
    "print(myExp(1))\n",
    "\n",
    "def mySin(x):\n",
    "    return sin(x)\n",
    "\n",
    "print(mySin(1))"
   ],
   "metadata": {
    "collapsed": false,
    "pycharm": {
     "name": "#%%\n"
    },
    "ExecuteTime": {
     "end_time": "2024-05-17T20:32:09.013590Z",
     "start_time": "2024-05-17T20:32:09.007442Z"
    }
   },
   "outputs": [
    {
     "name": "stdout",
     "output_type": "stream",
     "text": [
      "2.718281828459045\n",
      "0.8414709848078965\n"
     ]
    }
   ],
   "execution_count": 33
  },
  {
   "cell_type": "code",
   "source": [
    "def derFunGen(fun):\n",
    "    diff = 0.000000000001\n",
    "    def derFun(x):\n",
    "        f1 = fun(x+diff) \n",
    "        f2 = fun(x-diff)\n",
    "        der = (f1-f2)/(2*diff)\n",
    "        print(der, \"ROZNICZKA\")\n",
    "        return fun(x)\n",
    "    return derFun\n",
    "@derFunGen\n",
    "def myLin(x):\n",
    "    return x\n",
    "print(myLin(2))\n"
   ],
   "metadata": {
    "collapsed": false,
    "pycharm": {
     "name": "#%%\n"
    },
    "ExecuteTime": {
     "end_time": "2024-05-17T20:45:54.882685Z",
     "start_time": "2024-05-17T20:45:54.875824Z"
    }
   },
   "outputs": [
    {
     "name": "stdout",
     "output_type": "stream",
     "text": [
      "1.000088900582341 ROZNICZKA\n",
      "2\n"
     ]
    }
   ],
   "execution_count": 64
  },
  {
   "cell_type": "code",
   "source": [
    "def derFunGen(fun):\n",
    "    diff = 1e-3\n",
    "    def derFun(x):\n",
    "        f1 = fun(x+diff)\n",
    "        f2 = fun(x-diff)\n",
    "        der = (f1-f2)/(2*diff)\n",
    "        print(\"derivative:\",der)\n",
    "        return fun(x)\n",
    "    return derFun\n",
    "\n",
    "\n",
    "def addFunGen2(fun):\n",
    "    add = fun\n",
    "    def addFun(x):\n",
    "        print(\"add: \",(fun(x)))\n",
    "        return fun\n",
    "    return addFun\n",
    "\n",
    "\n",
    "\n",
    "def mySin(x):\n",
    "    return sin(x)\n",
    "\n",
    "\n",
    "mySin = addFunGen2(mySin)\n",
    "print(mySin(4)(2))"
   ],
   "metadata": {
    "collapsed": false,
    "pycharm": {
     "name": "#%%\n"
    },
    "ExecuteTime": {
     "end_time": "2024-05-17T20:49:28.247931Z",
     "start_time": "2024-05-17T20:49:28.241491Z"
    }
   },
   "outputs": [
    {
     "name": "stdout",
     "output_type": "stream",
     "text": [
      "add:  -0.7568024953079282\n",
      "0.9092974268256817\n"
     ]
    }
   ],
   "execution_count": 65
  },
  {
   "cell_type": "markdown",
   "source": [
    "Zwracanie pochdnej jako drugiej wartości"
   ],
   "metadata": {
    "collapsed": false,
    "pycharm": {
     "name": "#%% md\n"
    }
   }
  },
  {
   "cell_type": "code",
   "source": [
    "def derFunGen(fun):\n",
    "    diff = 1e-3\n",
    "    def derFun(x):\n",
    "        f1 = fun(x+diff)\n",
    "        f2 = fun(x-diff)\n",
    "        der = (f1-f2)/(2*diff)\n",
    "        return fun(x), der\n",
    "    return derFun\n",
    "\n",
    "def mySin(x):\n",
    "    return sin(x)\n",
    "\n",
    "print(mySin(1))\n",
    "\n",
    "mySin = derFunGen(mySin)\n",
    "\n",
    "print(mySin(1))"
   ],
   "metadata": {
    "collapsed": false,
    "pycharm": {
     "name": "#%%\n"
    },
    "ExecuteTime": {
     "end_time": "2024-05-16T21:58:48.861170Z",
     "start_time": "2024-05-16T21:58:48.852585Z"
    }
   },
   "outputs": [
    {
     "name": "stdout",
     "output_type": "stream",
     "text": [
      "0.8414709848078965\n",
      "(0.8414709848078965, 0.5403022158176896)\n"
     ]
    }
   ],
   "execution_count": 31
  },
  {
   "cell_type": "markdown",
   "source": [
    "## Dekorator"
   ],
   "metadata": {
    "collapsed": false,
    "pycharm": {
     "name": "#%% md\n"
    }
   }
  },
  {
   "cell_type": "code",
   "execution_count": 70,
   "outputs": [
    {
     "name": "stdout",
     "output_type": "stream",
     "text": [
      "0.8414709848078965\n",
      "(0.8414709848078965, 0.5403022158176896)\n"
     ]
    }
   ],
   "source": [
    "def derFunGen(fun):\n",
    "    diff = 1e-3\n",
    "    def derFun(x):\n",
    "        f1 = fun(x+diff)\n",
    "        f2 = fun(x-diff)\n",
    "        der = (f1-f2)/(2*diff)\n",
    "        return fun(x), der\n",
    "    return derFun\n",
    "\n",
    "def mySin(x):\n",
    "    return sin(x)\n",
    "\n",
    "print(mySin(1))\n",
    "\n",
    "@derFunGen\n",
    "def mySin(x):\n",
    "    return sin(x)\n"
   ],
   "metadata": {
    "collapsed": false,
    "pycharm": {
     "name": "#%%\n"
    }
   }
  },
  {
   "cell_type": "code",
   "source": [
    "@derFunGen\n",
    "def myCos(x):\n",
    "    return cos(x)\n",
    "\n",
    "print(myCos(1))"
   ],
   "metadata": {
    "collapsed": false,
    "pycharm": {
     "name": "#%%\n"
    },
    "ExecuteTime": {
     "end_time": "2024-05-17T20:45:22.280343Z",
     "start_time": "2024-05-17T20:45:22.275877Z"
    }
   },
   "outputs": [
    {
     "name": "stdout",
     "output_type": "stream",
     "text": [
      "-0.8414935415146374 ROZNICZKA\n",
      "0.5403023058681397\n"
     ]
    }
   ],
   "execution_count": 63
  },
  {
   "cell_type": "markdown",
   "source": [],
   "metadata": {
    "collapsed": false,
    "pycharm": {
     "name": "#%% md\n"
    }
   }
  },
  {
   "cell_type": "code",
   "source": [
    "exp(1,2,3,4,5)"
   ],
   "metadata": {
    "collapsed": false,
    "pycharm": {
     "name": "#%%\n"
    },
    "ExecuteTime": {
     "end_time": "2024-05-17T20:45:18.105436Z",
     "start_time": "2024-05-17T20:45:18.087457Z"
    }
   },
   "outputs": [
    {
     "ename": "TypeError",
     "evalue": "math.exp() takes exactly one argument (5 given)",
     "output_type": "error",
     "traceback": [
      "\u001B[1;31m---------------------------------------------------------------------------\u001B[0m",
      "\u001B[1;31mTypeError\u001B[0m                                 Traceback (most recent call last)",
      "Cell \u001B[1;32mIn[62], line 1\u001B[0m\n\u001B[1;32m----> 1\u001B[0m \u001B[43mexp\u001B[49m\u001B[43m(\u001B[49m\u001B[38;5;241;43m1\u001B[39;49m\u001B[43m,\u001B[49m\u001B[38;5;241;43m2\u001B[39;49m\u001B[43m,\u001B[49m\u001B[38;5;241;43m3\u001B[39;49m\u001B[43m,\u001B[49m\u001B[38;5;241;43m4\u001B[39;49m\u001B[43m,\u001B[49m\u001B[38;5;241;43m5\u001B[39;49m\u001B[43m)\u001B[49m\n",
      "\u001B[1;31mTypeError\u001B[0m: math.exp() takes exactly one argument (5 given)"
     ]
    }
   ],
   "execution_count": 62
  },
  {
   "cell_type": "code",
   "execution_count": null,
   "outputs": [],
   "source": [],
   "metadata": {
    "collapsed": false,
    "pycharm": {
     "name": "#%%\n"
    }
   }
  },
  {
   "cell_type": "code",
   "execution_count": null,
   "outputs": [],
   "source": [],
   "metadata": {
    "collapsed": false,
    "pycharm": {
     "name": "#%%\n"
    }
   }
  },
  {
   "cell_type": "code",
   "execution_count": null,
   "outputs": [],
   "source": [],
   "metadata": {
    "collapsed": false,
    "pycharm": {
     "name": "#%%\n"
    }
   }
  },
  {
   "cell_type": "code",
   "execution_count": null,
   "outputs": [],
   "source": [],
   "metadata": {
    "collapsed": false,
    "pycharm": {
     "name": "#%%\n"
    }
   }
  },
  {
   "cell_type": "code",
   "execution_count": null,
   "outputs": [],
   "source": [],
   "metadata": {
    "collapsed": false,
    "pycharm": {
     "name": "#%%\n"
    }
   }
  },
  {
   "cell_type": "code",
   "execution_count": null,
   "outputs": [],
   "source": [],
   "metadata": {
    "collapsed": false,
    "pycharm": {
     "name": "#%%\n"
    }
   }
  },
  {
   "cell_type": "code",
   "execution_count": null,
   "outputs": [],
   "source": [],
   "metadata": {
    "collapsed": false,
    "pycharm": {
     "name": "#%%\n"
    }
   }
  },
  {
   "cell_type": "code",
   "execution_count": null,
   "outputs": [],
   "source": [],
   "metadata": {
    "collapsed": false,
    "pycharm": {
     "name": "#%%\n"
    }
   }
  },
  {
   "cell_type": "code",
   "execution_count": null,
   "outputs": [],
   "source": [],
   "metadata": {
    "collapsed": false,
    "pycharm": {
     "name": "#%%\n"
    }
   }
  },
  {
   "cell_type": "code",
   "execution_count": null,
   "outputs": [],
   "source": [],
   "metadata": {
    "collapsed": false,
    "pycharm": {
     "name": "#%%\n"
    }
   }
  },
  {
   "cell_type": "code",
   "execution_count": null,
   "outputs": [],
   "source": [],
   "metadata": {
    "collapsed": false,
    "pycharm": {
     "name": "#%%\n"
    }
   }
  },
  {
   "cell_type": "code",
   "execution_count": null,
   "outputs": [],
   "source": [],
   "metadata": {
    "collapsed": false,
    "pycharm": {
     "name": "#%%\n"
    }
   }
  },
  {
   "cell_type": "code",
   "execution_count": null,
   "outputs": [],
   "source": [],
   "metadata": {
    "collapsed": false,
    "pycharm": {
     "name": "#%%\n"
    }
   }
  },
  {
   "cell_type": "code",
   "execution_count": null,
   "outputs": [],
   "source": [],
   "metadata": {
    "collapsed": false,
    "pycharm": {
     "name": "#%%\n"
    }
   }
  },
  {
   "cell_type": "code",
   "execution_count": null,
   "outputs": [],
   "source": [],
   "metadata": {
    "collapsed": false,
    "pycharm": {
     "name": "#%%\n"
    }
   }
  },
  {
   "cell_type": "code",
   "execution_count": null,
   "outputs": [],
   "source": [],
   "metadata": {
    "collapsed": false,
    "pycharm": {
     "name": "#%%\n"
    }
   }
  },
  {
   "cell_type": "code",
   "execution_count": null,
   "outputs": [],
   "source": [],
   "metadata": {
    "collapsed": false,
    "pycharm": {
     "name": "#%%\n"
    }
   }
  },
  {
   "cell_type": "code",
   "execution_count": null,
   "outputs": [],
   "source": [],
   "metadata": {
    "collapsed": false,
    "pycharm": {
     "name": "#%%\n"
    }
   }
  },
  {
   "cell_type": "code",
   "execution_count": null,
   "outputs": [],
   "source": [],
   "metadata": {
    "collapsed": false,
    "pycharm": {
     "name": "#%%\n"
    }
   }
  },
  {
   "cell_type": "code",
   "execution_count": null,
   "outputs": [],
   "source": [],
   "metadata": {
    "collapsed": false,
    "pycharm": {
     "name": "#%%\n"
    }
   }
  }
 ],
 "metadata": {
  "kernelspec": {
   "display_name": "Python 3",
   "language": "python",
   "name": "python3"
  },
  "language_info": {
   "codemirror_mode": {
    "name": "ipython",
    "version": 2
   },
   "file_extension": ".py",
   "mimetype": "text/x-python",
   "name": "python",
   "nbconvert_exporter": "python",
   "pygments_lexer": "ipython2",
   "version": "2.7.6"
  }
 },
 "nbformat": 4,
 "nbformat_minor": 0
}
