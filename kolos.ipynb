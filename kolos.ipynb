{
 "cells": [
  {
   "cell_type": "code",
   "id": "initial_id",
   "metadata": {
    "collapsed": true,
    "ExecuteTime": {
     "end_time": "2024-06-16T09:48:38.580789Z",
     "start_time": "2024-06-16T09:48:38.566580Z"
    }
   },
   "source": [
    "class ArithSeq:\n",
    "    def __init__(self, a0, r, N):\n",
    "        self.a0 = a0\n",
    "        self.r = r\n",
    "        self.N = N\n",
    "    \n",
    "    def __getitem__(self, i):\n",
    "        if i < 0 or i >= self.N:\n",
    "            raise IndexError(\"Index out of range\")\n",
    "        return self.a0 + i * self.r\n",
    "    \n",
    "    def __len__(self):\n",
    "        return self.N\n",
    "    \n"
   ],
   "outputs": [],
   "execution_count": 3
  },
  {
   "metadata": {
    "ExecuteTime": {
     "end_time": "2024-06-16T09:51:00.175365Z",
     "start_time": "2024-06-16T09:51:00.155913Z"
    }
   },
   "cell_type": "code",
   "source": [
    "seq = ArithSeq(-1,3,10)\n",
    "\n",
    "for i in range(len(seq)):\n",
    "    print(seq[i])\n",
    "    \n",
    "print('\\n',len(seq))"
   ],
   "id": "ed5fa35bfb63ee3b",
   "outputs": [
    {
     "name": "stdout",
     "output_type": "stream",
     "text": [
      "-1\n",
      "2\n",
      "5\n",
      "8\n",
      "11\n",
      "14\n",
      "17\n",
      "20\n",
      "23\n",
      "26\n",
      "\n",
      " 10\n"
     ]
    }
   ],
   "execution_count": 8
  },
  {
   "metadata": {
    "ExecuteTime": {
     "end_time": "2024-06-16T21:57:24.263628Z",
     "start_time": "2024-06-16T21:57:24.253493Z"
    }
   },
   "cell_type": "code",
   "source": [
    "def list_gen(numbers):\n",
    "    sum = 0\n",
    "    for number in numbers:\n",
    "        sum += number\n",
    "        yield sum\n",
    "print(  [i for i in list_gen([1,2,3,4]) ])"
   ],
   "id": "80fdb6bbd5039932",
   "outputs": [
    {
     "name": "stdout",
     "output_type": "stream",
     "text": [
      "[1, 3, 6, 10]\n"
     ]
    }
   ],
   "execution_count": 30
  },
  {
   "metadata": {
    "ExecuteTime": {
     "end_time": "2024-06-16T22:00:15.477145Z",
     "start_time": "2024-06-16T22:00:15.467710Z"
    }
   },
   "cell_type": "code",
   "source": [
    "import numpy as np\n",
    "\n",
    "def print_spiral(matrix):\n",
    "    result = []\n",
    "    \n",
    "    while matrix.size > 0:\n",
    "        # Top row (left to right)\n",
    "        result.extend(matrix[0, :].tolist())\n",
    "        matrix = matrix[1:, :]\n",
    "        \n",
    "        if matrix.size == 0:\n",
    "            break\n",
    "        \n",
    "        # Right column (top to bottom)\n",
    "        result.extend(matrix[:, -1].tolist())\n",
    "        matrix = matrix[:, :-1]\n",
    "        \n",
    "        if matrix.size == 0:\n",
    "            break\n",
    "        \n",
    "        # Bottom row (right to left)\n",
    "        result.extend(matrix[-1, ::-1].tolist())\n",
    "        matrix = matrix[:-1, :]\n",
    "        \n",
    "        if matrix.size == 0:\n",
    "            break\n",
    "        \n",
    "        # Left column (bottom to top)\n",
    "        result.extend(matrix[::-1, 0].tolist())\n",
    "        matrix = matrix[:, 1:]\n",
    "    \n",
    "    # Print the result in comma-separated format\n",
    "    print(','.join(map(str, result)))\n",
    "\n",
    "# Tworzenie macierzy losowo\n",
    "N = np.random.randint(5, 11)  # losowy rozmiar macierzy od 5 do 10\n",
    "matrix = np.random.randint(1, 101, size=(N, N))  # losowe liczby całkowite od 1 do 100\n",
    "\n",
    "# Wyświetlenie macierzy\n",
    "print(matrix)\n",
    "\n",
    "# Wyświetlenie elementów w kolejności spiralnej\n",
    "print_spiral(matrix)\n"
   ],
   "id": "3b2dda3f456bcb3b",
   "outputs": [
    {
     "name": "stdout",
     "output_type": "stream",
     "text": [
      "[[45 85 97 38 30 65]\n",
      " [16 41 94 65 38 40]\n",
      " [80 48 14  7 33 10]\n",
      " [82 65 47  8 52  8]\n",
      " [90  1 58 17 31 13]\n",
      " [63 86 80 91 37 17]]\n",
      "45,85,97,38,30,65,40,10,8,13,17,37,91,80,86,63,90,82,80,16,41,94,65,38,33,52,31,17,58,1,65,48,14,7,8,47\n"
     ]
    }
   ],
   "execution_count": 32
  },
  {
   "metadata": {
    "ExecuteTime": {
     "end_time": "2024-06-16T21:18:45.349192Z",
     "start_time": "2024-06-16T21:18:45.341410Z"
    }
   },
   "cell_type": "code",
   "source": [
    "import matplotlib.pyplot as plt\n",
    "import numpy as np\n",
    "from math import cos, exp, atan, log"
   ],
   "id": "57e0610a92b2e4e7",
   "outputs": [],
   "execution_count": 9
  },
  {
   "metadata": {
    "ExecuteTime": {
     "end_time": "2024-06-16T21:25:00.193107Z",
     "start_time": "2024-06-16T21:25:00.185106Z"
    }
   },
   "cell_type": "code",
   "source": [
    "def plot_decorator(func):\n",
    "    def wrapper(x):\n",
    "        result = func(x)\n",
    "\n",
    "        x_values = np.linspace(x - 1, x + 1, 400)\n",
    "        y_values = np.array([func(val) for val in x_values])\n",
    "\n",
    "        # Rysowanie wykresu\n",
    "        plt.figure(figsize=(8, 6))\n",
    "        plt.plot(x_values, y_values, label=f'{func.__name__}(x)')\n",
    "        plt.scatter([x], [result], color='red')  # Zaznaczenie punktu (x, f(x))\n",
    "        plt.title(f'Wykres funkcji {func.__name__} w przedziale [{x - 1}, {x + 1}]')\n",
    "        plt.xlabel('x')\n",
    "        plt.ylabel(f'{func.__name__}(x)')\n",
    "        plt.legend()\n",
    "        plt.grid(True)\n",
    "        plt.show()\n",
    "\n",
    "        return result  # Można również użyć np.asscalar(result)\n",
    "\n",
    "    return wrapper\n"
   ],
   "id": "a44dafab09b545a3",
   "outputs": [],
   "execution_count": 12
  },
  {
   "metadata": {
    "ExecuteTime": {
     "end_time": "2024-06-16T21:25:36.708217Z",
     "start_time": "2024-06-16T21:25:36.229779Z"
    }
   },
   "cell_type": "code",
   "source": [
    "\n",
    "from math import cos, atan, log, e, exp\n",
    "\n",
    "\n",
    "@plot_decorator\n",
    "def f1(x):\n",
    "    return np.array([exp(cos(x + 1))])\n",
    "\n",
    "@plot_decorator\n",
    "def f2(x):\n",
    "    return np.array([atan(log(x + 3))])\n",
    "\n",
    "# Testowanie funkcji dla x = 1, 2, 3\n",
    "\n",
    "for x in [0]:\n",
    "    print(f'f1({x}) = {f1(x)}')\n",
    "    print(f'f2({x}) = {f2(x)}')\n"
   ],
   "id": "89e97150bc97a7b0",
   "outputs": [
    {
     "data": {
      "text/plain": [
       "<Figure size 800x600 with 1 Axes>"
      ],
      "image/png": "[encoded data removed]"
     },
     "metadata": {},
     "output_type": "display_data"
    },
    {
     "name": "stdout",
     "output_type": "stream",
     "text": [
      "f1(0) = [1.7165257]\n"
     ]
    },
    {
     "data": {
      "text/plain": [
       "<Figure size 800x600 with 1 Axes>"
      ],
      "image/png": "[encoded data removed]"
     },
     "metadata": {},
     "output_type": "display_data"
    },
    {
     "name": "stdout",
     "output_type": "stream",
     "text": [
      "f2(0) = [0.83235291]\n"
     ]
    }
   ],
   "execution_count": 14
  },
  {
   "metadata": {
    "ExecuteTime": {
     "end_time": "2024-06-16T21:38:40.124479Z",
     "start_time": "2024-06-16T21:38:40.115805Z"
    }
   },
   "cell_type": "code",
   "source": [
    "# Sekwencja\n",
    "class MySequence:\n",
    "    def __init__(self, data):\n",
    "        self.data = data\n",
    "        \n",
    "    def __getitem__(self, idx):\n",
    "        return self.data[idx]\n",
    "    \n",
    "    def __len__(self):\n",
    "        return len(self.data)\n",
    "    \n",
    "# Użycie naszej własnej sekwencji\n",
    "seq = MySequence([1, 2, 3, 4, 5])\n",
    "for item in seq:\n",
    "    print(item)\n",
    "    \n",
    "print(len(seq))\n",
    "print(seq[2])"
   ],
   "id": "d323cdde6543bf0f",
   "outputs": [
    {
     "name": "stdout",
     "output_type": "stream",
     "text": [
      "1\n",
      "2\n",
      "3\n",
      "4\n",
      "5\n",
      "5\n",
      "3\n"
     ]
    }
   ],
   "execution_count": 15
  },
  {
   "metadata": {
    "ExecuteTime": {
     "end_time": "2024-06-16T21:38:47.034465Z",
     "start_time": "2024-06-16T21:38:47.027272Z"
    }
   },
   "cell_type": "code",
   "source": [
    "#Iterator\n",
    "class Counter:\n",
    "    def __init__(self, low, high):\n",
    "        self.current = low\n",
    "        self.high = high\n",
    "        \n",
    "    def __iter__(self):\n",
    "        return self\n",
    "    \n",
    "    def __next__(self):\n",
    "        if self.current > self.high:\n",
    "            raise StopIteration\n",
    "        else:\n",
    "            self.current += 1\n",
    "            return self.current - 1\n",
    "\n",
    "# Użycie naszego iteratora\n",
    "counter = Counter(1, 5)\n",
    "for num in counter:\n",
    "    print(num)"
   ],
   "id": "f3609adf1a8ae0c7",
   "outputs": [
    {
     "name": "stdout",
     "output_type": "stream",
     "text": [
      "1\n",
      "2\n",
      "3\n",
      "4\n",
      "5\n"
     ]
    }
   ],
   "execution_count": 16
  },
  {
   "metadata": {
    "ExecuteTime": {
     "end_time": "2024-06-16T21:41:03.342963Z",
     "start_time": "2024-06-16T21:41:03.337321Z"
    }
   },
   "cell_type": "code",
   "source": [
    "#Generator\n",
    "def fibonacci_generator(n):\n",
    "    a, b = 0, 1\n",
    "    count = 0\n",
    "    while count < n:\n",
    "        yield a\n",
    "        a, b = b, a + b\n",
    "        count += 1\n",
    "        \n",
    "# Użycie generatora Fibonacciego\n",
    "fib_gen = fibonacci_generator(10)\n",
    "for num in fib_gen:\n",
    "    print(num)"
   ],
   "id": "7d6fbfc7e870b519",
   "outputs": [
    {
     "name": "stdout",
     "output_type": "stream",
     "text": [
      "0\n",
      "1\n",
      "1\n",
      "2\n",
      "3\n",
      "5\n",
      "8\n",
      "13\n",
      "21\n",
      "34\n"
     ]
    }
   ],
   "execution_count": 22
  },
  {
   "metadata": {
    "ExecuteTime": {
     "end_time": "2024-06-16T21:41:40.448635Z",
     "start_time": "2024-06-16T21:41:40.442129Z"
    }
   },
   "cell_type": "code",
   "source": [
    "# Dekorator\n",
    "def my_decorator(func):\n",
    "    def wrapper():\n",
    "        print(\"Something is happening before the function is called.\")\n",
    "        func()\n",
    "        print(\"Something is happening after the function is called.\")\n",
    "    return wrapper\n",
    "\n",
    "@my_decorator\n",
    "def say_hello():\n",
    "    print(\"Hello!\")\n",
    "\n",
    "say_hello()"
   ],
   "id": "7fe347499aa33ab6",
   "outputs": [
    {
     "name": "stdout",
     "output_type": "stream",
     "text": [
      "Something is happening before the function is called.\n",
      "Hello!\n",
      "Something is happening after the function is called.\n"
     ]
    }
   ],
   "execution_count": 24
  },
  {
   "metadata": {
    "ExecuteTime": {
     "end_time": "2024-06-16T21:42:00.286059Z",
     "start_time": "2024-06-16T21:42:00.275197Z"
    }
   },
   "cell_type": "code",
   "source": [
    "#Dziedziczene i polimorfizm\n",
    "class Animal:\n",
    "    def speak(self):\n",
    "        raise NotImplementedError(\"Subclass must implement abstract method\")\n",
    "\n",
    "class Dog(Animal):\n",
    "    def speak(self):\n",
    "        return \"Woof!\"\n",
    "\n",
    "class Cat(Animal):\n",
    "    def speak(self):\n",
    "        return \"Meow!\"\n",
    "\n",
    "# Polimorfizm\n",
    "def make_sound(animal):\n",
    "    print(animal.speak())\n",
    "\n",
    "dog = Dog()\n",
    "cat = Cat()\n",
    "\n",
    "make_sound(dog)  # Output: Woof!\n",
    "make_sound(cat)  # Output: Meow!\n"
   ],
   "id": "6342a48f116b33fe",
   "outputs": [
    {
     "name": "stdout",
     "output_type": "stream",
     "text": [
      "Woof!\n",
      "Meow!\n"
     ]
    }
   ],
   "execution_count": 25
  },
  {
   "metadata": {},
   "cell_type": "code",
   "outputs": [],
   "execution_count": null,
   "source": "",
   "id": "5725e3c8b4a681d4"
  }
 ],
 "metadata": {
  "kernelspec": {
   "display_name": "Python 3",
   "language": "python",
   "name": "python3"
  },
  "language_info": {
   "codemirror_mode": {
    "name": "ipython",
    "version": 2
   },
   "file_extension": ".py",
   "mimetype": "text/x-python",
   "name": "python",
   "nbconvert_exporter": "python",
   "pygments_lexer": "ipython2",
   "version": "2.7.6"
  }
 },
 "nbformat": 4,
 "nbformat_minor": 5
}
