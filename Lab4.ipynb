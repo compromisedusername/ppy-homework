{
 "cells": [
  {
   "cell_type": "markdown",
   "source": [
    "# Funkcje"
   ],
   "metadata": {
    "collapsed": false
   }
  },
  {
   "cell_type": "markdown",
   "source": [
    "## Podstawy"
   ],
   "metadata": {
    "collapsed": false
   }
  },
  {
   "cell_type": "markdown",
   "source": [
    "Defniowanie funkcji"
   ],
   "metadata": {
    "collapsed": false
   }
  },
  {
   "cell_type": "code",
   "source": [
    "def sum_of_powers(l, n):\n",
    "    s = 0\n",
    "    for elem in l:\n",
    "        s = s + elem**n\n",
    "    return s\n",
    "\n",
    "print(sum_of_powers([1,2,3],3))"
   ],
   "metadata": {
    "collapsed": false,
    "pycharm": {
     "is_executing": true
    },
    "ExecuteTime": {
     "end_time": "2024-04-06T22:27:35.030291Z",
     "start_time": "2024-04-06T22:27:35.012536Z"
    }
   },
   "outputs": [
    {
     "name": "stdout",
     "output_type": "stream",
     "text": [
      "36\n"
     ]
    }
   ],
   "execution_count": 1
  },
  {
   "cell_type": "markdown",
   "source": [
    "Argumenty nazwane (keyword arguments)"
   ],
   "metadata": {
    "collapsed": false
   }
  },
  {
   "cell_type": "code",
   "source": [
    "sum_of_powers(n=3, l=[1,2,3])"
   ],
   "metadata": {
    "collapsed": false,
    "ExecuteTime": {
     "end_time": "2024-04-06T22:28:16.617874Z",
     "start_time": "2024-04-06T22:28:16.597319Z"
    }
   },
   "outputs": [
    {
     "data": {
      "text/plain": [
       "36"
      ]
     },
     "execution_count": 2,
     "metadata": {},
     "output_type": "execute_result"
    }
   ],
   "execution_count": 2
  },
  {
   "cell_type": "markdown",
   "source": [
    "Domyślne wartości argumentów"
   ],
   "metadata": {
    "collapsed": false
   }
  },
  {
   "cell_type": "code",
   "execution_count": null,
   "outputs": [],
   "source": [
    "def sum_of_powers(l, n=3):\n",
    "    s = 0\n",
    "    for elem in l:\n",
    "        s = s + elem**n\n",
    "    return s\n",
    "\n",
    "print(sum_of_powers([1,2,3]))"
   ],
   "metadata": {
    "collapsed": false
   }
  },
  {
   "cell_type": "markdown",
   "source": [
    "Zwracanie wartości z funkcji"
   ],
   "metadata": {
    "collapsed": false
   }
  },
  {
   "cell_type": "code",
   "source": [
    "def sum_of_powers(l, n):\n",
    "    s = 0\n",
    "    for elem in l:\n",
    "        s = s + elem**n\n",
    "    print(s)\n",
    "    # return\n",
    "\n",
    "print(sum_of_powers([1,2,3],3))"
   ],
   "metadata": {
    "collapsed": false,
    "ExecuteTime": {
     "end_time": "2024-04-06T22:28:54.599628Z",
     "start_time": "2024-04-06T22:28:54.593780Z"
    }
   },
   "outputs": [
    {
     "name": "stdout",
     "output_type": "stream",
     "text": [
      "36\n",
      "None\n"
     ]
    }
   ],
   "execution_count": 3
  },
  {
   "cell_type": "markdown",
   "source": [
    "Wartość specjalna - None"
   ],
   "metadata": {
    "collapsed": false
   }
  },
  {
   "cell_type": "code",
   "source": [
    "print(type(None))\n",
    "\n",
    "def sum_of_powers(l, n):\n",
    "    if len(l) == 0:\n",
    "        return {None}\n",
    "    else:\n",
    "        s = 0\n",
    "        for elem in l:\n",
    "            s = s + elem**n\n",
    "        return s\n",
    "\n",
    "print(sum_of_powers([1,2,3],3))\n",
    "print(sum_of_powers([],3))\n"
   ],
   "metadata": {
    "collapsed": false,
    "ExecuteTime": {
     "end_time": "2024-04-06T22:31:32.066511Z",
     "start_time": "2024-04-06T22:31:32.058008Z"
    }
   },
   "outputs": [
    {
     "name": "stdout",
     "output_type": "stream",
     "text": [
      "<class 'NoneType'>\n",
      "36\n",
      "{None}\n"
     ]
    }
   ],
   "execution_count": 21
  },
  {
   "cell_type": "code",
   "source": [
    "s = sum_of_powers([],3)\n",
    "if s:\n",
    "    print(\"suma:\",s)\n",
    "else:\n",
    "    print(\"pusta lista\")\n"
   ],
   "metadata": {
    "collapsed": false,
    "ExecuteTime": {
     "end_time": "2024-04-06T22:31:35.055020Z",
     "start_time": "2024-04-06T22:31:35.045730Z"
    }
   },
   "outputs": [
    {
     "name": "stdout",
     "output_type": "stream",
     "text": [
      "suma: {None}\n"
     ]
    }
   ],
   "execution_count": 22
  },
  {
   "cell_type": "markdown",
   "source": [
    "Zwracanie \"kilku wartości\""
   ],
   "metadata": {
    "collapsed": false
   }
  },
  {
   "cell_type": "code",
   "source": [
    "def sum_of_powers(l, n):\n",
    "    if len(l) == 0:\n",
    "        return None\n",
    "    else:\n",
    "        s = 0\n",
    "        for elem in l:\n",
    "            s = s + elem**n\n",
    "        return s,n\n",
    "\n",
    "print(sum_of_powers([1,2,3],3))\n",
    "print(type(sum_of_powers([1,2,3],3)))"
   ],
   "metadata": {
    "collapsed": false,
    "ExecuteTime": {
     "end_time": "2024-04-06T22:31:59.861895Z",
     "start_time": "2024-04-06T22:31:59.855564Z"
    }
   },
   "outputs": [
    {
     "name": "stdout",
     "output_type": "stream",
     "text": [
      "(36, 3)\n",
      "<class 'tuple'>\n"
     ]
    }
   ],
   "execution_count": 23
  },
  {
   "cell_type": "code",
   "source": [
    "s1,n1 = sum_of_powers([1,2,3],3)\n",
    "print(\"suma:\",s1)\n",
    "print(\"potega:\",n1)"
   ],
   "metadata": {
    "collapsed": false,
    "ExecuteTime": {
     "end_time": "2024-04-06T22:32:06.403730Z",
     "start_time": "2024-04-06T22:32:06.396736Z"
    }
   },
   "outputs": [
    {
     "name": "stdout",
     "output_type": "stream",
     "text": [
      "suma: 36\n",
      "potega: 3\n"
     ]
    }
   ],
   "execution_count": 24
  },
  {
   "cell_type": "markdown",
   "source": [
    "\"Pusta\" funkcja"
   ],
   "metadata": {
    "collapsed": false
   }
  },
  {
   "cell_type": "code",
   "source": [
    "def empty():\n",
    "    pass\n",
    "\n",
    "print(empty())"
   ],
   "metadata": {
    "collapsed": false,
    "ExecuteTime": {
     "end_time": "2024-04-06T22:32:17.451840Z",
     "start_time": "2024-04-06T22:32:17.444915Z"
    }
   },
   "outputs": [
    {
     "name": "stdout",
     "output_type": "stream",
     "text": [
      "None\n"
     ]
    }
   ],
   "execution_count": 25
  },
  {
   "cell_type": "markdown",
   "source": [
    "Zmienna liczba argumentów\n",
    "\\* - operator pakowania do krotki"
   ],
   "metadata": {
    "collapsed": false
   }
  },
  {
   "cell_type": "code",
   "source": [
    "def sum_of_powers(n,*l):\n",
    "    s = 0\n",
    "    for elem in l:\n",
    "        s = s + elem**n\n",
    "    return s\n",
    "\n",
    "print(sum_of_powers(3,1,2,3))\n",
    "print(sum_of_powers(3,1,2,3,4,5))\n"
   ],
   "metadata": {
    "collapsed": false,
    "ExecuteTime": {
     "end_time": "2024-04-06T22:33:08.554418Z",
     "start_time": "2024-04-06T22:33:08.548655Z"
    }
   },
   "outputs": [
    {
     "name": "stdout",
     "output_type": "stream",
     "text": [
      "36\n",
      "225\n"
     ]
    }
   ],
   "execution_count": 30
  },
  {
   "cell_type": "markdown",
   "source": [
    "asterisk \\* jako operator rozpakowywania"
   ],
   "metadata": {
    "collapsed": false
   }
  },
  {
   "cell_type": "code",
   "source": [
    "l = [1,2,3]\n",
    "# sum_of_powers(3,l)\n",
    "sum_of_powers(3,*l)"
   ],
   "metadata": {
    "collapsed": false,
    "ExecuteTime": {
     "end_time": "2024-04-06T22:32:50.058013Z",
     "start_time": "2024-04-06T22:32:50.049323Z"
    }
   },
   "outputs": [
    {
     "data": {
      "text/plain": [
       "36"
      ]
     },
     "execution_count": 27,
     "metadata": {},
     "output_type": "execute_result"
    }
   ],
   "execution_count": 27
  },
  {
   "cell_type": "markdown",
   "source": [
    "Pakowanie argumentów nazwanych - **"
   ],
   "metadata": {
    "collapsed": false
   }
  },
  {
   "cell_type": "code",
   "source": [
    "def sum_of_powers(**kwargs):\n",
    "\n",
    "    print(kwargs)\n",
    "    if 'n' in kwargs:\n",
    "        n = kwargs['n']\n",
    "    else:\n",
    "        m=\"potęga 'n' nieokreślona\"\n",
    "        return m\n",
    "    if 'l' in kwargs:\n",
    "        l = kwargs['l']\n",
    "    else:\n",
    "        m=\"lista liczb 'l' nieokreślona\"\n",
    "        return m\n",
    "\n",
    "    if len(l) == 0:\n",
    "        m=\"pusta lista liczb\"\n",
    "        return m\n",
    "    else:\n",
    "        s = 0\n",
    "        for elem in l:\n",
    "            s = s + elem**n\n",
    "        return s\n",
    "\n",
    "r = sum_of_powers(n=3, l=[1,2,3])\n",
    "if type(r) == str:\n",
    "    print(\"wiadomość:\\n\",r)\n",
    "else:\n",
    "    print(\"suma: \",r)\n"
   ],
   "metadata": {
    "collapsed": false,
    "ExecuteTime": {
     "end_time": "2024-04-06T22:33:20.817712Z",
     "start_time": "2024-04-06T22:33:20.807204Z"
    }
   },
   "outputs": [
    {
     "name": "stdout",
     "output_type": "stream",
     "text": [
      "{'n': 3, 'l': [1, 2, 3]}\n",
      "suma:  36\n"
     ]
    }
   ],
   "execution_count": 31
  },
  {
   "cell_type": "code",
   "source": [
    "r = sum_of_powers(l=[1,2,3])\n",
    "if type(r) == str:\n",
    "    print(\"wiadomość:\\n\",r)\n",
    "else:\n",
    "    print(\"suma: \",r)"
   ],
   "metadata": {
    "collapsed": false,
    "ExecuteTime": {
     "end_time": "2024-04-06T22:34:17.466947Z",
     "start_time": "2024-04-06T22:34:17.460355Z"
    }
   },
   "outputs": [
    {
     "name": "stdout",
     "output_type": "stream",
     "text": [
      "{'l': [1, 2, 3]}\n",
      "wiadomość:\n",
      " potęga 'n' nieokreślona\n"
     ]
    }
   ],
   "execution_count": 32
  },
  {
   "cell_type": "code",
   "source": [
    "r = sum_of_powers(n=3)\n",
    "if type(r) == str:\n",
    "    print(\"wiadomość:\\n\",r)\n",
    "else:\n",
    "    print(\"suma: \",r)"
   ],
   "metadata": {
    "collapsed": false,
    "ExecuteTime": {
     "end_time": "2024-04-06T22:34:48.352162Z",
     "start_time": "2024-04-06T22:34:48.338245Z"
    }
   },
   "outputs": [
    {
     "name": "stdout",
     "output_type": "stream",
     "text": [
      "{'n': 3}\n",
      "wiadomość:\n",
      " lista liczb 'l' nieokreślona\n"
     ]
    }
   ],
   "execution_count": 33
  },
  {
   "cell_type": "markdown",
   "source": [
    "Rozpakowywanie argumentów nazwanych - **"
   ],
   "metadata": {
    "collapsed": false
   }
  },
  {
   "cell_type": "code",
   "source": [
    "d = {'n':3,\n",
    "     'l':[1,2,3]}\n",
    "# r = sum_of_powers(d)\n",
    "r = sum_of_powers(**d)\n",
    "if type(r) == str:\n",
    "    print(\"wiadomość:\\n\",r)\n",
    "else:\n",
    "    print(\"suma: \",r)"
   ],
   "metadata": {
    "collapsed": false,
    "ExecuteTime": {
     "end_time": "2024-04-06T22:35:48.387925Z",
     "start_time": "2024-04-06T22:35:48.381659Z"
    }
   },
   "outputs": [
    {
     "name": "stdout",
     "output_type": "stream",
     "text": [
      "{'n': 3, 'l': [1, 2, 3]}\n",
      "suma:  36\n"
     ]
    }
   ],
   "execution_count": 34
  },
  {
   "cell_type": "markdown",
   "source": [
    "Dokumentacja funkcji w kodzie"
   ],
   "metadata": {
    "collapsed": false
   }
  },
  {
   "cell_type": "code",
   "source": [
    "def sum_of_powers(l, n):\n",
    "    \"\"\" Oblicza sumę n-tych potęg liczb w liscie l =) \"\"\"\n",
    "    if len(l) == 0:\n",
    "        return None\n",
    "    else:\n",
    "        s = 0\n",
    "        for elem in l:\n",
    "            s = s + elem**n\n",
    "        return s,n\n",
    "\n",
    "help(sum_of_powers)"
   ],
   "metadata": {
    "collapsed": false,
    "ExecuteTime": {
     "end_time": "2024-04-06T22:36:38.524656Z",
     "start_time": "2024-04-06T22:36:38.518265Z"
    }
   },
   "outputs": [
    {
     "name": "stdout",
     "output_type": "stream",
     "text": [
      "Help on function sum_of_powers in module __main__:\n",
      "\n",
      "sum_of_powers(l, n)\n",
      "    Oblicza sumę n-tych potęg liczb w liscie l =)\n",
      "\n"
     ]
    }
   ],
   "execution_count": 37
  },
  {
   "cell_type": "code",
   "source": [
    "sum_of_powers.__doc__"
   ],
   "metadata": {
    "collapsed": false,
    "ExecuteTime": {
     "end_time": "2024-04-06T22:36:42.885359Z",
     "start_time": "2024-04-06T22:36:42.879876Z"
    }
   },
   "outputs": [
    {
     "data": {
      "text/plain": [
       "' Oblicza sumę n-tych potęg liczb w liscie l =) '"
      ]
     },
     "execution_count": 38,
     "metadata": {},
     "output_type": "execute_result"
    }
   ],
   "execution_count": 38
  },
  {
   "cell_type": "markdown",
   "source": [
    "Adnotacje"
   ],
   "metadata": {
    "collapsed": false
   }
  },
  {
   "cell_type": "code",
   "source": [
    "def sum_of_powers(l: dict, n: int) -> float:\n",
    "    \"\"\" Oblicza sumę n-tych potęg liczb w liście l \"\"\"\n",
    "    if len(l) == 0:\n",
    "        return None\n",
    "    else:\n",
    "        s = 0\n",
    "        for elem in l:\n",
    "            s = s + elem**n\n",
    "        return s,n\n",
    "\n",
    "sum_of_powers.__annotations__"
   ],
   "metadata": {
    "collapsed": false,
    "ExecuteTime": {
     "end_time": "2024-04-06T22:38:28.191845Z",
     "start_time": "2024-04-06T22:38:28.184603Z"
    }
   },
   "outputs": [
    {
     "data": {
      "text/plain": [
       "{'l': dict, 'n': int, 'return': float}"
      ]
     },
     "execution_count": 48,
     "metadata": {},
     "output_type": "execute_result"
    }
   ],
   "execution_count": 48
  },
  {
   "cell_type": "markdown",
   "source": [
    "## Wyrażenia lambda, map(), filter()"
   ],
   "metadata": {
    "collapsed": false
   }
  },
  {
   "cell_type": "markdown",
   "source": [],
   "metadata": {
    "collapsed": false
   }
  },
  {
   "cell_type": "code",
   "source": [
    "l = [x for x in range(1,101)]\n",
    "l2 = [(x,x**3) for x in l if x%3 != x%2]\n",
    "print(l2)"
   ],
   "metadata": {
    "collapsed": false,
    "ExecuteTime": {
     "end_time": "2024-04-06T22:45:29.188769Z",
     "start_time": "2024-04-06T22:45:29.177127Z"
    }
   },
   "outputs": [
    {
     "name": "stdout",
     "output_type": "stream",
     "text": [
      "[(2, 8), (3, 27), (4, 64), (5, 125), (8, 512), (9, 729), (10, 1000), (11, 1331), (14, 2744), (15, 3375), (16, 4096), (17, 4913), (20, 8000), (21, 9261), (22, 10648), (23, 12167), (26, 17576), (27, 19683), (28, 21952), (29, 24389), (32, 32768), (33, 35937), (34, 39304), (35, 42875), (38, 54872), (39, 59319), (40, 64000), (41, 68921), (44, 85184), (45, 91125), (46, 97336), (47, 103823), (50, 125000), (51, 132651), (52, 140608), (53, 148877), (56, 175616), (57, 185193), (58, 195112), (59, 205379), (62, 238328), (63, 250047), (64, 262144), (65, 274625), (68, 314432), (69, 328509), (70, 343000), (71, 357911), (74, 405224), (75, 421875), (76, 438976), (77, 456533), (80, 512000), (81, 531441), (82, 551368), (83, 571787), (86, 636056), (87, 658503), (88, 681472), (89, 704969), (92, 778688), (93, 804357), (94, 830584), (95, 857375), (98, 941192), (99, 970299), (100, 1000000)]\n"
     ]
    }
   ],
   "execution_count": 72
  },
  {
   "cell_type": "markdown",
   "source": [],
   "metadata": {
    "collapsed": false
   }
  },
  {
   "cell_type": "code",
   "source": [
    "fmap = lambda x: (x,x**3)\n",
    "filt = lambda x: x % 7 == 0 and x%2 != 0\n",
    "\n",
    "l = [x for x in range(1,101)]\n",
    "l2 = [fmap(x) for x in l if filt(x)]\n",
    "print(l2)"
   ],
   "metadata": {
    "collapsed": false,
    "ExecuteTime": {
     "end_time": "2024-04-06T23:30:09.284126Z",
     "start_time": "2024-04-06T23:30:09.276672Z"
    }
   },
   "outputs": [
    {
     "name": "stdout",
     "output_type": "stream",
     "text": [
      "[(7, 343), (21, 9261), (35, 42875), (49, 117649), (63, 250047), (77, 456533), (91, 753571)]\n"
     ]
    }
   ],
   "execution_count": 126
  },
  {
   "cell_type": "markdown",
   "source": [],
   "metadata": {
    "collapsed": false
   }
  },
  {
   "cell_type": "code",
   "source": [
    "fmap = lambda x: (x,x**3)\n",
    "filt = lambda x: x % 7==0 and x%2 != 0\n",
    "f = lambda x: False\n",
    "\n",
    "l = [x for x in range(1,101)]\n",
    "\n",
    "f = filter(filt,l)\n",
    "print(f)\n",
    "lf = list(f)\n",
    "print(lf)\n",
    "\n",
    "m = map(fmap, lf)\n",
    "print(m)\n",
    "lm = list(m)\n",
    "print(lm)\n",
    "\n"
   ],
   "metadata": {
    "collapsed": false,
    "ExecuteTime": {
     "end_time": "2024-04-06T22:54:06.323742Z",
     "start_time": "2024-04-06T22:54:06.315365Z"
    }
   },
   "outputs": [
    {
     "name": "stdout",
     "output_type": "stream",
     "text": [
      "<filter object at 0x7f5da11b5250>\n",
      "[7, 21, 35, 49, 63, 77, 91]\n",
      "<map object at 0x7f5d9c658df0>\n",
      "[(7, 343), (21, 9261), (35, 42875), (49, 117649), (63, 250047), (77, 456533), (91, 753571)]\n"
     ]
    }
   ],
   "execution_count": 93
  },
  {
   "cell_type": "code",
   "source": [
    "fmap = lambda x: (x,x**3)\n",
    "filt = lambda x: x % 7==0 and x%2 != 0\n",
    "\n",
    "l = [x for x in range(1,101)]\n",
    "\n",
    "l1 = list(map(fmap, filter(filt,l)))\n",
    "print(l1)\n"
   ],
   "metadata": {
    "collapsed": false,
    "ExecuteTime": {
     "end_time": "2024-04-06T22:54:21.529029Z",
     "start_time": "2024-04-06T22:54:21.522467Z"
    }
   },
   "outputs": [
    {
     "name": "stdout",
     "output_type": "stream",
     "text": [
      "[(7, 343), (21, 9261), (35, 42875), (49, 117649), (63, 250047), (77, 456533), (91, 753571)]\n"
     ]
    }
   ],
   "execution_count": 94
  },
  {
   "cell_type": "code",
   "execution_count": null,
   "outputs": [],
   "source": [],
   "metadata": {
    "collapsed": false
   }
  },
  {
   "cell_type": "markdown",
   "source": [
    "## Funkcje wyższego rzędu"
   ],
   "metadata": {
    "collapsed": false
   }
  },
  {
   "cell_type": "code",
   "source": [
    "def strangePow(x,n):\n",
    "    return (x)**(n-1)\n",
    "\n",
    "def strPowN(n):\n",
    "    def cPow(x):\n",
    "        return strangePow(x,n)\n",
    "    return cPow\n",
    "\n",
    "a3 = strPowN(3)\n",
    "print(a3(10))\n",
    "\n",
    "l = [strPowN(n) for n in range(1, 10)]\n",
    "print(l)\n",
    "\n",
    "n=3\n",
    "ln = [d(n) for d in l]\n",
    "print(ln)\n",
    "normalne = strangePow(n,)\n",
    "print(normalne)\n"
   ],
   "metadata": {
    "collapsed": false,
    "ExecuteTime": {
     "end_time": "2024-04-06T23:01:20.824819Z",
     "start_time": "2024-04-06T23:01:20.809859Z"
    }
   },
   "outputs": [
    {
     "name": "stdout",
     "output_type": "stream",
     "text": [
      "100\n",
      "[<function strPowN.<locals>.cPow at 0x7f5d9c669e50>, <function strPowN.<locals>.cPow at 0x7f5d9c5755e0>, <function strPowN.<locals>.cPow at 0x7f5d9c5751f0>, <function strPowN.<locals>.cPow at 0x7f5d9c5758b0>, <function strPowN.<locals>.cPow at 0x7f5d9c575550>, <function strPowN.<locals>.cPow at 0x7f5d9c5753a0>, <function strPowN.<locals>.cPow at 0x7f5d9c575280>, <function strPowN.<locals>.cPow at 0x7f5d9c575a60>, <function strPowN.<locals>.cPow at 0x7f5d9c5754c0>]\n",
      "[1, 3, 9, 27, 81, 243, 729, 2187, 6561]\n"
     ]
    },
    {
     "ename": "TypeError",
     "evalue": "strangePow() missing 1 required positional argument: 'n'",
     "output_type": "error",
     "traceback": [
      "\u001B[0;31m---------------------------------------------------------------------------\u001B[0m",
      "\u001B[0;31mTypeError\u001B[0m                                 Traceback (most recent call last)",
      "\u001B[0;32m/tmp/ipykernel_15247/3715982208.py\u001B[0m in \u001B[0;36m<module>\u001B[0;34m\u001B[0m\n\u001B[1;32m     16\u001B[0m \u001B[0mln\u001B[0m \u001B[0;34m=\u001B[0m \u001B[0;34m[\u001B[0m\u001B[0md\u001B[0m\u001B[0;34m(\u001B[0m\u001B[0mn\u001B[0m\u001B[0;34m)\u001B[0m \u001B[0;32mfor\u001B[0m \u001B[0md\u001B[0m \u001B[0;32min\u001B[0m \u001B[0ml\u001B[0m\u001B[0;34m]\u001B[0m\u001B[0;34m\u001B[0m\u001B[0;34m\u001B[0m\u001B[0m\n\u001B[1;32m     17\u001B[0m \u001B[0mprint\u001B[0m\u001B[0;34m(\u001B[0m\u001B[0mln\u001B[0m\u001B[0;34m)\u001B[0m\u001B[0;34m\u001B[0m\u001B[0;34m\u001B[0m\u001B[0m\n\u001B[0;32m---> 18\u001B[0;31m \u001B[0mnormalne\u001B[0m \u001B[0;34m=\u001B[0m \u001B[0mstrangePow\u001B[0m\u001B[0;34m(\u001B[0m\u001B[0mn\u001B[0m\u001B[0;34m,\u001B[0m\u001B[0;34m)\u001B[0m\u001B[0;34m\u001B[0m\u001B[0;34m\u001B[0m\u001B[0m\n\u001B[0m\u001B[1;32m     19\u001B[0m \u001B[0mprint\u001B[0m\u001B[0;34m(\u001B[0m\u001B[0mnormalne\u001B[0m\u001B[0;34m)\u001B[0m\u001B[0;34m\u001B[0m\u001B[0;34m\u001B[0m\u001B[0m\n\u001B[1;32m     20\u001B[0m \u001B[0;34m\u001B[0m\u001B[0m\n",
      "\u001B[0;31mTypeError\u001B[0m: strangePow() missing 1 required positional argument: 'n'"
     ]
    }
   ],
   "execution_count": 124
  },
  {
   "cell_type": "markdown",
   "source": [],
   "metadata": {
    "collapsed": false
   }
  },
  {
   "cell_type": "code",
   "execution_count": null,
   "outputs": [],
   "source": [],
   "metadata": {
    "collapsed": false
   }
  },
  {
   "cell_type": "markdown",
   "source": [],
   "metadata": {
    "collapsed": false
   }
  },
  {
   "cell_type": "code",
   "execution_count": null,
   "outputs": [],
   "source": [],
   "metadata": {
    "collapsed": false
   }
  },
  {
   "cell_type": "markdown",
   "source": [],
   "metadata": {
    "collapsed": false
   }
  },
  {
   "cell_type": "code",
   "execution_count": null,
   "outputs": [],
   "source": [],
   "metadata": {
    "collapsed": false
   }
  },
  {
   "cell_type": "markdown",
   "source": [],
   "metadata": {
    "collapsed": false
   }
  },
  {
   "cell_type": "code",
   "execution_count": null,
   "outputs": [],
   "source": [],
   "metadata": {
    "collapsed": false
   }
  },
  {
   "cell_type": "markdown",
   "source": [],
   "metadata": {
    "collapsed": false
   }
  },
  {
   "cell_type": "code",
   "execution_count": null,
   "outputs": [],
   "source": [],
   "metadata": {
    "collapsed": false
   }
  },
  {
   "cell_type": "markdown",
   "source": [],
   "metadata": {
    "collapsed": false
   }
  },
  {
   "cell_type": "code",
   "execution_count": null,
   "outputs": [],
   "source": [],
   "metadata": {
    "collapsed": false
   }
  },
  {
   "cell_type": "markdown",
   "source": [],
   "metadata": {
    "collapsed": false
   }
  },
  {
   "cell_type": "code",
   "execution_count": null,
   "outputs": [],
   "source": [],
   "metadata": {
    "collapsed": false
   }
  },
  {
   "cell_type": "markdown",
   "source": [],
   "metadata": {
    "collapsed": false
   }
  },
  {
   "cell_type": "code",
   "execution_count": null,
   "outputs": [],
   "source": [],
   "metadata": {
    "collapsed": false
   }
  },
  {
   "cell_type": "markdown",
   "source": [],
   "metadata": {
    "collapsed": false
   }
  },
  {
   "cell_type": "code",
   "execution_count": null,
   "outputs": [],
   "source": [],
   "metadata": {
    "collapsed": false
   }
  },
  {
   "cell_type": "markdown",
   "source": [],
   "metadata": {
    "collapsed": false
   }
  },
  {
   "cell_type": "code",
   "execution_count": null,
   "outputs": [],
   "source": [],
   "metadata": {
    "collapsed": false
   }
  },
  {
   "cell_type": "markdown",
   "source": [],
   "metadata": {
    "collapsed": false
   }
  },
  {
   "cell_type": "code",
   "execution_count": null,
   "outputs": [],
   "source": [],
   "metadata": {
    "collapsed": false
   }
  },
  {
   "cell_type": "markdown",
   "source": [],
   "metadata": {
    "collapsed": false
   }
  },
  {
   "cell_type": "code",
   "execution_count": null,
   "outputs": [],
   "source": [],
   "metadata": {
    "collapsed": false
   }
  },
  {
   "cell_type": "markdown",
   "source": [],
   "metadata": {
    "collapsed": false
   }
  },
  {
   "cell_type": "code",
   "execution_count": null,
   "outputs": [],
   "source": [],
   "metadata": {
    "collapsed": false
   }
  },
  {
   "cell_type": "markdown",
   "source": [],
   "metadata": {
    "collapsed": false
   }
  },
  {
   "cell_type": "code",
   "execution_count": null,
   "outputs": [],
   "source": [],
   "metadata": {
    "collapsed": false
   }
  },
  {
   "cell_type": "markdown",
   "source": [],
   "metadata": {
    "collapsed": false
   }
  },
  {
   "cell_type": "code",
   "execution_count": null,
   "outputs": [],
   "source": [],
   "metadata": {
    "collapsed": false
   }
  },
  {
   "cell_type": "markdown",
   "source": [],
   "metadata": {
    "collapsed": false
   }
  },
  {
   "cell_type": "code",
   "execution_count": null,
   "outputs": [],
   "source": [],
   "metadata": {
    "collapsed": false
   }
  },
  {
   "cell_type": "markdown",
   "source": [],
   "metadata": {
    "collapsed": false
   }
  },
  {
   "cell_type": "code",
   "execution_count": null,
   "outputs": [],
   "source": [],
   "metadata": {
    "collapsed": false
   }
  },
  {
   "cell_type": "markdown",
   "source": [],
   "metadata": {
    "collapsed": false
   }
  },
  {
   "cell_type": "code",
   "execution_count": null,
   "outputs": [],
   "source": [],
   "metadata": {
    "collapsed": false
   }
  },
  {
   "cell_type": "markdown",
   "source": [],
   "metadata": {
    "collapsed": false
   }
  },
  {
   "cell_type": "code",
   "execution_count": null,
   "outputs": [],
   "source": [],
   "metadata": {
    "collapsed": false
   }
  },
  {
   "cell_type": "markdown",
   "source": [],
   "metadata": {
    "collapsed": false
   }
  },
  {
   "cell_type": "code",
   "execution_count": null,
   "outputs": [],
   "source": [],
   "metadata": {
    "collapsed": false
   }
  },
  {
   "cell_type": "markdown",
   "source": [],
   "metadata": {
    "collapsed": false
   }
  },
  {
   "metadata": {},
   "cell_type": "code",
   "outputs": [],
   "execution_count": null,
   "source": [
    "\n",
    "\n",
    "\n"
   ]
  },
  {
   "metadata": {
    "ExecuteTime": {
     "end_time": "2024-04-06T22:58:02.061570Z",
     "start_time": "2024-04-06T22:58:02.050968Z"
    }
   },
   "cell_type": "code",
   "source": "",
   "outputs": [
    {
     "ename": "NameError",
     "evalue": "name 'XD' is not defined",
     "output_type": "error",
     "traceback": [
      "\u001B[0;31m---------------------------------------------------------------------------\u001B[0m",
      "\u001B[0;31mNameError\u001B[0m                                 Traceback (most recent call last)",
      "\u001B[0;32m/tmp/ipykernel_15247/2957697478.py\u001B[0m in \u001B[0;36m<module>\u001B[0;34m\u001B[0m\n\u001B[0;32m----> 1\u001B[0;31m \u001B[0mXD\u001B[0m\u001B[0;34m\u001B[0m\u001B[0;34m\u001B[0m\u001B[0m\n\u001B[0m",
      "\u001B[0;31mNameError\u001B[0m: name 'XD' is not defined"
     ]
    }
   ],
   "execution_count": 109
  },
  {
   "cell_type": "code",
   "execution_count": null,
   "outputs": [],
   "source": [],
   "metadata": {
    "collapsed": false
   }
  }
 ],
 "metadata": {
  "kernelspec": {
   "display_name": "Python 3",
   "language": "python",
   "name": "python3"
  },
  "language_info": {
   "codemirror_mode": {
    "name": "ipython",
    "version": 2
   },
   "file_extension": ".py",
   "mimetype": "text/x-python",
   "name": "python",
   "nbconvert_exporter": "python",
   "pygments_lexer": "ipython2",
   "version": "2.7.6"
  }
 },
 "nbformat": 4,
 "nbformat_minor": 0
}
