{
 "cells": [
  {
   "cell_type": "markdown",
   "source": [
    "## Zadania domowe - Seria 5"
   ],
   "metadata": {
    "collapsed": false,
    "pycharm": {
     "name": "#%% md\n"
    }
   }
  },
  {
   "cell_type": "markdown",
   "source": [
    "Napisać iterator, który generuje kolejne dzielniki liczby naturalnej $N$.\n",
    "Wypisać dzielniki wybranej liczby $N$ korzystając z pętli for i iteratora.\n",
    "Utworzyć listę dzielników wybranej liczby $N$ korzystając z list comprehensions."
   ],
   "metadata": {
    "collapsed": false,
    "pycharm": {
     "name": "#%% md\n"
    }
   }
  },
  {
   "cell_type": "code",
   "execution_count": 28,
   "outputs": [],
   "source": [
    "class IterDividors:\n",
    "\n",
    "    def __init__(self, end):\n",
    "        self._end = end\n",
    "        self._actual = 1\n",
    "\n",
    "    def __iter__(self):\n",
    "        self._actual = 1\n",
    "        return self\n",
    "\n",
    "    def __next__(self):\n",
    "        if self._actual <= self._end:\n",
    "            for x in range(self._actual,self._end+1):\n",
    "                if self._end % x == 0:\n",
    "                    self._actual = x+1\n",
    "                    return x\n",
    "        else:\n",
    "            raise StopIteration\n",
    "\n"
   ],
   "metadata": {
    "collapsed": false,
    "ExecuteTime": {
     "end_time": "2024-04-28T20:37:33.340564Z",
     "start_time": "2024-04-28T20:37:33.327939300Z"
    }
   }
  },
  {
   "cell_type": "code",
   "execution_count": 39,
   "outputs": [
    {
     "name": "stdout",
     "output_type": "stream",
     "text": [
      "1 2 4 5 10 20 25 50 100 koniec iterowania\n",
      "[1, 2, 4, 5, 10, 20, 25, 50, 100]\n"
     ]
    }
   ],
   "source": [
    "it = IterDividors(100)\n",
    "\n",
    "while True:\n",
    "    try:\n",
    "        print(next(it), end=\" \")\n",
    "    except StopIteration:\n",
    "        print(\"koniec iterowania\")\n",
    "        break\n",
    "it = IterDividors(100)\n",
    "\n",
    "list_of_dividors = [x for x in it]\n",
    "print(list_of_dividors)\n",
    "\n"
   ],
   "metadata": {
    "collapsed": false,
    "ExecuteTime": {
     "end_time": "2024-04-28T20:41:46.672512600Z",
     "start_time": "2024-04-28T20:41:46.668420200Z"
    }
   }
  },
  {
   "cell_type": "markdown",
   "source": [
    "Napisać iterator, który generuje pary (dzielnik pierwszy, krotność dzielnika) dla liczby $N$.\n",
    "Wypisać dzielniki pierwsze wybranej liczby $N$ wraz z krotnościami korzystając z pętli for i iteratora.\n",
    "Utworzyć słownik o kluczach będących dzielnikami pierwszymi wybranej liczby $N$\n",
    "i wartościach będących krotnościami odpowiednich dzielników korzystając z dictionary comprehensions."
   ],
   "metadata": {
    "collapsed": false,
    "pycharm": {
     "name": "#%% md\n"
    }
   }
  },
  {
   "cell_type": "code",
   "execution_count": 96,
   "outputs": [],
   "source": [
    "class IterPrimeDividors:\n",
    "\n",
    "    def __init__(self, end):\n",
    "        self._end = end\n",
    "        self._actual = 2\n",
    "\n",
    "    def __iter__(self):\n",
    "        return self\n",
    "\n",
    "    def __next__(self):\n",
    "        if self._actual <= self._end:\n",
    "            number = self._end\n",
    "            exponent = 0\n",
    "            while number % self._actual == 0:\n",
    "                exponent += 1\n",
    "                number = (number // self._actual)\n",
    "            ret1 = self._actual\n",
    "            ret2 = exponent\n",
    "            if exponent==0:\n",
    "                self._actual += 1\n",
    "                return self.__next__()\n",
    "            #print(self._actual,exponent)\n",
    "            self._end = self._end / (self._actual**exponent)\n",
    "            self._actual += 1\n",
    "            return ret1, ret2\n",
    "        else:\n",
    "            raise StopIteration\n",
    "\n",
    "\n"
   ],
   "metadata": {
    "collapsed": false,
    "ExecuteTime": {
     "end_time": "2024-04-28T21:34:30.453410700Z",
     "start_time": "2024-04-28T21:34:30.453410700Z"
    }
   }
  },
  {
   "cell_type": "code",
   "execution_count": 99,
   "outputs": [
    {
     "name": "stdout",
     "output_type": "stream",
     "text": [
      "(2, 2) (5, 2) koniec iterowania\n",
      "[(2, 2), (5, 2)]\n"
     ]
    }
   ],
   "source": [
    "it = IterPrimeDividors(100)\n",
    "\n",
    "while True:\n",
    "    try:\n",
    "        print(next(it), end=\" \")\n",
    "    except StopIteration:\n",
    "        print(\"koniec iterowania\")\n",
    "        break\n",
    "it = IterPrimeDividors(100)\n",
    "\n",
    "list_of_dividors = [x for x in it]\n",
    "print(list_of_dividors)\n",
    "\n",
    "\n",
    "\n"
   ],
   "metadata": {
    "collapsed": false,
    "ExecuteTime": {
     "end_time": "2024-04-28T21:34:52.656585700Z",
     "start_time": "2024-04-28T21:34:52.656585700Z"
    }
   }
  },
  {
   "cell_type": "code",
   "execution_count": 137,
   "outputs": [],
   "source": [
    "\n",
    "class PollyIter:\n",
    "\n",
    "    def __init__(self,polly):\n",
    "        self._polly = polly\n",
    "        self._ind = 0#len(polly.factors)-1\n",
    "\n",
    "    def __iter__(self):\n",
    "        return self\n",
    "\n",
    "    def __next__(self):\n",
    "        if self._ind <= len(self._polly.factors):\n",
    "            elem = self._polly[self._ind]\n",
    "            self._ind += 1\n",
    "            if elem == \"0\":\n",
    "                return self.__next__()\n",
    "            return elem\n",
    "        else:\n",
    "            raise StopIteration\n",
    "\n",
    "class Polly:\n",
    "\n",
    "    def __init__(self, factors: list):\n",
    "        if factors[0] == 0:\n",
    "            cut_list = 1\n",
    "            for i in range(1,len(factors)):\n",
    "                if factors[i] != 0:\n",
    "                    break\n",
    "                else:\n",
    "                    cut_list+=1\n",
    "            factors = factors[cut_list:]\n",
    "        self._factors = factors\n",
    "        self._length = len(factors)\n",
    "\n",
    "    @property\n",
    "    def factors(self):\n",
    "        return self._factors\n",
    "\n",
    "    def degree(self):\n",
    "        for x in self._factors:\n",
    "            if x != 0:\n",
    "                return x\n",
    "        return 0\n",
    "\n",
    "    def print_polly(self):\n",
    "        print(str(self))\n",
    "\n",
    "\n",
    "\n",
    "    def __str__(self):\n",
    "        if(len(self._factors) > 1):\n",
    "            polly_str = str(self._factors[0]) + \"x^\" + str(len(self._factors) - 1)\n",
    "        else:\n",
    "            if len(self._factors) == 1:\n",
    "                return str(self._factors[0])\n",
    "            else:\n",
    "                return \"0\"\n",
    "        if len(self._factors) >= 1:\n",
    "            for x in range(1,len(self._factors)-1):\n",
    "                if(self._factors[x] > 0):\n",
    "                    polly_str = polly_str +\"+\"+ str(self._factors[x]) + \"^\" + str(len(self._factors) - x - 1)\n",
    "                if(self._factors[x] < 0):\n",
    "                    polly_str = polly_str + str(self._factors[x]) + \"^\" +str(len(self._factors) - x - 1)\n",
    "\n",
    "            last_elem = self._factors[len(self._factors)-1]\n",
    "            if last_elem > 0:\n",
    "                polly_str += \"+\"+str(last_elem)\n",
    "            if last_elem < 0:\n",
    "                polly_str += str(last_elem)\n",
    "            return polly_str\n",
    "\n",
    "\n",
    "    def __eq__(self, other):\n",
    "        if type(other) == Polly and (len(self._factors) == len(other._factors)):\n",
    "            for x in range(0, len(self._factors)):\n",
    "                if self._factors[x] != other._factors[x]:\n",
    "                    return False\n",
    "            return True\n",
    "        else:\n",
    "            return False\n",
    "\n",
    "    def __ne__(self, other):\n",
    "        eq_counts = 0\n",
    "        if type(other) == Polly and (len(self._factors) == len(other._factors)):\n",
    "            for x in range(0, len(self._factors)):\n",
    "                if self._factors[x] == other._factors[x]:\n",
    "                    eq_counts = eq_counts+1\n",
    "            if eq_counts == len(self._factors):\n",
    "                return False\n",
    "            return True\n",
    "        else:\n",
    "            return True\n",
    "\n",
    "    def __add__(self, other):\n",
    "        if type(other) == Polly:\n",
    "            self._factors.reverse()\n",
    "            other._factors.reverse()\n",
    "            new_polly = [x + y for x,y in zip(self._factors, other._factors)]\n",
    "            if len(self._factors) > len(other._factors):\n",
    "                new_polly = new_polly + self._factors[len(other._factors):]\n",
    "            if len(other._factors) > len(self._factors):\n",
    "                new_polly = new_polly + other._factors[len(self._factors):]\n",
    "            new_polly.reverse()\n",
    "            return Polly(new_polly)\n",
    "        else:\n",
    "            self._factors[len(self._factors) - 1] += other\n",
    "            return Polly(self._factors)\n",
    "\n",
    "    def __radd__(self, other):\n",
    "        if type(other) == Polly:\n",
    "            new_polly = [x + y for x,y in zip(self._factors, other._factors)]\n",
    "            if len(self._factors) > len(other._factors):\n",
    "                new_polly = new_polly + self._factors[len(other._factors):]\n",
    "            if len(other._factors) > len(self._factors):\n",
    "                new_polly = new_polly + other._factors[len(self._factors):]\n",
    "            return Polly(new_polly)\n",
    "        else:\n",
    "            self._factors[len(self._factors) - 1] += other\n",
    "            return Polly(self._factors)\n",
    "\n",
    "    def __sub__(self, other):\n",
    "        if type(other) == Polly:\n",
    "            new_other = list(map(lambda x: -x, other._factors))\n",
    "            new_polly = [x + y for x,y in zip(self._factors, new_other)]\n",
    "            if len(self._factors) > len(new_other):\n",
    "                new_polly = new_polly + self._factors[len(new_other):]\n",
    "            if len(new_other) > len(self._factors):\n",
    "                new_polly = new_polly + new_other[len(self._factors):]\n",
    "            return Polly(new_polly)\n",
    "        else:\n",
    "            self._factors[len(self._factors) - 1] -= other\n",
    "            return Polly(self._factors)\n",
    "\n",
    "\n",
    "    def __rsub__(self, other):\n",
    "        self._factors = list(map(lambda x: -x,self.factors))\n",
    "        if type(other) == Polly:\n",
    "            new_polly = [x + y for x,y in zip(self._factors, other._factors)]\n",
    "            if len(self._factors) > len(other._factors):\n",
    "                new_polly = new_polly + self._factors[len(other._factors):]\n",
    "            if len(other._factors) > len(self._factors):\n",
    "                new_polly = new_polly + other._factors[len(self._factors):]\n",
    "            return Polly(new_polly)\n",
    "        else:\n",
    "            self._factors[len(self._factors) - 1] += other\n",
    "            return Polly(self._factors)\n",
    "\n",
    "    def __neg__(self):\n",
    "        return Polly(list(map(lambda x: -x,self._factors)))\n",
    "\n",
    "    def __mul__(self, other):\n",
    "        if type(other) == Polly:\n",
    "            polly_size = len(self._factors) + len(other._factors)\n",
    "            multiplicated_polly = list([0 for _ in range(0,polly_size*2)])\n",
    "            self._factors.reverse()\n",
    "            other._factors.reverse()\n",
    "            for x1 in range(0, len(self._factors)):\n",
    "                for x2 in range(0, len(other._factors)):\n",
    "                    multiplicated_polly[x1+x2] = self._factors[x1] * other._factors[x2]\n",
    "            multiplicated_polly.reverse()\n",
    "            return Polly(multiplicated_polly)\n",
    "        else:\n",
    "            return Polly(list(map(lambda x: x * other, self._factors)))\n",
    "\n",
    "    def __rmul__(self, other):\n",
    "        if type(other) == Polly:\n",
    "            polly_size = len(self._factors) + len(other._factors)\n",
    "            multiplicated_polly = list([0 for _ in range(0,polly_size*2)])\n",
    "            self._factors.reverse()\n",
    "            other._factors.reverse()\n",
    "            for x1 in range(0, len(self._factors)):\n",
    "                for x2 in range(0, len(other._factors)):\n",
    "                    multiplicated_polly[x1+x2] = self._factors[x1] * other._factors[x2]\n",
    "            multiplicated_polly.reverse()\n",
    "            return Polly(multiplicated_polly)\n",
    "        else:\n",
    "            return Polly(list(map(lambda x: x * other, self._factors)))\n",
    "\n",
    "    def __call__(self, *args, **kwargs):\n",
    "        factors = self._factors[::-1]\n",
    "        sum = 0\n",
    "        for x in range(0,len(factors)):\n",
    "            sum += factors[x]*(args[0]**(x+1))\n",
    "        return sum\n",
    "\n",
    "    def __len__(self):\n",
    "        return len(self._factors)\n",
    "\n",
    "    def __getitem__(self, index):\n",
    "        arr = [0 for _ in range(0,self._length)] # arr with zeros, for proper Polly iter\n",
    "        if 0 <= index < self._length:\n",
    "            arr[self._length - index - 1] = self._factors[ self._length - index - 1]\n",
    "            iks = index\n",
    "            while(self._factors[self._length-iks-1])!=0:\n",
    "                iks += 1\n",
    "                arr[self._length - index - 1] = self._factors[ self._length - index - 1]\n",
    "            return (arr)\n",
    "        else:\n",
    "            raise IndexError\n",
    "\n",
    "    def __contains__(self, item):\n",
    "        pass\n",
    "\n",
    "    def __reversed__(self):\n",
    "        pass\n",
    "\n",
    "    def __iter__(self):\n",
    "        return PollyIter(self)\n",
    "\n",
    "\n"
   ],
   "metadata": {
    "collapsed": false,
    "pycharm": {
     "name": "#%%\n"
    },
    "ExecuteTime": {
     "end_time": "2024-04-28T23:30:24.764262600Z",
     "start_time": "2024-04-28T23:30:24.748633100Z"
    }
   }
  },
  {
   "cell_type": "code",
   "execution_count": 139,
   "outputs": [
    {
     "name": "stdout",
     "output_type": "stream",
     "text": [
      "[0, 0, 0, 0, 0, 1]\n",
      "[0, 0, 0, 0, 5, 0]\n",
      "[0, 0, 0, 0, 0, 0]\n",
      "[0, 0, 2, 0, 0, 0]\n",
      "[0, 0, 0, 0, 0, 0]\n",
      "[3, 0, 0, 0, 0, 0]\n"
     ]
    }
   ],
   "source": [
    "p = Polly([3,0,2,0,5,1])\n",
    "it = iter(p)\n",
    "\n",
    "print(next(it))\n",
    "print(next(it))\n",
    "print(next(it))\n",
    "print(next(it))\n",
    "print(next(it))\n",
    "print(next(it))\n"
   ],
   "metadata": {
    "collapsed": false,
    "ExecuteTime": {
     "end_time": "2024-04-28T23:30:28.794770200Z",
     "start_time": "2024-04-28T23:30:28.790236300Z"
    }
   }
  },
  {
   "cell_type": "markdown",
   "source": [
    "Dla klasy `Poly` z poprzedniej serii zadań dodać protokół iteratora.\n",
    "Iterator powinien zwracać kolejne podwielomiany (również klasy `Poly`) będące składnikami wielomianu\n",
    "począwszy od wyrazu wolnego. Na przykład dla wielomianu\n",
    "$$\n",
    "P(x) = 3x^5 + 2x^3 + 5x + 1\n",
    "$$\n",
    "Iterator powinien zwracać kolejno wielomiany\n",
    "$$\n",
    "P_1(x)=1,\\ P_2(x)=5x,\\ P_3(x)=2x^3,\\ P_4(x)=3x^5\n",
    "$$\n",
    "Utworzyć wielomian 6-tego stopnia o współczynnikach całkowitych losowanych z przedziału $[-5,5]$.\n",
    "Przetestować działanie iteratora obliczając sumę wartości kolejno generowanych podwielomianów\n",
    "dla wybranej liczby $x$. Porównać zsumowaną wartość z wartością oryginalnego wielomianu dla zmiennej $x$.\n",
    "\n"
   ],
   "metadata": {
    "collapsed": false,
    "pycharm": {
     "name": "#%% md\n"
    }
   }
  },
  {
   "cell_type": "code",
   "execution_count": 140,
   "outputs": [
    {
     "name": "stdout",
     "output_type": "stream",
     "text": [
      "[0, 0, 0, 0, 0, 1]\n",
      "[0, 0, 0, 0, 5, 0]\n",
      "[0, 0, 0, 0, 0, 0]\n"
     ]
    }
   ],
   "source": [
    "print(p[0])\n",
    "print(p[1])\n",
    "print(p[2])"
   ],
   "metadata": {
    "collapsed": false,
    "pycharm": {
     "name": "#%%\n"
    },
    "ExecuteTime": {
     "end_time": "2024-04-28T23:30:30.780019500Z",
     "start_time": "2024-04-28T23:30:30.772847300Z"
    }
   }
  },
  {
   "cell_type": "markdown",
   "source": [
    "Dla klasy `Poly` z poprzedniej serii zadań dodać protokół sekwencji.\n",
    "Dla klasy `Poly` z poprzedniej serii zadań dodać protokół sekwencji.\n",
    "Dla klasy `Poly` z poprzedniej serii zadań dodać protokół sekwencji.\n",
    "Operator indeksowania powinien zwracać odpowiedni podwielomian (również klasy `Poly`)\n",
    "odpowiadający składnikowi wielomianu stopnia równego indeksowi. Na przykład dla wielomianu\n",
    "$$\n",
    "P(x) = 3x^5 + 2x^3 + 5x + 1\n",
    "$$\n",
    "oprerator indeksu powinnien zwracać wielomiany\n",
    "$$\n",
    "P[0]=1, \\\\\n",
    "P[1]=5x,\\\\\n",
    "P[2]=2x^3,\\\\\n",
    "P[3]=3x^5\n",
    "$$\n",
    "Utworzyć wielomian 6-tego stopnia o współczynnikach całkowitych losowanych z przedziału $[-5,5]$\n",
    "i przetestować działanie operatora indeksu.\n",
    "\n"
   ],
   "metadata": {
    "collapsed": false,
    "pycharm": {
     "name": "#%% md\n"
    }
   }
  },
  {
   "cell_type": "code",
   "execution_count": null,
   "outputs": [],
   "source": [],
   "metadata": {
    "collapsed": false,
    "pycharm": {
     "name": "#%%\n"
    }
   }
  },
  {
   "cell_type": "markdown",
   "source": [
    "Okazuje się, że protokół iteracji można wywołać niejawnie jeżeli klasa ma zaimplementowany protokół sekwencji.\n",
    "Zamiast metody `__next__()` wywoływana jest metoda `__getitem__()` dla elementów o kolejnych indeksach.\n",
    "Jednak w takim przypadku operator indeksowania powinien rzucać wyjątek `IndexError` jeżeli indeks\n",
    "znajduje się poza ustalownym zakresem.\n",
    "Zmodyfikować metodę `__getitem__()` dla klasy z poprzedniego zadania.\n",
    "Przetestować działanie iteratora obliczając sumę wartości kolejno generowanych podwielomianów\n",
    "dla wybranej liczby $x$. Porównać zsumowaną wartość z wartością oryginalnego wielomianu dla zmiennej $x$."
   ],
   "metadata": {
    "collapsed": false,
    "pycharm": {
     "name": "#%% md\n"
    }
   }
  },
  {
   "cell_type": "code",
   "execution_count": null,
   "outputs": [],
   "source": [],
   "metadata": {
    "collapsed": false,
    "pycharm": {
     "name": "#%%\n"
    }
   }
  },
  {
   "cell_type": "markdown",
   "source": [],
   "metadata": {
    "collapsed": false,
    "pycharm": {
     "name": "#%% md\n"
    }
   }
  },
  {
   "cell_type": "code",
   "execution_count": null,
   "outputs": [],
   "source": [],
   "metadata": {
    "collapsed": false,
    "pycharm": {
     "name": "#%%\n"
    }
   }
  }
 ],
 "metadata": {
  "kernelspec": {
   "display_name": "Python 3",
   "language": "python",
   "name": "python3"
  },
  "language_info": {
   "codemirror_mode": {
    "name": "ipython",
    "version": 2
   },
   "file_extension": ".py",
   "mimetype": "text/x-python",
   "name": "python",
   "nbconvert_exporter": "python",
   "pygments_lexer": "ipython2",
   "version": "2.7.6"
  }
 },
 "nbformat": 4,
 "nbformat_minor": 0
}
