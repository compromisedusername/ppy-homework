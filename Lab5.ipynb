{
 "cells": [
  {
   "cell_type": "markdown",
   "source": [
    "# Klasy"
   ],
   "metadata": {
    "collapsed": false,
    "pycharm": {
     "name": "#%% md\n"
    }
   }
  },
  {
   "cell_type": "markdown",
   "source": [
    "## Podstawy"
   ],
   "metadata": {
    "collapsed": false,
    "pycharm": {
     "name": "#%% md\n"
    }
   }
  },
  {
   "cell_type": "markdown",
   "source": [
    "Składnia"
   ],
   "metadata": {
    "collapsed": false,
    "pycharm": {
     "name": "#%% md\n"
    }
   }
  },
  {
   "cell_type": "code",
   "execution_count": 1,
   "outputs": [],
   "source": [
    "class Osoba:\n",
    "\n",
    "    def __init__(self, imie, nazwisko, wiek):\n",
    "        self.imie = imie\n",
    "        self.nazwisko = nazwisko\n",
    "        self.wiek = wiek\n",
    "\n",
    "    def wypisz_dane(self):\n",
    "        print(self.imie+\" \"+self.nazwisko+\": \"+str(self.wiek))\n",
    "\n"
   ],
   "metadata": {
    "collapsed": false,
    "pycharm": {
     "name": "#%%\n"
    },
    "ExecuteTime": {
     "end_time": "2024-04-08T06:17:21.594245400Z",
     "start_time": "2024-04-08T06:17:21.560943700Z"
    }
   }
  },
  {
   "cell_type": "code",
   "execution_count": null,
   "outputs": [],
   "source": [
    "damian = Osoba(\"damian\", \"suski\", 25)\n",
    "damian.wypisz_dane()"
   ],
   "metadata": {
    "collapsed": false,
    "pycharm": {
     "name": "#%%\n"
    }
   }
  },
  {
   "cell_type": "markdown",
   "source": [
    "Klasa jest przestrzenią nazw którą można swobodnie modyfikować"
   ],
   "metadata": {
    "collapsed": false,
    "pycharm": {
     "name": "#%% md\n"
    }
   }
  },
  {
   "cell_type": "code",
   "execution_count": null,
   "outputs": [],
   "source": [
    "damian = Osoba(\"damian\", \"suski\", 25)\n",
    "print(vars(damian))\n",
    "damian.wzrost = 155\n",
    "print(vars(damian))\n",
    "del damian.imie\n",
    "print(vars(damian))"
   ],
   "metadata": {
    "collapsed": false,
    "pycharm": {
     "name": "#%%\n"
    }
   }
  },
  {
   "cell_type": "markdown",
   "source": [
    "Brak atrybutów prywatnych\n",
    "Konwecja `_nazwa`"
   ],
   "metadata": {
    "collapsed": false,
    "pycharm": {
     "name": "#%% md\n"
    }
   }
  },
  {
   "cell_type": "code",
   "execution_count": null,
   "outputs": [],
   "source": [
    "class Osoba:\n",
    "\n",
    "    def __init__(self, imie, nazwisko, wiek):\n",
    "        self._imie = imie\n",
    "        self._nazwisko = nazwisko\n",
    "        self._wiek = wiek\n",
    "\n",
    "    def wypisz_dane(self):\n",
    "        print(self._imie+\" \"+self._nazwisko+\": \"+str(self._wiek))"
   ],
   "metadata": {
    "collapsed": false,
    "pycharm": {
     "name": "#%%\n"
    }
   }
  },
  {
   "cell_type": "code",
   "execution_count": null,
   "outputs": [],
   "source": [
    "damian = Osoba(\"damian\", \"suski\", 25)\n",
    "print(vars(damian))\n",
    "print(damian._imie)\n",
    "damian._imie = \"robert\"\n",
    "print(vars(damian))\n",
    "print(damian._imie)"
   ],
   "metadata": {
    "collapsed": false,
    "pycharm": {
     "name": "#%%\n"
    }
   }
  },
  {
   "cell_type": "markdown",
   "source": [
    "Konwencja `__nazwa`"
   ],
   "metadata": {
    "collapsed": false,
    "pycharm": {
     "name": "#%% md\n"
    }
   }
  },
  {
   "cell_type": "code",
   "execution_count": null,
   "outputs": [],
   "source": [
    "class Osoba:\n",
    "\n",
    "    def __init__(self, imie, nazwisko, wiek):\n",
    "        self.__imie = imie\n",
    "        self.__nazwisko = nazwisko\n",
    "        self.__wiek = wiek\n",
    "\n",
    "    def wypisz_dane(self):\n",
    "        print(self.__imie+\" \"+self.__nazwisko+\": \"+str(self.__wiek))"
   ],
   "metadata": {
    "collapsed": false,
    "pycharm": {
     "name": "#%%\n"
    }
   }
  },
  {
   "cell_type": "code",
   "execution_count": null,
   "outputs": [],
   "source": [
    "damian = Osoba(\"damian\", \"suski\", 25)\n",
    "# print(damian.__imie)\n",
    "print(damian._Osoba__imie)\n"
   ],
   "metadata": {
    "collapsed": false,
    "pycharm": {
     "name": "#%%\n"
    }
   }
  },
  {
   "cell_type": "markdown",
   "source": [
    "Atrybuty klasowe"
   ],
   "metadata": {
    "collapsed": false,
    "pycharm": {
     "name": "#%% md\n"
    }
   }
  },
  {
   "cell_type": "code",
   "execution_count": null,
   "outputs": [],
   "source": [
    "class Osoba:\n",
    "\n",
    "    tytul = \"Pan/Pani\"\n",
    "\n",
    "    def __init__(self, imie, nazwisko, wiek):\n",
    "        self._imie = imie\n",
    "        self._nazwisko = nazwisko\n",
    "        self._wiek = wiek\n",
    "\n",
    "    def wypisz_dane(self):\n",
    "        print(Osoba.tytul+\" \"+self._imie+\" \"+self._nazwisko+\": \"+str(self._wiek))"
   ],
   "metadata": {
    "collapsed": false,
    "pycharm": {
     "name": "#%%\n"
    }
   }
  },
  {
   "cell_type": "code",
   "execution_count": null,
   "outputs": [],
   "source": [
    "damian = Osoba(\"damian\", \"suski\", 25)\n",
    "robert = Osoba(\"robert\",\"lewandowski\",35)\n",
    "damian.wypisz_dane()\n",
    "robert.wypisz_dane()\n",
    "\n",
    "Osoba.tytul = \"Mr/Mrs\"\n",
    "damian.wypisz_dane()\n",
    "robert.wypisz_dane()"
   ],
   "metadata": {
    "collapsed": false,
    "pycharm": {
     "name": "#%%\n"
    }
   }
  },
  {
   "cell_type": "markdown",
   "source": [
    "Atrybut specjalny `__dict__`"
   ],
   "metadata": {
    "collapsed": false,
    "pycharm": {
     "name": "#%% md\n"
    }
   }
  },
  {
   "cell_type": "code",
   "execution_count": null,
   "outputs": [],
   "source": [
    "class Osoba:\n",
    "\n",
    "    tytul = \"Pan/Pani\"\n",
    "\n",
    "    def __init__(self, imie, nazwisko, wiek):\n",
    "        self._imie = imie\n",
    "        self._nazwisko = nazwisko\n",
    "        self._wiek = wiek\n",
    "\n",
    "    def wypisz_dane(self):\n",
    "        print(Osoba.tytul+\" \"+self._imie+\" \"+self._nazwisko+\": \"+str(self._wiek))"
   ],
   "metadata": {
    "collapsed": false,
    "pycharm": {
     "name": "#%%\n"
    }
   }
  },
  {
   "cell_type": "code",
   "execution_count": null,
   "outputs": [],
   "source": [
    "# print(Osoba.__dict__)\n",
    "for k,v in Osoba.__dict__.items():\n",
    "    print(str(k)+\": \"+str(v))\n",
    "damian = Osoba(\"damian\", \"suski\", 25)\n",
    "robert = Osoba(\"robert\",\"lewandowski\",35)\n",
    "print(damian.__dict__)\n",
    "print(robert.__dict__)\n",
    "vars(damian)"
   ],
   "metadata": {
    "collapsed": false,
    "pycharm": {
     "name": "#%%\n"
    }
   }
  },
  {
   "cell_type": "code",
   "execution_count": null,
   "outputs": [],
   "source": [
    "damian = Osoba(\"damian\", \"suski\", 25)\n",
    "damian.wypisz_dane()\n",
    "\n",
    "damian.__dict__[\"_wiek\"] = 85\n",
    "damian.wypisz_dane()\n",
    "\n",
    "Osoba.__dict__[\"wypisz_dane\"](damian)\n",
    "\n",
    "damian.__dict__[\"_wzrost\"] = 150\n",
    "print(damian._wzrost)\n",
    "\n",
    "setattr(damian,\"_wzrost\",160)\n",
    "print(damian._wzrost)\n"
   ],
   "metadata": {
    "collapsed": false,
    "pycharm": {
     "name": "#%%\n"
    }
   }
  },
  {
   "cell_type": "markdown",
   "source": [
    "Własności (properties)"
   ],
   "metadata": {
    "collapsed": false,
    "pycharm": {
     "name": "#%% md\n"
    }
   }
  },
  {
   "cell_type": "code",
   "execution_count": null,
   "outputs": [],
   "source": [
    "class Osoba:\n",
    "\n",
    "    tytul = \"Pan/Pani\"\n",
    "\n",
    "    def __init__(self, imie, nazwisko, wiek):\n",
    "        self._imie = imie\n",
    "        self._nazwisko = nazwisko\n",
    "        self.wiek = wiek\n",
    "\n",
    "    @property\n",
    "    def wiek(self):\n",
    "        return self._wiek\n",
    "\n",
    "    @wiek.setter\n",
    "    def wiek(self, wiek):\n",
    "        if wiek<0:\n",
    "            self._wiek = 0\n",
    "        else:\n",
    "            self._wiek = wiek\n",
    "\n",
    "    def wypisz_dane(self):\n",
    "        print(Osoba.tytul+\" \"+self._imie+\" \"+self._nazwisko+\": \"+str(self.wiek))"
   ],
   "metadata": {
    "collapsed": false,
    "pycharm": {
     "name": "#%%\n"
    }
   }
  },
  {
   "cell_type": "code",
   "execution_count": null,
   "outputs": [],
   "source": [
    "damian = Osoba(\"damian\", \"suski\", -5)\n",
    "damian.wypisz_dane()"
   ],
   "metadata": {
    "collapsed": false,
    "pycharm": {
     "name": "#%%\n"
    }
   }
  },
  {
   "cell_type": "markdown",
   "source": [
    "## Metody specjalne"
   ],
   "metadata": {
    "collapsed": false,
    "pycharm": {
     "name": "#%% md\n"
    }
   }
  },
  {
   "cell_type": "markdown",
   "source": [
    "Funkcja `dir()`"
   ],
   "metadata": {
    "collapsed": false,
    "pycharm": {
     "name": "#%% md\n"
    }
   }
  },
  {
   "cell_type": "code",
   "execution_count": null,
   "outputs": [],
   "source": [
    "# for elem in dir(damian):\n",
    "#     print(elem+\": \")\n",
    "\n",
    "for elem in dir(damian):\n",
    "    print(elem+\" : \"+str(eval(\"damian.\"+str(elem))))"
   ],
   "metadata": {
    "collapsed": false,
    "pycharm": {
     "name": "#%%\n"
    }
   }
  },
  {
   "cell_type": "code",
   "execution_count": null,
   "outputs": [],
   "source": [
    "for elem in dir(Osoba):\n",
    "    print(elem+\" : \"+str(eval(\"Osoba.\"+str(elem))))"
   ],
   "metadata": {
    "collapsed": false,
    "pycharm": {
     "name": "#%%\n"
    }
   }
  },
  {
   "cell_type": "markdown",
   "source": [
    "Metoda `__init__()`"
   ],
   "metadata": {
    "collapsed": false,
    "pycharm": {
     "name": "#%% md\n"
    }
   }
  },
  {
   "cell_type": "code",
   "execution_count": null,
   "outputs": [],
   "source": [
    "class Osoba:\n",
    "\n",
    "    tytul = \"Pan/Pani\"\n",
    "\n",
    "    def __init__(self, imie, nazwisko, wiek):\n",
    "        self._imie = imie\n",
    "        self._nazwisko = nazwisko\n",
    "        self._wiek = wiek\n",
    "\n",
    "    def wypisz_dane(self):\n",
    "        print(Osoba.tytul+\" \"+self._imie+\" \"+self._nazwisko+\": \"+str(self._wiek))\n",
    "\n",
    "damian = Osoba(\"damian\", \"suski\", 25)\n",
    "damian.wypisz_dane()"
   ],
   "metadata": {
    "collapsed": false,
    "pycharm": {
     "name": "#%%\n"
    }
   }
  },
  {
   "cell_type": "markdown",
   "source": [
    "Metoda `__str__()`"
   ],
   "metadata": {
    "collapsed": false,
    "pycharm": {
     "name": "#%% md\n"
    }
   }
  },
  {
   "cell_type": "code",
   "execution_count": null,
   "outputs": [],
   "source": [
    "class Osoba:\n",
    "\n",
    "    tytul = \"Pan/Pani\"\n",
    "\n",
    "    def __init__(self, imie, nazwisko, wiek):\n",
    "        self._imie = imie\n",
    "        self._nazwisko = nazwisko\n",
    "        self._wiek = wiek\n",
    "\n",
    "    def __str__(self):\n",
    "        return Osoba.tytul+\" \"+self._imie+\" \"+self._nazwisko+\": \"+str(self._wiek)\n",
    "\n",
    "damian = Osoba(\"damian\", \"suski\", 25)\n",
    "\n",
    "s = str(damian)\n",
    "print(s)\n",
    "\n",
    "print(damian)"
   ],
   "metadata": {
    "collapsed": false,
    "pycharm": {
     "name": "#%%\n"
    }
   }
  },
  {
   "cell_type": "markdown",
   "source": [],
   "metadata": {
    "collapsed": false,
    "pycharm": {
     "name": "#%% md\n"
    }
   }
  },
  {
   "cell_type": "code",
   "execution_count": null,
   "outputs": [],
   "source": [
    "class Cmplx:\n",
    "\n",
    "    def __init__(self, re, im=0):\n",
    "        self._im = im\n",
    "        self._re = re\n",
    "\n",
    "    def __str__(self):\n",
    "        if self._im>=0:\n",
    "            return str(self._re)+\"+j\"+str(self._im)\n",
    "        else:\n",
    "            return str(self._re)+\"-j\"+str(-self._im)\n",
    "\n",
    "a = Cmplx(2,3)\n",
    "print(a)\n",
    "b = Cmplx(4.3,-2.7)\n",
    "print(b)\n",
    "c = Cmplx(2)\n",
    "print(c)\n"
   ],
   "metadata": {
    "collapsed": false,
    "pycharm": {
     "name": "#%%\n"
    }
   }
  },
  {
   "cell_type": "markdown",
   "source": [
    "Przeładowywanie operatorów"
   ],
   "metadata": {
    "collapsed": false,
    "pycharm": {
     "name": "#%% md\n"
    }
   }
  },
  {
   "cell_type": "code",
   "execution_count": null,
   "outputs": [],
   "source": [
    "class Cmplx:\n",
    "\n",
    "    def __init__(self, re, im):\n",
    "        self._im = im\n",
    "        self._re = re\n",
    "\n",
    "    def __str__(self):\n",
    "        if self._im>=0:\n",
    "            return str(self._re)+\"+j\"+str(self._im)\n",
    "        else:\n",
    "            return str(self._re)+\"-j\"+str(-self._im)\n",
    "\n",
    "    @property\n",
    "    def re(self):\n",
    "        return self._re\n",
    "\n",
    "    @property\n",
    "    def im(self):\n",
    "        return self._im\n",
    "\n",
    "    def __add__(self, other):\n",
    "        return Cmplx(self.re+other.re, self.im+other.im)\n",
    "\n",
    "    def __sub__(self, other):\n",
    "        return Cmplx(self.re-other.re, self.im-other.im)\n",
    "\n",
    "\n"
   ],
   "metadata": {
    "collapsed": false,
    "pycharm": {
     "name": "#%%\n"
    }
   }
  },
  {
   "cell_type": "code",
   "execution_count": null,
   "outputs": [],
   "source": [
    "a = Cmplx(2,3)\n",
    "b = Cmplx(4,5)\n",
    "c = a+b\n",
    "print(c)\n",
    "print(a-b)"
   ],
   "metadata": {
    "collapsed": false,
    "pycharm": {
     "name": "#%%\n"
    }
   }
  },
  {
   "cell_type": "markdown",
   "source": [
    "Dodawanie liczby zespolonej i liczby całkowitej/rzeczywistej"
   ],
   "metadata": {
    "collapsed": false,
    "pycharm": {
     "name": "#%% md\n"
    }
   }
  },
  {
   "cell_type": "code",
   "execution_count": null,
   "outputs": [],
   "source": [
    "a+2"
   ],
   "metadata": {
    "collapsed": false,
    "pycharm": {
     "name": "#%%\n"
    }
   }
  },
  {
   "cell_type": "code",
   "execution_count": null,
   "outputs": [],
   "source": [
    "class Cmplx:\n",
    "\n",
    "    def __init__(self, re, im):\n",
    "        self._im = im\n",
    "        self._re = re\n",
    "\n",
    "    def __str__(self):\n",
    "        if self._im>=0:\n",
    "            return str(self._re)+\"+j\"+str(self._im)\n",
    "        else:\n",
    "            return str(self._re)+\"-j\"+str(-self._im)\n",
    "\n",
    "    @property\n",
    "    def re(self):\n",
    "        return self._re\n",
    "\n",
    "    @property\n",
    "    def im(self):\n",
    "        return self._im\n",
    "\n",
    "    def __add__(self, other):\n",
    "        if type(other) == Cmplx:\n",
    "            return Cmplx(self.re+other.re, self.im+other.im)\n",
    "        else:\n",
    "            return Cmplx(self.re+other, self.im)\n",
    "\n",
    "    def __sub__(self, other):\n",
    "        return Cmplx(self.re-other.re, self.im-other.im)\n"
   ],
   "metadata": {
    "collapsed": false,
    "pycharm": {
     "name": "#%%\n"
    }
   }
  },
  {
   "cell_type": "code",
   "execution_count": null,
   "outputs": [],
   "source": [
    "a = Cmplx(2,3)\n",
    "print(a+2)"
   ],
   "metadata": {
    "collapsed": false,
    "pycharm": {
     "name": "#%%\n"
    }
   }
  },
  {
   "cell_type": "markdown",
   "source": [
    "Dodawanie liczby całkowitej/rzeczywistej i liczby zespolonej"
   ],
   "metadata": {
    "collapsed": false,
    "pycharm": {
     "name": "#%% md\n"
    }
   }
  },
  {
   "cell_type": "code",
   "execution_count": null,
   "outputs": [],
   "source": [
    "2+a"
   ],
   "metadata": {
    "collapsed": false,
    "pycharm": {
     "name": "#%%\n"
    }
   }
  },
  {
   "cell_type": "code",
   "execution_count": null,
   "outputs": [],
   "source": [
    "class Cmplx:\n",
    "\n",
    "    def __init__(self, re, im):\n",
    "        self._im = im\n",
    "        self._re = re\n",
    "\n",
    "    def __str__(self):\n",
    "        if self._im>=0:\n",
    "            return str(self._re)+\"+j\"+str(self._im)\n",
    "        else:\n",
    "            return str(self._re)+\"-j\"+str(-self._im)\n",
    "\n",
    "    @property\n",
    "    def re(self):\n",
    "        return self._re\n",
    "\n",
    "    @property\n",
    "    def im(self):\n",
    "        return self._im\n",
    "\n",
    "    def __add__(self, other):\n",
    "        if type(other) == Cmplx:\n",
    "            return Cmplx(self.re+other.re, self.im+other.im)\n",
    "        else:\n",
    "            return Cmplx(self.re+other, self.im)\n",
    "\n",
    "    def __radd__(self, other):\n",
    "        return self+other\n",
    "\n",
    "    def __sub__(self, other):\n",
    "        return Cmplx(self.re-other.re, self.im-other.im)"
   ],
   "metadata": {
    "collapsed": false,
    "pycharm": {
     "name": "#%%\n"
    }
   }
  },
  {
   "cell_type": "code",
   "execution_count": null,
   "outputs": [],
   "source": [
    "a = Cmplx(2,3)\n",
    "print(2+a)"
   ],
   "metadata": {
    "collapsed": false,
    "pycharm": {
     "name": "#%%\n"
    }
   }
  },
  {
   "cell_type": "markdown",
   "source": [
    "Liczba sprzężona"
   ],
   "metadata": {
    "collapsed": false,
    "pycharm": {
     "name": "#%% md\n"
    }
   }
  },
  {
   "cell_type": "code",
   "execution_count": null,
   "outputs": [],
   "source": [
    "class Cmplx:\n",
    "\n",
    "    def __init__(self, re, im):\n",
    "        self._im = im\n",
    "        self._re = re\n",
    "\n",
    "    def __str__(self):\n",
    "        if self._im>=0:\n",
    "            return str(self._re)+\"+j\"+str(self._im)\n",
    "        else:\n",
    "            return str(self._re)+\"-j\"+str(-self._im)\n",
    "\n",
    "    @property\n",
    "    def re(self):\n",
    "        return self._re\n",
    "\n",
    "    @property\n",
    "    def im(self):\n",
    "        return self._im\n",
    "\n",
    "    def __add__(self, other):\n",
    "        return Cmplx(self.re+other.re, self.im+other.im)\n",
    "\n",
    "    def __sub__(self, other):\n",
    "        return Cmplx(self.re-other.re, self.im-other.im)\n",
    "\n",
    "    def __invert__(self):\n",
    "        return Cmplx(self.re, -self.im)"
   ],
   "metadata": {
    "collapsed": false,
    "pycharm": {
     "name": "#%%\n"
    }
   }
  },
  {
   "cell_type": "code",
   "execution_count": null,
   "outputs": [],
   "source": [
    "a = Cmplx(2,3)\n",
    "b = ~a\n",
    "print(a)\n",
    "print(b)"
   ],
   "metadata": {
    "collapsed": false,
    "pycharm": {
     "name": "#%%\n"
    }
   }
  },
  {
   "cell_type": "code",
   "execution_count": null,
   "outputs": [],
   "source": [
    "a*(~a)"
   ],
   "metadata": {
    "collapsed": false,
    "pycharm": {
     "name": "#%%\n"
    }
   }
  },
  {
   "cell_type": "code",
   "execution_count": null,
   "outputs": [],
   "source": [],
   "metadata": {
    "collapsed": false,
    "pycharm": {
     "name": "#%%\n"
    }
   }
  },
  {
   "cell_type": "markdown",
   "source": [],
   "metadata": {
    "collapsed": false,
    "pycharm": {
     "name": "#%% md\n"
    }
   }
  },
  {
   "cell_type": "code",
   "execution_count": null,
   "outputs": [],
   "source": [],
   "metadata": {
    "collapsed": false,
    "pycharm": {
     "name": "#%%\n"
    }
   }
  },
  {
   "cell_type": "markdown",
   "source": [],
   "metadata": {
    "collapsed": false,
    "pycharm": {
     "name": "#%% md\n"
    }
   }
  },
  {
   "cell_type": "code",
   "execution_count": null,
   "outputs": [],
   "source": [],
   "metadata": {
    "collapsed": false,
    "pycharm": {
     "name": "#%%\n"
    }
   }
  },
  {
   "cell_type": "markdown",
   "source": [],
   "metadata": {
    "collapsed": false,
    "pycharm": {
     "name": "#%% md\n"
    }
   }
  },
  {
   "cell_type": "code",
   "execution_count": null,
   "outputs": [],
   "source": [],
   "metadata": {
    "collapsed": false,
    "pycharm": {
     "name": "#%%\n"
    }
   }
  },
  {
   "cell_type": "markdown",
   "source": [],
   "metadata": {
    "collapsed": false,
    "pycharm": {
     "name": "#%% md\n"
    }
   }
  },
  {
   "cell_type": "code",
   "execution_count": null,
   "outputs": [],
   "source": [],
   "metadata": {
    "collapsed": false,
    "pycharm": {
     "name": "#%%\n"
    }
   }
  },
  {
   "cell_type": "markdown",
   "source": [],
   "metadata": {
    "collapsed": false,
    "pycharm": {
     "name": "#%% md\n"
    }
   }
  },
  {
   "cell_type": "code",
   "execution_count": null,
   "outputs": [],
   "source": [],
   "metadata": {
    "collapsed": false,
    "pycharm": {
     "name": "#%%\n"
    }
   }
  },
  {
   "cell_type": "code",
   "execution_count": null,
   "metadata": {
    "collapsed": true,
    "pycharm": {
     "name": "#%%\n"
    }
   },
   "outputs": [],
   "source": []
  },
  {
   "cell_type": "code",
   "execution_count": null,
   "outputs": [],
   "source": [],
   "metadata": {
    "collapsed": false,
    "pycharm": {
     "name": "#%%\n"
    }
   }
  },
  {
   "cell_type": "code",
   "execution_count": null,
   "outputs": [],
   "source": [],
   "metadata": {
    "collapsed": false,
    "pycharm": {
     "name": "#%%\n"
    }
   }
  },
  {
   "cell_type": "code",
   "execution_count": null,
   "outputs": [],
   "source": [],
   "metadata": {
    "collapsed": false,
    "pycharm": {
     "name": "#%%\n"
    }
   }
  }
 ],
 "metadata": {
  "kernelspec": {
   "display_name": "Python 3",
   "language": "python",
   "name": "python3"
  },
  "language_info": {
   "codemirror_mode": {
    "name": "ipython",
    "version": 2
   },
   "file_extension": ".py",
   "mimetype": "text/x-python",
   "name": "python",
   "nbconvert_exporter": "python",
   "pygments_lexer": "ipython2",
   "version": "2.7.6"
  }
 },
 "nbformat": 4,
 "nbformat_minor": 0
}
