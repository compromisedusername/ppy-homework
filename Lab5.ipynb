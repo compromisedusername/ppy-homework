{
 "cells": [
  {
   "cell_type": "markdown",
   "source": [
    "# Klasy"
   ],
   "metadata": {
    "collapsed": false,
    "pycharm": {
     "name": "#%% md\n"
    }
   }
  },
  {
   "cell_type": "markdown",
   "source": [
    "## Podstawy"
   ],
   "metadata": {
    "collapsed": false,
    "pycharm": {
     "name": "#%% md\n"
    }
   }
  },
  {
   "cell_type": "markdown",
   "source": [
    "Składnia"
   ],
   "metadata": {
    "collapsed": false,
    "pycharm": {
     "name": "#%% md\n"
    }
   }
  },
  {
   "cell_type": "code",
   "source": [
    "\n",
    "        \n",
    "class Osoba:\n",
    "    def __init__(self, imie, nazwisko, wiek):\n",
    "        self.imie = imie\n",
    "        self.nazwisko = nazwisko\n",
    "        self.wiek = wiek\n",
    "        \n",
    "    def wypisz_dane(self):\n",
    "        print(self.imie+\" \"+self.nazwisko+\": \"+str(self.wiek))\n"
   ],
   "metadata": {
    "collapsed": false,
    "pycharm": {
     "name": "#%%\n"
    },
    "ExecuteTime": {
     "end_time": "2024-04-08T15:39:36.921813Z",
     "start_time": "2024-04-08T15:39:36.913276Z"
    }
   },
   "outputs": [],
   "execution_count": 2
  },
  {
   "cell_type": "code",
   "source": [
    "damian = Osoba(\"damian\", \"suski\", 25)\n",
    "damian.wypisz_dane()"
   ],
   "metadata": {
    "collapsed": false,
    "pycharm": {
     "name": "#%%\n"
    },
    "ExecuteTime": {
     "end_time": "2024-04-08T15:39:41.441360Z",
     "start_time": "2024-04-08T15:39:41.435221Z"
    }
   },
   "outputs": [
    {
     "name": "stdout",
     "output_type": "stream",
     "text": [
      "damian suski: 25\n"
     ]
    }
   ],
   "execution_count": 3
  },
  {
   "cell_type": "markdown",
   "source": [
    "Klasa jest przestrzenią nazw którą można swobodnie modyfikować"
   ],
   "metadata": {
    "collapsed": false,
    "pycharm": {
     "name": "#%% md\n"
    }
   }
  },
  {
   "cell_type": "code",
   "source": [
    "damian = Osoba(\"damian\", \"suski\", 25)\n",
    "print(vars(damian))\n",
    "damian.wzrost = 155\n",
    "damian.iq = 230\n",
    "print(vars(damian))\n",
    "del damian.imie\n",
    "print(vars(damian))"
   ],
   "metadata": {
    "collapsed": false,
    "pycharm": {
     "name": "#%%\n"
    },
    "ExecuteTime": {
     "end_time": "2024-04-08T15:41:38.200682Z",
     "start_time": "2024-04-08T15:41:38.193179Z"
    }
   },
   "outputs": [
    {
     "name": "stdout",
     "output_type": "stream",
     "text": [
      "{'imie': 'damian', 'nazwisko': 'suski', 'wiek': 25}\n",
      "{'imie': 'damian', 'nazwisko': 'suski', 'wiek': 25, 'wzrost': 155, 'iq': 230}\n",
      "{'nazwisko': 'suski', 'wiek': 25, 'wzrost': 155, 'iq': 230}\n"
     ]
    }
   ],
   "execution_count": 5
  },
  {
   "cell_type": "markdown",
   "source": [
    "Brak atrybutów prywatnych\n",
    "Konwecja `_nazwa`"
   ],
   "metadata": {
    "collapsed": false,
    "pycharm": {
     "name": "#%% md\n"
    }
   }
  },
  {
   "cell_type": "code",
   "source": [
    "class Osoba:\n",
    "\n",
    "    def __init__(self, imie, nazwisko, wiek):\n",
    "        self._imie = imie\n",
    "        self._nazwisko = nazwisko\n",
    "        self._wiek = wiek\n",
    "\n",
    "    def wypisz_dane(self):\n",
    "        print(self._imie+\" \"+self._nazwisko+\": \"+str(self._wiek))"
   ],
   "metadata": {
    "collapsed": false,
    "pycharm": {
     "name": "#%%\n"
    },
    "ExecuteTime": {
     "end_time": "2024-04-08T15:41:59.775075Z",
     "start_time": "2024-04-08T15:41:59.762482Z"
    }
   },
   "outputs": [],
   "execution_count": 6
  },
  {
   "cell_type": "code",
   "source": [
    "damian = Osoba(\"damian\", \"suski\", 25)\n",
    "print(vars(damian))\n",
    "print(damian._imie)\n",
    "damian._imie = \"robert\"\n",
    "print(vars(damian))\n",
    "print(damian._imie)"
   ],
   "metadata": {
    "collapsed": false,
    "pycharm": {
     "name": "#%%\n"
    },
    "ExecuteTime": {
     "end_time": "2024-04-08T15:42:10.727109Z",
     "start_time": "2024-04-08T15:42:10.711508Z"
    }
   },
   "outputs": [
    {
     "name": "stdout",
     "output_type": "stream",
     "text": [
      "{'_imie': 'damian', '_nazwisko': 'suski', '_wiek': 25}\n",
      "damian\n",
      "{'_imie': 'robert', '_nazwisko': 'suski', '_wiek': 25}\n",
      "robert\n"
     ]
    }
   ],
   "execution_count": 7
  },
  {
   "cell_type": "markdown",
   "source": [
    "Konwencja `__nazwa`"
   ],
   "metadata": {
    "collapsed": false,
    "pycharm": {
     "name": "#%% md\n"
    }
   }
  },
  {
   "cell_type": "code",
   "source": [
    "class Osoba:\n",
    "\n",
    "    def __init__(self, imie, nazwisko, wiek):\n",
    "        self.__imie = imie\n",
    "        self.__nazwisko = nazwisko\n",
    "        self.__wiek = wiek\n",
    "\n",
    "    def wypisz_dane(self):\n",
    "        print(self.__imie+\" \"+self.__nazwisko+\": \"+str(self.__wiek))"
   ],
   "metadata": {
    "collapsed": false,
    "pycharm": {
     "name": "#%%\n"
    },
    "ExecuteTime": {
     "end_time": "2024-04-08T15:44:27.115184Z",
     "start_time": "2024-04-08T15:44:27.107704Z"
    }
   },
   "outputs": [],
   "execution_count": 11
  },
  {
   "cell_type": "code",
   "source": [
    "damian = Osoba(\"damian\", \"suski\", 25)\n",
    "#print(damian.__imie)\n",
    "print(damian._Osoba__imie)\n",
    "\n",
    "damian.wzort = 200\n",
    "damian.__imie = \"damianos\"\n",
    "print(vars(damian))\n"
   ],
   "metadata": {
    "collapsed": false,
    "pycharm": {
     "name": "#%%\n"
    },
    "ExecuteTime": {
     "end_time": "2024-04-08T15:45:47.453802Z",
     "start_time": "2024-04-08T15:45:47.439016Z"
    }
   },
   "outputs": [
    {
     "name": "stdout",
     "output_type": "stream",
     "text": [
      "damian\n",
      "{'_Osoba__imie': 'damian', '_Osoba__nazwisko': 'suski', '_Osoba__wiek': 25, 'wzort': 200, '__imie': 'damianos'}\n"
     ]
    }
   ],
   "execution_count": 14
  },
  {
   "cell_type": "markdown",
   "source": [
    "Atrybuty klasowe"
   ],
   "metadata": {
    "collapsed": false,
    "pycharm": {
     "name": "#%% md\n"
    }
   }
  },
  {
   "cell_type": "code",
   "source": [
    "class Osoba:\n",
    "\n",
    "    tytul = \"Pan/Pani\"\n",
    "\n",
    "    def __init__(self, imie, nazwisko, wiek):\n",
    "        self._imie = imie\n",
    "        self._nazwisko = nazwisko\n",
    "        self._wiek = wiek\n",
    "\n",
    "    def wypisz_dane(self):\n",
    "        print(Osoba.tytul+\" \"+self._imie+\" \"+self._nazwisko+\": \"+str(self._wiek))"
   ],
   "metadata": {
    "collapsed": false,
    "pycharm": {
     "name": "#%%\n"
    },
    "ExecuteTime": {
     "end_time": "2024-04-08T15:47:47.512458Z",
     "start_time": "2024-04-08T15:47:47.507212Z"
    }
   },
   "outputs": [],
   "execution_count": 15
  },
  {
   "cell_type": "code",
   "source": [
    "damian = Osoba(\"damian\", \"suski\", 25)\n",
    "robert = Osoba(\"robert\",\"lewandowski\",35)\n",
    "damian.wypisz_dane()\n",
    "robert.wypisz_dane()\n",
    "robert.xd = \"nubek\"\n",
    "\n",
    "Osoba.tytul = \"Mr/Mrs\"\n",
    "damian.wypisz_dane()\n",
    "robert.wypisz_dane()\n",
    "print(vars(robert))"
   ],
   "metadata": {
    "collapsed": false,
    "pycharm": {
     "name": "#%%\n"
    },
    "ExecuteTime": {
     "end_time": "2024-04-08T15:48:23.963148Z",
     "start_time": "2024-04-08T15:48:23.952535Z"
    }
   },
   "outputs": [
    {
     "name": "stdout",
     "output_type": "stream",
     "text": [
      "Mr/Mrs damian suski: 25\n",
      "Mr/Mrs robert lewandowski: 35\n",
      "Mr/Mrs damian suski: 25\n",
      "Mr/Mrs robert lewandowski: 35\n",
      "{'_imie': 'robert', '_nazwisko': 'lewandowski', '_wiek': 35, 'xd': 'nubek'}\n"
     ]
    }
   ],
   "execution_count": 17
  },
  {
   "cell_type": "markdown",
   "source": [
    "Atrybut specjalny `__dict__`"
   ],
   "metadata": {
    "collapsed": false,
    "pycharm": {
     "name": "#%% md\n"
    }
   }
  },
  {
   "cell_type": "code",
   "source": [
    "class Osoba:\n",
    "\n",
    "    tytul = \"Pan/Pani\"\n",
    "\n",
    "    def __init__(self, imie, nazwisko, wiek):\n",
    "        self._imie = imie\n",
    "        self._nazwisko = nazwisko\n",
    "        self._wiek = wiek\n",
    "\n",
    "    def wypisz_dane(self):\n",
    "        print(Osoba.tytul+\" \"+self._imie+\" \"+self._nazwisko+\": \"+str(self._wiek))"
   ],
   "metadata": {
    "collapsed": false,
    "pycharm": {
     "name": "#%%\n"
    },
    "ExecuteTime": {
     "end_time": "2024-04-08T15:48:38.732442Z",
     "start_time": "2024-04-08T15:48:38.722800Z"
    }
   },
   "outputs": [],
   "execution_count": 18
  },
  {
   "cell_type": "code",
   "source": [
    "# print(Osoba.__dict__)\n",
    "for k,v in Osoba.__dict__.items():\n",
    "    print(str(k)+\": \"+str(v), \"<======= __dict__ ITEMS\")\n",
    "damian = Osoba(\"damian\", \"suski\", 25)\n",
    "robert = Osoba(\"robert\",\"lewandowski\",35)\n",
    "print(damian.__dict__, \"DAMIAN DICT\")\n",
    "print(robert.__dict__)\n",
    "vars(damian)"
   ],
   "metadata": {
    "collapsed": false,
    "pycharm": {
     "name": "#%%\n"
    },
    "ExecuteTime": {
     "end_time": "2024-04-08T15:50:05.778229Z",
     "start_time": "2024-04-08T15:50:05.758043Z"
    }
   },
   "outputs": [
    {
     "name": "stdout",
     "output_type": "stream",
     "text": [
      "__module__: __main__ <======= __dict__ ITEMS\n",
      "tytul: Pan/Pani <======= __dict__ ITEMS\n",
      "__init__: <function Osoba.__init__ at 0x7f39ac1fa5e0> <======= __dict__ ITEMS\n",
      "wypisz_dane: <function Osoba.wypisz_dane at 0x7f39ac1fa670> <======= __dict__ ITEMS\n",
      "__dict__: <attribute '__dict__' of 'Osoba' objects> <======= __dict__ ITEMS\n",
      "__weakref__: <attribute '__weakref__' of 'Osoba' objects> <======= __dict__ ITEMS\n",
      "__doc__: None <======= __dict__ ITEMS\n",
      "{'_imie': 'damian', '_nazwisko': 'suski', '_wiek': 25} DAMIAN DICT\n",
      "{'_imie': 'robert', '_nazwisko': 'lewandowski', '_wiek': 35}\n"
     ]
    },
    {
     "data": {
      "text/plain": [
       "{'_imie': 'damian', '_nazwisko': 'suski', '_wiek': 25}"
      ]
     },
     "execution_count": 21,
     "metadata": {},
     "output_type": "execute_result"
    }
   ],
   "execution_count": 21
  },
  {
   "cell_type": "code",
   "source": [
    "damian = Osoba(\"damian\", \"suski\", 25)\n",
    "damian.wypisz_dane()\n",
    "\n",
    "damian.__dict__[\"_wiek\"] = 85\n",
    "damian.wypisz_dane()\n",
    "damian.__dict__[\"iq\"] = 300\n",
    "\n",
    "Osoba.__dict__[\"wypisz_dane\"](damian)\n",
    "\n",
    "damian.__dict__[\"_wzrost\"] = 150\n",
    "print(damian._wzrost)\n",
    "\n",
    "setattr(damian,\"_wzrost\",160)\n",
    "print(damian.iq)\n"
   ],
   "metadata": {
    "collapsed": false,
    "pycharm": {
     "name": "#%%\n"
    },
    "ExecuteTime": {
     "end_time": "2024-04-08T16:59:46.996606Z",
     "start_time": "2024-04-08T16:59:46.988720Z"
    }
   },
   "outputs": [
    {
     "name": "stdout",
     "output_type": "stream",
     "text": [
      "Pan/Pani damian suski: 25\n",
      "Pan/Pani damian suski: 85\n",
      "Pan/Pani damian suski: 85\n",
      "150\n",
      "300\n"
     ]
    }
   ],
   "execution_count": 26
  },
  {
   "cell_type": "markdown",
   "source": [
    "Własności (properties)"
   ],
   "metadata": {
    "collapsed": false,
    "pycharm": {
     "name": "#%% md\n"
    }
   }
  },
  {
   "cell_type": "code",
   "source": [
    "class Osoba:\n",
    "\n",
    "    tytul = \"Pan/Pani\"\n",
    "\n",
    "    def __init__(self, imie, nazwisko, wiek):\n",
    "        self._imie = imie\n",
    "        self._nazwisko = nazwisko\n",
    "        self.wiek = wiek\n",
    "\n",
    "    @property\n",
    "    def wiek(self):\n",
    "        return self._wiek\n",
    "\n",
    "    @wiek.setter\n",
    "    def wiek(self, wiek):\n",
    "        if wiek<0:\n",
    "            self._wiek = 0\n",
    "        else:\n",
    "            self._wiek = wiek\n",
    "\n",
    "    def wypisz_dane(self):\n",
    "        print(Osoba.tytul+\" \"+self._imie+\" \"+self._nazwisko+\": \"+str(self.wiek))\n",
    "        \n",
    "\n",
    "    "
   ],
   "metadata": {
    "collapsed": false,
    "pycharm": {
     "name": "#%%\n"
    },
    "ExecuteTime": {
     "end_time": "2024-04-08T17:08:25.001079Z",
     "start_time": "2024-04-08T17:08:24.989249Z"
    }
   },
   "outputs": [],
   "execution_count": 37
  },
  {
   "cell_type": "code",
   "source": [
    "damian = Osoba(\"damian\", \"suski\", -5)\n",
    "damian.wiek = -5\n",
    "damian.wypisz_dane()"
   ],
   "metadata": {
    "collapsed": false,
    "pycharm": {
     "name": "#%%\n"
    },
    "ExecuteTime": {
     "end_time": "2024-04-08T17:09:17.673515Z",
     "start_time": "2024-04-08T17:09:17.662103Z"
    }
   },
   "outputs": [
    {
     "name": "stdout",
     "output_type": "stream",
     "text": [
      "Pan/Pani damian suski: 0\n"
     ]
    }
   ],
   "execution_count": 43
  },
  {
   "cell_type": "markdown",
   "source": [
    "## Metody specjalne"
   ],
   "metadata": {
    "collapsed": false,
    "pycharm": {
     "name": "#%% md\n"
    }
   }
  },
  {
   "cell_type": "markdown",
   "source": [
    "Funkcja `dir()`"
   ],
   "metadata": {
    "collapsed": false,
    "pycharm": {
     "name": "#%% md\n"
    }
   }
  },
  {
   "cell_type": "code",
   "source": [
    "# for elem in dir(damian):\n",
    "#     print(elem+\": \")\n",
    "\n",
    "#for elem in dir(damian):\n",
    "#    print(elem+\" : \"+str(eval(\"damian.\"+str(elem))))\n",
    "    \n",
    "for e in dir(damian):\n",
    "    print( eval(\"damian.\"+str(e)))"
   ],
   "metadata": {
    "collapsed": false,
    "pycharm": {
     "name": "#%%\n"
    },
    "ExecuteTime": {
     "end_time": "2024-04-08T17:12:51.331192Z",
     "start_time": "2024-04-08T17:12:51.317164Z"
    }
   },
   "outputs": [
    {
     "name": "stdout",
     "output_type": "stream",
     "text": [
      "<class '__main__.Osoba'>\n",
      "<method-wrapper '__delattr__' of Osoba object at 0x7f39ac3089d0>\n",
      "{'_imie': 'damian', '_nazwisko': 'suski', '_wiek': 0}\n",
      "<built-in method __dir__ of Osoba object at 0x7f39ac3089d0>\n",
      "None\n",
      "<method-wrapper '__eq__' of Osoba object at 0x7f39ac3089d0>\n",
      "<built-in method __format__ of Osoba object at 0x7f39ac3089d0>\n",
      "<method-wrapper '__ge__' of Osoba object at 0x7f39ac3089d0>\n",
      "<method-wrapper '__getattribute__' of Osoba object at 0x7f39ac3089d0>\n",
      "<method-wrapper '__gt__' of Osoba object at 0x7f39ac3089d0>\n",
      "<method-wrapper '__hash__' of Osoba object at 0x7f39ac3089d0>\n",
      "<bound method Osoba.__init__ of <__main__.Osoba object at 0x7f39ac3089d0>>\n",
      "<built-in method __init_subclass__ of type object at 0x2270dd0>\n",
      "<method-wrapper '__le__' of Osoba object at 0x7f39ac3089d0>\n",
      "<method-wrapper '__lt__' of Osoba object at 0x7f39ac3089d0>\n",
      "__main__\n",
      "<method-wrapper '__ne__' of Osoba object at 0x7f39ac3089d0>\n",
      "<built-in method __new__ of type object at 0x9015a0>\n",
      "<built-in method __reduce__ of Osoba object at 0x7f39ac3089d0>\n",
      "<built-in method __reduce_ex__ of Osoba object at 0x7f39ac3089d0>\n",
      "<method-wrapper '__repr__' of Osoba object at 0x7f39ac3089d0>\n",
      "<method-wrapper '__setattr__' of Osoba object at 0x7f39ac3089d0>\n",
      "<built-in method __sizeof__ of Osoba object at 0x7f39ac3089d0>\n",
      "<method-wrapper '__str__' of Osoba object at 0x7f39ac3089d0>\n",
      "<built-in method __subclasshook__ of type object at 0x2270dd0>\n",
      "None\n",
      "damian\n",
      "suski\n",
      "0\n",
      "Pan/Pani\n",
      "0\n",
      "<bound method Osoba.wypisz_dane of <__main__.Osoba object at 0x7f39ac3089d0>>\n"
     ]
    }
   ],
   "execution_count": 50
  },
  {
   "cell_type": "code",
   "source": [
    "for elem in dir(Osoba):\n",
    "    print(elem+\" : \"+str(eval(\"Osoba.\"+str(elem))))\n",
    "    "
   ],
   "metadata": {
    "collapsed": false,
    "pycharm": {
     "name": "#%%\n"
    },
    "ExecuteTime": {
     "end_time": "2024-04-08T17:13:44.269794Z",
     "start_time": "2024-04-08T17:13:44.250698Z"
    }
   },
   "outputs": [
    {
     "ename": "TypeError",
     "evalue": "__class__ assignment only supported for heap types or ModuleType subclasses",
     "output_type": "error",
     "traceback": [
      "\u001B[0;31m---------------------------------------------------------------------------\u001B[0m",
      "\u001B[0;31mTypeError\u001B[0m                                 Traceback (most recent call last)",
      "\u001B[0;32m/tmp/ipykernel_4146/1843576131.py\u001B[0m in \u001B[0;36m<module>\u001B[0;34m\u001B[0m\n\u001B[0;32m----> 1\u001B[0;31m \u001B[0mOsoba\u001B[0m\u001B[0;34m.\u001B[0m\u001B[0m__class__\u001B[0m \u001B[0;34m=\u001B[0m \u001B[0mOsoba\u001B[0m\u001B[0;34m\u001B[0m\u001B[0;34m\u001B[0m\u001B[0m\n\u001B[0m\u001B[1;32m      2\u001B[0m \u001B[0;32mfor\u001B[0m \u001B[0melem\u001B[0m \u001B[0;32min\u001B[0m \u001B[0mdir\u001B[0m\u001B[0;34m(\u001B[0m\u001B[0mOsoba\u001B[0m\u001B[0;34m)\u001B[0m\u001B[0;34m:\u001B[0m\u001B[0;34m\u001B[0m\u001B[0;34m\u001B[0m\u001B[0m\n\u001B[1;32m      3\u001B[0m     \u001B[0mprint\u001B[0m\u001B[0;34m(\u001B[0m\u001B[0melem\u001B[0m\u001B[0;34m+\u001B[0m\u001B[0;34m\" : \"\u001B[0m\u001B[0;34m+\u001B[0m\u001B[0mstr\u001B[0m\u001B[0;34m(\u001B[0m\u001B[0meval\u001B[0m\u001B[0;34m(\u001B[0m\u001B[0;34m\"Osoba.\"\u001B[0m\u001B[0;34m+\u001B[0m\u001B[0mstr\u001B[0m\u001B[0;34m(\u001B[0m\u001B[0melem\u001B[0m\u001B[0;34m)\u001B[0m\u001B[0;34m)\u001B[0m\u001B[0;34m)\u001B[0m\u001B[0;34m)\u001B[0m\u001B[0;34m\u001B[0m\u001B[0;34m\u001B[0m\u001B[0m\n\u001B[1;32m      4\u001B[0m \u001B[0;34m\u001B[0m\u001B[0m\n",
      "\u001B[0;31mTypeError\u001B[0m: __class__ assignment only supported for heap types or ModuleType subclasses"
     ]
    }
   ],
   "execution_count": 52
  },
  {
   "cell_type": "markdown",
   "source": [
    "Metoda `__init__()`"
   ],
   "metadata": {
    "collapsed": false,
    "pycharm": {
     "name": "#%% md\n"
    }
   }
  },
  {
   "cell_type": "code",
   "execution_count": null,
   "outputs": [],
   "source": [
    "class Osoba:\n",
    "\n",
    "    tytul = \"Pan/Pani\"\n",
    "\n",
    "    def __init__(self, imie, nazwisko, wiek):\n",
    "        self._imie = imie\n",
    "        self._nazwisko = nazwisko\n",
    "        self._wiek = wiek\n",
    "\n",
    "    def wypisz_dane(self):\n",
    "        print(Osoba.tytul+\" \"+self._imie+\" \"+self._nazwisko+\": \"+str(self._wiek))\n",
    "\n",
    "damian = Osoba(\"damian\", \"suski\", 25)\n",
    "damian.wypisz_dane()"
   ],
   "metadata": {
    "collapsed": false,
    "pycharm": {
     "name": "#%%\n"
    }
   }
  },
  {
   "cell_type": "markdown",
   "source": [
    "Metoda `__str__()`"
   ],
   "metadata": {
    "collapsed": false,
    "pycharm": {
     "name": "#%% md\n"
    }
   }
  },
  {
   "cell_type": "code",
   "execution_count": null,
   "outputs": [],
   "source": [
    "class Osoba:\n",
    "\n",
    "    tytul = \"Pan/Pani\"\n",
    "\n",
    "    def __init__(self, imie, nazwisko, wiek):\n",
    "        self._imie = imie\n",
    "        self._nazwisko = nazwisko\n",
    "        self._wiek = wiek\n",
    "\n",
    "    def __str__(self):\n",
    "        return Osoba.tytul+\" \"+self._imie+\" \"+self._nazwisko+\": \"+str(self._wiek)\n",
    "\n",
    "damian = Osoba(\"damian\", \"suski\", 25)\n",
    "\n",
    "s = str(damian)\n",
    "print(s)\n",
    "\n",
    "print(damian)"
   ],
   "metadata": {
    "collapsed": false,
    "pycharm": {
     "name": "#%%\n"
    }
   }
  },
  {
   "cell_type": "markdown",
   "source": [],
   "metadata": {
    "collapsed": false,
    "pycharm": {
     "name": "#%% md\n"
    }
   }
  },
  {
   "cell_type": "code",
   "source": [
    "class Cmplx:\n",
    "\n",
    "    def __init__(self, re, im=0):\n",
    "        self._im = im\n",
    "        self._re = re\n",
    "\n",
    "    def __str__(self):\n",
    "        if self._im>=0:\n",
    "            return str(self._re)+\"+j\"+str(self._im)\n",
    "        else:\n",
    "            return str(self._re)+\"-j\"+str(-self._im)\n",
    "\n",
    "a = Cmplx(2,3)\n",
    "print(a)\n",
    "b = Cmplx(4.3,-2.7)\n",
    "print(b)\n",
    "c = Cmplx(2)\n",
    "print(c)\n",
    "\n",
    "\n"
   ],
   "metadata": {
    "collapsed": false,
    "pycharm": {
     "name": "#%%\n"
    },
    "ExecuteTime": {
     "end_time": "2024-04-08T18:24:14.941730Z",
     "start_time": "2024-04-08T18:24:14.929982Z"
    }
   },
   "outputs": [
    {
     "name": "stdout",
     "output_type": "stream",
     "text": [
      "2+j3\n",
      "4.3-j2.7\n",
      "2+j0\n"
     ]
    }
   ],
   "execution_count": 54
  },
  {
   "cell_type": "markdown",
   "source": [
    "Przeładowywanie operatorów"
   ],
   "metadata": {
    "collapsed": false,
    "pycharm": {
     "name": "#%% md\n"
    }
   }
  },
  {
   "cell_type": "code",
   "source": [
    "class Cmplx:\n",
    "\n",
    "    def __init__(self, re, im):\n",
    "        self._im = im\n",
    "        self._re = re\n",
    "\n",
    "    def __str__(self):\n",
    "        if self._im>=0:\n",
    "            return str(self._re)+\"+j\"+str(self._im)\n",
    "        else:\n",
    "            return str(self._re)+\"-j\"+str(-self._im)\n",
    "\n",
    "    @property\n",
    "    def re(self):\n",
    "        return self._re\n",
    "\n",
    "    @property\n",
    "    def im(self):\n",
    "        return self._im\n",
    "\n",
    "    def __add__(self, other):\n",
    "        return Cmplx(self.re+other.re, self.im+other.im)\n",
    "\n",
    "    def __sub__(self, other):\n",
    "        return Cmplx(self.re-other.re, self.im-other.im)\n",
    "\n",
    "\n"
   ],
   "metadata": {
    "collapsed": false,
    "pycharm": {
     "name": "#%%\n"
    },
    "ExecuteTime": {
     "end_time": "2024-04-08T18:25:20.129422Z",
     "start_time": "2024-04-08T18:25:20.117050Z"
    }
   },
   "outputs": [],
   "execution_count": 55
  },
  {
   "cell_type": "code",
   "source": [
    "a = Cmplx(2,3)\n",
    "b = Cmplx(4,5)\n",
    "c = a+b\n",
    "print(c)\n",
    "print(a-b)"
   ],
   "metadata": {
    "collapsed": false,
    "pycharm": {
     "name": "#%%\n"
    },
    "ExecuteTime": {
     "end_time": "2024-04-08T18:25:22.161076Z",
     "start_time": "2024-04-08T18:25:22.154720Z"
    }
   },
   "outputs": [
    {
     "name": "stdout",
     "output_type": "stream",
     "text": [
      "6+j8\n",
      "-2-j2\n"
     ]
    }
   ],
   "execution_count": 56
  },
  {
   "cell_type": "markdown",
   "source": [
    "Dodawanie liczby zespolonej i liczby całkowitej/rzeczywistej"
   ],
   "metadata": {
    "collapsed": false,
    "pycharm": {
     "name": "#%% md\n"
    }
   }
  },
  {
   "cell_type": "code",
   "execution_count": null,
   "outputs": [],
   "source": [
    "a+2"
   ],
   "metadata": {
    "collapsed": false,
    "pycharm": {
     "name": "#%%\n"
    }
   }
  },
  {
   "cell_type": "code",
   "execution_count": null,
   "outputs": [],
   "source": [
    "class Cmplx:\n",
    "\n",
    "    def __init__(self, re, im):\n",
    "        self._im = im\n",
    "        self._re = re\n",
    "\n",
    "    def __str__(self):\n",
    "        if self._im>=0:\n",
    "            return str(self._re)+\"+j\"+str(self._im)\n",
    "        else:\n",
    "            return str(self._re)+\"-j\"+str(-self._im)\n",
    "\n",
    "    @property\n",
    "    def re(self):\n",
    "        return self._re\n",
    "\n",
    "    @property\n",
    "    def im(self):\n",
    "        return self._im\n",
    "\n",
    "    def __add__(self, other):\n",
    "        if type(other) == Cmplx:\n",
    "            return Cmplx(self.re+other.re, self.im+other.im)\n",
    "        else:\n",
    "            return Cmplx(self.re+other, self.im)\n",
    "\n",
    "    def __sub__(self, other):\n",
    "        return Cmplx(self.re-other.re, self.im-other.im)\n"
   ],
   "metadata": {
    "collapsed": false,
    "pycharm": {
     "name": "#%%\n"
    }
   }
  },
  {
   "cell_type": "code",
   "execution_count": null,
   "outputs": [],
   "source": [
    "a = Cmplx(2,3)\n",
    "print(a+2)"
   ],
   "metadata": {
    "collapsed": false,
    "pycharm": {
     "name": "#%%\n"
    }
   }
  },
  {
   "cell_type": "markdown",
   "source": [
    "Dodawanie liczby całkowitej/rzeczywistej i liczby zespolonej"
   ],
   "metadata": {
    "collapsed": false,
    "pycharm": {
     "name": "#%% md\n"
    }
   }
  },
  {
   "cell_type": "code",
   "execution_count": null,
   "outputs": [],
   "source": [
    "2+a"
   ],
   "metadata": {
    "collapsed": false,
    "pycharm": {
     "name": "#%%\n"
    }
   }
  },
  {
   "cell_type": "code",
   "execution_count": null,
   "outputs": [],
   "source": [
    "class Cmplx:\n",
    "\n",
    "    def __init__(self, re, im):\n",
    "        self._im = im\n",
    "        self._re = re\n",
    "\n",
    "    def __str__(self):\n",
    "        if self._im>=0:\n",
    "            return str(self._re)+\"+j\"+str(self._im)\n",
    "        else:\n",
    "            return str(self._re)+\"-j\"+str(-self._im)\n",
    "\n",
    "    @property\n",
    "    def re(self):\n",
    "        return self._re\n",
    "\n",
    "    @property\n",
    "    def im(self):\n",
    "        return self._im\n",
    "\n",
    "    def __add__(self, other):\n",
    "        if type(other) == Cmplx:\n",
    "            return Cmplx(self.re+other.re, self.im+other.im)\n",
    "        else:\n",
    "            return Cmplx(self.re+other, self.im)\n",
    "\n",
    "    def __radd__(self, other):\n",
    "        return self+other\n",
    "\n",
    "    def __sub__(self, other):\n",
    "        return Cmplx(self.re-other.re, self.im-other.im)"
   ],
   "metadata": {
    "collapsed": false,
    "pycharm": {
     "name": "#%%\n"
    }
   }
  },
  {
   "cell_type": "code",
   "execution_count": null,
   "outputs": [],
   "source": [
    "a = Cmplx(2,3)\n",
    "print(2+a)"
   ],
   "metadata": {
    "collapsed": false,
    "pycharm": {
     "name": "#%%\n"
    }
   }
  },
  {
   "cell_type": "markdown",
   "source": [
    "Liczba sprzężona"
   ],
   "metadata": {
    "collapsed": false,
    "pycharm": {
     "name": "#%% md\n"
    }
   }
  },
  {
   "cell_type": "code",
   "source": [
    "class Cmplx:\n",
    "\n",
    "    def __init__(self, re, im):\n",
    "        self._im = im\n",
    "        self._re = re\n",
    "\n",
    "    def __str__(self):\n",
    "        if self._im>=0:\n",
    "            return str(self._re)+\"+j\"+str(self._im)\n",
    "        else:\n",
    "            return str(self._re)+\"-j\"+str(-self._im)\n",
    "\n",
    "    @property\n",
    "    def re(self):\n",
    "        return self._re\n",
    "\n",
    "    @property\n",
    "    def im(self):\n",
    "        return self._im\n",
    "\n",
    "    def __add__(self, other):\n",
    "        return Cmplx(self.re+other.re, self.im+other.im)\n",
    "\n",
    "    def __sub__(self, other):\n",
    "        return Cmplx(self.re-other.re, self.im-other.im)\n",
    "\n",
    "    def __invert__(self):\n",
    "        return Cmplx(self.re, -self.im)"
   ],
   "metadata": {
    "collapsed": false,
    "pycharm": {
     "name": "#%%\n"
    },
    "ExecuteTime": {
     "end_time": "2024-04-08T18:25:43.787769Z",
     "start_time": "2024-04-08T18:25:43.765240Z"
    }
   },
   "outputs": [],
   "execution_count": 57
  },
  {
   "cell_type": "code",
   "source": [
    "a = Cmplx(2,3)\n",
    "b = ~a\n",
    "print(a)\n",
    "print(b)"
   ],
   "metadata": {
    "collapsed": false,
    "pycharm": {
     "name": "#%%\n"
    },
    "ExecuteTime": {
     "end_time": "2024-04-08T18:25:45.094453Z",
     "start_time": "2024-04-08T18:25:45.087262Z"
    }
   },
   "outputs": [
    {
     "name": "stdout",
     "output_type": "stream",
     "text": [
      "2+j3\n",
      "2-j3\n"
     ]
    }
   ],
   "execution_count": 58
  },
  {
   "cell_type": "code",
   "execution_count": null,
   "outputs": [],
   "source": [
    "a*(~a)"
   ],
   "metadata": {
    "collapsed": false,
    "pycharm": {
     "name": "#%%\n"
    }
   }
  },
  {
   "cell_type": "code",
   "execution_count": null,
   "outputs": [],
   "source": [],
   "metadata": {
    "collapsed": false,
    "pycharm": {
     "name": "#%%\n"
    }
   }
  },
  {
   "cell_type": "markdown",
   "source": [],
   "metadata": {
    "collapsed": false,
    "pycharm": {
     "name": "#%% md\n"
    }
   }
  },
  {
   "cell_type": "code",
   "execution_count": null,
   "outputs": [],
   "source": [],
   "metadata": {
    "collapsed": false,
    "pycharm": {
     "name": "#%%\n"
    }
   }
  },
  {
   "cell_type": "markdown",
   "source": [],
   "metadata": {
    "collapsed": false,
    "pycharm": {
     "name": "#%% md\n"
    }
   }
  },
  {
   "cell_type": "code",
   "execution_count": null,
   "outputs": [],
   "source": [],
   "metadata": {
    "collapsed": false,
    "pycharm": {
     "name": "#%%\n"
    }
   }
  },
  {
   "cell_type": "markdown",
   "source": [],
   "metadata": {
    "collapsed": false,
    "pycharm": {
     "name": "#%% md\n"
    }
   }
  },
  {
   "cell_type": "code",
   "execution_count": null,
   "outputs": [],
   "source": [],
   "metadata": {
    "collapsed": false,
    "pycharm": {
     "name": "#%%\n"
    }
   }
  },
  {
   "cell_type": "markdown",
   "source": [],
   "metadata": {
    "collapsed": false,
    "pycharm": {
     "name": "#%% md\n"
    }
   }
  },
  {
   "cell_type": "code",
   "execution_count": null,
   "outputs": [],
   "source": [],
   "metadata": {
    "collapsed": false,
    "pycharm": {
     "name": "#%%\n"
    }
   }
  },
  {
   "cell_type": "markdown",
   "source": [],
   "metadata": {
    "collapsed": false,
    "pycharm": {
     "name": "#%% md\n"
    }
   }
  },
  {
   "cell_type": "code",
   "execution_count": null,
   "outputs": [],
   "source": [],
   "metadata": {
    "collapsed": false,
    "pycharm": {
     "name": "#%%\n"
    }
   }
  },
  {
   "cell_type": "code",
   "execution_count": null,
   "metadata": {
    "collapsed": true,
    "pycharm": {
     "name": "#%%\n"
    }
   },
   "outputs": [],
   "source": []
  },
  {
   "cell_type": "code",
   "execution_count": null,
   "outputs": [],
   "source": [],
   "metadata": {
    "collapsed": false,
    "pycharm": {
     "name": "#%%\n"
    }
   }
  },
  {
   "cell_type": "code",
   "execution_count": null,
   "outputs": [],
   "source": [],
   "metadata": {
    "collapsed": false,
    "pycharm": {
     "name": "#%%\n"
    }
   }
  },
  {
   "cell_type": "code",
   "execution_count": null,
   "outputs": [],
   "source": [],
   "metadata": {
    "collapsed": false,
    "pycharm": {
     "name": "#%%\n"
    }
   }
  }
 ],
 "metadata": {
  "kernelspec": {
   "display_name": "Python 3",
   "language": "python",
   "name": "python3"
  },
  "language_info": {
   "codemirror_mode": {
    "name": "ipython",
    "version": 2
   },
   "file_extension": ".py",
   "mimetype": "text/x-python",
   "name": "python",
   "nbconvert_exporter": "python",
   "pygments_lexer": "ipython2",
   "version": "2.7.6"
  }
 },
 "nbformat": 4,
 "nbformat_minor": 0
}
